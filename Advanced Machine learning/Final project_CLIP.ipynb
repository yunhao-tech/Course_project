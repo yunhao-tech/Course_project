{
  "cells": [
    {
      "cell_type": "markdown",
      "metadata": {
        "id": "NLmhtCsD166J"
      },
      "source": [
        "#https://go.criteo.net/TP3ENSAE\n",
        "Solutions: https://colab.research.google.com/drive/1mFY63abCJazCsJwwPxoL_aqI0St0Tavw?usp=sharing\n",
        "\n",
        "#Goal\n",
        "- Understand Finetuning and try to match texts and images using CLIP"
      ]
    },
    {
      "cell_type": "markdown",
      "metadata": {
        "id": "T3buHX9I16aW"
      },
      "source": [
        "# Finetuning and CLIP\n",
        "\n",
        "On many tasks, it is now common to initialize the network's weights using a similar architecture trained on some other data by modifying only the last layers. An example of how to do this is https://pytorch.org/tutorials/beginner/finetuning_torchvision_models_tutorial.html\n",
        "\n",
        "The net used as a starting point is often designated as the \"backbone\", and the output of the backbone is named 'embedding'—the part doing the prediction the projection head.\n",
        " \n",
        "Last year a model named CLIP got a lot of attention. It is trained using very simple cosine matching, trying to reduce the distance between some embeddings of images and the embedding of their legend. A pre-trained version is available at https://github.com/openai/CLIP\n",
        "\n",
        "This sparkled a lot of derivative works, one of them beeing stable diffusion. \n",
        "\n",
        "\n",
        "Yet not necessary to answer the questions you may be interested in a [video explanation](https://www.youtube.com/watch?v=T9XSU0pKX2E) made by a researcher independent of the authors. \n",
        "\n",
        "\n",
        "\n",
        "**Q6.** CLIP claims to perform 0 shot classification by comparing the likelihood of several embedding of tuple (image, description). Adapt the Zero-shot example of the repository to perform 0-shot predictions on the Hymenoptera dataset. Do the same on Cifar-100.\n",
        "\n",
        "\n",
        "**Q7.** Adapt the finetuning code of Q5 such that the network model from CLIP can now be used as the backbone for a fine tuning on Cifar-100 and \n",
        "\n",
        "**Q8.** Perform a training trying to tune the learning rate with a SGD optimizer and freezing/unfreezing the CLIP network. Also try different learning rate for SGD on the frozen paramters and the added layers. Can you find some recommendations? \n",
        "\n",
        "**Q9.** On the Cifar-100 dataset create embedding of images and  corresponding texts using 0-shot prediction (which is precisely the setting given in the example). Plot a few of the images and their corresponding texts using 2d PCA made on their common embedding space with a color depending if the point is from an image or from a text. Do you have any comment? Are the text and image spaces organized similarly? \n",
        "\n",
        "**Q10.** Does the training of Q7 improves the situation detected at Q9?\n",
        "\n",
        "**Q11.** Try to improve the performances of Cifar-100 following recommendations of http://karpathy.github.io/2019/04/25/recipe/ and/or adding a multi-head attention layer instead of a single fully connected layer on the top of CLIP. "
      ]
    },
    {
      "cell_type": "code",
      "execution_count": null,
      "metadata": {
        "colab": {
          "base_uri": "https://localhost:8080/"
        },
        "id": "TLfhVeX1t_7R",
        "outputId": "6e15b5f1-da68-4971-cafc-184f3252edfd"
      },
      "outputs": [
        {
          "output_type": "stream",
          "name": "stdout",
          "text": [
            "Sun Feb  5 11:09:22 2023       \n",
            "+-----------------------------------------------------------------------------+\n",
            "| NVIDIA-SMI 510.47.03    Driver Version: 510.47.03    CUDA Version: 11.6     |\n",
            "|-------------------------------+----------------------+----------------------+\n",
            "| GPU  Name        Persistence-M| Bus-Id        Disp.A | Volatile Uncorr. ECC |\n",
            "| Fan  Temp  Perf  Pwr:Usage/Cap|         Memory-Usage | GPU-Util  Compute M. |\n",
            "|                               |                      |               MIG M. |\n",
            "|===============================+======================+======================|\n",
            "|   0  Tesla T4            Off  | 00000000:00:04.0 Off |                    0 |\n",
            "| N/A   46C    P0    26W /  70W |      0MiB / 15360MiB |      0%      Default |\n",
            "|                               |                      |                  N/A |\n",
            "+-------------------------------+----------------------+----------------------+\n",
            "                                                                               \n",
            "+-----------------------------------------------------------------------------+\n",
            "| Processes:                                                                  |\n",
            "|  GPU   GI   CI        PID   Type   Process name                  GPU Memory |\n",
            "|        ID   ID                                                   Usage      |\n",
            "|=============================================================================|\n",
            "|  No running processes found                                                 |\n",
            "+-----------------------------------------------------------------------------+\n"
          ]
        }
      ],
      "source": [
        "!nvidia-smi"
      ]
    },
    {
      "cell_type": "markdown",
      "metadata": {
        "id": "-NDlOpLACRtt"
      },
      "source": [
        "## Install CLIP and download datasets"
      ]
    },
    {
      "cell_type": "code",
      "execution_count": null,
      "metadata": {
        "colab": {
          "base_uri": "https://localhost:8080/"
        },
        "id": "2de5Eng3h2Ie",
        "outputId": "07f3de6e-5356-445e-a1af-7095b33a0554"
      },
      "outputs": [
        {
          "output_type": "stream",
          "name": "stdout",
          "text": [
            "/bin/bash: conda: command not found\n",
            "Looking in indexes: https://pypi.org/simple, https://us-python.pkg.dev/colab-wheels/public/simple/\n",
            "Collecting ftfy\n",
            "  Downloading ftfy-6.1.1-py3-none-any.whl (53 kB)\n",
            "\u001b[2K     \u001b[90m━━━━━━━━━━━━━━━━━━━━━━━━━━━━━━━━━━━━━━━\u001b[0m \u001b[32m53.1/53.1 KB\u001b[0m \u001b[31m748.6 kB/s\u001b[0m eta \u001b[36m0:00:00\u001b[0m\n",
            "\u001b[?25hRequirement already satisfied: regex in /usr/local/lib/python3.8/dist-packages (2022.6.2)\n",
            "Requirement already satisfied: tqdm in /usr/local/lib/python3.8/dist-packages (4.64.1)\n",
            "Requirement already satisfied: wcwidth>=0.2.5 in /usr/local/lib/python3.8/dist-packages (from ftfy) (0.2.6)\n",
            "Installing collected packages: ftfy\n",
            "Successfully installed ftfy-6.1.1\n",
            "Looking in indexes: https://pypi.org/simple, https://us-python.pkg.dev/colab-wheels/public/simple/\n",
            "Collecting git+https://github.com/openai/CLIP.git\n",
            "  Cloning https://github.com/openai/CLIP.git to /tmp/pip-req-build-fb9upwp5\n",
            "  Running command git clone --filter=blob:none --quiet https://github.com/openai/CLIP.git /tmp/pip-req-build-fb9upwp5\n",
            "  Resolved https://github.com/openai/CLIP.git to commit 3702849800aa56e2223035bccd1c6ef91c704ca8\n",
            "  Preparing metadata (setup.py) ... \u001b[?25l\u001b[?25hdone\n",
            "Requirement already satisfied: ftfy in /usr/local/lib/python3.8/dist-packages (from clip==1.0) (6.1.1)\n",
            "Requirement already satisfied: regex in /usr/local/lib/python3.8/dist-packages (from clip==1.0) (2022.6.2)\n",
            "Requirement already satisfied: tqdm in /usr/local/lib/python3.8/dist-packages (from clip==1.0) (4.64.1)\n",
            "Requirement already satisfied: torch in /usr/local/lib/python3.8/dist-packages (from clip==1.0) (1.13.1+cu116)\n",
            "Requirement already satisfied: torchvision in /usr/local/lib/python3.8/dist-packages (from clip==1.0) (0.14.1+cu116)\n",
            "Requirement already satisfied: wcwidth>=0.2.5 in /usr/local/lib/python3.8/dist-packages (from ftfy->clip==1.0) (0.2.6)\n",
            "Requirement already satisfied: typing-extensions in /usr/local/lib/python3.8/dist-packages (from torch->clip==1.0) (4.4.0)\n",
            "Requirement already satisfied: pillow!=8.3.*,>=5.3.0 in /usr/local/lib/python3.8/dist-packages (from torchvision->clip==1.0) (7.1.2)\n",
            "Requirement already satisfied: numpy in /usr/local/lib/python3.8/dist-packages (from torchvision->clip==1.0) (1.21.6)\n",
            "Requirement already satisfied: requests in /usr/local/lib/python3.8/dist-packages (from torchvision->clip==1.0) (2.25.1)\n",
            "Requirement already satisfied: idna<3,>=2.5 in /usr/local/lib/python3.8/dist-packages (from requests->torchvision->clip==1.0) (2.10)\n",
            "Requirement already satisfied: chardet<5,>=3.0.2 in /usr/local/lib/python3.8/dist-packages (from requests->torchvision->clip==1.0) (4.0.0)\n",
            "Requirement already satisfied: certifi>=2017.4.17 in /usr/local/lib/python3.8/dist-packages (from requests->torchvision->clip==1.0) (2022.12.7)\n",
            "Requirement already satisfied: urllib3<1.27,>=1.21.1 in /usr/local/lib/python3.8/dist-packages (from requests->torchvision->clip==1.0) (1.24.3)\n",
            "Building wheels for collected packages: clip\n",
            "  Building wheel for clip (setup.py) ... \u001b[?25l\u001b[?25hdone\n",
            "  Created wheel for clip: filename=clip-1.0-py3-none-any.whl size=1369408 sha256=26bbf0ceb047b21e14598636e19cc9ad78a4efa8fe39384d240cb960d7c2869f\n",
            "  Stored in directory: /tmp/pip-ephem-wheel-cache-8q79fqxt/wheels/ab/4f/3a/5e51521b55997aa6f0690e095c08824219753128ce8d9969a3\n",
            "Successfully built clip\n",
            "Installing collected packages: clip\n",
            "Successfully installed clip-1.0\n"
          ]
        }
      ],
      "source": [
        "# install CLIP\n",
        "!conda install --yes -c pytorch pytorch=1.7.1 torchvision cudatoolkit=11.2\n",
        "!pip install ftfy regex tqdm\n",
        "!pip install git+https://github.com/openai/CLIP.git"
      ]
    },
    {
      "cell_type": "code",
      "execution_count": null,
      "metadata": {
        "id": "POKgCuuFHB-R"
      },
      "outputs": [],
      "source": [
        "import os\n",
        "import clip\n",
        "import torch\n",
        "from torchvision.datasets import CIFAR100, ImageFolder\n",
        "import torch.nn.functional as F\n",
        "from torch.utils.data import DataLoader, Dataset\n",
        "import matplotlib.pyplot as plt\n",
        "import numpy as np\n"
      ]
    },
    {
      "cell_type": "code",
      "execution_count": null,
      "metadata": {
        "colab": {
          "base_uri": "https://localhost:8080/",
          "referenced_widgets": [
            "09f0c194acab4da6b704ff5ae18cddbf",
            "e1c7132874c743a787ad98117328f50d",
            "acd1dfdd5b324f80b2d85a92e5cef0b9",
            "59445b8d747d447babc703c71b0978b5",
            "ea6d1b26360c42d480699f040cb2e556",
            "1f7141ecdaee41deaa3b944abc7641f1",
            "10e3f1d86d334dcc9c38cff04a1efa33",
            "e9ea27d7cd3745f890aa5c1a28f12d86",
            "4f32aedcfdc3440c88c341ed70b3c848",
            "3dcde2a96f0f4cacbb49886ce23a8056",
            "f1a2fe238bbe4fa0a9d4cb6935c9e392"
          ]
        },
        "id": "dHxIpnPIuN2T",
        "outputId": "ace915db-1515-44b0-ae86-944f1e654182"
      },
      "outputs": [
        {
          "output_type": "stream",
          "name": "stderr",
          "text": [
            "100%|████████████████████████████████████████| 338M/338M [00:01<00:00, 246MiB/s]\n"
          ]
        },
        {
          "output_type": "stream",
          "name": "stdout",
          "text": [
            "Downloading https://www.cs.toronto.edu/~kriz/cifar-100-python.tar.gz to ./data/cifar-100-python.tar.gz\n"
          ]
        },
        {
          "output_type": "display_data",
          "data": {
            "text/plain": [
              "  0%|          | 0/169001437 [00:00<?, ?it/s]"
            ],
            "application/vnd.jupyter.widget-view+json": {
              "version_major": 2,
              "version_minor": 0,
              "model_id": "09f0c194acab4da6b704ff5ae18cddbf"
            }
          },
          "metadata": {}
        },
        {
          "output_type": "stream",
          "name": "stdout",
          "text": [
            "Extracting ./data/cifar-100-python.tar.gz to ./data\n",
            "--2023-02-05 11:10:09--  https://download.pytorch.org/tutorial/hymenoptera_data.zip\n",
            "Resolving download.pytorch.org (download.pytorch.org)... 13.33.88.63, 13.33.88.36, 13.33.88.85, ...\n",
            "Connecting to download.pytorch.org (download.pytorch.org)|13.33.88.63|:443... connected.\n",
            "HTTP request sent, awaiting response... 200 OK\n",
            "Length: 47286322 (45M) [application/zip]\n",
            "Saving to: ‘./data/hymenoptera_data.zip’\n",
            "\n",
            "hymenoptera_data.zi 100%[===================>]  45.10M   107MB/s    in 0.4s    \n",
            "\n",
            "2023-02-05 11:10:10 (107 MB/s) - ‘./data/hymenoptera_data.zip’ saved [47286322/47286322]\n",
            "\n"
          ]
        }
      ],
      "source": [
        "# Load the model\n",
        "device = \"cuda\" if torch.cuda.is_available() else \"cpu\"\n",
        "model, preprocess = clip.load('ViT-B/32', device)\n",
        "\n",
        "# Download CIFAR dataset\n",
        "cifar100 = CIFAR100(root='./data', download=True, train=False, transform=preprocess)\n",
        "\n",
        "# download Hymenoptera dataset at https://download.pytorch.org/tutorial/hymenoptera_data.zip\n",
        "!wget -P './data' https://download.pytorch.org/tutorial/hymenoptera_data.zip\n",
        "!unzip -q './data/hymenoptera_data.zip' -d './data'"
      ]
    },
    {
      "cell_type": "markdown",
      "metadata": {
        "id": "OOvd48NzCttg"
      },
      "source": [
        "## Q6: zero-shot predictions"
      ]
    },
    {
      "cell_type": "markdown",
      "metadata": {
        "id": "6QEHUwakJRK-"
      },
      "source": [
        "### Cifar100"
      ]
    },
    {
      "cell_type": "markdown",
      "metadata": {
        "id": "PWAIi9JJHWzD"
      },
      "source": [
        "In the first time, we perform zero-shot classification on a single sample, showing the top 5 predictions made by the model"
      ]
    },
    {
      "cell_type": "code",
      "execution_count": null,
      "metadata": {
        "colab": {
          "base_uri": "https://localhost:8080/"
        },
        "id": "_bplclqVFu8m",
        "outputId": "e7652b97-0994-4101-c9c7-917518aa3d9d"
      },
      "outputs": [
        {
          "output_type": "stream",
          "name": "stdout",
          "text": [
            "The true label is motorcycle\n",
            "\n",
            "Top predictions:\n",
            "\n",
            "      motorcycle: 92.47%\n",
            "      lawn_mower: 4.04%\n",
            "         bicycle: 0.62%\n",
            "           plain: 0.50%\n",
            "           woman: 0.19%\n"
          ]
        }
      ],
      "source": [
        "input_index = 1096\n",
        "text_all_class = torch.cat([clip.tokenize(f\"a photo of a {c}\") for c in cifar100.classes]).to(device)\n",
        "\n",
        "with torch.no_grad():\n",
        "  text_features = model.encode_text(text_all_class)\n",
        "  text_features /= text_features.norm(dim=-1, keepdim=True)\n",
        "\n",
        "  image, class_id = cifar100[input_index]\n",
        "  image_input = image.unsqueeze(0).to(device)\n",
        "  image_features = model.encode_image(image_input)\n",
        "  image_features /= image_features.norm(dim=-1, keepdim=True)\n",
        "\n",
        "similarity = (100.0 * image_features @ text_features.T).softmax(dim=-1)\n",
        "values, indices = similarity[0].topk(5)\n",
        "\n",
        "print(f\"The true label is {cifar100.classes[class_id]}\")\n",
        "\n",
        "print(\"\\nTop predictions:\\n\")\n",
        "for value, index in zip(values, indices):\n",
        "    print(f\"{cifar100.classes[index]:>16s}: {100 * value.item():.2f}%\")"
      ]
    },
    {
      "cell_type": "markdown",
      "metadata": {
        "id": "cM2bIgqTHwWM"
      },
      "source": [
        "We can notice that the legend prediction corresponds well to the input image (the correct answer gets more than 90% probability).\n",
        "\n",
        "Now, we compute the average prediction accuracy on the whole Cifar100 dataset."
      ]
    },
    {
      "cell_type": "code",
      "execution_count": null,
      "metadata": {
        "id": "qyH70_aFDL3j"
      },
      "outputs": [],
      "source": [
        "def evaluate(model, dataloader, text_all_class):\n",
        "    n_correct = 0\n",
        "    total = 0\n",
        "    with torch.no_grad():\n",
        "        text_features = model.encode_text(text_all_class)\n",
        "        text_features /= text_features.norm(dim=-1, keepdim=True)\n",
        "        for images, labels in dataloader:\n",
        "          images = images.to(device)\n",
        "          image_features = model.encode_image(images)\n",
        "          image_features /= image_features.norm(dim=-1, keepdim=True)\n",
        "\n",
        "          similarity = (100.0 * image_features @ text_features.T).softmax(dim=-1)\n",
        "          _, indices = similarity.topk(1)\n",
        "          indices = indices.reshape(-1,)\n",
        "          n_correct += indices.eq(labels.to(device)).sum().item()\n",
        "          total += labels.size(0)\n",
        "    accuracy = n_correct / total\n",
        "    return accuracy"
      ]
    },
    {
      "cell_type": "code",
      "execution_count": null,
      "metadata": {
        "colab": {
          "base_uri": "https://localhost:8080/"
        },
        "id": "n_3KEPaZXDfa",
        "outputId": "69e48f89-efd5-4970-81b7-7ec477180153"
      },
      "outputs": [
        {
          "name": "stdout",
          "output_type": "stream",
          "text": [
            "For CIFAR100, The accuracy of zero-shot inference is 61.68%\n"
          ]
        }
      ],
      "source": [
        "dataloader = torch.utils.data.DataLoader(cifar100, batch_size=64,\n",
        "                                        shuffle=True, num_workers=2)\n",
        "text_all_class = torch.cat([clip.tokenize(f\"a photo of a {c}\") for c in cifar100.classes]).to(device)\n",
        "accuracy = evaluate(model, dataloader, text_all_class)\n",
        "print(f\"For CIFAR100, The accuracy of zero-shot inference is {accuracy*100:.2f}%\")"
      ]
    },
    {
      "cell_type": "markdown",
      "metadata": {
        "id": "q-NUqfURxLIl"
      },
      "source": [
        "Using ViT/B-32, we get an accuracy about **62%** by top1 similarity. If we refer to the [original paper of CLIP](https://cdn.openai.com/papers/Learning_Transferable_Visual_Models_From_Natural_Language.pdf), the accuracy of zero shot prediction on Cifar100 is **65.1%**.\n",
        "\n",
        "Here are some [discussions](https://github.com/openai/CLIP/issues/153). It seems that we have to ensemble the prompts to achieve such accuracy in paper, instead of using one single template of prompt.\n",
        "\n",
        "It proves that the quality of prompts could be a main factor of model performance."
      ]
    },
    {
      "cell_type": "markdown",
      "metadata": {
        "id": "9w7jvziyJgrq"
      },
      "source": [
        "### Hymenoptera dataset"
      ]
    },
    {
      "cell_type": "code",
      "execution_count": null,
      "metadata": {
        "id": "EOAkdwt3JOS1"
      },
      "outputs": [],
      "source": [
        "# refer to tutorial at https://pytorch.org/tutorials/beginner/transfer_learning_tutorial.html\n",
        "data_dir = './data/hymenoptera_data'\n",
        "image_datasets = ImageFolder(os.path.join(data_dir, 'train'),\n",
        "                                          preprocess)\n",
        "text_all_class_hyme = torch.cat([clip.tokenize(f\"a photo of a {c}\") for c in ['ant', 'bee'] ]).to(device)"
      ]
    },
    {
      "cell_type": "code",
      "execution_count": null,
      "metadata": {
        "colab": {
          "base_uri": "https://localhost:8080/"
        },
        "id": "bfXYip7TKZxJ",
        "outputId": "105fb16b-daa6-4841-f6e5-648aca5708be"
      },
      "outputs": [
        {
          "name": "stdout",
          "output_type": "stream",
          "text": [
            "The true label is ant\n",
            "\n",
            "Top predictions:\n",
            "\n",
            "             ant: 99.41%\n",
            "             bee: 0.57%\n"
          ]
        }
      ],
      "source": [
        "input_index = 24\n",
        "\n",
        "with torch.no_grad():\n",
        "  text_features = model.encode_text(text_all_class_hyme)\n",
        "  text_features /= text_features.norm(dim=-1, keepdim=True)\n",
        "\n",
        "  image_input_, class_id = image_datasets[input_index]\n",
        "  image_input = (image_input_).unsqueeze(0).to(device)\n",
        "  image_features = model.encode_image(image_input)\n",
        "  image_features /= image_features.norm(dim=-1, keepdim=True)\n",
        "\n",
        "similarity = (100.0 * image_features @ text_features.T).softmax(dim=-1)\n",
        "values, indices = similarity[0].topk(2)\n",
        "\n",
        "print(f\"The true label is {['ant', 'bee'][class_id]}\")\n",
        "\n",
        "print(\"\\nTop predictions:\\n\")\n",
        "for value, index in zip(values, indices):\n",
        "    print(f\"{['ant', 'bee'][index]:>16s}: {100 * value.item():.2f}%\")"
      ]
    },
    {
      "cell_type": "markdown",
      "metadata": {
        "id": "oTTq8mlQMGvf"
      },
      "source": [
        "On a randomly chosen sample, CLIP well predicts its class. "
      ]
    },
    {
      "cell_type": "code",
      "execution_count": null,
      "metadata": {
        "colab": {
          "base_uri": "https://localhost:8080/"
        },
        "id": "tMkFAc5HXkR7",
        "outputId": "d3cfcd56-8fc1-4d70-cb61-bd1dafa05b6f"
      },
      "outputs": [
        {
          "name": "stdout",
          "output_type": "stream",
          "text": [
            "For Hymenoptera dataset, The accuracy of zero-shot inference is 95.49%\n"
          ]
        }
      ],
      "source": [
        "dataloader_hyme = torch.utils.data.DataLoader(image_datasets, batch_size=64,\n",
        "                                        shuffle=True, num_workers=2)\n",
        "text_all_class_hyme = torch.cat([clip.tokenize(f\"a photo of a {c}\") for c in ['ant', 'bee'] ]).to(device)\n",
        "accuracy = evaluate(model, dataloader_hyme, text_all_class_hyme)\n",
        "print(f\"For Hymenoptera dataset, The accuracy of zero-shot inference is {accuracy*100:.2f}%\")"
      ]
    },
    {
      "cell_type": "markdown",
      "metadata": {
        "id": "wyarPyyADD7j"
      },
      "source": [
        "## Q7: Fine tuning on CIFAR"
      ]
    },
    {
      "cell_type": "markdown",
      "metadata": {
        "id": "ZpsID4KJts9-"
      },
      "source": [
        "Fine tuning on CLIP (based on Vision Transformer Base, with patch size 32)"
      ]
    },
    {
      "cell_type": "code",
      "execution_count": null,
      "metadata": {
        "colab": {
          "base_uri": "https://localhost:8080/"
        },
        "id": "pYBCCsObSoCE",
        "outputId": "24974e66-a246-48d9-bc5b-d900ddd7fcb1"
      },
      "outputs": [
        {
          "output_type": "stream",
          "name": "stdout",
          "text": [
            "Files already downloaded and verified\n",
            "Files already downloaded and verified\n"
          ]
        }
      ],
      "source": [
        "model_finetune, preprocess = clip.load('ViT-B/32', device, jit=False)\n",
        "\n",
        "# Load the dataset\n",
        "root = './data'\n",
        "train = CIFAR100(root, download=True, train=True, transform=preprocess)\n",
        "test = CIFAR100(root, download=True, train=False, transform=preprocess)\n",
        "trainloader = torch.utils.data.DataLoader(train, batch_size=64,\n",
        "                                          shuffle=True, num_workers=2)\n",
        "testloader = torch.utils.data.DataLoader(test, batch_size=64,\n",
        "                                          shuffle=True, num_workers=2)"
      ]
    },
    {
      "cell_type": "markdown",
      "metadata": {
        "id": "QkdoXiZCgoF_"
      },
      "source": [
        "Adapt the fine tuning code from the [discussion](https://github.com/openai/CLIP/issues/83). CLIP uses mix-precision training: float32 for optimization and float16 for forward/backward, as discussed [here](https://github.com/openai/CLIP/issues/57). \n",
        "\n",
        "Thus, we need to convert parameters and grads to float32 before applying optimizer, then convert it back. See it in the following code."
      ]
    },
    {
      "cell_type": "code",
      "execution_count": null,
      "metadata": {
        "colab": {
          "base_uri": "https://localhost:8080/"
        },
        "id": "KNS3o5uI_LB0",
        "outputId": "60aae434-f333-4c11-8c1a-d4d4c933bf89"
      },
      "outputs": [
        {
          "name": "stdout",
          "output_type": "stream",
          "text": [
            "Epoch 1: training accuracy is 75.094% || test accuracy is 68.820%\n",
            "Epoch 2: training accuracy is 81.476% || test accuracy is 71.420%\n",
            "Epoch 3: training accuracy is 85.228% || test accuracy is 73.630%\n"
          ]
        }
      ],
      "source": [
        "text_all_class = torch.cat([clip.tokenize(f\"a photo of a {c}\") for c in cifar100.classes]).to(device)\n",
        "loss_img = torch.nn.CrossEntropyLoss()\n",
        "loss_txt = torch.nn.CrossEntropyLoss()\n",
        "optimizer = torch.optim.Adam(model_finetune.parameters(), lr=5e-5)\n",
        "train_epoch = 3\n",
        "\n",
        "model_finetune.train()\n",
        "for epoch in range(train_epoch):  \n",
        "    for inputs, labels in trainloader:\n",
        "        texts = torch.cat([clip.tokenize(f\"a photo of a {cifar100.classes[i]}\") for i in np.array(labels)]).to(device)\n",
        "        images = inputs.to(device) \n",
        "\n",
        "        optimizer.zero_grad()\n",
        "        logits_per_image, logits_per_text  = model_finetune(images, texts)\n",
        "        ground_truth = torch.arange(len(images), dtype=torch.long, device=device)\n",
        "        total_loss = (loss_img(logits_per_image, ground_truth) + loss_txt(logits_per_text, ground_truth)) / 2\n",
        "        total_loss.backward()\n",
        "\n",
        "        if device == \"cpu\":\n",
        "          optimizer.step()\n",
        "        else:\n",
        "          # convert the weights and to float32 \n",
        "          model_finetune.float()\n",
        "          optimizer.step()\n",
        "          # convert back to float16\n",
        "          clip.model.convert_weights(model_finetune)\n",
        "\n",
        "    train_acc = evaluate(model_finetune, trainloader, text_all_class)    \n",
        "    test_acc = evaluate(model_finetune, testloader, text_all_class)\n",
        "    print(f\"Epoch {epoch+1}: training accuracy is {train_acc*100:.3f}% || test accuracy is {test_acc*100:.3f}%\")"
      ]
    },
    {
      "cell_type": "code",
      "source": [
        "n_params = sum(p.numel() for p in model.parameters() if p.requires_grad)\n",
        "print(f\"There are {n_params:,} parameters in CLIP ViT-B/32 model.\")\n",
        "print(f\"There are {len(train)} training samples.\")"
      ],
      "metadata": {
        "colab": {
          "base_uri": "https://localhost:8080/"
        },
        "id": "Dtr14UvfoEXu",
        "outputId": "f8d22e30-db1e-4635-833b-66a4db822cf1"
      },
      "execution_count": null,
      "outputs": [
        {
          "output_type": "stream",
          "name": "stdout",
          "text": [
            "There are 151,277,313 parameters in CLIP ViT-B/32 model.\n",
            "There are 50000 training samples.\n"
          ]
        }
      ]
    },
    {
      "cell_type": "markdown",
      "source": [
        "There are more than 150 millions trainable parameters. That's why the fine-tune is really slow (more than 10 minutes for 3 epochs of 50,000 traning samples). "
      ],
      "metadata": {
        "id": "FCOfNFd8oSxo"
      }
    },
    {
      "cell_type": "code",
      "execution_count": null,
      "metadata": {
        "id": "SWxs_13oU5Vl"
      },
      "outputs": [],
      "source": [
        "# save the model \n",
        "\n",
        "torch.save({\n",
        "        'epoch': train_epoch,\n",
        "        'model_state_dict': model_finetune.state_dict(),\n",
        "        'optimizer_state_dict': optimizer.state_dict(),\n",
        "        }, \"./CLIP_ckpt.pt\")"
      ]
    },
    {
      "cell_type": "code",
      "execution_count": null,
      "metadata": {
        "id": "fMvcee0_VQZK"
      },
      "outputs": [],
      "source": [
        "# reload the fine-tuned model\n",
        "\n",
        "# model, preprocess = clip.load(\"ViT-B/32\",device=device,jit=False)\n",
        "# checkpoint = torch.load(\"./CLIP_ckpt.pt\")\n",
        "# model.load_state_dict(checkpoint['model_state_dict'])"
      ]
    },
    {
      "cell_type": "markdown",
      "metadata": {
        "id": "G7QSj_HWI0GM"
      },
      "source": [
        "## Q8: Tune the learning rate"
      ]
    },
    {
      "cell_type": "code",
      "execution_count": null,
      "metadata": {
        "colab": {
          "base_uri": "https://localhost:8080/"
        },
        "id": "Uh_gBsiiI-py",
        "outputId": "111b2f18-75b4-4c27-f9a4-f736db7e174c"
      },
      "outputs": [
        {
          "output_type": "stream",
          "name": "stdout",
          "text": [
            "Files already downloaded and verified\n",
            "Files already downloaded and verified\n",
            "Files already downloaded and verified\n"
          ]
        }
      ],
      "source": [
        "device = \"cuda\" if torch.cuda.is_available() else \"cpu\"\n",
        "# model_sgd, preprocess = clip.load('ViT-B/32', device, jit=False)\n",
        "\n",
        "# Download CIFAR dataset\n",
        "cifar100 = CIFAR100(root='./data', download=True, train=False, transform=preprocess)\n",
        "\n",
        "# Load the dataset\n",
        "root = './data'\n",
        "train = CIFAR100(root, download=True, train=True, transform=preprocess)\n",
        "test = CIFAR100(root, download=True, train=False, transform=preprocess)\n",
        "trainloader = torch.utils.data.DataLoader(train, batch_size=64,\n",
        "                                          shuffle=True, num_workers=2)\n",
        "testloader = torch.utils.data.DataLoader(test, batch_size=64,\n",
        "                                          shuffle=True, num_workers=2)"
      ]
    },
    {
      "cell_type": "code",
      "execution_count": null,
      "metadata": {
        "id": "TPn3hYQkJPlC"
      },
      "outputs": [],
      "source": [
        "text_all_class = torch.cat([clip.tokenize(f\"a photo of a {c}\") for c in cifar100.classes]).to(device)\n",
        "\n",
        "def tune_lr_sgd(trainloader, testloader, text_all_class, lr, train_epoch = 5):\n",
        "  model_sgd, _ = clip.load('ViT-B/32', device, jit=False)\n",
        "  loss_img = torch.nn.CrossEntropyLoss()\n",
        "  loss_txt = torch.nn.CrossEntropyLoss()\n",
        "\n",
        "  optimizer = torch.optim.SGD(model_sgd.parameters(), lr)\n",
        "\n",
        "  model_sgd.train()\n",
        "  train_accs = np.zeros(train_epoch)\n",
        "  test_accs = np.zeros(train_epoch)\n",
        "  for epoch in range(train_epoch):  \n",
        "      for inputs, labels in trainloader:\n",
        "          texts = torch.cat([clip.tokenize(f\"a photo of a {cifar100.classes[i]}\") for i in np.array(labels)]).to(device)\n",
        "          images = inputs.to(device) \n",
        "\n",
        "          optimizer.zero_grad()\n",
        "          logits_per_image, logits_per_text  = model_sgd(images, texts)\n",
        "          ground_truth = torch.arange(len(images), dtype=torch.long, device=device)\n",
        "          total_loss = (loss_img(logits_per_image, ground_truth) + loss_txt(logits_per_text, ground_truth)) / 2\n",
        "          total_loss.backward()\n",
        "\n",
        "          if device == \"cpu\":\n",
        "            optimizer.step()\n",
        "          else:\n",
        "            # convert the weights and to float32 \n",
        "            model_sgd.float()\n",
        "            optimizer.step()\n",
        "            # convert back to float16\n",
        "            clip.model.convert_weights(model_sgd)\n",
        "\n",
        "      train_accs[epoch] = evaluate(model_sgd, trainloader, text_all_class)    \n",
        "      test_accs[epoch] = evaluate(model_sgd, testloader, text_all_class)\n",
        "      # print(f\"Epoch {epoch+1}: training accuracy is {train_acc*100:.3f}% || test accuracy is {test_acc*100:.3f}%\") \n",
        "  return train_accs, test_accs"
      ]
    },
    {
      "cell_type": "code",
      "source": [
        "lrs = [1e-2, 1e-3, 1e-5]\n",
        "accs = {}\n",
        "for i, lr in enumerate(lrs):\n",
        "  accs[i] = tune_lr_sgd(trainloader, testloader, text_all_class, lr, 3)"
      ],
      "metadata": {
        "id": "juLUxCeZhoqn"
      },
      "execution_count": null,
      "outputs": []
    },
    {
      "cell_type": "code",
      "source": [
        "x = np.arange(3)\n",
        "for i in range(3):\n",
        "  plt.plot(x, accs[i][0], label=f\"lr={lrs[i]}\")\n",
        "plt.legend()\n",
        "plt.xlabel(\"#Epochs\")\n",
        "plt.ylabel(\"Accuracy\")\n",
        "plt.title(\"Training accuracy for different SGD lr\", fontsize=15)\n",
        "plt.show()\n",
        "\n",
        "for i in range(3):\n",
        "  plt.plot(x, accs[i][1], label=f\"lr={lrs[i]}\")\n",
        "plt.legend()\n",
        "plt.xlabel(\"#Epochs\")\n",
        "plt.ylabel(\"Accuracy\")\n",
        "plt.title(\"Test accuracy for different SGD lr\", fontsize=15)\n",
        "plt.show()"
      ],
      "metadata": {
        "colab": {
          "base_uri": "https://localhost:8080/",
          "height": 577
        },
        "id": "7GKcNUmDEsKC",
        "outputId": "5d975206-4560-4c4f-b4c6-6e14b0c414d6"
      },
      "execution_count": null,
      "outputs": [
        {
          "output_type": "display_data",
          "data": {
            "text/plain": [
              "<Figure size 432x288 with 1 Axes>"
            ],
            "image/png": "[encoded data removed]"
          },
          "metadata": {
            "needs_background": "light"
          }
        },
        {
          "output_type": "display_data",
          "data": {
            "text/plain": [
              "<Figure size 432x288 with 1 Axes>"
            ],
            "image/png": "[encoded data removed]"
          },
          "metadata": {
            "needs_background": "light"
          }
        }
      ]
    },
    {
      "cell_type": "markdown",
      "source": [
        "**Observation**: when the learning rate is too large, like in the case lr=0.01, the performance of the CLIP is very poor and does not improve through training epochs. What's more, the accuracy where lr=1e-3 is higher than the accuracy where lr=1e-5 after 3 training epochs, so the performance does not necessarily improve when we take smaller learning rates.\n",
        "\n",
        "**Recommendation**: When we fine-tune the big models (like CLIP), the learning rate should not be too big. That would lose the important information contained in the model and degrade the performance. Choose an appropriate learning rate is important. But it seems like a problem-specific task which has no universal principals."
      ],
      "metadata": {
        "id": "g7AE7GlzLM91"
      }
    },
    {
      "cell_type": "markdown",
      "source": [
        "## Q8: Freezing CLIP and add layers"
      ],
      "metadata": {
        "id": "Muy5eVN2lS74"
      }
    },
    {
      "cell_type": "markdown",
      "source": [
        "Here, we'd like to add some fully connected layers on top of CLIP. \n",
        "\n",
        "One common way to do that is to remove the last layer in the first time (or just set them as `Identity()`); then add some fully connected layers as \"classifier head\". However, in CLIP, it is not so easy. \n",
        "\n",
        "In `forward` function of CLIP's source code, the blocks are not sequentially used: `self.visual` and `self.transformer` are called in parallel, respectively in `encode_image` and `encode_text`. Thus, adding sequentially the fully connected layers would not work here. \n",
        "\n",
        "Inspired by source code, we apply fully connected layers on images features and text features. Then we compute their similarities, just as in source code."
      ],
      "metadata": {
        "id": "rZ-FO_rREzqG"
      }
    },
    {
      "cell_type": "code",
      "source": [
        "class MyCLIP(torch.nn.Module):\n",
        "    def __init__(self, model_CLIP):\n",
        "        super().__init__()\n",
        "        self.model = model_CLIP\n",
        "        self.fc1 = torch.nn.Linear(512, 512, dtype=torch.float16)\n",
        "        self.fc2 = torch.nn.Linear(512, 512, dtype=torch.float16)\n",
        "\n",
        "    def forward(self, imgs, text):\n",
        "        # x1, x2 = self.model(imgs, text)\n",
        "        # x1 = self.fc1(x1)\n",
        "        # x1 = self.fc2(x1)\n",
        "        # x2 = x1.t()\n",
        "        image_features = self.model.encode_image(imgs)\n",
        "        image_features = self.fc1(image_features)\n",
        "        image_features = image_features / image_features.norm(dim=1, keepdim=True)\n",
        "\n",
        "        text_features = self.model.encode_text(text)\n",
        "        text_features = self.fc2(text_features)\n",
        "        text_features = text_features / text_features.norm(dim=1, keepdim=True)\n",
        "\n",
        "        logit_scale = self.model.logit_scale.exp()\n",
        "        logits_per_image = logit_scale * image_features @ text_features.t()\n",
        "        logits_per_text = logits_per_image.t()\n",
        "        return logits_per_image, logits_per_text\n",
        "    \n",
        "    def evaluate(self, dataloader, text_all_class):\n",
        "        n_correct = 0\n",
        "        total = 0\n",
        "        with torch.no_grad():\n",
        "            text_features = self.model.encode_text(text_all_class)\n",
        "            text_features = self.fc2(text_features)\n",
        "            text_features /= text_features.norm(dim=-1, keepdim=True)\n",
        "            for images, labels in dataloader:\n",
        "              images = images.to(device)\n",
        "              image_features = self.model.encode_image(images)\n",
        "              image_features = self.fc1(image_features)\n",
        "              image_features /= image_features.norm(dim=-1, keepdim=True)\n",
        "\n",
        "              similarity = (100.0 * image_features @ text_features.T).softmax(dim=-1)\n",
        "              _, indices = similarity.topk(1)\n",
        "              indices = indices.reshape(-1,)\n",
        "              n_correct += indices.eq(labels.to(device)).sum().item()\n",
        "              total += labels.size(0)\n",
        "        accuracy = n_correct / total\n",
        "        return accuracy"
      ],
      "metadata": {
        "id": "T89asEglHGkf"
      },
      "execution_count": null,
      "outputs": []
    },
    {
      "cell_type": "code",
      "source": [
        "model, preprocess = clip.load('ViT-B/32', device, jit=False)\n",
        "myModel = MyCLIP(model)\n",
        "myModel = myModel.to(device)\n",
        "\n",
        "# Load the dataset\n",
        "batch_size = 64\n",
        "root = './data'\n",
        "train = CIFAR100(root, download=True, train=True, transform=preprocess)\n",
        "test = CIFAR100(root, download=True, train=False, transform=preprocess)\n",
        "trainloader = torch.utils.data.DataLoader(train, batch_size=batch_size,\n",
        "                                          shuffle=True, num_workers=2)\n",
        "testloader = torch.utils.data.DataLoader(test, batch_size=batch_size,\n",
        "                                          shuffle=True, num_workers=2)"
      ],
      "metadata": {
        "colab": {
          "base_uri": "https://localhost:8080/"
        },
        "id": "mVFdvmqYICcV",
        "outputId": "755ba82d-f326-4a24-fc10-7f4a6e453468"
      },
      "execution_count": null,
      "outputs": [
        {
          "output_type": "stream",
          "name": "stdout",
          "text": [
            "Files already downloaded and verified\n",
            "Files already downloaded and verified\n"
          ]
        }
      ]
    },
    {
      "cell_type": "code",
      "source": [
        "# we freeze the CLIP network\n",
        "for para in myModel.model.parameters():\n",
        "    para.requires_grad = False"
      ],
      "metadata": {
        "id": "55T0t1MCK4jm"
      },
      "execution_count": null,
      "outputs": []
    },
    {
      "cell_type": "code",
      "source": [
        "train_epoch = 5\n",
        "optimizer = torch.optim.SGD(myModel.parameters(), lr=1e-3)\n",
        "loss_img = torch.nn.CrossEntropyLoss()\n",
        "loss_txt = torch.nn.CrossEntropyLoss()\n",
        "text_all_class = torch.cat([clip.tokenize(f\"a photo of a {c}\") for c in cifar100.classes]).to(device)\n",
        "for epoch in range(train_epoch):  \n",
        "    for inputs, labels in trainloader:\n",
        "        texts = torch.cat([clip.tokenize(f\"a photo of a {cifar100.classes[i]}\") for i in np.array(labels)]).to(device)\n",
        "        images = inputs.to(device) \n",
        "\n",
        "        optimizer.zero_grad()\n",
        "        logits_per_image, logits_per_text  = myModel(images, texts)\n",
        "        ground_truth = torch.arange(len(images), dtype=torch.long, device=device)\n",
        "        total_loss = (loss_img(logits_per_image, ground_truth) + loss_txt(logits_per_text, ground_truth)) / 2\n",
        "        total_loss.backward()\n",
        "        optimizer.step()\n",
        "\n",
        "    train_acc = myModel.evaluate(trainloader, text_all_class)    \n",
        "    test_acc = myModel.evaluate(testloader, text_all_class)\n",
        "    print(f\"Epoch {epoch+1}: training accuracy is {train_acc*100:.3f}% || test accuracy is {test_acc*100:.3f}%\")"
      ],
      "metadata": {
        "colab": {
          "base_uri": "https://localhost:8080/"
        },
        "id": "1o1axuxQK9Nl",
        "outputId": "46329f6c-c3cc-461c-ac3f-16d954e8d65c"
      },
      "execution_count": null,
      "outputs": [
        {
          "output_type": "stream",
          "name": "stdout",
          "text": [
            "Epoch 1: training accuracy is 59.216% || test accuracy is 58.650%\n",
            "Epoch 2: training accuracy is 67.576% || test accuracy is 66.660%\n",
            "Epoch 3: training accuracy is 71.200% || test accuracy is 69.700%\n",
            "Epoch 4: training accuracy is 72.948% || test accuracy is 71.180%\n",
            "Epoch 5: training accuracy is 74.254% || test accuracy is 72.440%\n"
          ]
        }
      ]
    },
    {
      "cell_type": "markdown",
      "source": [
        "Using SGD optimizer with learning rate 1e-3 and by training only the last linear layer added on top of CLIP, we obtained a similar accuracy after 5 epochs compared with the results obtained by fine tuning the CLIP on CIFAR. \n",
        "\n",
        "We would recommend adding some layers as classifier head to the CLIP network, freezing the CLIP and training only the added layers instead of the big network CLIP, since it would be much more faster."
      ],
      "metadata": {
        "id": "ZSQLpDgCeOMC"
      }
    },
    {
      "cell_type": "markdown",
      "metadata": {
        "id": "yYTKh8ZTGo7b"
      },
      "source": [
        "## Q9: 2d PCA on common embedding space for images and texts"
      ]
    },
    {
      "cell_type": "code",
      "execution_count": null,
      "metadata": {
        "id": "a4HK97JJfG39"
      },
      "outputs": [],
      "source": [
        "from sklearn.decomposition import PCA\n",
        "import matplotlib.pyplot as plt"
      ]
    },
    {
      "cell_type": "code",
      "execution_count": null,
      "metadata": {
        "id": "-LL12ZXba1TR"
      },
      "outputs": [],
      "source": [
        "def plot_2d_embeddings(model, dataset):\n",
        "    dataloader = torch.utils.data.DataLoader(dataset, batch_size=32,\n",
        "                                            shuffle=True, num_workers=2)\n",
        "    ## Take a few samples (one batch)\n",
        "    one_batch = next(iter(dataloader))\n",
        "    imgs, labels = one_batch\n",
        "    texts = torch.cat([clip.tokenize(f\"a photo of a {dataset.classes[i]}\") for i in np.array(labels)]).to(device)\n",
        "    imgs, labels = imgs.to(device), labels.to(device)\n",
        "\n",
        "    image_features = model.encode_image(imgs)\n",
        "    text_features = model.encode_text(texts)\n",
        "    image_features /= image_features.norm(dim=-1, keepdim=True)\n",
        "    text_features /= text_features.norm(dim=-1, keepdim=True)\n",
        "\n",
        "    # fit the PCA model\n",
        "    pca = PCA(n_components=2)\n",
        "    pca.fit(torch.cat([image_features, text_features]).cpu().detach().numpy())\n",
        "    # Transform \n",
        "    image_features_2d = pca.transform(image_features.cpu().detach().numpy())\n",
        "    text_features_2d = pca.transform(text_features.cpu().detach().numpy())\n",
        "\n",
        "    plt.scatter(image_features_2d[:,0], image_features_2d[:,1], color='blue')\n",
        "    plt.scatter(text_features_2d[:,0], text_features_2d[:,1], color='red')\n",
        "    plt.show()\n"
      ]
    },
    {
      "cell_type": "code",
      "execution_count": null,
      "metadata": {
        "colab": {
          "base_uri": "https://localhost:8080/",
          "height": 265
        },
        "id": "1KfWW_UBfnzJ",
        "outputId": "84f99d40-b4a5-4719-9f53-16d530f50d8b"
      },
      "outputs": [
        {
          "data": {
            "image/png": "[encoded data removed]",
            "text/plain": [
              "<Figure size 432x288 with 1 Axes>"
            ]
          },
          "metadata": {},
          "output_type": "display_data"
        }
      ],
      "source": [
        "plot_2d_embeddings(model, cifar100)"
      ]
    },
    {
      "cell_type": "markdown",
      "metadata": {
        "id": "1h2REdqPdudH"
      },
      "source": [
        "The red points are text embeddings, the blue ones are image embeddings. \n",
        "\n",
        "In their common space, the text and imgages embeddings are \"symmetrically\" organised. Moreover, the text and image spaces are organized similarly: they have respectively the similar coordinate in x-axis."
      ]
    },
    {
      "cell_type": "markdown",
      "metadata": {
        "id": "EnS-e-RvHzZB"
      },
      "source": [
        "## Q10: Explore the improvements brought by fine tuning"
      ]
    },
    {
      "cell_type": "markdown",
      "metadata": {
        "id": "klBcYR_kfubb"
      },
      "source": [
        "To check the possible improvements brought by fine tuning, it is sufficient to replace the original model by the fine-tuned one."
      ]
    },
    {
      "cell_type": "code",
      "execution_count": null,
      "metadata": {
        "colab": {
          "base_uri": "https://localhost:8080/"
        },
        "id": "AmHmM2NHn9oH",
        "outputId": "2cd6e8a9-594a-49d3-bb92-0402662a2741"
      },
      "outputs": [
        {
          "name": "stdout",
          "output_type": "stream",
          "text": [
            "Mounted at /content/drive\n"
          ]
        }
      ],
      "source": [
        "##### If there is fine-tuned model, no need to execute it #####\n",
        "\n",
        "from google.colab import drive\n",
        "drive.mount('/content/drive')"
      ]
    },
    {
      "cell_type": "code",
      "execution_count": null,
      "metadata": {
        "colab": {
          "base_uri": "https://localhost:8080/"
        },
        "id": "5B0pHy7aiACu",
        "outputId": "36bafdae-262f-4d9b-f42b-ab3538d426a9"
      },
      "outputs": [
        {
          "data": {
            "text/plain": [
              "<All keys matched successfully>"
            ]
          },
          "execution_count": 30,
          "metadata": {},
          "output_type": "execute_result"
        }
      ],
      "source": [
        "##### If there is fine-tuned model, no need to execute it #####\n",
        "\n",
        "# Get the checkpoint mounted at Google Drive\n",
        "checkpoint = torch.load(\"CLIP_ckpt.pt\")\n",
        "\n",
        "# Reload the model\n",
        "model_finetune, preprocess = clip.load(\"ViT-B/32\", device=device, jit=False)\n",
        "model_finetune.load_state_dict(checkpoint['model_state_dict'])"
      ]
    },
    {
      "cell_type": "code",
      "execution_count": null,
      "metadata": {
        "colab": {
          "base_uri": "https://localhost:8080/",
          "height": 269
        },
        "id": "6t5WST0iiGTf",
        "outputId": "945c6a22-520a-4d7a-a5bf-2335e760f62d"
      },
      "outputs": [
        {
          "data": {
            "image/png": "[encoded data removed]",
            "text/plain": [
              "<Figure size 432x288 with 1 Axes>"
            ]
          },
          "metadata": {},
          "output_type": "display_data"
        }
      ],
      "source": [
        "plot_2d_embeddings(model_finetune, cifar100)"
      ]
    },
    {
      "cell_type": "markdown",
      "metadata": {
        "id": "5_aQVLgBmJ09"
      },
      "source": [
        "For text and images embeddings respectively, the restrictions on first coordinate (on x-axis) are more strict. That is to say, their respective x-axis are more similar. \n",
        "\n",
        "Other observation is that the text and image embeddings (the red points and blue ones) \"exchange\" their position after fine-tuning."
      ]
    },
    {
      "cell_type": "markdown",
      "metadata": {
        "id": "gFx-2G3U61rq"
      },
      "source": [
        "#Additional  considerations and other great tools\n",
        "\n",
        "##Fast KNN\n",
        "It is common to build costly embeddings selecting one layer close to the end of a deep net as a representation. Then looking for similarities becomes a k nearest neighbors search. As the dimension is almost always >100, no exact implementation runs in sub-linear time.   Thus,  we often conduct an approximate one that uses hyperplanes to build hashes to scale. The library [FAISS](https://github.com/facebookresearch/faiss) proposes an efficient implementation of this strategy. \n",
        "\n",
        "##Features stores\n",
        "Often a fast but inconvenient raw data source is used to store the data stream. Then some transformations are applied regularly to build the features used by the predictive algorithm. This comes with a problem: each new project needs new features making the transformation step more and more costly and possibly inconsistent over time. Feature store is a concept introduced in 2020 to answer this problem by versioning the feature extraction. Read more at https://eugeneyan.com/writing/feature-stores/\n",
        "\n",
        "##Discovering some of the deep learning concepts\n",
        "- Each article is a gem: https://distill.pub/\n",
        "\n",
        "- The [course of François Fleuret](https://fleuret.org/dlc/) is free and offers an excellent tour. \n",
        "\n",
        "\n",
        "##Empirical lessons from training deep nets\n",
        "In my experience, these are good practices when training deep nets: http://karpathy.github.io/2019/04/25/recipe/\n",
        "\n",
        "Nevertheless, since early 2021, the remark on self-supervised should be mitigated with respect to the successes of CLIP/ALIGN/BYOL. \n",
        "\n",
        "##Large dataset\n",
        "There exist specialized dataloaders to handle large data: \n",
        "- [Webdataset](https://github.com/webdataset/webdataset)\n",
        "- [Amazon S3 format](https://aws.amazon.com/fr/blogs/machine-learning/announcing-the-amazon-s3-plugin-for-pytorch/)\n",
        "\n",
        "Also, Tensorflow is more mature for serving while being more painful to use. Care about automatic translation from PyTorch using ONNX, which can strongly degrade the metrics of the network. Google researchers are currently often using [Jax](https://github.com/google/jax).\n",
        "\n",
        "##Demo time\n",
        "[Streamlit](https://streamlit.io/) and [Gradio](https://gradio.app/) are a super simple way to build an HTML interface to a python ML model. As a bonus, Gradio event uses the inputs to build automatically an API following the OpenAPI standards.  \n",
        "\n",
        "## Some food to think\n",
        "- As an average deep learner: https://marksaroufim.substack.com/p/working-class-deep-learner\n",
        "- As a Ph.D. student: https://www.cs.cmu.edu/~harchol/gradschooltalk.pdf \n"
      ]
    },
    {
      "cell_type": "markdown",
      "metadata": {
        "id": "vG8LO66FWye2"
      },
      "source": [
        "##More code examples\n",
        "\n",
        "Many examples are available on the net, here it is one code generator for basic classification with some intrumentation and parallel training.\n",
        "https://share.streamlit.io/pytorch-ignite/code-generator"
      ]
    }
  ],
  "metadata": {
    "accelerator": "GPU",
    "colab": {
      "provenance": [],
      "toc_visible": true
    },
    "gpuClass": "standard",
    "kernelspec": {
      "display_name": "Python 3",
      "name": "python3"
    },
    "language_info": {
      "name": "python"
    },
    "widgets": {
      "application/vnd.jupyter.widget-state+json": {
        "09f0c194acab4da6b704ff5ae18cddbf": {
          "model_module": "@jupyter-widgets/controls",
          "model_name": "HBoxModel",
          "model_module_version": "1.5.0",
          "state": {
            "_dom_classes": [],
            "_model_module": "@jupyter-widgets/controls",
            "_model_module_version": "1.5.0",
            "_model_name": "HBoxModel",
            "_view_count": null,
            "_view_module": "@jupyter-widgets/controls",
            "_view_module_version": "1.5.0",
            "_view_name": "HBoxView",
            "box_style": "",
            "children": [
              "IPY_MODEL_e1c7132874c743a787ad98117328f50d",
              "IPY_MODEL_acd1dfdd5b324f80b2d85a92e5cef0b9",
              "IPY_MODEL_59445b8d747d447babc703c71b0978b5"
            ],
            "layout": "IPY_MODEL_ea6d1b26360c42d480699f040cb2e556"
          }
        },
        "e1c7132874c743a787ad98117328f50d": {
          "model_module": "@jupyter-widgets/controls",
          "model_name": "HTMLModel",
          "model_module_version": "1.5.0",
          "state": {
            "_dom_classes": [],
            "_model_module": "@jupyter-widgets/controls",
            "_model_module_version": "1.5.0",
            "_model_name": "HTMLModel",
            "_view_count": null,
            "_view_module": "@jupyter-widgets/controls",
            "_view_module_version": "1.5.0",
            "_view_name": "HTMLView",
            "description": "",
            "description_tooltip": null,
            "layout": "IPY_MODEL_1f7141ecdaee41deaa3b944abc7641f1",
            "placeholder": "​",
            "style": "IPY_MODEL_10e3f1d86d334dcc9c38cff04a1efa33",
            "value": "100%"
          }
        },
        "acd1dfdd5b324f80b2d85a92e5cef0b9": {
          "model_module": "@jupyter-widgets/controls",
          "model_name": "FloatProgressModel",
          "model_module_version": "1.5.0",
          "state": {
            "_dom_classes": [],
            "_model_module": "@jupyter-widgets/controls",
            "_model_module_version": "1.5.0",
            "_model_name": "FloatProgressModel",
            "_view_count": null,
            "_view_module": "@jupyter-widgets/controls",
            "_view_module_version": "1.5.0",
            "_view_name": "ProgressView",
            "bar_style": "success",
            "description": "",
            "description_tooltip": null,
            "layout": "IPY_MODEL_e9ea27d7cd3745f890aa5c1a28f12d86",
            "max": 169001437,
            "min": 0,
            "orientation": "horizontal",
            "style": "IPY_MODEL_4f32aedcfdc3440c88c341ed70b3c848",
            "value": 169001437
          }
        },
        "59445b8d747d447babc703c71b0978b5": {
          "model_module": "@jupyter-widgets/controls",
          "model_name": "HTMLModel",
          "model_module_version": "1.5.0",
          "state": {
            "_dom_classes": [],
            "_model_module": "@jupyter-widgets/controls",
            "_model_module_version": "1.5.0",
            "_model_name": "HTMLModel",
            "_view_count": null,
            "_view_module": "@jupyter-widgets/controls",
            "_view_module_version": "1.5.0",
            "_view_name": "HTMLView",
            "description": "",
            "description_tooltip": null,
            "layout": "IPY_MODEL_3dcde2a96f0f4cacbb49886ce23a8056",
            "placeholder": "​",
            "style": "IPY_MODEL_f1a2fe238bbe4fa0a9d4cb6935c9e392",
            "value": " 169001437/169001437 [00:13&lt;00:00, 14929180.37it/s]"
          }
        },
        "ea6d1b26360c42d480699f040cb2e556": {
          "model_module": "@jupyter-widgets/base",
          "model_name": "LayoutModel",
          "model_module_version": "1.2.0",
          "state": {
            "_model_module": "@jupyter-widgets/base",
            "_model_module_version": "1.2.0",
            "_model_name": "LayoutModel",
            "_view_count": null,
            "_view_module": "@jupyter-widgets/base",
            "_view_module_version": "1.2.0",
            "_view_name": "LayoutView",
            "align_content": null,
            "align_items": null,
            "align_self": null,
            "border": null,
            "bottom": null,
            "display": null,
            "flex": null,
            "flex_flow": null,
            "grid_area": null,
            "grid_auto_columns": null,
            "grid_auto_flow": null,
            "grid_auto_rows": null,
            "grid_column": null,
            "grid_gap": null,
            "grid_row": null,
            "grid_template_areas": null,
            "grid_template_columns": null,
            "grid_template_rows": null,
            "height": null,
            "justify_content": null,
            "justify_items": null,
            "left": null,
            "margin": null,
            "max_height": null,
            "max_width": null,
            "min_height": null,
            "min_width": null,
            "object_fit": null,
            "object_position": null,
            "order": null,
            "overflow": null,
            "overflow_x": null,
            "overflow_y": null,
            "padding": null,
            "right": null,
            "top": null,
            "visibility": null,
            "width": null
          }
        },
        "1f7141ecdaee41deaa3b944abc7641f1": {
          "model_module": "@jupyter-widgets/base",
          "model_name": "LayoutModel",
          "model_module_version": "1.2.0",
          "state": {
            "_model_module": "@jupyter-widgets/base",
            "_model_module_version": "1.2.0",
            "_model_name": "LayoutModel",
            "_view_count": null,
            "_view_module": "@jupyter-widgets/base",
            "_view_module_version": "1.2.0",
            "_view_name": "LayoutView",
            "align_content": null,
            "align_items": null,
            "align_self": null,
            "border": null,
            "bottom": null,
            "display": null,
            "flex": null,
            "flex_flow": null,
            "grid_area": null,
            "grid_auto_columns": null,
            "grid_auto_flow": null,
            "grid_auto_rows": null,
            "grid_column": null,
            "grid_gap": null,
            "grid_row": null,
            "grid_template_areas": null,
            "grid_template_columns": null,
            "grid_template_rows": null,
            "height": null,
            "justify_content": null,
            "justify_items": null,
            "left": null,
            "margin": null,
            "max_height": null,
            "max_width": null,
            "min_height": null,
            "min_width": null,
            "object_fit": null,
            "object_position": null,
            "order": null,
            "overflow": null,
            "overflow_x": null,
            "overflow_y": null,
            "padding": null,
            "right": null,
            "top": null,
            "visibility": null,
            "width": null
          }
        },
        "10e3f1d86d334dcc9c38cff04a1efa33": {
          "model_module": "@jupyter-widgets/controls",
          "model_name": "DescriptionStyleModel",
          "model_module_version": "1.5.0",
          "state": {
            "_model_module": "@jupyter-widgets/controls",
            "_model_module_version": "1.5.0",
            "_model_name": "DescriptionStyleModel",
            "_view_count": null,
            "_view_module": "@jupyter-widgets/base",
            "_view_module_version": "1.2.0",
            "_view_name": "StyleView",
            "description_width": ""
          }
        },
        "e9ea27d7cd3745f890aa5c1a28f12d86": {
          "model_module": "@jupyter-widgets/base",
          "model_name": "LayoutModel",
          "model_module_version": "1.2.0",
          "state": {
            "_model_module": "@jupyter-widgets/base",
            "_model_module_version": "1.2.0",
            "_model_name": "LayoutModel",
            "_view_count": null,
            "_view_module": "@jupyter-widgets/base",
            "_view_module_version": "1.2.0",
            "_view_name": "LayoutView",
            "align_content": null,
            "align_items": null,
            "align_self": null,
            "border": null,
            "bottom": null,
            "display": null,
            "flex": null,
            "flex_flow": null,
            "grid_area": null,
            "grid_auto_columns": null,
            "grid_auto_flow": null,
            "grid_auto_rows": null,
            "grid_column": null,
            "grid_gap": null,
            "grid_row": null,
            "grid_template_areas": null,
            "grid_template_columns": null,
            "grid_template_rows": null,
            "height": null,
            "justify_content": null,
            "justify_items": null,
            "left": null,
            "margin": null,
            "max_height": null,
            "max_width": null,
            "min_height": null,
            "min_width": null,
            "object_fit": null,
            "object_position": null,
            "order": null,
            "overflow": null,
            "overflow_x": null,
            "overflow_y": null,
            "padding": null,
            "right": null,
            "top": null,
            "visibility": null,
            "width": null
          }
        },
        "4f32aedcfdc3440c88c341ed70b3c848": {
          "model_module": "@jupyter-widgets/controls",
          "model_name": "ProgressStyleModel",
          "model_module_version": "1.5.0",
          "state": {
            "_model_module": "@jupyter-widgets/controls",
            "_model_module_version": "1.5.0",
            "_model_name": "ProgressStyleModel",
            "_view_count": null,
            "_view_module": "@jupyter-widgets/base",
            "_view_module_version": "1.2.0",
            "_view_name": "StyleView",
            "bar_color": null,
            "description_width": ""
          }
        },
        "3dcde2a96f0f4cacbb49886ce23a8056": {
          "model_module": "@jupyter-widgets/base",
          "model_name": "LayoutModel",
          "model_module_version": "1.2.0",
          "state": {
            "_model_module": "@jupyter-widgets/base",
            "_model_module_version": "1.2.0",
            "_model_name": "LayoutModel",
            "_view_count": null,
            "_view_module": "@jupyter-widgets/base",
            "_view_module_version": "1.2.0",
            "_view_name": "LayoutView",
            "align_content": null,
            "align_items": null,
            "align_self": null,
            "border": null,
            "bottom": null,
            "display": null,
            "flex": null,
            "flex_flow": null,
            "grid_area": null,
            "grid_auto_columns": null,
            "grid_auto_flow": null,
            "grid_auto_rows": null,
            "grid_column": null,
            "grid_gap": null,
            "grid_row": null,
            "grid_template_areas": null,
            "grid_template_columns": null,
            "grid_template_rows": null,
            "height": null,
            "justify_content": null,
            "justify_items": null,
            "left": null,
            "margin": null,
            "max_height": null,
            "max_width": null,
            "min_height": null,
            "min_width": null,
            "object_fit": null,
            "object_position": null,
            "order": null,
            "overflow": null,
            "overflow_x": null,
            "overflow_y": null,
            "padding": null,
            "right": null,
            "top": null,
            "visibility": null,
            "width": null
          }
        },
        "f1a2fe238bbe4fa0a9d4cb6935c9e392": {
          "model_module": "@jupyter-widgets/controls",
          "model_name": "DescriptionStyleModel",
          "model_module_version": "1.5.0",
          "state": {
            "_model_module": "@jupyter-widgets/controls",
            "_model_module_version": "1.5.0",
            "_model_name": "DescriptionStyleModel",
            "_view_count": null,
            "_view_module": "@jupyter-widgets/base",
            "_view_module_version": "1.2.0",
            "_view_name": "StyleView",
            "description_width": ""
          }
        }
      }
    }
  },
  "nbformat": 4,
  "nbformat_minor": 0
}