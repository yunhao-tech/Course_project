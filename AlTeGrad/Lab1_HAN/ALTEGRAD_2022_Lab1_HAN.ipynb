{
  "cells": [
    {
      "cell_type": "markdown",
      "metadata": {
        "id": "MuVouapRmjEW"
      },
      "source": [
        "<center><h2>ALTeGraD 2022<br>Lab Session 1: HAN</h2><h3>Hierarchical Attention Network Using GRU</h3> 27 / 10 / 2022<br> M. Kamal Eddine, H. Abdine<br><br>\n",
        "\n",
        "\n",
        "<b>Student name: Yunhao CHEN</b> \n",
        "\n",
        "\n",
        "</center>\n",
        "In this lab, you will get familiar with recurrent neural networks (RNNs), self-attention, and the HAN architecture <b>(Yang et al. 2016)</b> using PyTorch. In this architecture, sentence embeddings are first individually produced, and a document embedding is then computed from the sentence embeddings.<br>\n",
        "<b>The deadline for this lab is November 14, 2022 11:59 PM.</b> More details about the submission and the architecture for this lab can be found in the handout PDF.\n"
      ]
    },
    {
      "cell_type": "markdown",
      "metadata": {
        "id": "xJaSJaIP1xRy"
      },
      "source": [
        "### = = = = =  Attention Layer = = = = =\n",
        "In thi section, you will fill the gaps in the code to implement the self-attention layer. This layer will be used later to define the HAN architecture. The basic idea behind attention is that rather than considering the last annotation $h_T$ as a summary of the entire sequence, which is prone to information loss, the annotations at <i>all</i> time steps are used.\n",
        "The self-attention mechanism computes a weighted sum of the annotations, where the weights are determined by trainable parameters. Refer to <b>section 2.2</b> in the handout for the theoretical part, it will be needed to finish the first task.\n",
        "\n",
        "#### <b>Task 1:</b>"
      ]
    },
    {
      "cell_type": "code",
      "execution_count": 1,
      "metadata": {
        "id": "yoM7H0KQncpF"
      },
      "outputs": [],
      "source": [
        "import torch\n",
        "from torch import nn\n",
        "from torch.utils.data import DataLoader\n",
        "\n",
        "class AttentionWithContext(nn.Module):\n",
        "    \"\"\"\n",
        "    Follows the work of Yang et al. [https://www.cs.cmu.edu/~diyiy/docs/naacl16.pdf]\n",
        "    \"Hierarchical Attention Networks for Document Classification\"\n",
        "    by using a context vector to assist the attention\n",
        "    # Input shape\n",
        "        3D tensor with shape: `(samples, steps, features)`.\n",
        "    # Output shape\n",
        "        2D tensor with shape: `(samples, features)`.\n",
        "    \"\"\"\n",
        "    \n",
        "    def __init__(self, input_shape, return_coefficients=False, bias=True):\n",
        "        super(AttentionWithContext, self).__init__()\n",
        "        self.return_coefficients = return_coefficients\n",
        "\n",
        "        self.W = nn.Linear(input_shape, input_shape, bias=bias)\n",
        "        self.tanh = nn.Tanh()\n",
        "        self.u = nn.Linear(input_shape, 1, bias=False)\n",
        "\n",
        "        self.init_weights()\n",
        "\n",
        "    def init_weights(self):\n",
        "        initrange = 0.1\n",
        "        self.W.weight.data.uniform_(-initrange, initrange)\n",
        "        self.W.bias.data.uniform_(-initrange, initrange)\n",
        "        self.u.weight.data.uniform_(-initrange, initrange)\n",
        "    \n",
        "    def generate_square_subsequent_mask(self, sz):\n",
        "        # do not pass the mask to the next layers\n",
        "        mask = (torch.triu(torch.ones(sz, sz)) == 1).transpose(0, 1)\n",
        "        mask = (\n",
        "            mask.float()\n",
        "            .masked_fill(mask == 0, float(\"-inf\"))\n",
        "            .masked_fill(mask == 1, float(0.0))\n",
        "        )\n",
        "        return mask\n",
        "    \n",
        "    def forward(self, x, mask=None):\n",
        "        uit = self.W(x) # compute uit = W . x  where x represents H=[h1, h2, ..., h_n]\n",
        "        uit = self.tanh(uit)\n",
        "        ait = self.u(uit)\n",
        "        a = torch.exp(ait)\n",
        "        \n",
        "        # apply mask after the exp. will be re-normalized next\n",
        "        if mask is not None:\n",
        "            a = a*mask.double()\n",
        "        \n",
        "        # in some cases especially in the early stages of training the sum may be almost zero\n",
        "        # and this results in NaN's. A workaround is to add a very small positive number ε to the sum.\n",
        "        eps = 1e-9\n",
        "        a = a / (torch.sum(a, axis=1, keepdim=True) + eps)\n",
        "        weighted_input = x * a # compute the attentional vector\n",
        "        if self.return_coefficients:\n",
        "            return torch.sum(weighted_input, dim=1), a ### [attentional vector, coefficients] ### use torch.sum to compute s\n",
        "        else:\n",
        "            return torch.sum(weighted_input, dim=1) ### attentional vector only ###"
      ]
    },
    {
      "cell_type": "markdown",
      "metadata": {
        "id": "DgTP6GrOHlss"
      },
      "source": [
        "### = = = = = Parameters = = = = =\n",
        "In this section, we define the parameters to use in our training. Such as data path, the embedding dimention <b>d</b>, the GRU layer dimensionality <b>n_units</b>, etc..<br>\n",
        "The parameter <b>device</b> is used to train the model on GPU if it is available. for this purpose, if you are using Google Colab, switch your runtime to a GPU runtime to train the model with a maximum speed.<br>\n",
        "<b>Bonus question:</b> What is the purpose of the parameter <i>my_patience</i>?"
      ]
    },
    {
      "cell_type": "code",
      "execution_count": 2,
      "metadata": {
        "id": "czsVjxgYnczb"
      },
      "outputs": [],
      "source": [
        "import sys\n",
        "import json\n",
        "import operator\n",
        "import numpy as np\n",
        "\n",
        "path_root = ''\n",
        "path_to_data = path_root + 'data/'\n",
        "\n",
        "d = 30 # dimensionality of word embeddings\n",
        "n_units = 50 # RNN layer dimensionality\n",
        "drop_rate = 0.5 # dropout\n",
        "mfw_idx = 2 # index of the most frequent words in the dictionary \n",
        "            # 0 is for the special padding token\n",
        "            # 1 is for the special out-of-vocabulary token\n",
        "\n",
        "padding_idx = 0\n",
        "oov_idx = 1\n",
        "batch_size = 64\n",
        "nb_epochs = 15\n",
        "my_patience = 2 # for early stopping strategy\n",
        "device = torch.device(\"cuda\" if torch.cuda.is_available() else \"cpu\")"
      ]
    },
    {
      "cell_type": "markdown",
      "metadata": {
        "id": "K8Vot_C7Hlst"
      },
      "source": [
        "### = = = = = Data Loading = = = = =\n",
        "In this section we will use first <b>wget</b> to download the data the we will load it using numpy in the first cell. While in the second cell, we will use these data to define our Pytorch data loader. Note that the data is already preprocessed, tokenized and padded.<br><br>\n",
        "<b>Note: if you are running your notebook on Windows or on MacOS, <i>wget</i> will probably not work if you did not install it manually. In this case, use the provided link to download the data and change the <i>path_to_data</i> in the <i>Parameters</i> section accordingly. Otherwise, you will face no problem on Ubuntu and Google Colab.</b>\n",
        "\n",
        "#### <b>Task 2.1:</b>"
      ]
    },
    {
      "cell_type": "code",
      "execution_count": 3,
      "metadata": {
        "colab": {
          "base_uri": "https://localhost:8080/"
        },
        "id": "UD6hRh0OHlst",
        "outputId": "15330ea2-5d96-490d-a8fe-4c13501b336d"
      },
      "outputs": [
        {
          "output_type": "stream",
          "name": "stdout",
          "text": [
            "--2022-11-05 20:57:24--  https://onedrive.live.com/download?cid=AE69638675180117&resid=AE69638675180117%2199289&authkey=AHgxt3xmgG0Fu5A\n",
            "Resolving onedrive.live.com (onedrive.live.com)... 13.107.42.13\n",
            "Connecting to onedrive.live.com (onedrive.live.com)|13.107.42.13|:443... connected.\n",
            "HTTP request sent, awaiting response... 302 Found\n",
            "Location: https://vqtlqw.am.files.1drv.com/y4m93YJQ9wTYZuH0ynKDx__huulwL08oilOb9rgsN9iBy19YFvKwJYdtr-mWMBy_reMl-9qiF4pySKBGbQ1vtwJEhZXo1n6kOOwcWnOO7vMC4NaI7Qsmci59jF_d7uPeCXps4JFlZWcO_C2jchg0Gjl_ECreBxuAju7G-BxfgLzMo7j5kIQv31amCUhUsgF5gxqX_REHnZ6jtKU9lXr_rVNXg/data.zip?download&psid=1 [following]\n",
            "--2022-11-05 20:57:25--  https://vqtlqw.am.files.1drv.com/y4m93YJQ9wTYZuH0ynKDx__huulwL08oilOb9rgsN9iBy19YFvKwJYdtr-mWMBy_reMl-9qiF4pySKBGbQ1vtwJEhZXo1n6kOOwcWnOO7vMC4NaI7Qsmci59jF_d7uPeCXps4JFlZWcO_C2jchg0Gjl_ECreBxuAju7G-BxfgLzMo7j5kIQv31amCUhUsgF5gxqX_REHnZ6jtKU9lXr_rVNXg/data.zip?download&psid=1\n",
            "Resolving vqtlqw.am.files.1drv.com (vqtlqw.am.files.1drv.com)... 13.107.42.12\n",
            "Connecting to vqtlqw.am.files.1drv.com (vqtlqw.am.files.1drv.com)|13.107.42.12|:443... connected.\n",
            "HTTP request sent, awaiting response... 200 OK\n",
            "Length: 12650196 (12M) [application/zip]\n",
            "Saving to: ‘data.zip’\n",
            "\n",
            "data.zip            100%[===================>]  12.06M  6.69MB/s    in 1.8s    \n",
            "\n",
            "2022-11-05 20:57:29 (6.69 MB/s) - ‘data.zip’ saved [12650196/12650196]\n",
            "\n",
            "Archive:  data.zip\n",
            "   creating: data/\n",
            "  inflating: __MACOSX/._data         \n",
            "  inflating: data/labels_train.npy   \n",
            "  inflating: __MACOSX/data/._labels_train.npy  \n",
            "  inflating: data/docs_test.npy      \n",
            "  inflating: __MACOSX/data/._docs_test.npy  \n",
            "  inflating: data/labels_test.npy    \n",
            "  inflating: __MACOSX/data/._labels_test.npy  \n",
            "  inflating: data/word_to_index.json  \n",
            "  inflating: __MACOSX/data/._word_to_index.json  \n",
            "  inflating: data/docs_train.npy     \n",
            "  inflating: __MACOSX/data/._docs_train.npy  \n"
          ]
        }
      ],
      "source": [
        "!wget -c \"https://onedrive.live.com/download?cid=AE69638675180117&resid=AE69638675180117%2199289&authkey=AHgxt3xmgG0Fu5A\" -O \"data.zip\"\n",
        "!unzip data.zip\n",
        "\n",
        "my_docs_array_train = np.load(path_to_data + 'docs_train.npy')\n",
        "my_docs_array_test = np.load(path_to_data + 'docs_test.npy')\n",
        "\n",
        "my_labels_array_train = np.load(path_to_data + 'labels_train.npy')\n",
        "my_labels_array_test = np.load(path_to_data + 'labels_test.npy')\n",
        "\n",
        "# load dictionary of word indexes (sorted by decreasing frequency across the corpus)\n",
        "with open(path_to_data + 'word_to_index.json', 'r') as my_file:\n",
        "    word_to_index = json.load(my_file)\n",
        "\n",
        "# invert mapping\n",
        "index_to_word = {value:key for (key,value) in word_to_index.items()}  ### fill the gap (use a dict comprehension) ###\n",
        "input_size = my_docs_array_train.shape"
      ]
    },
    {
      "cell_type": "code",
      "execution_count": 4,
      "metadata": {
        "id": "DpsCvmaiJfZc"
      },
      "outputs": [],
      "source": [
        "import numpy\n",
        "import torch\n",
        "from torch.utils.data import DataLoader, Dataset\n",
        "\n",
        "\n",
        "class Dataset_(Dataset):\n",
        "    def __init__(self, x, y):\n",
        "        self.documents = x\n",
        "        self.labels = y\n",
        "\n",
        "    def __len__(self):\n",
        "        return len(self.documents)\n",
        "\n",
        "    def __getitem__(self, index):\n",
        "        document = self.documents[index]\n",
        "        label = self.labels[index] \n",
        "        sample = {\n",
        "            \"document\": torch.tensor(document),\n",
        "            \"label\": torch.tensor(label),\n",
        "            }\n",
        "        return sample\n",
        "\n",
        "\n",
        "def get_loader(x, y, batch_size=32):\n",
        "    dataset = Dataset_(x, y)\n",
        "    data_loader = DataLoader(dataset=dataset,\n",
        "                            batch_size=batch_size,\n",
        "                            shuffle=True,\n",
        "                            pin_memory=True,\n",
        "                            drop_last=True,\n",
        "                            )\n",
        "    return data_loader"
      ]
    },
    {
      "cell_type": "markdown",
      "metadata": {
        "id": "6rzqEGOdHlst"
      },
      "source": [
        "### = = = = = Defining Architecture = = = = =\n",
        "In this section, we define the HAN architecture. We start with <i>AttentionBiGRU</i> module in order to define the sentence encoder (check Figure 3 in the handout). Then, we define the <i>TimeDistributed</i> module to allow us to forward our input (batch of document) as to the sentence encoder as <b>batch of sentences</b>, where each sentence in the document will be considered as a time step. This module also reshape the output to a batch of timesteps representations per document. Finally we define the <b>HAN</b> architecture using <i>TimeDistributed</i>, <i>AttentionWithContext</i> and <i>GRU</i>.\n",
        "\n",
        "#### <b>Task 2.2:</b>"
      ]
    },
    {
      "cell_type": "code",
      "execution_count": 5,
      "metadata": {
        "id": "AMj9j1_pHlst"
      },
      "outputs": [],
      "source": [
        "\n",
        "class AttentionBiGRU(nn.Module):\n",
        "    def __init__(self, input_shape, n_units, index_to_word, dropout=0):\n",
        "        super(AttentionBiGRU, self).__init__()\n",
        "        self.embedding = nn.Embedding(len(word_to_index)+2, # fill the gap # vocab size\n",
        "                                      d, # dimensionality of embedding space\n",
        "                                      padding_idx=0)\n",
        "        self.dropout = nn.Dropout(drop_rate)\n",
        "        self.gru = nn.GRU(input_size=d, # the size of x_i (i.e. the size of embedding)\n",
        "                          hidden_size=n_units,\n",
        "                          num_layers=1,\n",
        "                          bias=True,\n",
        "                          batch_first=True,\n",
        "                          bidirectional=True)\n",
        "        self.attention = AttentionWithContext(n_units*2,   # fill the gap # the input shape for the attention layer\n",
        "                                              return_coefficients=True)\n",
        "\n",
        "\n",
        "    def forward(self, sent_ints):\n",
        "        sent_wv = self.embedding(sent_ints)\n",
        "        sent_wv_dr = self.dropout(sent_wv)\n",
        "        sent_wa, _ = self.gru(sent_wv_dr) # fill the gap # RNN layer\n",
        "        sent_att_vec, word_att_coeffs = self.attention(sent_wa) # fill the gap # attentional vector for the sent\n",
        "        sent_att_vec_dr = self.dropout(sent_att_vec)     \n",
        "        return sent_att_vec_dr, word_att_coeffs\n",
        "\n",
        "class TimeDistributed(nn.Module):\n",
        "    def __init__(self, module, batch_first=False):\n",
        "        super(TimeDistributed, self).__init__()\n",
        "        self.module = module\n",
        "        self.batch_first = batch_first\n",
        "\n",
        "    def forward(self, x):\n",
        "        if len(x.size()) <= 2:\n",
        "            return self.module(x)\n",
        "        # Squash samples and timesteps into a single axis\n",
        "        x_reshape = x.contiguous().view(-1, x.size(-1))  # (samples * timesteps, input_size) (224, 30)\n",
        "        sent_att_vec_dr, word_att_coeffs = self.module(x_reshape)\n",
        "        # We have to reshape the output\n",
        "        if self.batch_first:\n",
        "            sent_att_vec_dr = sent_att_vec_dr.contiguous().view(x.size(0), -1, sent_att_vec_dr.size(-1))  # (samples, timesteps, output_size)\n",
        "            word_att_coeffs = word_att_coeffs.contiguous().view(x.size(0), -1, word_att_coeffs.size(-1))  # (samples, timesteps, output_size)\n",
        "        else:\n",
        "            sent_att_vec_dr = sent_att_vec_dr.view(-1, x.size(1), sent_att_vec_dr.size(-1))  # (timesteps, samples, output_size)\n",
        "            word_att_coeffs = word_att_coeffs.view(-1, x.size(1), word_att_coeffs.size(-1))  # (timesteps, samples, output_size)\n",
        "        return sent_att_vec_dr, word_att_coeffs      \n",
        "\n",
        "class HAN(nn.Module):\n",
        "    def __init__(self, input_shape, n_units, index_to_word, dropout=0):\n",
        "        super(HAN, self).__init__()\n",
        "        self.encoder = AttentionBiGRU(input_shape, n_units, index_to_word, dropout)\n",
        "        self.timeDistributed = TimeDistributed(self.encoder, True)\n",
        "        self.dropout = nn.Dropout(drop_rate)\n",
        "        self.gru = nn.GRU(input_size=n_units*2,# fill the gap # the input shape of GRU layer\n",
        "                          hidden_size=n_units,\n",
        "                          num_layers=1,\n",
        "                          bias=True,\n",
        "                          batch_first=True,\n",
        "                          bidirectional=True)\n",
        "        self.attention = AttentionWithContext(n_units*2, # fill the gap # the input shape of between-sentence attention layer\n",
        "                                              return_coefficients=True)\n",
        "        self.lin_out = nn.Linear(n_units*2,   # fill the gap # the input size of the last linear layer\n",
        "                                 1)\n",
        "        self.preds = nn.Sigmoid()\n",
        "\n",
        "    def forward(self, doc_ints):\n",
        "        sent_att_vecs_dr, word_att_coeffs = self.timeDistributed(doc_ints) # fill the gap # get sentence representation\n",
        "        doc_sa, _ = self.gru(sent_att_vecs_dr)\n",
        "        doc_att_vec, sent_att_coeffs = self.attention(doc_sa)\n",
        "        doc_att_vec_dr = self.dropout(doc_att_vec)\n",
        "        doc_att_vec_dr = self.lin_out(doc_att_vec_dr)\n",
        "        return self.preds(doc_att_vec_dr), word_att_coeffs, sent_att_coeffs\n"
      ]
    },
    {
      "cell_type": "markdown",
      "metadata": {
        "id": "sgreR5AcHlst"
      },
      "source": [
        "### = = = = = Training = = = = =\n",
        "In this section, we have two code cells. In the first one, we define our evaluation function to compute the training and validation accuracies. While in the second one, we define our model, loss and optimizer and train the model over <i>nb_epochs</i>.<br>\n",
        "<b>Bonus task:</b> use <a href=\"https://pytorch.org/tutorials/recipes/recipes/tensorboard_with_pytorch.html\" target=\"_blank\">tensorboard</a> to visualize the loss and the validation accuray during the training.\n",
        "\n",
        "#### <b>Task 2.3:</b>"
      ]
    },
    {
      "cell_type": "markdown",
      "source": [
        "## Use Tensorboard"
      ],
      "metadata": {
        "id": "BCaRgebFmP1-"
      }
    },
    {
      "cell_type": "code",
      "source": [
        "from torch.utils.tensorboard import SummaryWriter\n",
        "writer = SummaryWriter()"
      ],
      "metadata": {
        "id": "ymzD7Ji4mGQ1"
      },
      "execution_count": 9,
      "outputs": []
    },
    {
      "cell_type": "code",
      "execution_count": 6,
      "metadata": {
        "id": "ztF2Lkie-C25"
      },
      "outputs": [],
      "source": [
        "def evaluate_accuracy(data_loader, verbose=True):\n",
        "    model.eval()\n",
        "    total_loss = 0.0\n",
        "    ncorrect = ntotal = 0\n",
        "    with torch.no_grad():\n",
        "        for idx, data in enumerate(data_loader):\n",
        "            # inference \n",
        "            output = model(data[\"document\"].to(device))[0] \n",
        "            output = output[:, -1] # only last vector\n",
        "            # total number of examples\n",
        "            ntotal +=  output.shape[0]\n",
        "            # number of correct predictions \n",
        "            predictions = torch.round(output)\n",
        "            ncorrect += torch.sum(data[\"label\"].to(device) == predictions) #fill me # number of correct prediction - hint: use torch.sum \n",
        "        acc = ncorrect.item() / ntotal\n",
        "        if verbose:\n",
        "          print(\"validation accuracy: {:3.2f}\".format(acc*100))\n",
        "        return acc"
      ]
    },
    {
      "cell_type": "code",
      "execution_count": 11,
      "metadata": {
        "colab": {
          "base_uri": "https://localhost:8080/"
        },
        "id": "RRYiKhZEEidb",
        "outputId": "f1b7d3ff-0685-41ae-80d7-26aa5478f7b7"
      },
      "outputs": [
        {
          "output_type": "stream",
          "name": "stderr",
          "text": [
            "Epoch 1: 100%|██████████| 390/390 [00:24<00:00, 15.88batch/s, accuracy=59.2, loss=0.661]\n"
          ]
        },
        {
          "output_type": "stream",
          "name": "stdout",
          "text": [
            "===> Epoch 1 Complete: Avg. Loss: 0.6611, Validation Accuracy: 69.25%\n",
            "Validation accuracy improved, saving model...\n",
            "\n"
          ]
        },
        {
          "output_type": "stream",
          "name": "stderr",
          "text": [
            "Epoch 2: 100%|██████████| 390/390 [00:23<00:00, 16.41batch/s, accuracy=70.9, loss=0.564]\n"
          ]
        },
        {
          "output_type": "stream",
          "name": "stdout",
          "text": [
            "===> Epoch 2 Complete: Avg. Loss: 0.5639, Validation Accuracy: 76.54%\n",
            "Validation accuracy improved, saving model...\n",
            "\n"
          ]
        },
        {
          "output_type": "stream",
          "name": "stderr",
          "text": [
            "Epoch 3: 100%|██████████| 390/390 [00:23<00:00, 16.46batch/s, accuracy=75.1, loss=0.506]\n"
          ]
        },
        {
          "output_type": "stream",
          "name": "stdout",
          "text": [
            "===> Epoch 3 Complete: Avg. Loss: 0.5064, Validation Accuracy: 77.59%\n",
            "Validation accuracy improved, saving model...\n",
            "\n"
          ]
        },
        {
          "output_type": "stream",
          "name": "stderr",
          "text": [
            "Epoch 4: 100%|██████████| 390/390 [00:23<00:00, 16.62batch/s, accuracy=78, loss=0.464]\n"
          ]
        },
        {
          "output_type": "stream",
          "name": "stdout",
          "text": [
            "===> Epoch 4 Complete: Avg. Loss: 0.4636, Validation Accuracy: 80.56%\n",
            "Validation accuracy improved, saving model...\n",
            "\n"
          ]
        },
        {
          "output_type": "stream",
          "name": "stderr",
          "text": [
            "Epoch 5: 100%|██████████| 390/390 [00:23<00:00, 16.65batch/s, accuracy=80.6, loss=0.426]\n"
          ]
        },
        {
          "output_type": "stream",
          "name": "stdout",
          "text": [
            "===> Epoch 5 Complete: Avg. Loss: 0.4262, Validation Accuracy: 81.69%\n",
            "Validation accuracy improved, saving model...\n",
            "\n"
          ]
        },
        {
          "output_type": "stream",
          "name": "stderr",
          "text": [
            "Epoch 6: 100%|██████████| 390/390 [00:23<00:00, 16.68batch/s, accuracy=82, loss=0.402]\n"
          ]
        },
        {
          "output_type": "stream",
          "name": "stdout",
          "text": [
            "===> Epoch 6 Complete: Avg. Loss: 0.4018, Validation Accuracy: 82.75%\n",
            "Validation accuracy improved, saving model...\n",
            "\n"
          ]
        },
        {
          "output_type": "stream",
          "name": "stderr",
          "text": [
            "Epoch 7: 100%|██████████| 390/390 [00:23<00:00, 16.67batch/s, accuracy=83, loss=0.38]\n"
          ]
        },
        {
          "output_type": "stream",
          "name": "stdout",
          "text": [
            "===> Epoch 7 Complete: Avg. Loss: 0.3802, Validation Accuracy: 82.96%\n",
            "Validation accuracy improved, saving model...\n",
            "\n"
          ]
        },
        {
          "output_type": "stream",
          "name": "stderr",
          "text": [
            "Epoch 8: 100%|██████████| 390/390 [00:23<00:00, 16.66batch/s, accuracy=84.4, loss=0.358]\n"
          ]
        },
        {
          "output_type": "stream",
          "name": "stdout",
          "text": [
            "===> Epoch 8 Complete: Avg. Loss: 0.3576, Validation Accuracy: 83.94%\n",
            "Validation accuracy improved, saving model...\n",
            "\n"
          ]
        },
        {
          "output_type": "stream",
          "name": "stderr",
          "text": [
            "Epoch 9: 100%|██████████| 390/390 [00:23<00:00, 16.52batch/s, accuracy=85.4, loss=0.337]\n"
          ]
        },
        {
          "output_type": "stream",
          "name": "stdout",
          "text": [
            "===> Epoch 9 Complete: Avg. Loss: 0.3366, Validation Accuracy: 83.77%\n"
          ]
        },
        {
          "output_type": "stream",
          "name": "stderr",
          "text": [
            "Epoch 10: 100%|██████████| 390/390 [00:23<00:00, 16.58batch/s, accuracy=85.7, loss=0.33]\n"
          ]
        },
        {
          "output_type": "stream",
          "name": "stdout",
          "text": [
            "===> Epoch 10 Complete: Avg. Loss: 0.3304, Validation Accuracy: 84.34%\n",
            "Validation accuracy improved, saving model...\n",
            "\n"
          ]
        },
        {
          "output_type": "stream",
          "name": "stderr",
          "text": [
            "Epoch 11: 100%|██████████| 390/390 [00:23<00:00, 16.57batch/s, accuracy=86.5, loss=0.315]\n"
          ]
        },
        {
          "output_type": "stream",
          "name": "stdout",
          "text": [
            "===> Epoch 11 Complete: Avg. Loss: 0.3149, Validation Accuracy: 84.32%\n"
          ]
        },
        {
          "output_type": "stream",
          "name": "stderr",
          "text": [
            "Epoch 12: 100%|██████████| 390/390 [00:23<00:00, 16.60batch/s, accuracy=87.3, loss=0.301]\n"
          ]
        },
        {
          "output_type": "stream",
          "name": "stdout",
          "text": [
            "===> Epoch 12 Complete: Avg. Loss: 0.3008, Validation Accuracy: 84.73%\n",
            "Validation accuracy improved, saving model...\n",
            "\n"
          ]
        },
        {
          "output_type": "stream",
          "name": "stderr",
          "text": [
            "Epoch 13: 100%|██████████| 390/390 [00:23<00:00, 16.66batch/s, accuracy=87.8, loss=0.291]\n"
          ]
        },
        {
          "output_type": "stream",
          "name": "stdout",
          "text": [
            "===> Epoch 13 Complete: Avg. Loss: 0.2912, Validation Accuracy: 84.68%\n"
          ]
        },
        {
          "output_type": "stream",
          "name": "stderr",
          "text": [
            "Epoch 14: 100%|██████████| 390/390 [00:23<00:00, 16.65batch/s, accuracy=88.3, loss=0.277]\n"
          ]
        },
        {
          "output_type": "stream",
          "name": "stdout",
          "text": [
            "===> Epoch 14 Complete: Avg. Loss: 0.2771, Validation Accuracy: 84.82%\n",
            "Validation accuracy improved, saving model...\n",
            "\n"
          ]
        },
        {
          "output_type": "stream",
          "name": "stderr",
          "text": [
            "Epoch 15: 100%|██████████| 390/390 [00:23<00:00, 16.63batch/s, accuracy=89.2, loss=0.267]\n"
          ]
        },
        {
          "output_type": "stream",
          "name": "stdout",
          "text": [
            "===> Epoch 15 Complete: Avg. Loss: 0.2668, Validation Accuracy: 84.94%\n",
            "Validation accuracy improved, saving model...\n",
            "\n",
            "Loading best checkpoint...\n",
            "done.\n"
          ]
        }
      ],
      "source": [
        "from tqdm import tqdm\n",
        "\n",
        "model = HAN(input_size, n_units, index_to_word).to(device)\n",
        "model = model.double()\n",
        "lr = 0.001  # learning rate\n",
        "criterion = nn.BCELoss() # fill the gap, use Binary cross entropy from torch.nn: https://pytorch.org/docs/stable/nn.html#loss-functions\n",
        "optimizer = torch.optim.Adam(model.parameters(), lr=lr) #fill me\n",
        "\n",
        "def train(x_train=my_docs_array_train,\n",
        "          y_train=my_labels_array_train,\n",
        "          x_test=my_docs_array_test,\n",
        "          y_test=my_labels_array_test,\n",
        "          word_dict=index_to_word,\n",
        "          batch_size=batch_size):\n",
        "  \n",
        "    train_data = get_loader(x_train, y_train, batch_size)\n",
        "    test_data = get_loader(my_docs_array_test, my_labels_array_test, batch_size)\n",
        "\n",
        "    best_validation_acc = 0.0\n",
        "    p = 0 # patience\n",
        "\n",
        "    for epoch in range(1, nb_epochs + 1): \n",
        "        losses = []\n",
        "        accuracies = []\n",
        "        with tqdm(train_data, unit=\"batch\") as tepoch:\n",
        "            for idx, data in enumerate(tepoch):\n",
        "                tepoch.set_description(f\"Epoch {epoch}\")\n",
        "                model.train()\n",
        "                optimizer.zero_grad()\n",
        "                input = data['document'].to(device)\n",
        "                label = data['label'].to(device)\n",
        "                label = label.double()\n",
        "                output = model.forward(input)[0]\n",
        "                output = output[:, -1]\n",
        "                loss = criterion(output, label)# fill the gap # compute the loss\n",
        "                writer.add_scalar(\"Loss/train\", loss, epoch)\n",
        "                loss.backward()\n",
        "                torch.nn.utils.clip_grad_norm_(model.parameters(), 0.5) # prevent exploding gradient \n",
        "                optimizer.step()\n",
        "\n",
        "                losses.append(loss.item())\n",
        "                accuracy = torch.sum(torch.round(output) == label).item() / batch_size\n",
        "                writer.add_scalar(\"Acc/val\", accuracy, epoch)\n",
        "                accuracies.append(accuracy)\n",
        "                tepoch.set_postfix(loss=sum(losses)/len(losses), accuracy=100. * sum(accuracies)/len(accuracies))\n",
        "\n",
        "        # train_acc = evaluate_accuracy(train_data, False)\n",
        "        test_acc = evaluate_accuracy(test_data, False)\n",
        "        print(\"===> Epoch {} Complete: Avg. Loss: {:.4f}, Validation Accuracy: {:3.2f}%\"\n",
        "              .format(epoch, sum(losses)/len(losses), 100.*test_acc))\n",
        "        if test_acc >= best_validation_acc:\n",
        "            best_validation_acc = test_acc\n",
        "            print(\"Validation accuracy improved, saving model...\")\n",
        "            torch.save(model.state_dict(), './best_model.pt')\n",
        "            p = 0\n",
        "            print()\n",
        "        else:\n",
        "            p += 1\n",
        "            if p==my_patience:\n",
        "                print(\"Validation accuracy did not improve for {} epochs, stopping training...\".format(my_patience))\n",
        "    print(\"Loading best checkpoint...\")    \n",
        "    model.load_state_dict(torch.load('./best_model.pt'))\n",
        "    model.eval()\n",
        "    print('done.')\n",
        "\n",
        "train()\n",
        "writer.flush()\n",
        "writer.close()"
      ]
    },
    {
      "cell_type": "code",
      "source": [
        "!tensorboard --logdir=runs"
      ],
      "metadata": {
        "colab": {
          "base_uri": "https://localhost:8080/"
        },
        "id": "nTH_ITrzmxR9",
        "outputId": "d576a846-995b-4dd6-eddb-cd38d3ab3eb4"
      },
      "execution_count": 12,
      "outputs": [
        {
          "output_type": "stream",
          "name": "stdout",
          "text": [
            "^C\n"
          ]
        }
      ]
    },
    {
      "cell_type": "markdown",
      "metadata": {
        "id": "Dvyr8B5QHlst"
      },
      "source": [
        "### = = = = = Extraction of Attention Coefficients = = = = =\n",
        "In this section, we will extract and display the attention coefficients on two levels: sentence level and word level. To do so, we will extract the corresponding weights from our model.\n",
        "#### <b>Task 3:</b>"
      ]
    },
    {
      "cell_type": "code",
      "execution_count": 13,
      "metadata": {
        "id": "UVr8cS4MHlst"
      },
      "outputs": [],
      "source": [
        "# select last review:\n",
        "my_review = my_docs_array_test[-1:,:,:]\n",
        " \n",
        "# convert integer review to text:\n",
        "index_to_word[1] = 'OOV'\n",
        "my_review_text = [[index_to_word[idx] for idx in sent if idx in index_to_word] for sent in my_review.tolist()[0]]"
      ]
    },
    {
      "cell_type": "markdown",
      "metadata": {
        "id": "wHDJ7JiqHlsu"
      },
      "source": [
        "###   &emsp;&emsp;  = = = = = Attention Over Sentences in the Document = = = = ="
      ]
    },
    {
      "cell_type": "code",
      "execution_count": 14,
      "metadata": {
        "id": "yooWg3kkHlsu",
        "colab": {
          "base_uri": "https://localhost:8080/"
        },
        "outputId": "25e1def7-f494-4873-95bf-598f68b95178"
      },
      "outputs": [
        {
          "output_type": "stream",
          "name": "stdout",
          "text": [
            "9.15 There 's a sign on The Lost Highway that says : OOV SPOILERS OOV ( but you already knew that , did n't you ? )\n",
            "11.47 Since there 's a great deal of people that apparently did not get the point of this movie , I 'd like to contribute my interpretation of why the plot\n",
            "10.76 As others have pointed out , one single viewing of this movie is not sufficient .\n",
            "13.25 If you have the DVD of MD , you can OOV ' by looking at David Lynch 's 'Top 10 OOV to OOV MD ' ( but only upon second\n",
            "24.07 ; ) First of all , Mulholland Drive is downright brilliant .\n",
            "16.37 A masterpiece .\n",
            "14.93 This is the kind of movie that refuse to leave your head .\n"
          ]
        }
      ],
      "source": [
        "sent_coeffs = model(torch.tensor(my_review).to(device))[2] # fill the gap # get sentence attention coeffs by passing the review to the model - (you need to convert the input torch tensor)\n",
        "sent_coeffs = sent_coeffs[0,:,:]\n",
        "\n",
        "for elt in zip(sent_coeffs[:,0].tolist(),[' '.join(elt) for elt in my_review_text]):\n",
        "    print(round(elt[0]*100,2),elt[1])"
      ]
    },
    {
      "cell_type": "markdown",
      "metadata": {
        "id": "rII-DNrKHlsu"
      },
      "source": [
        "### &emsp;&emsp; = = = = = Attention Over Words in Each Sentence = = = = ="
      ]
    },
    {
      "cell_type": "code",
      "execution_count": 15,
      "metadata": {
        "colab": {
          "base_uri": "https://localhost:8080/"
        },
        "id": "JyFjAga6Hlsu",
        "outputId": "27b87cfc-b034-47dd-d6df-d5cf96910b47"
      },
      "outputs": [
        {
          "output_type": "stream",
          "name": "stdout",
          "text": [
            "('There', 0.055110402802831575)\n",
            "(\"'s\", 0.030246759388399762)\n",
            "('a', 0.03210254172458434)\n",
            "('sign', 0.047304527478802996)\n",
            "('on', 0.0427848752841517)\n",
            "('The', 0.03233037737212829)\n",
            "('Lost', 0.030344917087833614)\n",
            "('Highway', 0.029911291274812176)\n",
            "('that', 0.026810493046301027)\n",
            "('says', 0.037933535696471135)\n",
            "(':', 0.03696351146040344)\n",
            "('OOV', 0.025744068153182257)\n",
            "('SPOILERS', 0.025015517741097518)\n",
            "('OOV', 0.02160762686987837)\n",
            "('(', 0.023597924944222234)\n",
            "('but', 0.029854941925489625)\n",
            "('you', 0.03250102810696159)\n",
            "('already', 0.052634088890191555)\n",
            "('knew', 0.03870318030079962)\n",
            "('that', 0.02899501480830363)\n",
            "(',', 0.02998513401516952)\n",
            "('did', 0.038049391832203176)\n",
            "(\"n't\", 0.026207995154172218)\n",
            "('you', 0.0329048602329365)\n",
            "('?', 0.05125108944984746)\n",
            "(')', 0.03152230809688208)\n",
            "= = = =\n",
            "('Since', 0.04761677718796669)\n",
            "('there', 0.028472724069813094)\n",
            "(\"'s\", 0.022371809709029262)\n",
            "('a', 0.026024648229290303)\n",
            "('great', 0.07760858530782763)\n",
            "('deal', 0.04641074330797698)\n",
            "('of', 0.030026680658738633)\n",
            "('people', 0.024726597234518526)\n",
            "('that', 0.023722203058178244)\n",
            "('apparently', 0.029291654204506447)\n",
            "('did', 0.030628116325239284)\n",
            "('not', 0.020694164512457574)\n",
            "('get', 0.0184412635643317)\n",
            "('the', 0.022758080235161068)\n",
            "('point', 0.03819239301111849)\n",
            "('of', 0.022089024867801905)\n",
            "('this', 0.025820437044294035)\n",
            "('movie', 0.03143102280137645)\n",
            "(',', 0.029306511126189767)\n",
            "('I', 0.027643926515449613)\n",
            "(\"'d\", 0.035852557093947794)\n",
            "('like', 0.044713209441313205)\n",
            "('to', 0.05482783623158877)\n",
            "('contribute', 0.06443980472259608)\n",
            "('my', 0.03130681964298547)\n",
            "('interpretation', 0.02662098932421793)\n",
            "('of', 0.024496733814337927)\n",
            "('why', 0.024894688331807295)\n",
            "('the', 0.02596698995370119)\n",
            "('plot', 0.04360300835275111)\n",
            "= = = =\n",
            "('As', 0.05964021107868778)\n",
            "('others', 0.05609454563888526)\n",
            "('have', 0.024192527467074933)\n",
            "('pointed', 0.02472073706367666)\n",
            "('out', 0.031609701310212006)\n",
            "(',', 0.030496154325119713)\n",
            "('one', 0.03376499073409654)\n",
            "('single', 0.05476274883476689)\n",
            "('viewing', 0.06041842946359549)\n",
            "('of', 0.03381782725431975)\n",
            "('this', 0.028440772838514056)\n",
            "('movie', 0.03001358519465632)\n",
            "('is', 0.0261290947124727)\n",
            "('not', 0.044147468799040156)\n",
            "('sufficient', 0.04479304159765326)\n",
            "('.', 0.029456418252458844)\n",
            "= = = =\n",
            "('If', 0.06541786911229024)\n",
            "('you', 0.04508966931583259)\n",
            "('have', 0.0324901756217818)\n",
            "('the', 0.034443221631653684)\n",
            "('DVD', 0.04019554949568504)\n",
            "('of', 0.02657460329616496)\n",
            "('MD', 0.026211945925077907)\n",
            "(',', 0.022033648786550657)\n",
            "('you', 0.025077889891921706)\n",
            "('can', 0.027724470082859796)\n",
            "('OOV', 0.02663149188842254)\n",
            "(\"'\", 0.027711397922640154)\n",
            "('by', 0.026232276805081122)\n",
            "('looking', 0.04250794992699079)\n",
            "('at', 0.029450775027571048)\n",
            "('David', 0.025893824572694974)\n",
            "('Lynch', 0.03321013546383611)\n",
            "(\"'s\", 0.02818141415104992)\n",
            "(\"'Top\", 0.03905473599164586)\n",
            "('10', 0.03512672891887965)\n",
            "('OOV', 0.02600166658022265)\n",
            "('to', 0.029554600015319996)\n",
            "('OOV', 0.02541467783963826)\n",
            "('MD', 0.029893579407907576)\n",
            "(\"'\", 0.0251243819524478)\n",
            "('(', 0.023859031302134782)\n",
            "('but', 0.033760335250146996)\n",
            "('only', 0.03528301551682621)\n",
            "('upon', 0.043476150846455966)\n",
            "('second', 0.06837278730692058)\n",
            "= = = =\n",
            "(';', 0.03024085446927794)\n",
            "(')', 0.028121978726824738)\n",
            "('First', 0.03390572617639679)\n",
            "('of', 0.018184449556011076)\n",
            "('all', 0.01567463870495868)\n",
            "(',', 0.013513593706630408)\n",
            "('Mulholland', 0.01461679310085469)\n",
            "('Drive', 0.03220853006123773)\n",
            "('is', 0.019750444322026734)\n",
            "('downright', 0.3015704637302068)\n",
            "('brilliant', 0.16929120943503068)\n",
            "('.', 0.02988012870287701)\n",
            "= = = =\n",
            "('A', 0.08414695295696269)\n",
            "('masterpiece', 0.17068900551211974)\n",
            "('.', 0.044912959676657975)\n",
            "= = = =\n",
            "('This', 0.021294160976798926)\n",
            "('is', 0.02665531362395516)\n",
            "('the', 0.0747838205765589)\n",
            "('kind', 0.1483158838090345)\n",
            "('of', 0.07439255389218677)\n",
            "('movie', 0.03728755788718753)\n",
            "('that', 0.02409355518253219)\n",
            "('refuse', 0.032880679534053776)\n",
            "('to', 0.039681555416213994)\n",
            "('leave', 0.02597215563473004)\n",
            "('your', 0.05933455262743133)\n",
            "('head', 0.03422787043028407)\n",
            "('.', 0.02135852990556471)\n",
            "= = = =\n",
            "('There', 0.055110402802831575)\n",
            "('already', 0.052634088890191555)\n",
            "('?', 0.05125108944984746)\n",
            "('sign', 0.047304527478802996)\n",
            "('on', 0.0427848752841517)\n",
            "('knew', 0.03870318030079962)\n",
            "('did', 0.038049391832203176)\n",
            "('says', 0.037933535696471135)\n",
            "(':', 0.03696351146040344)\n",
            "('you', 0.0329048602329365)\n",
            "('you', 0.03250102810696159)\n",
            "('The', 0.03233037737212829)\n",
            "('a', 0.03210254172458434)\n",
            "(')', 0.03152230809688208)\n",
            "('Lost', 0.030344917087833614)\n",
            "(\"'s\", 0.030246759388399762)\n",
            "(',', 0.02998513401516952)\n",
            "('Highway', 0.029911291274812176)\n",
            "('but', 0.029854941925489625)\n",
            "('that', 0.02899501480830363)\n",
            "('that', 0.026810493046301027)\n",
            "(\"n't\", 0.026207995154172218)\n",
            "('OOV', 0.025744068153182257)\n",
            "('SPOILERS', 0.025015517741097518)\n",
            "('(', 0.023597924944222234)\n",
            "('OOV', 0.02160762686987837)\n",
            "= = = =\n",
            "('great', 0.07760858530782763)\n",
            "('contribute', 0.06443980472259608)\n",
            "('to', 0.05482783623158877)\n",
            "('Since', 0.04761677718796669)\n",
            "('deal', 0.04641074330797698)\n",
            "('like', 0.044713209441313205)\n",
            "('plot', 0.04360300835275111)\n",
            "('point', 0.03819239301111849)\n",
            "(\"'d\", 0.035852557093947794)\n",
            "('movie', 0.03143102280137645)\n",
            "('my', 0.03130681964298547)\n",
            "('did', 0.030628116325239284)\n",
            "('of', 0.030026680658738633)\n",
            "(',', 0.029306511126189767)\n",
            "('apparently', 0.029291654204506447)\n",
            "('there', 0.028472724069813094)\n",
            "('I', 0.027643926515449613)\n",
            "('interpretation', 0.02662098932421793)\n",
            "('a', 0.026024648229290303)\n",
            "('the', 0.02596698995370119)\n",
            "('this', 0.025820437044294035)\n",
            "('why', 0.024894688331807295)\n",
            "('people', 0.024726597234518526)\n",
            "('of', 0.024496733814337927)\n",
            "('that', 0.023722203058178244)\n",
            "('the', 0.022758080235161068)\n",
            "(\"'s\", 0.022371809709029262)\n",
            "('of', 0.022089024867801905)\n",
            "('not', 0.020694164512457574)\n",
            "('get', 0.0184412635643317)\n",
            "= = = =\n",
            "('viewing', 0.06041842946359549)\n",
            "('As', 0.05964021107868778)\n",
            "('others', 0.05609454563888526)\n",
            "('single', 0.05476274883476689)\n",
            "('sufficient', 0.04479304159765326)\n",
            "('not', 0.044147468799040156)\n",
            "('of', 0.03381782725431975)\n",
            "('one', 0.03376499073409654)\n",
            "('out', 0.031609701310212006)\n",
            "(',', 0.030496154325119713)\n",
            "('movie', 0.03001358519465632)\n",
            "('.', 0.029456418252458844)\n",
            "('this', 0.028440772838514056)\n",
            "('is', 0.0261290947124727)\n",
            "('pointed', 0.02472073706367666)\n",
            "('have', 0.024192527467074933)\n",
            "= = = =\n",
            "('second', 0.06837278730692058)\n",
            "('If', 0.06541786911229024)\n",
            "('you', 0.04508966931583259)\n",
            "('upon', 0.043476150846455966)\n",
            "('looking', 0.04250794992699079)\n",
            "('DVD', 0.04019554949568504)\n",
            "(\"'Top\", 0.03905473599164586)\n",
            "('only', 0.03528301551682621)\n",
            "('10', 0.03512672891887965)\n",
            "('the', 0.034443221631653684)\n",
            "('but', 0.033760335250146996)\n",
            "('Lynch', 0.03321013546383611)\n",
            "('have', 0.0324901756217818)\n",
            "('MD', 0.029893579407907576)\n",
            "('to', 0.029554600015319996)\n",
            "('at', 0.029450775027571048)\n",
            "(\"'s\", 0.02818141415104992)\n",
            "('can', 0.027724470082859796)\n",
            "(\"'\", 0.027711397922640154)\n",
            "('OOV', 0.02663149188842254)\n",
            "('of', 0.02657460329616496)\n",
            "('by', 0.026232276805081122)\n",
            "('MD', 0.026211945925077907)\n",
            "('OOV', 0.02600166658022265)\n",
            "('David', 0.025893824572694974)\n",
            "('OOV', 0.02541467783963826)\n",
            "(\"'\", 0.0251243819524478)\n",
            "('you', 0.025077889891921706)\n",
            "('(', 0.023859031302134782)\n",
            "(',', 0.022033648786550657)\n",
            "= = = =\n",
            "('downright', 0.3015704637302068)\n",
            "('brilliant', 0.16929120943503068)\n",
            "('First', 0.03390572617639679)\n",
            "('Drive', 0.03220853006123773)\n",
            "(';', 0.03024085446927794)\n",
            "('.', 0.02988012870287701)\n",
            "(')', 0.028121978726824738)\n",
            "('is', 0.019750444322026734)\n",
            "('of', 0.018184449556011076)\n",
            "('all', 0.01567463870495868)\n",
            "('Mulholland', 0.01461679310085469)\n",
            "(',', 0.013513593706630408)\n",
            "= = = =\n",
            "('masterpiece', 0.17068900551211974)\n",
            "('A', 0.08414695295696269)\n",
            "('.', 0.044912959676657975)\n",
            "= = = =\n",
            "('kind', 0.1483158838090345)\n",
            "('the', 0.0747838205765589)\n",
            "('of', 0.07439255389218677)\n",
            "('your', 0.05933455262743133)\n",
            "('to', 0.039681555416213994)\n",
            "('movie', 0.03728755788718753)\n",
            "('head', 0.03422787043028407)\n",
            "('refuse', 0.032880679534053776)\n",
            "('is', 0.02665531362395516)\n",
            "('leave', 0.02597215563473004)\n",
            "('that', 0.02409355518253219)\n",
            "('.', 0.02135852990556471)\n",
            "('This', 0.021294160976798926)\n",
            "= = = =\n"
          ]
        }
      ],
      "source": [
        "word_coeffs = model(torch.tensor(my_review).to(device))[1] # fill the gap # get words attention coeffs by passing the review to the model - (you need to convert the inout torch tensor)\n",
        "\n",
        "word_coeffs_list = word_coeffs.reshape(7,30).tolist()\n",
        "\n",
        "# match text and coefficients:\n",
        "text_word_coeffs = [list(zip(words,word_coeffs_list[idx][:len(words)])) for idx,words in enumerate(my_review_text)]\n",
        "\n",
        "for sent in text_word_coeffs:\n",
        "    [print(elt) for elt in sent]\n",
        "    print('= = = =')\n",
        "\n",
        "# sort words by importance within each sentence:\n",
        "text_word_coeffs_sorted = [sorted(elt,key=operator.itemgetter(1),reverse=True) for elt in text_word_coeffs]\n",
        "\n",
        "for sent in text_word_coeffs_sorted:\n",
        "    [print(elt) for elt in sent]\n",
        "    print('= = = =')"
      ]
    },
    {
      "cell_type": "markdown",
      "metadata": {
        "id": "C9JblVhaHlsu"
      },
      "source": [
        "# Question 3"
      ]
    },
    {
      "cell_type": "code",
      "source": [
        "import matplotlib.pyplot as plt"
      ],
      "metadata": {
        "id": "-t5L_Si7N8jr"
      },
      "execution_count": 16,
      "outputs": []
    },
    {
      "cell_type": "code",
      "source": [
        "doc_choosen = my_docs_array_train[-1:,:,:]\n",
        "sent_coeffs = model(torch.tensor(doc_choosen).to(device))[2] \n",
        "sent_coeffs = sent_coeffs[0,:,:]"
      ],
      "metadata": {
        "id": "F5cRk_0w5Ldj"
      },
      "execution_count": 17,
      "outputs": []
    },
    {
      "cell_type": "code",
      "source": [
        "# convert integer doc to text:\n",
        "index_to_word[1] = 'OOV'\n",
        "doc_choosen_text = [[index_to_word[idx] for idx in sent if idx in index_to_word] for sent in doc_choosen.tolist()[0]]"
      ],
      "metadata": {
        "id": "shjeskYf6Lb-"
      },
      "execution_count": 18,
      "outputs": []
    },
    {
      "cell_type": "code",
      "source": [
        "for elt in zip(sent_coeffs[:,0].tolist(), [' '.join(elt) for elt in doc_choosen_text]):\n",
        "    print(round(elt[0]*100,2), elt[1])"
      ],
      "metadata": {
        "colab": {
          "base_uri": "https://localhost:8080/"
        },
        "id": "dfuTYhqn6M5X",
        "outputId": "2ae1eae3-e9bc-4806-f4f5-af8c9fd692d1"
      },
      "execution_count": 19,
      "outputs": [
        {
          "output_type": "stream",
          "name": "stdout",
          "text": [
            "10.37 OOV : Honey , here 's them eggs you ordered .\n",
            "8.87 Honey , like bee , get it ?\n",
            "43.9 That 's called pointless foreshadowing .\n",
            "9.05 Edward Basket : Huh ?\n",
            "7.7 ( On the road ) Basket : Here 's your doll back , little girl .\n",
            "9.78 You really should n't be so careless with your OOV .\n",
            "10.33 Little girl : Yeah , whatever .\n"
          ]
        }
      ]
    },
    {
      "cell_type": "code",
      "source": [
        "sent_coeffs_ = [l[0] for l in sent_coeffs.tolist()]\n",
        "plt.stem(sent_coeffs_)\n",
        "plt.title(\"Attention coefficients on sentences\", fontsize=15)\n",
        "# plt.show()\n",
        "plt.savefig('Attention coefficients on sentences.png')"
      ],
      "metadata": {
        "colab": {
          "base_uri": "https://localhost:8080/",
          "height": 340
        },
        "id": "jWxIWYlP8C1s",
        "outputId": "5525589a-7a76-4279-ea3f-75725b06ed50"
      },
      "execution_count": 20,
      "outputs": [
        {
          "output_type": "stream",
          "name": "stderr",
          "text": [
            "/usr/local/lib/python3.7/dist-packages/ipykernel_launcher.py:2: UserWarning: In Matplotlib 3.3 individual lines on a stem plot will be added as a LineCollection instead of individual lines. This significantly improves the performance of a stem plot. To remove this warning and switch to the new behaviour, set the \"use_line_collection\" keyword argument to True.\n",
            "  \n"
          ]
        },
        {
          "output_type": "display_data",
          "data": {
            "text/plain": [
              "<Figure size 432x288 with 1 Axes>"
            ],
            "image/png": "[encoded data removed]"
          },
          "metadata": {
            "needs_background": "light"
          }
        }
      ]
    },
    {
      "cell_type": "code",
      "source": [
        "word_coeffs = model(torch.tensor(doc_choosen).to(device))[1]\n",
        "word_coeffs_list = word_coeffs.reshape(7,30).tolist()\n",
        "\n",
        "# match text and coefficients:\n",
        "text_word_coeffs = [list(zip(words,word_coeffs_list[idx][:len(words)])) for idx,words in enumerate(doc_choosen_text)]"
      ],
      "metadata": {
        "id": "9HiVrkeQNTUu"
      },
      "execution_count": 21,
      "outputs": []
    },
    {
      "cell_type": "code",
      "source": [
        "fig, axs = plt.subplots(2, 4, figsize=(25, 18))\n",
        "fig.suptitle(\"Word attention weights in sentences\", fontsize=25)\n",
        "for ax, (ind, word_coeffs) in zip(axs.ravel(), enumerate(text_word_coeffs)):\n",
        "  x_ticks_labels = []\n",
        "  weights = []\n",
        "  for text_, weight_ in word_coeffs:\n",
        "    x_ticks_labels.append(text_)\n",
        "    weights.append(weight_)\n",
        "\n",
        "  ax.stem(weights)\n",
        "  ax.set_xticks(range(len(weights)))\n",
        "  ax.set_xticklabels(x_ticks_labels, rotation='vertical', fontsize=12)\n",
        "# plt.show()\n",
        "plt.savefig('weights in sentence.png')"
      ],
      "metadata": {
        "colab": {
          "base_uri": "https://localhost:8080/",
          "height": 1000
        },
        "id": "qVbfwtaUTZc8",
        "outputId": "4fb7e265-764f-407b-e8a2-e5e7529952c1"
      },
      "execution_count": 22,
      "outputs": [
        {
          "output_type": "stream",
          "name": "stderr",
          "text": [
            "/usr/local/lib/python3.7/dist-packages/ipykernel_launcher.py:10: UserWarning: In Matplotlib 3.3 individual lines on a stem plot will be added as a LineCollection instead of individual lines. This significantly improves the performance of a stem plot. To remove this warning and switch to the new behaviour, set the \"use_line_collection\" keyword argument to True.\n",
            "  # Remove the CWD from sys.path while we load stuff.\n",
            "/usr/local/lib/python3.7/dist-packages/ipykernel_launcher.py:10: UserWarning: In Matplotlib 3.3 individual lines on a stem plot will be added as a LineCollection instead of individual lines. This significantly improves the performance of a stem plot. To remove this warning and switch to the new behaviour, set the \"use_line_collection\" keyword argument to True.\n",
            "  # Remove the CWD from sys.path while we load stuff.\n",
            "/usr/local/lib/python3.7/dist-packages/ipykernel_launcher.py:10: UserWarning: In Matplotlib 3.3 individual lines on a stem plot will be added as a LineCollection instead of individual lines. This significantly improves the performance of a stem plot. To remove this warning and switch to the new behaviour, set the \"use_line_collection\" keyword argument to True.\n",
            "  # Remove the CWD from sys.path while we load stuff.\n",
            "/usr/local/lib/python3.7/dist-packages/ipykernel_launcher.py:10: UserWarning: In Matplotlib 3.3 individual lines on a stem plot will be added as a LineCollection instead of individual lines. This significantly improves the performance of a stem plot. To remove this warning and switch to the new behaviour, set the \"use_line_collection\" keyword argument to True.\n",
            "  # Remove the CWD from sys.path while we load stuff.\n",
            "/usr/local/lib/python3.7/dist-packages/ipykernel_launcher.py:10: UserWarning: In Matplotlib 3.3 individual lines on a stem plot will be added as a LineCollection instead of individual lines. This significantly improves the performance of a stem plot. To remove this warning and switch to the new behaviour, set the \"use_line_collection\" keyword argument to True.\n",
            "  # Remove the CWD from sys.path while we load stuff.\n",
            "/usr/local/lib/python3.7/dist-packages/ipykernel_launcher.py:10: UserWarning: In Matplotlib 3.3 individual lines on a stem plot will be added as a LineCollection instead of individual lines. This significantly improves the performance of a stem plot. To remove this warning and switch to the new behaviour, set the \"use_line_collection\" keyword argument to True.\n",
            "  # Remove the CWD from sys.path while we load stuff.\n",
            "/usr/local/lib/python3.7/dist-packages/ipykernel_launcher.py:10: UserWarning: In Matplotlib 3.3 individual lines on a stem plot will be added as a LineCollection instead of individual lines. This significantly improves the performance of a stem plot. To remove this warning and switch to the new behaviour, set the \"use_line_collection\" keyword argument to True.\n",
            "  # Remove the CWD from sys.path while we load stuff.\n"
          ]
        },
        {
          "output_type": "display_data",
          "data": {
            "text/plain": [
              "<Figure size 1800x1296 with 8 Axes>"
            ],
            "image/png": "[encoded data removed]"
          },
          "metadata": {
            "needs_background": "light"
          }
        }
      ]
    },
    {
      "cell_type": "code",
      "source": [],
      "metadata": {
        "id": "yoo2Oj_mY0ms"
      },
      "execution_count": null,
      "outputs": []
    }
  ],
  "metadata": {
    "colab": {
      "collapsed_sections": [],
      "provenance": []
    },
    "kernelspec": {
      "display_name": "Python 3",
      "language": "python",
      "name": "python3"
    },
    "language_info": {
      "codemirror_mode": {
        "name": "ipython",
        "version": 3
      },
      "file_extension": ".py",
      "mimetype": "text/x-python",
      "name": "python",
      "nbconvert_exporter": "python",
      "pygments_lexer": "ipython3",
      "version": "3.7.6"
    },
    "vscode": {
      "interpreter": {
        "hash": "b0fa6594d8f4cbf19f97940f81e996739fb7646882a419484c72d19e05852a7e"
      }
    },
    "accelerator": "GPU",
    "gpuClass": "standard"
  },
  "nbformat": 4,
  "nbformat_minor": 0
}