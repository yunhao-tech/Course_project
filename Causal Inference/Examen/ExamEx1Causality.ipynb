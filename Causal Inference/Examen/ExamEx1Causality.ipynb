{
  "cells": [
    {
      "cell_type": "markdown",
      "source": [
        "\n",
        "\n",
        "\n",
        "<h1>\n",
        "<hr style=\" border:none; height:3px;\">\n",
        "<center>Exam MAP 670 Causality</center>\n",
        "<hr style=\" border:none; height:3px;\">\n",
        "</h1>\n",
        "\n",
        "<h6><center>Exercise 1</center></h6>"
      ],
      "metadata": {
        "id": "KHAxq_07Kd97"
      }
    },
    {
      "cell_type": "markdown",
      "source": [
        "# Setup"
      ],
      "metadata": {
        "id": "gXxdd0mgK-Oc"
      }
    },
    {
      "cell_type": "markdown",
      "source": [
        "First we import the libraries."
      ],
      "metadata": {
        "id": "hhQ7OHuyL_2Y"
      }
    },
    {
      "cell_type": "code",
      "execution_count": 1,
      "metadata": {
        "id": "8tsLWOO-3VGA"
      },
      "outputs": [],
      "source": [
        "import logging\n",
        "import warnings\n",
        "warnings.filterwarnings('ignore')\n",
        "import pandas as pd\n",
        "import numpy as np\n",
        "import statsmodels\n",
        "import statsmodels.formula.api as smf\n",
        "import statsmodels.api as sm\n",
        "import graphviz as gr\n",
        "from statsmodels.compat import lzip\n",
        "import statsmodels.formula.api as smf\n",
        "import statsmodels.stats.api as sms\n",
        "import matplotlib.pyplot as plt\n",
        "%matplotlib inline\n",
        "\n"
      ]
    },
    {
      "cell_type": "markdown",
      "metadata": {
        "id": "ZW4Z33v_3VGH"
      },
      "source": [
        "To estimate the average treatment effect under unconfoundness, we have studied the\n",
        "IPW, the regression adjustment and the double robust estimators. Another estimator\n",
        "based on stratification can be defined.\n",
        "The principle is to form L strata based on the values of the propensity score,\n",
        "which in practice consists in grouping observations for which $\\widehat{e}(X)$ are similar. Then,\n",
        "in each stratum l, the average treatment effect is estimated as $\\overline{Y(1)}_l − \\overline{Y(0)}_l$ where\n",
        "$\\overline{Y(w)}_l$ denotes the average value of the outcome for units with treatment w in stratum\n",
        "l. Finally, the ATE estimator is the mean of the difference between means in each\n",
        "stratum:\n",
        "$$\n",
        "\\widehat{\\tau}_{strat}=\\frac{1}{L}\\sum \\overline{Y(1)}_l − \\overline{Y(0)}_l\n",
        "$$"
      ]
    },
    {
      "cell_type": "markdown",
      "source": [
        "The aim of this exercise is to conduct a simulation study to evaluate the pros and cons of inverse propensity\n",
        "weighting and stratification."
      ],
      "metadata": {
        "id": "a3anHW-YQJDs"
      }
    },
    {
      "cell_type": "markdown",
      "source": [
        "[link text](https://)<div class=\"alert alert-block alert-success\">\n",
        "\n",
        "**Question 1.** Generate data as follows, for n = 400 and p = 10:\n",
        "\n",
        "</div>\n"
      ],
      "metadata": {
        "id": "Ylu4MtXJMJxc"
      }
    },
    {
      "cell_type": "code",
      "source": [
        "X = np.random.uniform(low=-1.0, high=1.0, size=(400,10))"
      ],
      "metadata": {
        "id": "SfEj5N_rQTtW"
      },
      "execution_count": 23,
      "outputs": []
    },
    {
      "cell_type": "code",
      "source": [
        "propensity=0.1+0.85*np.sqrt(np.maximum(0,1+X[:,0]+ X[:,1])/3)"
      ],
      "metadata": {
        "id": "Xbvh0P0oTNIp"
      },
      "execution_count": 24,
      "outputs": []
    },
    {
      "cell_type": "code",
      "source": [
        "W =np.random.binomial(1, propensity, 400)"
      ],
      "metadata": {
        "id": "wCCsL8PtTJ4c"
      },
      "execution_count": 25,
      "outputs": []
    },
    {
      "cell_type": "code",
      "source": [
        "Y = np.multiply(W, np.maximum(0, X[:,0])) + np.exp(X[:,1] + X[:,2])"
      ],
      "metadata": {
        "id": "JAEx5TgWUFWB"
      },
      "execution_count": 26,
      "outputs": []
    },
    {
      "cell_type": "markdown",
      "source": [
        "<div class=\"alert alert-block alert-success\">\n",
        "\n",
        "**Question 2.** Show that the average treatment effect $\\tau$ of the treatment $W$ on $Y$ in this simulation design is equal to\n",
        "0.25. (You can show it by simulation if you want). \n",
        "\n",
        "</div>"
      ],
      "metadata": {
        "id": "IAabZ9T9pYVW"
      }
    },
    {
      "cell_type": "markdown",
      "source": [
        "According to the simulation desigh, the average treatment effect $\\tau$ equals to `maximum(0, X_0)` where `X_0` is the first component of vector X and `X_0` follows an uniform distribution [-1,1].  \n",
        "\n",
        "The expectation of variable `maximum(0, X_0)` can be computed. Thus,\n",
        "\n",
        " $\\tau= \\frac{1}{2}*0+\\frac{1}{2}* \\int_0^1 x dx = 0.25$."
      ],
      "metadata": {
        "id": "mxiD1kh_2-ov"
      }
    },
    {
      "cell_type": "markdown",
      "source": [
        "<div class=\"alert alert-block alert-success\">\n",
        "\n",
        "**Question 3.** Fit the propensity score $\\widehat{e}$ via logistic regression, and estimate $\\widehat{\\tau}$ via $\\widehat{\\tau}_{IPW}$ \n",
        "</div>"
      ],
      "metadata": {
        "id": "KhkrwVqTsEdA"
      }
    },
    {
      "cell_type": "code",
      "source": [
        "import sklearn.linear_model as sklearn_linear_model\n",
        "\n",
        "def clip_probabilities(prob, th=0.1) :\n",
        "  prob[prob < th] = th\n",
        "  prob[prob > (1-th)] = 1-th\n",
        "  return prob \n",
        "\n",
        "propensity_model = sklearn_linear_model.LogisticRegression(random_state=0, fit_intercept=True).fit(X[:, :2], W)\n",
        "estimates_prob = propensity_model.predict_proba(X[:, :2])[:, 1]\n",
        "e_hat = clip_probabilities(estimates_prob)\n",
        "tau_IPW = (Y * ((W/e_hat) - (1-W)/(1-e_hat))).mean()\n",
        "print(\"Tau_hat via IPW is: \", tau_IPW)"
      ],
      "metadata": {
        "colab": {
          "base_uri": "https://localhost:8080/"
        },
        "id": "BKf6lLcMzSRh",
        "outputId": "d79e2a02-7319-4d97-cd5f-1b8cd83cddcb"
      },
      "execution_count": 33,
      "outputs": [
        {
          "output_type": "stream",
          "name": "stdout",
          "text": [
            "Tau_hat via IPW is:  0.30157894411644626\n"
          ]
        }
      ]
    },
    {
      "cell_type": "markdown",
      "metadata": {
        "id": "t5dN8SuZ3VGX"
      },
      "source": [
        "<div class=\"alert alert-block alert-success\">\n",
        "\n",
        "**Question 4.**We define the number of strata as $L = n^\\rho$ . For $\\rho = 0.1, 0.2, 0.3, 0.4$, compute\n",
        "$\\widehat{τ̂}_{strat}$. \n",
        "</div>"
      ]
    },
    {
      "cell_type": "markdown",
      "source": [
        "Example"
      ],
      "metadata": {
        "id": "Pjof_tdCWCxg"
      }
    },
    {
      "cell_type": "code",
      "source": [
        "# split the e_hat into L parts\n",
        "def split(list_to_divide, L):\n",
        "    k, m = divmod(len(list_to_divide), L)\n",
        "    return (list_to_divide[i*k + min(i, m):(i+1)*k + min(i+1, m)] for i in range(L))"
      ],
      "metadata": {
        "id": "AfAA67uw6U5D"
      },
      "execution_count": 35,
      "outputs": []
    },
    {
      "cell_type": "code",
      "source": [
        "import math\n",
        "n = 400\n",
        "rhos = [0.1, 0.2, 0.3, 0.4]\n",
        "\n",
        "for rho in rhos:\n",
        "  L = math.floor(n**rho)\n",
        "  idx_sorted = sorted(range(len(e_hat)), key=lambda i: e_hat[i])\n",
        "  idx_stra = list(split(idx_sorted, L))\n",
        "  l_diff = []\n",
        "  for index_group in idx_stra:\n",
        "    y_stra = Y[index_group]\n",
        "    w_stra = W[index_group]\n",
        "    y0 = y_stra[w_stra == 0]\n",
        "    y1 = y_stra[w_stra == 1]\n",
        "    diff_stra = y1.mean() - y0.mean()\n",
        "    l_diff.append(diff_stra)\n",
        "\n",
        "  tau_stra = np.mean(l_diff)\n",
        "  print(f\"When rho = {rho}, Tau_straification: {tau_stra:.3f}\")\n",
        "  print(f\"In this case, bias = {tau_stra-0.25:.3f}, MSE = {(tau_stra-0.25)**2:.3f}\")"
      ],
      "metadata": {
        "colab": {
          "base_uri": "https://localhost:8080/"
        },
        "id": "Bm7tUT4e8fr1",
        "outputId": "deea8a02-6bda-4eac-d464-b570bcd3919e"
      },
      "execution_count": 55,
      "outputs": [
        {
          "output_type": "stream",
          "name": "stdout",
          "text": [
            "When rho = 0.1, Tau_straification: 0.660\n",
            "In this case, bias = 0.410, MSE = 0.168\n",
            "When rho = 0.2, Tau_straification: 0.407\n",
            "In this case, bias = 0.157, MSE = 0.025\n",
            "When rho = 0.3, Tau_straification: 0.315\n",
            "In this case, bias = 0.065, MSE = 0.004\n",
            "When rho = 0.4, Tau_straification: 0.322\n",
            "In this case, bias = 0.072, MSE = 0.005\n"
          ]
        }
      ]
    },
    {
      "cell_type": "markdown",
      "source": [
        "Write your answer here:\n",
        "\n",
        "$\\widehat{τ̂}_{strat}$ = 0.66 when rho = 0.1;\n",
        "\n",
        "$\\widehat{τ̂}_{strat}$ = 0.41 when rho = 0.2;\n",
        "\n",
        "$\\widehat{τ̂}_{strat}$ = 0.31 when rho = 0.3;\n",
        "\n",
        "$\\widehat{τ̂}_{strat}$ = 0.32 when rho = 0.4;"
      ],
      "metadata": {
        "id": "ggyu8fLUspFB"
      }
    },
    {
      "cell_type": "markdown",
      "metadata": {
        "id": "_18r3isa3VGX"
      },
      "source": [
        "<div class=\"alert alert-block alert-success\">\n",
        "\n",
        "**Question 5.** Compute the bias and the MSE of IPW and Stratification estimators.\n",
        "</div>"
      ]
    },
    {
      "cell_type": "code",
      "source": [
        "# For IPW:\n",
        "\n",
        "bias_IPW = tau_IPW - 0.25\n",
        "mse_IPW = (tau_IPW - 0.25)**2\n",
        "print(f\"For IPW estimator, bias = {bias_IPW:.3f}, MSE = {mse_IPW:.3f}\")"
      ],
      "metadata": {
        "colab": {
          "base_uri": "https://localhost:8080/"
        },
        "id": "plGRt-sO-k6I",
        "outputId": "c622a951-b9e8-4b25-9a33-1a5ead4fc360"
      },
      "execution_count": 56,
      "outputs": [
        {
          "output_type": "stream",
          "name": "stdout",
          "text": [
            "For IPW estimator, bias = 0.052, MSE = 0.003\n"
          ]
        }
      ]
    },
    {
      "cell_type": "markdown",
      "metadata": {
        "id": "FWOJPxIn3VGY"
      },
      "source": [
        "Write your answer here:\n",
        "\n",
        "For IPW estimator: Bias = 0.052; MSE = 0.003;\n",
        "\n",
        "For Stratification estimator, when rho = 0.1: Bias = 0.410; MSE = 0.168;\n",
        "\n",
        "For Stratification estimator, when rho = 0.2: Bias = 0.157; MSE = 0.025;\n",
        "\n",
        "\n",
        "For Stratification estimator, when rho = 0.3: Bias = 0.065; MSE = 0.004;\n",
        "\n",
        "\n",
        "For Stratification estimator, when rho = 0.4: Bias = 0.072; MSE = 0.005;\n"
      ]
    },
    {
      "cell_type": "markdown",
      "source": [
        "<div class=\"alert alert-block alert-success\">\n",
        "\n",
        "**Question 6.**  Repeat the experiment 1000 times and present either the boxplot of the results\n",
        "or the mean of the results. Comment \n",
        "</div>"
      ],
      "metadata": {
        "id": "V69scPxbvQ8I"
      }
    },
    {
      "cell_type": "code",
      "source": [
        "tau_IPW_list = []\n",
        "tau_rho_01_list = []\n",
        "tau_rho_02_list = []\n",
        "tau_rho_03_list = []\n",
        "tau_rho_04_list = []\n",
        "\n",
        "for _ in range(1000):\n",
        "  X = np.random.uniform(low=-1.0, high=1.0, size=(400,10))\n",
        "  propensity=0.1+0.85*np.sqrt(np.maximum(0,1+X[:,0]+ X[:,1])/3)\n",
        "  W =np.random.binomial(1, propensity, 400)\n",
        "  Y = np.multiply(W, np.maximum(0, X[:,0])) + np.exp(X[:,1] + X[:,2])\n",
        "\n",
        "  # IPW estimator\n",
        "  propensity_model = sklearn_linear_model.LogisticRegression(random_state=0, fit_intercept=True).fit(X[:, :2], W)\n",
        "  estimates_prob = propensity_model.predict_proba(X[:, :2])[:, 1]\n",
        "  e_hat = clip_probabilities(estimates_prob)\n",
        "  tau_IPW = (Y * ((W/e_hat) - (1-W)/(1-e_hat))).mean()\n",
        "\n",
        "  # Stratification estimator\n",
        "  n = 400\n",
        "  rhos = [0.1, 0.2, 0.3, 0.4]\n",
        "  for rho in rhos:\n",
        "    L = math.floor(n**rho)\n",
        "    idx_sorted = sorted(range(len(e_hat)), key=lambda i: e_hat[i])\n",
        "    idx_stra = list(split(idx_sorted, L))\n",
        "    l_diff = []\n",
        "    for index_group in idx_stra:\n",
        "      y_stra = Y[index_group]\n",
        "      w_stra = W[index_group]\n",
        "      y0 = y_stra[w_stra == 0]\n",
        "      y1 = y_stra[w_stra == 1]\n",
        "      diff_stra = y1.mean() - y0.mean()\n",
        "      l_diff.append(diff_stra)\n",
        "    tau_stra = np.mean(l_diff)\n",
        "    if rho == 0.1 and not np.isnan(tau_stra):\n",
        "      tau_rho_01_list.append(tau_stra)\n",
        "    if rho == 0.2 and not np.isnan(tau_stra):\n",
        "      tau_rho_02_list.append(tau_stra)\n",
        "    if rho == 0.3 and not np.isnan(tau_stra):\n",
        "      tau_rho_03_list.append(tau_stra)\n",
        "    if rho == 0.4 and not np.isnan(tau_stra):\n",
        "      tau_rho_04_list.append(tau_stra)\n",
        "\n",
        "  tau_IPW_list.append(tau_IPW)\n"
      ],
      "metadata": {
        "id": "jyQyYlsl_zjA"
      },
      "execution_count": 85,
      "outputs": []
    },
    {
      "cell_type": "code",
      "source": [
        "print(f\"The mean tau of IPW estimator is {np.mean(tau_IPW_list):.3f}\")\n",
        "print(f\"The mean tau of Stratification (rho=0.1) estimator is {np.mean(tau_rho_01_list):.3f}\")\n",
        "print(f\"The mean tau of Stratification (rho=0.2) estimator is {np.mean(tau_rho_02_list):.3f}\")\n",
        "print(f\"The mean tau of Stratification (rho=0.3) estimator is {np.mean(tau_rho_03_list):.3f}\")\n",
        "print(f\"The mean tau of Stratification (rho=0.4) estimator is {np.mean(tau_rho_04_list):.3f}\")"
      ],
      "metadata": {
        "colab": {
          "base_uri": "https://localhost:8080/"
        },
        "id": "yLp5-nuOENET",
        "outputId": "86c34556-3610-4fd8-b3eb-c50302bbec28"
      },
      "execution_count": 86,
      "outputs": [
        {
          "output_type": "stream",
          "name": "stdout",
          "text": [
            "The mean tau of IPW estimator is 0.234\n",
            "The mean tau of Stratification (rho=0.1) estimator is 0.796\n",
            "The mean tau of Stratification (rho=0.2) estimator is 0.355\n",
            "The mean tau of Stratification (rho=0.3) estimator is 0.279\n",
            "The mean tau of Stratification (rho=0.4) estimator is 0.259\n"
          ]
        }
      ]
    },
    {
      "cell_type": "markdown",
      "source": [
        "The Stratification estimator achieves a good estimation of ATE on average, better than IPW, when rho is high (when L is large enough). \n",
        "\n",
        "But when rho is small, the stratification estimation is worse than IPW estimator."
      ],
      "metadata": {
        "id": "QHDvjhZNE7kK"
      }
    },
    {
      "cell_type": "code",
      "source": [],
      "metadata": {
        "id": "Aj0aNy00El3-"
      },
      "execution_count": null,
      "outputs": []
    }
  ],
  "metadata": {
    "kernelspec": {
      "display_name": "Python 3.6.8 64-bit",
      "language": "python",
      "name": "python3"
    },
    "language_info": {
      "codemirror_mode": {
        "name": "ipython",
        "version": 3
      },
      "file_extension": ".py",
      "mimetype": "text/x-python",
      "name": "python",
      "nbconvert_exporter": "python",
      "pygments_lexer": "ipython3",
      "version": "3.6.8"
    },
    "orig_nbformat": 4,
    "vscode": {
      "interpreter": {
        "hash": "31f2aee4e71d21fbe5cf8b01ff0e069b9275f58929596ceb00d14d90e3e16cd6"
      }
    },
    "colab": {
      "provenance": []
    }
  },
  "nbformat": 4,
  "nbformat_minor": 0
}