{
  "cells": [
    {
      "cell_type": "markdown",
      "source": [
        "\n",
        "\n",
        "\n",
        "<h1>\n",
        "<hr style=\" border:none; height:3px;\">\n",
        "<center>Exam MAP 670 Causality</center>\n",
        "<hr style=\" border:none; height:3px;\">\n",
        "</h1>\n",
        "\n",
        "<h6><center>Exercise 2</center></h6>"
      ],
      "metadata": {
        "id": "KHAxq_07Kd97"
      }
    },
    {
      "cell_type": "markdown",
      "source": [
        "# Setup"
      ],
      "metadata": {
        "id": "gXxdd0mgK-Oc"
      }
    },
    {
      "cell_type": "code",
      "source": [
        "!pip install jedi"
      ],
      "metadata": {
        "colab": {
          "base_uri": "https://localhost:8080/"
        },
        "id": "nrIp-lu9NoGn",
        "outputId": "e55fae29-b3a2-4514-9064-8ca9cb96fee5"
      },
      "execution_count": 1,
      "outputs": [
        {
          "output_type": "stream",
          "name": "stdout",
          "text": [
            "Looking in indexes: https://pypi.org/simple, https://us-python.pkg.dev/colab-wheels/public/simple/\n",
            "Requirement already satisfied: jedi in /usr/local/lib/python3.9/dist-packages (0.18.2)\n",
            "Requirement already satisfied: parso<0.9.0,>=0.8.0 in /usr/local/lib/python3.9/dist-packages (from jedi) (0.8.3)\n"
          ]
        }
      ]
    },
    {
      "cell_type": "code",
      "source": [
        "!pip install git+https://github.com/py-why/dowhy@main"
      ],
      "metadata": {
        "colab": {
          "base_uri": "https://localhost:8080/"
        },
        "id": "cQQqtq63Nr_d",
        "outputId": "81c7fba1-c392-48e1-a16a-2b685ae1c51b"
      },
      "execution_count": 2,
      "outputs": [
        {
          "output_type": "stream",
          "name": "stdout",
          "text": [
            "Looking in indexes: https://pypi.org/simple, https://us-python.pkg.dev/colab-wheels/public/simple/\n",
            "Collecting git+https://github.com/py-why/dowhy@main\n",
            "  Cloning https://github.com/py-why/dowhy (to revision main) to /tmp/pip-req-build-vm1qsmp_\n",
            "  Running command git clone --filter=blob:none --quiet https://github.com/py-why/dowhy /tmp/pip-req-build-vm1qsmp_\n",
            "  Resolved https://github.com/py-why/dowhy to commit eae59d1c95937e2f0c3dfbd3a0369ad05b0ea7cb\n",
            "  Installing build dependencies ... \u001b[?25l\u001b[?25hdone\n",
            "  Getting requirements to build wheel ... \u001b[?25l\u001b[?25hdone\n",
            "  Preparing metadata (pyproject.toml) ... \u001b[?25l\u001b[?25hdone\n",
            "Requirement already satisfied: networkx<3.0.0,>=2.8.5 in /usr/local/lib/python3.9/dist-packages (from dowhy==0.0.0) (2.8.8)\n",
            "Requirement already satisfied: statsmodels<0.14.0,>=0.13.2 in /usr/local/lib/python3.9/dist-packages (from dowhy==0.0.0) (0.13.5)\n",
            "Requirement already satisfied: causal-learn<0.2.0.0,>=0.1.3.0 in /usr/local/lib/python3.9/dist-packages (from dowhy==0.0.0) (0.1.3.3)\n",
            "Requirement already satisfied: joblib<2.0.0,>=1.1.0 in /usr/local/lib/python3.9/dist-packages (from dowhy==0.0.0) (1.1.1)\n",
            "Requirement already satisfied: numpy==1.23.1 in /usr/local/lib/python3.9/dist-packages (from dowhy==0.0.0) (1.23.1)\n",
            "Requirement already satisfied: scipy<2.0.0,>=1.8.1 in /usr/local/lib/python3.9/dist-packages (from dowhy==0.0.0) (1.10.1)\n",
            "Requirement already satisfied: tqdm<5.0.0,>=4.64.0 in /usr/local/lib/python3.9/dist-packages (from dowhy==0.0.0) (4.65.0)\n",
            "Requirement already satisfied: pandas<2.0.0,>=1.4.3 in /usr/local/lib/python3.9/dist-packages (from dowhy==0.0.0) (1.4.4)\n",
            "Requirement already satisfied: sympy<2.0.0,>=1.10.1 in /usr/local/lib/python3.9/dist-packages (from dowhy==0.0.0) (1.11.1)\n",
            "Requirement already satisfied: cython<0.30.0,>=0.29.32 in /usr/local/lib/python3.9/dist-packages (from dowhy==0.0.0) (0.29.33)\n",
            "Requirement already satisfied: scikit-learn<1.2.0 in /usr/local/lib/python3.9/dist-packages (from dowhy==0.0.0) (1.1.3)\n",
            "Requirement already satisfied: cvxpy<2.0.0,>=1.2.2 in /usr/local/lib/python3.9/dist-packages (from dowhy==0.0.0) (1.3.1)\n",
            "Requirement already satisfied: sphinx_design<0.4.0,>=0.3.0 in /usr/local/lib/python3.9/dist-packages (from dowhy==0.0.0) (0.3.0)\n",
            "Requirement already satisfied: graphviz in /usr/local/lib/python3.9/dist-packages (from causal-learn<0.2.0.0,>=0.1.3.0->dowhy==0.0.0) (0.20.1)\n",
            "Requirement already satisfied: matplotlib in /usr/local/lib/python3.9/dist-packages (from causal-learn<0.2.0.0,>=0.1.3.0->dowhy==0.0.0) (3.7.1)\n",
            "Requirement already satisfied: pydot in /usr/local/lib/python3.9/dist-packages (from causal-learn<0.2.0.0,>=0.1.3.0->dowhy==0.0.0) (1.4.2)\n",
            "Requirement already satisfied: ecos>=2 in /usr/local/lib/python3.9/dist-packages (from cvxpy<2.0.0,>=1.2.2->dowhy==0.0.0) (2.0.12)\n",
            "Requirement already satisfied: scs>=1.1.6 in /usr/local/lib/python3.9/dist-packages (from cvxpy<2.0.0,>=1.2.2->dowhy==0.0.0) (3.2.2)\n",
            "Requirement already satisfied: setuptools>65.5.1 in /usr/local/lib/python3.9/dist-packages (from cvxpy<2.0.0,>=1.2.2->dowhy==0.0.0) (67.6.0)\n",
            "Requirement already satisfied: osqp>=0.4.1 in /usr/local/lib/python3.9/dist-packages (from cvxpy<2.0.0,>=1.2.2->dowhy==0.0.0) (0.6.2.post0)\n",
            "Requirement already satisfied: pytz>=2020.1 in /usr/local/lib/python3.9/dist-packages (from pandas<2.0.0,>=1.4.3->dowhy==0.0.0) (2022.7.1)\n",
            "Requirement already satisfied: python-dateutil>=2.8.1 in /usr/local/lib/python3.9/dist-packages (from pandas<2.0.0,>=1.4.3->dowhy==0.0.0) (2.8.2)\n",
            "Requirement already satisfied: threadpoolctl>=2.0.0 in /usr/local/lib/python3.9/dist-packages (from scikit-learn<1.2.0->dowhy==0.0.0) (3.1.0)\n",
            "Requirement already satisfied: sphinx<6,>=4 in /usr/local/lib/python3.9/dist-packages (from sphinx_design<0.4.0,>=0.3.0->dowhy==0.0.0) (5.3.0)\n",
            "Requirement already satisfied: patsy>=0.5.2 in /usr/local/lib/python3.9/dist-packages (from statsmodels<0.14.0,>=0.13.2->dowhy==0.0.0) (0.5.3)\n",
            "Requirement already satisfied: packaging>=21.3 in /usr/local/lib/python3.9/dist-packages (from statsmodels<0.14.0,>=0.13.2->dowhy==0.0.0) (23.0)\n",
            "Requirement already satisfied: mpmath>=0.19 in /usr/local/lib/python3.9/dist-packages (from sympy<2.0.0,>=1.10.1->dowhy==0.0.0) (1.3.0)\n",
            "Requirement already satisfied: qdldl in /usr/local/lib/python3.9/dist-packages (from osqp>=0.4.1->cvxpy<2.0.0,>=1.2.2->dowhy==0.0.0) (0.1.5.post3)\n",
            "Requirement already satisfied: six in /usr/local/lib/python3.9/dist-packages (from patsy>=0.5.2->statsmodels<0.14.0,>=0.13.2->dowhy==0.0.0) (1.16.0)\n",
            "Requirement already satisfied: snowballstemmer>=2.0 in /usr/local/lib/python3.9/dist-packages (from sphinx<6,>=4->sphinx_design<0.4.0,>=0.3.0->dowhy==0.0.0) (2.2.0)\n",
            "Requirement already satisfied: sphinxcontrib-htmlhelp>=2.0.0 in /usr/local/lib/python3.9/dist-packages (from sphinx<6,>=4->sphinx_design<0.4.0,>=0.3.0->dowhy==0.0.0) (2.0.1)\n",
            "Requirement already satisfied: Pygments>=2.12 in /usr/local/lib/python3.9/dist-packages (from sphinx<6,>=4->sphinx_design<0.4.0,>=0.3.0->dowhy==0.0.0) (2.14.0)\n",
            "Requirement already satisfied: docutils<0.20,>=0.14 in /usr/local/lib/python3.9/dist-packages (from sphinx<6,>=4->sphinx_design<0.4.0,>=0.3.0->dowhy==0.0.0) (0.16)\n",
            "Requirement already satisfied: sphinxcontrib-serializinghtml>=1.1.5 in /usr/local/lib/python3.9/dist-packages (from sphinx<6,>=4->sphinx_design<0.4.0,>=0.3.0->dowhy==0.0.0) (1.1.5)\n",
            "Requirement already satisfied: babel>=2.9 in /usr/local/lib/python3.9/dist-packages (from sphinx<6,>=4->sphinx_design<0.4.0,>=0.3.0->dowhy==0.0.0) (2.12.1)\n",
            "Requirement already satisfied: imagesize>=1.3 in /usr/local/lib/python3.9/dist-packages (from sphinx<6,>=4->sphinx_design<0.4.0,>=0.3.0->dowhy==0.0.0) (1.4.1)\n",
            "Requirement already satisfied: sphinxcontrib-applehelp in /usr/local/lib/python3.9/dist-packages (from sphinx<6,>=4->sphinx_design<0.4.0,>=0.3.0->dowhy==0.0.0) (1.0.4)\n",
            "Requirement already satisfied: sphinxcontrib-devhelp in /usr/local/lib/python3.9/dist-packages (from sphinx<6,>=4->sphinx_design<0.4.0,>=0.3.0->dowhy==0.0.0) (1.0.2)\n",
            "Requirement already satisfied: importlib-metadata>=4.8 in /usr/local/lib/python3.9/dist-packages (from sphinx<6,>=4->sphinx_design<0.4.0,>=0.3.0->dowhy==0.0.0) (6.1.0)\n",
            "Requirement already satisfied: sphinxcontrib-qthelp in /usr/local/lib/python3.9/dist-packages (from sphinx<6,>=4->sphinx_design<0.4.0,>=0.3.0->dowhy==0.0.0) (1.0.3)\n",
            "Requirement already satisfied: Jinja2>=3.0 in /usr/local/lib/python3.9/dist-packages (from sphinx<6,>=4->sphinx_design<0.4.0,>=0.3.0->dowhy==0.0.0) (3.1.2)\n",
            "Requirement already satisfied: requests>=2.5.0 in /usr/local/lib/python3.9/dist-packages (from sphinx<6,>=4->sphinx_design<0.4.0,>=0.3.0->dowhy==0.0.0) (2.27.1)\n",
            "Requirement already satisfied: alabaster<0.8,>=0.7 in /usr/local/lib/python3.9/dist-packages (from sphinx<6,>=4->sphinx_design<0.4.0,>=0.3.0->dowhy==0.0.0) (0.7.13)\n",
            "Requirement already satisfied: sphinxcontrib-jsmath in /usr/local/lib/python3.9/dist-packages (from sphinx<6,>=4->sphinx_design<0.4.0,>=0.3.0->dowhy==0.0.0) (1.0.1)\n",
            "Requirement already satisfied: cycler>=0.10 in /usr/local/lib/python3.9/dist-packages (from matplotlib->causal-learn<0.2.0.0,>=0.1.3.0->dowhy==0.0.0) (0.11.0)\n",
            "Requirement already satisfied: fonttools>=4.22.0 in /usr/local/lib/python3.9/dist-packages (from matplotlib->causal-learn<0.2.0.0,>=0.1.3.0->dowhy==0.0.0) (4.39.2)\n",
            "Requirement already satisfied: importlib-resources>=3.2.0 in /usr/local/lib/python3.9/dist-packages (from matplotlib->causal-learn<0.2.0.0,>=0.1.3.0->dowhy==0.0.0) (5.12.0)\n",
            "Requirement already satisfied: pillow>=6.2.0 in /usr/local/lib/python3.9/dist-packages (from matplotlib->causal-learn<0.2.0.0,>=0.1.3.0->dowhy==0.0.0) (8.4.0)\n",
            "Requirement already satisfied: contourpy>=1.0.1 in /usr/local/lib/python3.9/dist-packages (from matplotlib->causal-learn<0.2.0.0,>=0.1.3.0->dowhy==0.0.0) (1.0.7)\n",
            "Requirement already satisfied: pyparsing>=2.3.1 in /usr/local/lib/python3.9/dist-packages (from matplotlib->causal-learn<0.2.0.0,>=0.1.3.0->dowhy==0.0.0) (3.0.9)\n",
            "Requirement already satisfied: kiwisolver>=1.0.1 in /usr/local/lib/python3.9/dist-packages (from matplotlib->causal-learn<0.2.0.0,>=0.1.3.0->dowhy==0.0.0) (1.4.4)\n",
            "Requirement already satisfied: zipp>=0.5 in /usr/local/lib/python3.9/dist-packages (from importlib-metadata>=4.8->sphinx<6,>=4->sphinx_design<0.4.0,>=0.3.0->dowhy==0.0.0) (3.15.0)\n",
            "Requirement already satisfied: MarkupSafe>=2.0 in /usr/local/lib/python3.9/dist-packages (from Jinja2>=3.0->sphinx<6,>=4->sphinx_design<0.4.0,>=0.3.0->dowhy==0.0.0) (2.1.2)\n",
            "Requirement already satisfied: charset-normalizer~=2.0.0 in /usr/local/lib/python3.9/dist-packages (from requests>=2.5.0->sphinx<6,>=4->sphinx_design<0.4.0,>=0.3.0->dowhy==0.0.0) (2.0.12)\n",
            "Requirement already satisfied: idna<4,>=2.5 in /usr/local/lib/python3.9/dist-packages (from requests>=2.5.0->sphinx<6,>=4->sphinx_design<0.4.0,>=0.3.0->dowhy==0.0.0) (3.4)\n",
            "Requirement already satisfied: urllib3<1.27,>=1.21.1 in /usr/local/lib/python3.9/dist-packages (from requests>=2.5.0->sphinx<6,>=4->sphinx_design<0.4.0,>=0.3.0->dowhy==0.0.0) (1.26.15)\n",
            "Requirement already satisfied: certifi>=2017.4.17 in /usr/local/lib/python3.9/dist-packages (from requests>=2.5.0->sphinx<6,>=4->sphinx_design<0.4.0,>=0.3.0->dowhy==0.0.0) (2022.12.7)\n"
          ]
        }
      ]
    },
    {
      "cell_type": "markdown",
      "source": [
        "First we import the libraries."
      ],
      "metadata": {
        "id": "hhQ7OHuyL_2Y"
      }
    },
    {
      "cell_type": "code",
      "execution_count": 3,
      "metadata": {
        "id": "8tsLWOO-3VGA"
      },
      "outputs": [],
      "source": [
        "import logging\n",
        "import warnings\n",
        "warnings.filterwarnings('ignore')\n",
        "import pandas as pd\n",
        "import numpy as np\n",
        "import statsmodels\n",
        "import statsmodels.formula.api as smf\n",
        "import statsmodels.api as sm\n",
        "import graphviz as gr\n",
        "from statsmodels.compat import lzip\n",
        "import statsmodels.formula.api as smf\n",
        "import statsmodels.stats.api as sms\n",
        "import matplotlib.pyplot as plt\n",
        "%matplotlib inline\n",
        "\n",
        "import dowhy"
      ]
    },
    {
      "cell_type": "markdown",
      "metadata": {
        "id": "ZW4Z33v_3VGH"
      },
      "source": [
        "We will try estimating the impact of years of education on the hourly wage from observational data. We will use the wage dataset that includes log-hourly wage considered to be our outcome $y$, the number of years of education considered the treatment $w$ plus some covariates, mainly IQ, experience, tenure, marital status, evolving in an urban area or not ..."
      ]
    },
    {
      "cell_type": "markdown",
      "source": [
        "<div class=\"alert alert-block alert-success\">\n",
        "\n",
        "**Question 1.** Import `wage` dataset and apply adequate panda function for removing missing values. Note that its default option will automatically determine if rows or columns which contain missing values are removed.\n",
        "\n",
        "</div>\n"
      ],
      "metadata": {
        "id": "Ylu4MtXJMJxc"
      }
    },
    {
      "cell_type": "code",
      "source": [
        "dataset = pd.read_csv('/content/wages.csv')\n",
        "dataset.head()"
      ],
      "metadata": {
        "colab": {
          "base_uri": "https://localhost:8080/",
          "height": 206
        },
        "id": "SpzzpiIwFkpb",
        "outputId": "98fed95f-757c-4120-ebb6-f820388921be"
      },
      "execution_count": 31,
      "outputs": [
        {
          "output_type": "execute_result",
          "data": {
            "text/plain": [
              "   wage  hours    lhwage   IQ  educ  exper  tenure  age  married  black  \\\n",
              "0   769     40  2.956212   93    12     11       2   31        1      0   \n",
              "1   808     50  2.782539  119    18     11      16   37        1      0   \n",
              "2   825     40  3.026504  108    14     11       9   33        1      0   \n",
              "3   650     40  2.788093   96    12     13       7   32        1      0   \n",
              "4   562     40  2.642622   74    11     14       5   34        1      0   \n",
              "\n",
              "   south  urban  sibs  brthord  meduc  feduc  \n",
              "0      0      1     1      2.0    8.0    8.0  \n",
              "1      0      1     1      NaN   14.0   14.0  \n",
              "2      0      1     1      2.0   14.0   14.0  \n",
              "3      0      1     4      3.0   12.0   12.0  \n",
              "4      0      1    10      6.0    6.0   11.0  "
            ],
            "text/html": [
              "\n",
              "  <div id=\"df-4e916cd0-f3fb-4aac-a694-b423c26f3c9b\">\n",
              "    <div class=\"colab-df-container\">\n",
              "      <div>\n",
              "<style scoped>\n",
              "    .dataframe tbody tr th:only-of-type {\n",
              "        vertical-align: middle;\n",
              "    }\n",
              "\n",
              "    .dataframe tbody tr th {\n",
              "        vertical-align: top;\n",
              "    }\n",
              "\n",
              "    .dataframe thead th {\n",
              "        text-align: right;\n",
              "    }\n",
              "</style>\n",
              "<table border=\"1\" class=\"dataframe\">\n",
              "  <thead>\n",
              "    <tr style=\"text-align: right;\">\n",
              "      <th></th>\n",
              "      <th>wage</th>\n",
              "      <th>hours</th>\n",
              "      <th>lhwage</th>\n",
              "      <th>IQ</th>\n",
              "      <th>educ</th>\n",
              "      <th>exper</th>\n",
              "      <th>tenure</th>\n",
              "      <th>age</th>\n",
              "      <th>married</th>\n",
              "      <th>black</th>\n",
              "      <th>south</th>\n",
              "      <th>urban</th>\n",
              "      <th>sibs</th>\n",
              "      <th>brthord</th>\n",
              "      <th>meduc</th>\n",
              "      <th>feduc</th>\n",
              "    </tr>\n",
              "  </thead>\n",
              "  <tbody>\n",
              "    <tr>\n",
              "      <th>0</th>\n",
              "      <td>769</td>\n",
              "      <td>40</td>\n",
              "      <td>2.956212</td>\n",
              "      <td>93</td>\n",
              "      <td>12</td>\n",
              "      <td>11</td>\n",
              "      <td>2</td>\n",
              "      <td>31</td>\n",
              "      <td>1</td>\n",
              "      <td>0</td>\n",
              "      <td>0</td>\n",
              "      <td>1</td>\n",
              "      <td>1</td>\n",
              "      <td>2.0</td>\n",
              "      <td>8.0</td>\n",
              "      <td>8.0</td>\n",
              "    </tr>\n",
              "    <tr>\n",
              "      <th>1</th>\n",
              "      <td>808</td>\n",
              "      <td>50</td>\n",
              "      <td>2.782539</td>\n",
              "      <td>119</td>\n",
              "      <td>18</td>\n",
              "      <td>11</td>\n",
              "      <td>16</td>\n",
              "      <td>37</td>\n",
              "      <td>1</td>\n",
              "      <td>0</td>\n",
              "      <td>0</td>\n",
              "      <td>1</td>\n",
              "      <td>1</td>\n",
              "      <td>NaN</td>\n",
              "      <td>14.0</td>\n",
              "      <td>14.0</td>\n",
              "    </tr>\n",
              "    <tr>\n",
              "      <th>2</th>\n",
              "      <td>825</td>\n",
              "      <td>40</td>\n",
              "      <td>3.026504</td>\n",
              "      <td>108</td>\n",
              "      <td>14</td>\n",
              "      <td>11</td>\n",
              "      <td>9</td>\n",
              "      <td>33</td>\n",
              "      <td>1</td>\n",
              "      <td>0</td>\n",
              "      <td>0</td>\n",
              "      <td>1</td>\n",
              "      <td>1</td>\n",
              "      <td>2.0</td>\n",
              "      <td>14.0</td>\n",
              "      <td>14.0</td>\n",
              "    </tr>\n",
              "    <tr>\n",
              "      <th>3</th>\n",
              "      <td>650</td>\n",
              "      <td>40</td>\n",
              "      <td>2.788093</td>\n",
              "      <td>96</td>\n",
              "      <td>12</td>\n",
              "      <td>13</td>\n",
              "      <td>7</td>\n",
              "      <td>32</td>\n",
              "      <td>1</td>\n",
              "      <td>0</td>\n",
              "      <td>0</td>\n",
              "      <td>1</td>\n",
              "      <td>4</td>\n",
              "      <td>3.0</td>\n",
              "      <td>12.0</td>\n",
              "      <td>12.0</td>\n",
              "    </tr>\n",
              "    <tr>\n",
              "      <th>4</th>\n",
              "      <td>562</td>\n",
              "      <td>40</td>\n",
              "      <td>2.642622</td>\n",
              "      <td>74</td>\n",
              "      <td>11</td>\n",
              "      <td>14</td>\n",
              "      <td>5</td>\n",
              "      <td>34</td>\n",
              "      <td>1</td>\n",
              "      <td>0</td>\n",
              "      <td>0</td>\n",
              "      <td>1</td>\n",
              "      <td>10</td>\n",
              "      <td>6.0</td>\n",
              "      <td>6.0</td>\n",
              "      <td>11.0</td>\n",
              "    </tr>\n",
              "  </tbody>\n",
              "</table>\n",
              "</div>\n",
              "      <button class=\"colab-df-convert\" onclick=\"convertToInteractive('df-4e916cd0-f3fb-4aac-a694-b423c26f3c9b')\"\n",
              "              title=\"Convert this dataframe to an interactive table.\"\n",
              "              style=\"display:none;\">\n",
              "        \n",
              "  <svg xmlns=\"http://www.w3.org/2000/svg\" height=\"24px\"viewBox=\"0 0 24 24\"\n",
              "       width=\"24px\">\n",
              "    <path d=\"M0 0h24v24H0V0z\" fill=\"none\"/>\n",
              "    <path d=\"M18.56 5.44l.94 2.06.94-2.06 2.06-.94-2.06-.94-.94-2.06-.94 2.06-2.06.94zm-11 1L8.5 8.5l.94-2.06 2.06-.94-2.06-.94L8.5 2.5l-.94 2.06-2.06.94zm10 10l.94 2.06.94-2.06 2.06-.94-2.06-.94-.94-2.06-.94 2.06-2.06.94z\"/><path d=\"M17.41 7.96l-1.37-1.37c-.4-.4-.92-.59-1.43-.59-.52 0-1.04.2-1.43.59L10.3 9.45l-7.72 7.72c-.78.78-.78 2.05 0 2.83L4 21.41c.39.39.9.59 1.41.59.51 0 1.02-.2 1.41-.59l7.78-7.78 2.81-2.81c.8-.78.8-2.07 0-2.86zM5.41 20L4 18.59l7.72-7.72 1.47 1.35L5.41 20z\"/>\n",
              "  </svg>\n",
              "      </button>\n",
              "      \n",
              "  <style>\n",
              "    .colab-df-container {\n",
              "      display:flex;\n",
              "      flex-wrap:wrap;\n",
              "      gap: 12px;\n",
              "    }\n",
              "\n",
              "    .colab-df-convert {\n",
              "      background-color: #E8F0FE;\n",
              "      border: none;\n",
              "      border-radius: 50%;\n",
              "      cursor: pointer;\n",
              "      display: none;\n",
              "      fill: #1967D2;\n",
              "      height: 32px;\n",
              "      padding: 0 0 0 0;\n",
              "      width: 32px;\n",
              "    }\n",
              "\n",
              "    .colab-df-convert:hover {\n",
              "      background-color: #E2EBFA;\n",
              "      box-shadow: 0px 1px 2px rgba(60, 64, 67, 0.3), 0px 1px 3px 1px rgba(60, 64, 67, 0.15);\n",
              "      fill: #174EA6;\n",
              "    }\n",
              "\n",
              "    [theme=dark] .colab-df-convert {\n",
              "      background-color: #3B4455;\n",
              "      fill: #D2E3FC;\n",
              "    }\n",
              "\n",
              "    [theme=dark] .colab-df-convert:hover {\n",
              "      background-color: #434B5C;\n",
              "      box-shadow: 0px 1px 3px 1px rgba(0, 0, 0, 0.15);\n",
              "      filter: drop-shadow(0px 1px 2px rgba(0, 0, 0, 0.3));\n",
              "      fill: #FFFFFF;\n",
              "    }\n",
              "  </style>\n",
              "\n",
              "      <script>\n",
              "        const buttonEl =\n",
              "          document.querySelector('#df-4e916cd0-f3fb-4aac-a694-b423c26f3c9b button.colab-df-convert');\n",
              "        buttonEl.style.display =\n",
              "          google.colab.kernel.accessAllowed ? 'block' : 'none';\n",
              "\n",
              "        async function convertToInteractive(key) {\n",
              "          const element = document.querySelector('#df-4e916cd0-f3fb-4aac-a694-b423c26f3c9b');\n",
              "          const dataTable =\n",
              "            await google.colab.kernel.invokeFunction('convertToInteractive',\n",
              "                                                     [key], {});\n",
              "          if (!dataTable) return;\n",
              "\n",
              "          const docLinkHtml = 'Like what you see? Visit the ' +\n",
              "            '<a target=\"_blank\" href=https://colab.research.google.com/notebooks/data_table.ipynb>data table notebook</a>'\n",
              "            + ' to learn more about interactive tables.';\n",
              "          element.innerHTML = '';\n",
              "          dataTable['output_type'] = 'display_data';\n",
              "          await google.colab.output.renderOutput(dataTable, element);\n",
              "          const docLink = document.createElement('div');\n",
              "          docLink.innerHTML = docLinkHtml;\n",
              "          element.appendChild(docLink);\n",
              "        }\n",
              "      </script>\n",
              "    </div>\n",
              "  </div>\n",
              "  "
            ]
          },
          "metadata": {},
          "execution_count": 31
        }
      ]
    },
    {
      "cell_type": "code",
      "source": [
        "dataset.dropna(inplace=True)"
      ],
      "metadata": {
        "id": "xfj4nKCDGSig"
      },
      "execution_count": 32,
      "outputs": []
    },
    {
      "cell_type": "code",
      "source": [
        "# dataset.loc[dataset.educ > 12, \"educ\"] = 1\n",
        "# dataset.loc[dataset.educ <= 12, \"educ\"] = 0"
      ],
      "metadata": {
        "id": "MUQS5nvbHztc"
      },
      "execution_count": 28,
      "outputs": []
    },
    {
      "cell_type": "code",
      "source": [
        "dataset.info()"
      ],
      "metadata": {
        "colab": {
          "base_uri": "https://localhost:8080/"
        },
        "id": "O5ZbVMYIGGL_",
        "outputId": "b414a505-d646-41a6-fb90-63c73cc9b2da"
      },
      "execution_count": 38,
      "outputs": [
        {
          "output_type": "stream",
          "name": "stdout",
          "text": [
            "<class 'pandas.core.frame.DataFrame'>\n",
            "Int64Index: 663 entries, 0 to 931\n",
            "Data columns (total 16 columns):\n",
            " #   Column   Non-Null Count  Dtype  \n",
            "---  ------   --------------  -----  \n",
            " 0   wage     663 non-null    int64  \n",
            " 1   hours    663 non-null    int64  \n",
            " 2   lhwage   663 non-null    float64\n",
            " 3   IQ       663 non-null    float64\n",
            " 4   educ     663 non-null    int64  \n",
            " 5   exper    663 non-null    int64  \n",
            " 6   tenure   663 non-null    int64  \n",
            " 7   age      663 non-null    int64  \n",
            " 8   married  663 non-null    int64  \n",
            " 9   black    663 non-null    int64  \n",
            " 10  south    663 non-null    int64  \n",
            " 11  urban    663 non-null    int64  \n",
            " 12  sibs     663 non-null    int64  \n",
            " 13  brthord  663 non-null    float64\n",
            " 14  meduc    663 non-null    float64\n",
            " 15  feduc    663 non-null    float64\n",
            "dtypes: float64(5), int64(11)\n",
            "memory usage: 88.1 KB\n"
          ]
        }
      ]
    },
    {
      "cell_type": "markdown",
      "metadata": {
        "id": "O_Zc_L7a3VGO"
      },
      "source": [
        "# Task 1: Regress outcome only on treatment in a linear fashion"
      ]
    },
    {
      "cell_type": "markdown",
      "source": [
        "<div class=\"alert alert-block alert-success\">\n",
        "\n",
        "**Question 2.** Using statmodels library, perform a regression of `wage` on `educ` and show results. The associated regression model will be called `model_1`. \n",
        "\n",
        "</div>"
      ],
      "metadata": {
        "id": "IAabZ9T9pYVW"
      }
    },
    {
      "cell_type": "code",
      "source": [
        "model_1 = smf.ols('wage ~ educ', data=dataset)\n",
        "model_1.fit().summary().tables[1]"
      ],
      "metadata": {
        "colab": {
          "base_uri": "https://localhost:8080/",
          "height": 81
        },
        "id": "jGiSQ19SGfKp",
        "outputId": "9dfc3229-06c2-4123-d221-4a7522056991"
      },
      "execution_count": 34,
      "outputs": [
        {
          "output_type": "execute_result",
          "data": {
            "text/plain": [
              "<class 'statsmodels.iolib.table.SimpleTable'>"
            ],
            "text/html": [
              "<table class=\"simpletable\">\n",
              "<tr>\n",
              "      <td></td>         <th>coef</th>     <th>std err</th>      <th>t</th>      <th>P>|t|</th>  <th>[0.025</th>    <th>0.975]</th>  \n",
              "</tr>\n",
              "<tr>\n",
              "  <th>Intercept</th> <td>  175.1600</td> <td>   92.839</td> <td>    1.887</td> <td> 0.060</td> <td>   -7.134</td> <td>  357.454</td>\n",
              "</tr>\n",
              "<tr>\n",
              "  <th>educ</th>      <td>   59.4518</td> <td>    6.698</td> <td>    8.876</td> <td> 0.000</td> <td>   46.300</td> <td>   72.604</td>\n",
              "</tr>\n",
              "</table>"
            ]
          },
          "metadata": {},
          "execution_count": 34
        }
      ]
    },
    {
      "cell_type": "markdown",
      "metadata": {
        "id": "CYQ7du5B3VGQ"
      },
      "source": [
        "### Interpret the regression parameter value ?"
      ]
    },
    {
      "cell_type": "markdown",
      "source": [
        "Your answer :\n",
        "\n",
        "It shows that one more year of education could bring 59.5 on average of wages. If someone takes no education, he would has 175.2 as basic wage. The p-value of this parameter is low, meaning that it is significantly not zero. The education do has an effect on wage."
      ],
      "metadata": {
        "id": "CagG39UpdMr7"
      }
    },
    {
      "cell_type": "markdown",
      "metadata": {
        "id": "3VpdiE-q3VGS"
      },
      "source": [
        "# Task 2: Estimation in the presence of a confounder"
      ]
    },
    {
      "cell_type": "markdown",
      "metadata": {
        "id": "qsHso4Md3VGT"
      },
      "source": [
        "We are going to take into consideration the presence of the confounder IQ. In general, the higher the IQ, the more likely the hourly wage is higher, and the more education level is up, and vice versa. \\\n",
        "We can illustrate the dependencies in the following causal graph :"
      ]
    },
    {
      "cell_type": "code",
      "execution_count": 14,
      "metadata": {
        "id": "d6cPkwQ_3VGU",
        "colab": {
          "base_uri": "https://localhost:8080/",
          "height": 271
        },
        "outputId": "450ba745-efc7-4b3e-b8c4-990fe93d181c"
      },
      "outputs": [
        {
          "output_type": "execute_result",
          "data": {
            "image/svg+xml": "<?xml version=\"1.0\" encoding=\"UTF-8\" standalone=\"no\"?>\n<!DOCTYPE svg PUBLIC \"-//W3C//DTD SVG 1.1//EN\"\n \"http://www.w3.org/Graphics/SVG/1.1/DTD/svg11.dtd\">\n<!-- Generated by graphviz version 2.43.0 (0)\n -->\n<!-- Title: %3 Pages: 1 -->\n<svg width=\"95pt\" height=\"188pt\"\n viewBox=\"0.00 0.00 95.14 188.00\" xmlns=\"http://www.w3.org/2000/svg\" xmlns:xlink=\"http://www.w3.org/1999/xlink\">\n<g id=\"graph0\" class=\"graph\" transform=\"scale(1 1) rotate(0) translate(4 184)\">\n<title>%3</title>\n<polygon fill=\"white\" stroke=\"transparent\" points=\"-4,4 -4,-184 91.14,-184 91.14,4 -4,4\"/>\n<!-- IQ -->\n<g id=\"node1\" class=\"node\">\n<title>IQ</title>\n<ellipse fill=\"none\" stroke=\"black\" cx=\"56.6\" cy=\"-162\" rx=\"27\" ry=\"18\"/>\n<text text-anchor=\"middle\" x=\"56.6\" y=\"-158.3\" font-family=\"Times,serif\" font-size=\"14.00\">IQ</text>\n</g>\n<!-- Educ -->\n<g id=\"node2\" class=\"node\">\n<title>Educ</title>\n<ellipse fill=\"none\" stroke=\"black\" cx=\"28.6\" cy=\"-90\" rx=\"28.7\" ry=\"18\"/>\n<text text-anchor=\"middle\" x=\"28.6\" y=\"-86.3\" font-family=\"Times,serif\" font-size=\"14.00\">Educ</text>\n</g>\n<!-- IQ&#45;&gt;Educ -->\n<g id=\"edge1\" class=\"edge\">\n<title>IQ&#45;&gt;Educ</title>\n<path fill=\"none\" stroke=\"black\" d=\"M49.96,-144.41C46.73,-136.34 42.77,-126.43 39.14,-117.35\"/>\n<polygon fill=\"black\" stroke=\"black\" points=\"42.34,-115.94 35.38,-107.96 35.84,-118.54 42.34,-115.94\"/>\n</g>\n<!-- Wage -->\n<g id=\"node3\" class=\"node\">\n<title>Wage</title>\n<ellipse fill=\"none\" stroke=\"black\" cx=\"56.6\" cy=\"-18\" rx=\"30.59\" ry=\"18\"/>\n<text text-anchor=\"middle\" x=\"56.6\" y=\"-14.3\" font-family=\"Times,serif\" font-size=\"14.00\">Wage</text>\n</g>\n<!-- IQ&#45;&gt;Wage -->\n<g id=\"edge2\" class=\"edge\">\n<title>IQ&#45;&gt;Wage</title>\n<path fill=\"none\" stroke=\"black\" d=\"M60.66,-143.93C62.9,-133.6 65.46,-120.12 66.6,-108 68.09,-92.07 68.09,-87.93 66.6,-72 65.8,-63.48 64.3,-54.28 62.69,-45.99\"/>\n<polygon fill=\"black\" stroke=\"black\" points=\"66.1,-45.16 60.66,-36.07 59.24,-46.57 66.1,-45.16\"/>\n</g>\n<!-- Educ&#45;&gt;Wage -->\n<g id=\"edge3\" class=\"edge\">\n<title>Educ&#45;&gt;Wage</title>\n<path fill=\"none\" stroke=\"black\" d=\"M35.23,-72.41C38.46,-64.34 42.42,-54.43 46.06,-45.35\"/>\n<polygon fill=\"black\" stroke=\"black\" points=\"49.35,-46.54 49.81,-35.96 42.85,-43.94 49.35,-46.54\"/>\n</g>\n</g>\n</svg>\n",
            "text/plain": [
              "<graphviz.graphs.Digraph at 0x7fae609e0490>"
            ]
          },
          "metadata": {},
          "execution_count": 14
        }
      ],
      "source": [
        "g = gr.Digraph()\n",
        "g.edge(\"IQ\", \"Educ\"), g.edge(\"IQ\", \"Wage\"), g.edge(\"Educ\", \"Wage\")\n",
        "g"
      ]
    },
    {
      "cell_type": "markdown",
      "source": [
        "<div class=\"alert alert-block alert-success\">\n",
        "\n",
        "**Question 3.** Regress the outcome `wage` on treatement `educ`and confounder `IQ`. The model will be called `model_2`. \n",
        "</div>"
      ],
      "metadata": {
        "id": "KhkrwVqTsEdA"
      }
    },
    {
      "cell_type": "code",
      "source": [
        "model_2 = smf.ols('wage ~ educ + IQ', data=dataset)\n",
        "model_2.fit().summary().tables[1]"
      ],
      "metadata": {
        "colab": {
          "base_uri": "https://localhost:8080/",
          "height": 102
        },
        "id": "P1vYjwScJfTi",
        "outputId": "ec2b9d38-b508-4d7e-f215-96fc972f134c"
      },
      "execution_count": 35,
      "outputs": [
        {
          "output_type": "execute_result",
          "data": {
            "text/plain": [
              "<class 'statsmodels.iolib.table.SimpleTable'>"
            ],
            "text/html": [
              "<table class=\"simpletable\">\n",
              "<tr>\n",
              "      <td></td>         <th>coef</th>     <th>std err</th>      <th>t</th>      <th>P>|t|</th>  <th>[0.025</th>    <th>0.975]</th>  \n",
              "</tr>\n",
              "<tr>\n",
              "  <th>Intercept</th> <td>  -99.5510</td> <td>  111.825</td> <td>   -0.890</td> <td> 0.374</td> <td> -319.127</td> <td>  120.025</td>\n",
              "</tr>\n",
              "<tr>\n",
              "  <th>educ</th>      <td>   41.1024</td> <td>    7.876</td> <td>    5.219</td> <td> 0.000</td> <td>   25.637</td> <td>   56.568</td>\n",
              "</tr>\n",
              "<tr>\n",
              "  <th>IQ</th>        <td>    5.1301</td> <td>    1.197</td> <td>    4.287</td> <td> 0.000</td> <td>    2.780</td> <td>    7.480</td>\n",
              "</tr>\n",
              "</table>"
            ]
          },
          "metadata": {},
          "execution_count": 35
        }
      ]
    },
    {
      "cell_type": "markdown",
      "metadata": {
        "id": "FJOsRB_l3VGW"
      },
      "source": [
        "### What is the interpretation of the regression parameter associated to treatement ? "
      ]
    },
    {
      "cell_type": "markdown",
      "metadata": {
        "id": "t5dN8SuZ3VGX"
      },
      "source": [
        "<div class=\"alert alert-block alert-success\">\n",
        "\n",
        "**Question 4.** Interpret the regression parameter associated to treatement ? \n",
        "</div>"
      ]
    },
    {
      "cell_type": "markdown",
      "source": [
        "Write your answer here:\n",
        "\n",
        "It shows that one more year of education could bring 41.1 on average of wages. Moreover, if IQ increases by 1, the wage increase 5.1 on average. \n",
        "\n",
        "The effect of the treatment (education) becomes weaker. Because we have considered one more variable (IQ) which is a confounding factor, i.e. influences both treatment and target."
      ],
      "metadata": {
        "id": "ggyu8fLUspFB"
      }
    },
    {
      "cell_type": "markdown",
      "metadata": {
        "id": "_18r3isa3VGX"
      },
      "source": [
        "<div class=\"alert alert-block alert-success\">\n",
        "\n",
        "**Question 5.** Assuming everything goes well, compute the average treatment effect ATE. You can also check the result using the library `dowhy` only on the subgraph\n",
        "</div>"
      ]
    },
    {
      "cell_type": "markdown",
      "metadata": {
        "id": "FWOJPxIn3VGY"
      },
      "source": [
        "Write your answer here:\n",
        "\n",
        "ATE equals to the coefficient before \"educ\". Thus, ATE = 41.1"
      ]
    },
    {
      "cell_type": "code",
      "source": [],
      "metadata": {
        "id": "zvDi2LhMKpMs"
      },
      "execution_count": null,
      "outputs": []
    },
    {
      "cell_type": "markdown",
      "metadata": {
        "id": "tM_DnCHr3VGY"
      },
      "source": [
        "## Task: Estimation in the presence of other covariates"
      ]
    },
    {
      "cell_type": "markdown",
      "source": [
        "<div class=\"alert alert-block alert-success\">\n",
        "\n",
        "**Question 6.**  Regress this time while adding the following covariates `IQ`, `exper`, `tenure`, `age`, `married`, `black`, `south`, `urban`, `sibs`, `brthord`, `meduc`, `feduc`. But, before to regress, take time to centering them for fixing the multicollinearity. The regression model will be called `model_3`. \n",
        "</div>"
      ],
      "metadata": {
        "id": "V69scPxbvQ8I"
      }
    },
    {
      "cell_type": "code",
      "source": [
        "cols = [\"IQ\", \"exper\", \"tenure\", \"age\", \"brthord\"]\n",
        "for col in cols:\n",
        "  dataset[col] -= dataset[col].mean()"
      ],
      "metadata": {
        "id": "SeNiLrljLG0t"
      },
      "execution_count": 39,
      "outputs": []
    },
    {
      "cell_type": "code",
      "source": [
        "model_3 = smf.ols('wage ~ educ + IQ + exper + tenure + age + married + black + south + urban + sibs + brthord', data=dataset)\n",
        "model_3.fit().summary().tables[1]"
      ],
      "metadata": {
        "colab": {
          "base_uri": "https://localhost:8080/",
          "height": 291
        },
        "id": "CRpnYejWLDSq",
        "outputId": "b3cc986e-d818-4b56-d37d-3435ce372c08"
      },
      "execution_count": 40,
      "outputs": [
        {
          "output_type": "execute_result",
          "data": {
            "text/plain": [
              "<class 'statsmodels.iolib.table.SimpleTable'>"
            ],
            "text/html": [
              "<table class=\"simpletable\">\n",
              "<tr>\n",
              "      <td></td>         <th>coef</th>     <th>std err</th>      <th>t</th>      <th>P>|t|</th>  <th>[0.025</th>    <th>0.975]</th>  \n",
              "</tr>\n",
              "<tr>\n",
              "  <th>Intercept</th> <td>   47.0937</td> <td>  131.982</td> <td>    0.357</td> <td> 0.721</td> <td> -212.067</td> <td>  306.255</td>\n",
              "</tr>\n",
              "<tr>\n",
              "  <th>educ</th>      <td>   47.3124</td> <td>    8.673</td> <td>    5.455</td> <td> 0.000</td> <td>   30.282</td> <td>   64.343</td>\n",
              "</tr>\n",
              "<tr>\n",
              "  <th>IQ</th>        <td>    4.0323</td> <td>    1.203</td> <td>    3.351</td> <td> 0.001</td> <td>    1.670</td> <td>    6.395</td>\n",
              "</tr>\n",
              "<tr>\n",
              "  <th>exper</th>     <td>    9.7951</td> <td>    4.501</td> <td>    2.176</td> <td> 0.030</td> <td>    0.957</td> <td>   18.633</td>\n",
              "</tr>\n",
              "<tr>\n",
              "  <th>tenure</th>    <td>    3.5033</td> <td>    2.936</td> <td>    1.193</td> <td> 0.233</td> <td>   -2.262</td> <td>    9.269</td>\n",
              "</tr>\n",
              "<tr>\n",
              "  <th>age</th>       <td>   12.0770</td> <td>    5.573</td> <td>    2.167</td> <td> 0.031</td> <td>    1.133</td> <td>   23.021</td>\n",
              "</tr>\n",
              "<tr>\n",
              "  <th>married</th>   <td>  177.1029</td> <td>   46.792</td> <td>    3.785</td> <td> 0.000</td> <td>   85.221</td> <td>  268.985</td>\n",
              "</tr>\n",
              "<tr>\n",
              "  <th>black</th>     <td> -118.2153</td> <td>   56.123</td> <td>   -2.106</td> <td> 0.036</td> <td> -228.419</td> <td>   -8.012</td>\n",
              "</tr>\n",
              "<tr>\n",
              "  <th>south</th>     <td>  -26.7479</td> <td>   31.116</td> <td>   -0.860</td> <td> 0.390</td> <td>  -87.848</td> <td>   34.352</td>\n",
              "</tr>\n",
              "<tr>\n",
              "  <th>urban</th>     <td>  189.7426</td> <td>   31.531</td> <td>    6.018</td> <td> 0.000</td> <td>  127.828</td> <td>  251.657</td>\n",
              "</tr>\n",
              "<tr>\n",
              "  <th>sibs</th>      <td>    5.7672</td> <td>    7.956</td> <td>    0.725</td> <td> 0.469</td> <td>   -9.856</td> <td>   21.390</td>\n",
              "</tr>\n",
              "<tr>\n",
              "  <th>brthord</th>   <td>  -19.3379</td> <td>   11.623</td> <td>   -1.664</td> <td> 0.097</td> <td>  -42.160</td> <td>    3.484</td>\n",
              "</tr>\n",
              "</table>"
            ]
          },
          "metadata": {},
          "execution_count": 40
        }
      ]
    },
    {
      "cell_type": "markdown",
      "metadata": {
        "id": "6DEAWgRb3VGb"
      },
      "source": [
        "### Interpret the resulting estimation parameter related to education"
      ]
    },
    {
      "cell_type": "markdown",
      "source": [
        "<div class=\"alert alert-block alert-success\">\n",
        "\n",
        "**Question 7.** Interpret the regression parameter associated to `education`.  \n",
        "</div>"
      ],
      "metadata": {
        "id": "1AweI_WQvsxH"
      }
    },
    {
      "cell_type": "markdown",
      "metadata": {
        "id": "9PEQjCB73VGb"
      },
      "source": [
        "Write your answer here: \n",
        "\n",
        "The result shows that if one recieves one more year education, his(her) wage would increase 47.3 on average. "
      ]
    },
    {
      "cell_type": "markdown",
      "metadata": {
        "id": "T6EwFgC_3VGb"
      },
      "source": [
        "### Compute the ATE"
      ]
    },
    {
      "cell_type": "markdown",
      "source": [
        "<div class=\"alert alert-block alert-success\">\n",
        "\n",
        "**Question 8.** Assuming everything goes well, compute the average treatment effect ATE \n",
        "</div>"
      ],
      "metadata": {
        "id": "EQF_XSQ6wGlA"
      }
    },
    {
      "cell_type": "markdown",
      "metadata": {
        "id": "Za0EH5Rb3VGc"
      },
      "source": [
        "Write your answer here:\n",
        "\n",
        "In this case, ATE = 47.3"
      ]
    },
    {
      "cell_type": "markdown",
      "metadata": {
        "id": "bDvoi6Sr3VGi"
      },
      "source": [
        "# Task: Estimating a Conditional Average Treatement Effect (CATE)"
      ]
    },
    {
      "cell_type": "markdown",
      "metadata": {
        "id": "JApmSwHJ3VGj"
      },
      "source": [
        "We will position ourselves in a binary treatment setting where being treated is defined as having an educational level greater than high school."
      ]
    },
    {
      "cell_type": "markdown",
      "metadata": {
        "id": "V0DIXx3C3VGj"
      },
      "source": [
        "<div class=\"alert alert-block alert-success\">\n",
        "\n",
        "**Question 9.** Implement the regression : $Y_i = \\beta_0 + \\beta_1 W_i + \\beta_2 IQ_i + \\epsilon_i $ and plot the two conditional responses $\\mathbb{E}(Y_i| W_i =1, IQ)$ and $\\mathbb{E}(Y_i| W_i =0, IQ)$\n",
        "</div>"
      ]
    },
    {
      "cell_type": "code",
      "execution_count": 66,
      "metadata": {
        "id": "W1LDtYTe3VGj",
        "colab": {
          "base_uri": "https://localhost:8080/",
          "height": 265
        },
        "outputId": "a7ee8e7c-35ec-4430-89b1-f25fb7a0ef2e"
      },
      "outputs": [
        {
          "output_type": "display_data",
          "data": {
            "text/plain": [
              "<Figure size 432x288 with 1 Axes>"
            ],
            "image/png": "[encoded data removed]"
          },
          "metadata": {
            "needs_background": "light"
          }
        }
      ],
      "source": [
        "# Write the code here.\n",
        "# Clue : you have to create a new binary treatment variable through the position we adopt.\n",
        "dataset[\"educ_binary\"] = (dataset.educ > 12).astype(int)\n",
        "model_4 = smf.ols('wage ~ educ_binary + IQ', data=dataset)\n",
        "result = model_4.fit()\n",
        "# result.summary().tables[1]\n",
        "\n",
        "# Write the rest of the code here (the plot part):\n",
        "plt.plot(result.get_prediction(dataset[dataset[\"educ_binary\"] == 1][['IQ', \"educ_binary\"]]).predicted_mean, label=\"W=1\")\n",
        "plt.plot(result.get_prediction(dataset[dataset[\"educ_binary\"] == 0][['IQ', \"educ_binary\"]]).predicted_mean, label=\"W=0\")\n",
        "plt.legend()\n",
        "plt.show()"
      ]
    },
    {
      "cell_type": "code",
      "source": [
        "result.summary().tables[1]"
      ],
      "metadata": {
        "colab": {
          "base_uri": "https://localhost:8080/",
          "height": 102
        },
        "id": "XRC79W_fRb2t",
        "outputId": "64f98514-f952-4787-e447-1df1a293677d"
      },
      "execution_count": 69,
      "outputs": [
        {
          "output_type": "execute_result",
          "data": {
            "text/plain": [
              "<class 'statsmodels.iolib.table.SimpleTable'>"
            ],
            "text/html": [
              "<table class=\"simpletable\">\n",
              "<tr>\n",
              "       <td></td>          <th>coef</th>     <th>std err</th>      <th>t</th>      <th>P>|t|</th>  <th>[0.025</th>    <th>0.975]</th>  \n",
              "</tr>\n",
              "<tr>\n",
              "  <th>Intercept</th>   <td>  914.2488</td> <td>   23.002</td> <td>   39.747</td> <td> 0.000</td> <td>  869.084</td> <td>  959.414</td>\n",
              "</tr>\n",
              "<tr>\n",
              "  <th>educ_binary</th> <td>  143.4754</td> <td>   33.963</td> <td>    4.224</td> <td> 0.000</td> <td>   76.786</td> <td>  210.165</td>\n",
              "</tr>\n",
              "<tr>\n",
              "  <th>IQ</th>          <td>    6.1556</td> <td>    1.156</td> <td>    5.323</td> <td> 0.000</td> <td>    3.885</td> <td>    8.426</td>\n",
              "</tr>\n",
              "</table>"
            ]
          },
          "metadata": {},
          "execution_count": 69
        }
      ]
    },
    {
      "cell_type": "markdown",
      "metadata": {
        "id": "JdB1qGdm3VGl"
      },
      "source": [
        "<div class=\"alert alert-block alert-success\">\n",
        "\n",
        "**Question 10.** Implement the regression : $Y_i = \\beta_0 + \\beta_1W_i + \\beta_2IQ_i + \\beta_3IQ_iW_i +  \\epsilon_i $ and plot the two conditional responses $\\mathbb{E}(Y_i| W_i =1, IQ)$ and $\\mathbb{E}(Y_i| W_i =0, IQ)$ and derive CATE. The associated regression model will be called `m`. Note that the CATE is written as $\\tau(IQ) = \\beta_1 + \\beta_3IQ $.\n",
        "</div>"
      ]
    },
    {
      "cell_type": "code",
      "source": [
        "m = smf.ols('wage ~ educ_binary + IQ + educ_binary * IQ', data=dataset)\n",
        "result_5 = m.fit()\n",
        "\n",
        "# Write the rest of the code here (the plot part):\n",
        "plt.plot(result_5.get_prediction(dataset[dataset[\"educ_binary\"] == 1][['IQ', \"educ_binary\"]]).predicted_mean, label=\"W=1\")\n",
        "plt.plot(result_5.get_prediction(dataset[dataset[\"educ_binary\"] == 0][['IQ', \"educ_binary\"]]).predicted_mean, label=\"W=0\")\n",
        "plt.legend()\n",
        "plt.show()"
      ],
      "metadata": {
        "colab": {
          "base_uri": "https://localhost:8080/",
          "height": 265
        },
        "id": "kDbteCAMOz9O",
        "outputId": "07181c50-0267-489c-c6e5-fc8f2820bc36"
      },
      "execution_count": 70,
      "outputs": [
        {
          "output_type": "display_data",
          "data": {
            "text/plain": [
              "<Figure size 432x288 with 1 Axes>"
            ],
            "image/png": "[encoded data removed]"
          },
          "metadata": {
            "needs_background": "light"
          }
        }
      ]
    },
    {
      "cell_type": "code",
      "source": [
        "result_5.summary().tables[1]"
      ],
      "metadata": {
        "colab": {
          "base_uri": "https://localhost:8080/",
          "height": 123
        },
        "id": "6uHJNcpXRQEp",
        "outputId": "f4decb84-a9c8-48a2-f544-88f8984f0d0e"
      },
      "execution_count": 68,
      "outputs": [
        {
          "output_type": "execute_result",
          "data": {
            "text/plain": [
              "<class 'statsmodels.iolib.table.SimpleTable'>"
            ],
            "text/html": [
              "<table class=\"simpletable\">\n",
              "<tr>\n",
              "         <td></td>           <th>coef</th>     <th>std err</th>      <th>t</th>      <th>P>|t|</th>  <th>[0.025</th>    <th>0.975]</th>  \n",
              "</tr>\n",
              "<tr>\n",
              "  <th>Intercept</th>      <td>  911.0924</td> <td>   24.578</td> <td>   37.070</td> <td> 0.000</td> <td>  862.832</td> <td>  959.353</td>\n",
              "</tr>\n",
              "<tr>\n",
              "  <th>educ_binary</th>    <td>  143.7525</td> <td>   33.994</td> <td>    4.229</td> <td> 0.000</td> <td>   77.003</td> <td>  210.502</td>\n",
              "</tr>\n",
              "<tr>\n",
              "  <th>IQ</th>             <td>    5.7271</td> <td>    1.646</td> <td>    3.480</td> <td> 0.001</td> <td>    2.495</td> <td>    8.959</td>\n",
              "</tr>\n",
              "<tr>\n",
              "  <th>educ_binary:IQ</th> <td>    0.8476</td> <td>    2.315</td> <td>    0.366</td> <td> 0.714</td> <td>   -3.697</td> <td>    5.392</td>\n",
              "</tr>\n",
              "</table>"
            ]
          },
          "metadata": {},
          "execution_count": 68
        }
      ]
    },
    {
      "cell_type": "code",
      "source": [
        "print(f\"CATE: \", (result_5.params[1] + result_5.params[3] * dataset[\"IQ\"]).mean()) "
      ],
      "metadata": {
        "colab": {
          "base_uri": "https://localhost:8080/"
        },
        "id": "XE4aH2F6Raf7",
        "outputId": "76432515-1650-421d-dfcb-0013e1e010f3"
      },
      "execution_count": 74,
      "outputs": [
        {
          "output_type": "stream",
          "name": "stdout",
          "text": [
            "CATE:  143.75251594201336\n"
          ]
        }
      ]
    },
    {
      "cell_type": "code",
      "source": [],
      "metadata": {
        "id": "H6ofQYw1SThQ"
      },
      "execution_count": null,
      "outputs": []
    }
  ],
  "metadata": {
    "kernelspec": {
      "display_name": "Python 3.6.8 64-bit",
      "language": "python",
      "name": "python3"
    },
    "language_info": {
      "codemirror_mode": {
        "name": "ipython",
        "version": 3
      },
      "file_extension": ".py",
      "mimetype": "text/x-python",
      "name": "python",
      "nbconvert_exporter": "python",
      "pygments_lexer": "ipython3",
      "version": "3.6.8"
    },
    "orig_nbformat": 4,
    "vscode": {
      "interpreter": {
        "hash": "31f2aee4e71d21fbe5cf8b01ff0e069b9275f58929596ceb00d14d90e3e16cd6"
      }
    },
    "colab": {
      "provenance": []
    }
  },
  "nbformat": 4,
  "nbformat_minor": 0
}