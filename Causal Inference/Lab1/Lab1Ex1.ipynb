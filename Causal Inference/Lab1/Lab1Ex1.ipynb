{
  "nbformat": 4,
  "nbformat_minor": 0,
  "metadata": {
    "colab": {
      "provenance": []
    },
    "kernelspec": {
      "name": "python3",
      "display_name": "Python 3"
    },
    "language_info": {
      "name": "python"
    }
  },
  "cells": [
    {
      "cell_type": "code",
      "source": [
        "import pandas as pd\n",
        "import numpy as np\n",
        "from scipy.stats import norm\n",
        "from datetime import datetime\n",
        "import scipy.stats as stats\n",
        "from statsmodels.stats.weightstats import ttest_ind\n",
        "import statsmodels\n",
        "import statsmodels.formula.api as smf"
      ],
      "metadata": {
        "id": "g_U_P7eIW2us"
      },
      "execution_count": 1,
      "outputs": []
    },
    {
      "cell_type": "markdown",
      "source": [
        "### **RCT on synthetic data**"
      ],
      "metadata": {
        "id": "XRn2q4OYh2HK"
      }
    },
    {
      "cell_type": "markdown",
      "source": [
        "Preliminary functions"
      ],
      "metadata": {
        "id": "bN9GokxbpBBR"
      }
    },
    {
      "cell_type": "markdown",
      "source": [
        "Simulation of a linear model"
      ],
      "metadata": {
        "id": "WuIukbiIh-Cu"
      }
    },
    {
      "cell_type": "code",
      "source": [
        "def linear_simulation(n, sigma, p):\n",
        "  X1 = np.random.normal(1, 1, n)\n",
        "  X2 = np.random.normal(1, 1, n)\n",
        "  X3 = np.random.normal(1, 1, n)\n",
        "  X4 = np.random.normal(1, 1, n)\n",
        "  epsilon = np.random.normal(0, sigma, n) # mean, std, n\n",
        "  T=np.random.binomial(1, p, n)\n",
        "  Y= 3 * X1+ 2 * X2 - 2 * X3 - 0.8 * X4 + T * (2 * X1+ 5 * X3 + 3 * X4) + epsilon\n",
        "  d=np.array([T, X1, X2, X3, X4, Y])\n",
        "  df_data = pd.DataFrame(data=d.T,columns=['T','X1','X2','X3','X4','Y']) \n",
        "  return df_data "
      ],
      "metadata": {
        "id": "CBP5mTR4iNTX"
      },
      "execution_count": 2,
      "outputs": []
    },
    {
      "cell_type": "code",
      "source": [
        "df_data_linear=linear_simulation(1000, 1.0, 0.5)\n",
        "df_data_linear"
      ],
      "metadata": {
        "colab": {
          "base_uri": "https://localhost:8080/",
          "height": 424
        },
        "id": "TkpYQfrdsiy_",
        "outputId": "07cb5276-258d-400d-cdfa-679f1e9f6557"
      },
      "execution_count": 3,
      "outputs": [
        {
          "output_type": "execute_result",
          "data": {
            "text/plain": [
              "       T        X1        X2        X3        X4          Y\n",
              "0    1.0  0.666749  1.079966  2.160928  0.544501  13.327897\n",
              "1    0.0  0.364461  1.662603  2.970864  0.667599  -2.422283\n",
              "2    0.0  0.817405  0.925190 -0.962750 -0.818448   6.768815\n",
              "3    1.0  0.701064  0.451339  0.420425  0.841974   7.973556\n",
              "4    1.0  0.294284  1.586945  2.041487 -1.479882   6.568205\n",
              "..   ...       ...       ...       ...       ...        ...\n",
              "995  0.0  1.013216 -0.053312 -1.596314  2.720668   3.601656\n",
              "996  0.0  1.625997 -0.323190  0.666007 -0.925112   3.930111\n",
              "997  0.0  2.126841  2.211262  0.621271  1.105185   8.480837\n",
              "998  0.0  2.734820  0.694465  1.922659  1.728001   3.924829\n",
              "999  0.0  1.613988  0.779023  1.714287  1.934253   3.365981\n",
              "\n",
              "[1000 rows x 6 columns]"
            ],
            "text/html": [
              "\n",
              "  <div id=\"df-3954422f-fe67-45ac-8239-df2a385004be\">\n",
              "    <div class=\"colab-df-container\">\n",
              "      <div>\n",
              "<style scoped>\n",
              "    .dataframe tbody tr th:only-of-type {\n",
              "        vertical-align: middle;\n",
              "    }\n",
              "\n",
              "    .dataframe tbody tr th {\n",
              "        vertical-align: top;\n",
              "    }\n",
              "\n",
              "    .dataframe thead th {\n",
              "        text-align: right;\n",
              "    }\n",
              "</style>\n",
              "<table border=\"1\" class=\"dataframe\">\n",
              "  <thead>\n",
              "    <tr style=\"text-align: right;\">\n",
              "      <th></th>\n",
              "      <th>T</th>\n",
              "      <th>X1</th>\n",
              "      <th>X2</th>\n",
              "      <th>X3</th>\n",
              "      <th>X4</th>\n",
              "      <th>Y</th>\n",
              "    </tr>\n",
              "  </thead>\n",
              "  <tbody>\n",
              "    <tr>\n",
              "      <th>0</th>\n",
              "      <td>1.0</td>\n",
              "      <td>0.666749</td>\n",
              "      <td>1.079966</td>\n",
              "      <td>2.160928</td>\n",
              "      <td>0.544501</td>\n",
              "      <td>13.327897</td>\n",
              "    </tr>\n",
              "    <tr>\n",
              "      <th>1</th>\n",
              "      <td>0.0</td>\n",
              "      <td>0.364461</td>\n",
              "      <td>1.662603</td>\n",
              "      <td>2.970864</td>\n",
              "      <td>0.667599</td>\n",
              "      <td>-2.422283</td>\n",
              "    </tr>\n",
              "    <tr>\n",
              "      <th>2</th>\n",
              "      <td>0.0</td>\n",
              "      <td>0.817405</td>\n",
              "      <td>0.925190</td>\n",
              "      <td>-0.962750</td>\n",
              "      <td>-0.818448</td>\n",
              "      <td>6.768815</td>\n",
              "    </tr>\n",
              "    <tr>\n",
              "      <th>3</th>\n",
              "      <td>1.0</td>\n",
              "      <td>0.701064</td>\n",
              "      <td>0.451339</td>\n",
              "      <td>0.420425</td>\n",
              "      <td>0.841974</td>\n",
              "      <td>7.973556</td>\n",
              "    </tr>\n",
              "    <tr>\n",
              "      <th>4</th>\n",
              "      <td>1.0</td>\n",
              "      <td>0.294284</td>\n",
              "      <td>1.586945</td>\n",
              "      <td>2.041487</td>\n",
              "      <td>-1.479882</td>\n",
              "      <td>6.568205</td>\n",
              "    </tr>\n",
              "    <tr>\n",
              "      <th>...</th>\n",
              "      <td>...</td>\n",
              "      <td>...</td>\n",
              "      <td>...</td>\n",
              "      <td>...</td>\n",
              "      <td>...</td>\n",
              "      <td>...</td>\n",
              "    </tr>\n",
              "    <tr>\n",
              "      <th>995</th>\n",
              "      <td>0.0</td>\n",
              "      <td>1.013216</td>\n",
              "      <td>-0.053312</td>\n",
              "      <td>-1.596314</td>\n",
              "      <td>2.720668</td>\n",
              "      <td>3.601656</td>\n",
              "    </tr>\n",
              "    <tr>\n",
              "      <th>996</th>\n",
              "      <td>0.0</td>\n",
              "      <td>1.625997</td>\n",
              "      <td>-0.323190</td>\n",
              "      <td>0.666007</td>\n",
              "      <td>-0.925112</td>\n",
              "      <td>3.930111</td>\n",
              "    </tr>\n",
              "    <tr>\n",
              "      <th>997</th>\n",
              "      <td>0.0</td>\n",
              "      <td>2.126841</td>\n",
              "      <td>2.211262</td>\n",
              "      <td>0.621271</td>\n",
              "      <td>1.105185</td>\n",
              "      <td>8.480837</td>\n",
              "    </tr>\n",
              "    <tr>\n",
              "      <th>998</th>\n",
              "      <td>0.0</td>\n",
              "      <td>2.734820</td>\n",
              "      <td>0.694465</td>\n",
              "      <td>1.922659</td>\n",
              "      <td>1.728001</td>\n",
              "      <td>3.924829</td>\n",
              "    </tr>\n",
              "    <tr>\n",
              "      <th>999</th>\n",
              "      <td>0.0</td>\n",
              "      <td>1.613988</td>\n",
              "      <td>0.779023</td>\n",
              "      <td>1.714287</td>\n",
              "      <td>1.934253</td>\n",
              "      <td>3.365981</td>\n",
              "    </tr>\n",
              "  </tbody>\n",
              "</table>\n",
              "<p>1000 rows × 6 columns</p>\n",
              "</div>\n",
              "      <button class=\"colab-df-convert\" onclick=\"convertToInteractive('df-3954422f-fe67-45ac-8239-df2a385004be')\"\n",
              "              title=\"Convert this dataframe to an interactive table.\"\n",
              "              style=\"display:none;\">\n",
              "        \n",
              "  <svg xmlns=\"http://www.w3.org/2000/svg\" height=\"24px\"viewBox=\"0 0 24 24\"\n",
              "       width=\"24px\">\n",
              "    <path d=\"M0 0h24v24H0V0z\" fill=\"none\"/>\n",
              "    <path d=\"M18.56 5.44l.94 2.06.94-2.06 2.06-.94-2.06-.94-.94-2.06-.94 2.06-2.06.94zm-11 1L8.5 8.5l.94-2.06 2.06-.94-2.06-.94L8.5 2.5l-.94 2.06-2.06.94zm10 10l.94 2.06.94-2.06 2.06-.94-2.06-.94-.94-2.06-.94 2.06-2.06.94z\"/><path d=\"M17.41 7.96l-1.37-1.37c-.4-.4-.92-.59-1.43-.59-.52 0-1.04.2-1.43.59L10.3 9.45l-7.72 7.72c-.78.78-.78 2.05 0 2.83L4 21.41c.39.39.9.59 1.41.59.51 0 1.02-.2 1.41-.59l7.78-7.78 2.81-2.81c.8-.78.8-2.07 0-2.86zM5.41 20L4 18.59l7.72-7.72 1.47 1.35L5.41 20z\"/>\n",
              "  </svg>\n",
              "      </button>\n",
              "      \n",
              "  <style>\n",
              "    .colab-df-container {\n",
              "      display:flex;\n",
              "      flex-wrap:wrap;\n",
              "      gap: 12px;\n",
              "    }\n",
              "\n",
              "    .colab-df-convert {\n",
              "      background-color: #E8F0FE;\n",
              "      border: none;\n",
              "      border-radius: 50%;\n",
              "      cursor: pointer;\n",
              "      display: none;\n",
              "      fill: #1967D2;\n",
              "      height: 32px;\n",
              "      padding: 0 0 0 0;\n",
              "      width: 32px;\n",
              "    }\n",
              "\n",
              "    .colab-df-convert:hover {\n",
              "      background-color: #E2EBFA;\n",
              "      box-shadow: 0px 1px 2px rgba(60, 64, 67, 0.3), 0px 1px 3px 1px rgba(60, 64, 67, 0.15);\n",
              "      fill: #174EA6;\n",
              "    }\n",
              "\n",
              "    [theme=dark] .colab-df-convert {\n",
              "      background-color: #3B4455;\n",
              "      fill: #D2E3FC;\n",
              "    }\n",
              "\n",
              "    [theme=dark] .colab-df-convert:hover {\n",
              "      background-color: #434B5C;\n",
              "      box-shadow: 0px 1px 3px 1px rgba(0, 0, 0, 0.15);\n",
              "      filter: drop-shadow(0px 1px 2px rgba(0, 0, 0, 0.3));\n",
              "      fill: #FFFFFF;\n",
              "    }\n",
              "  </style>\n",
              "\n",
              "      <script>\n",
              "        const buttonEl =\n",
              "          document.querySelector('#df-3954422f-fe67-45ac-8239-df2a385004be button.colab-df-convert');\n",
              "        buttonEl.style.display =\n",
              "          google.colab.kernel.accessAllowed ? 'block' : 'none';\n",
              "\n",
              "        async function convertToInteractive(key) {\n",
              "          const element = document.querySelector('#df-3954422f-fe67-45ac-8239-df2a385004be');\n",
              "          const dataTable =\n",
              "            await google.colab.kernel.invokeFunction('convertToInteractive',\n",
              "                                                     [key], {});\n",
              "          if (!dataTable) return;\n",
              "\n",
              "          const docLinkHtml = 'Like what you see? Visit the ' +\n",
              "            '<a target=\"_blank\" href=https://colab.research.google.com/notebooks/data_table.ipynb>data table notebook</a>'\n",
              "            + ' to learn more about interactive tables.';\n",
              "          element.innerHTML = '';\n",
              "          dataTable['output_type'] = 'display_data';\n",
              "          await google.colab.output.renderOutput(dataTable, element);\n",
              "          const docLink = document.createElement('div');\n",
              "          docLink.innerHTML = docLinkHtml;\n",
              "          element.appendChild(docLink);\n",
              "        }\n",
              "      </script>\n",
              "    </div>\n",
              "  </div>\n",
              "  "
            ]
          },
          "metadata": {},
          "execution_count": 3
        }
      ]
    },
    {
      "cell_type": "markdown",
      "source": [
        "Simulation of a non linear model"
      ],
      "metadata": {
        "id": "1la2slJdiBZZ"
      }
    },
    {
      "cell_type": "code",
      "source": [
        "def non_linear_simulation(n,sigma,p):\n",
        "  X1 = np.random.normal(1, 1, n)\n",
        "  X2 = np.random.normal(1, 1, n)\n",
        "  X3 = np.random.normal(1, 1, n)\n",
        "  X4 = np.random.normal(1, 1, n)\n",
        "  epsilon = np.random.normal(0, sigma, n)\n",
        "  T = np.random.binomial(1, p, n)\n",
        "  Y = 3 * X1 + 2 * X2**2 - 2 * X3 - 0.8 * X4 + 10 * T + epsilon\n",
        "  d=np.array([T, X1, X2, X3, X4, Y])\n",
        "  df_data = pd.DataFrame(data=d.T,columns=['T','X1','X2','X3','X4','Y']) \n",
        "  return df_data "
      ],
      "metadata": {
        "id": "Ti0dTsQdh9RA"
      },
      "execution_count": 4,
      "outputs": []
    },
    {
      "cell_type": "code",
      "source": [
        "df_data_non_linear=non_linear_simulation(1000, 1.0, 0.5)\n",
        "df_data_non_linear"
      ],
      "metadata": {
        "colab": {
          "base_uri": "https://localhost:8080/",
          "height": 424
        },
        "id": "vO8C-wozsrfo",
        "outputId": "37a8471a-0c14-4750-d745-0301c11e62be"
      },
      "execution_count": 21,
      "outputs": [
        {
          "output_type": "execute_result",
          "data": {
            "text/plain": [
              "       T        X1        X2        X3        X4          Y\n",
              "0    1.0  0.473654  0.312614  1.725605  1.193661   6.435952\n",
              "1    1.0  0.994366  0.355609  0.158336  2.629683  11.325636\n",
              "2    1.0  0.094733  0.478974  0.481054  1.121785   9.261181\n",
              "3    0.0  1.564602  0.338488  0.303010  2.263174   3.069621\n",
              "4    0.0  0.263846  1.228767 -0.679093  1.872129   3.412540\n",
              "..   ...       ...       ...       ...       ...        ...\n",
              "995  0.0  1.076707  1.024838  2.014446 -0.445863   1.592353\n",
              "996  0.0  0.552933  0.637810 -0.125239  0.452383   3.382534\n",
              "997  0.0  1.047810  1.179636  0.293926 -0.287179   7.241437\n",
              "998  1.0  0.724100  0.354008  0.855349  0.867880  10.409375\n",
              "999  0.0  0.248948  0.196332  0.443496  0.135971  -0.871520\n",
              "\n",
              "[1000 rows x 6 columns]"
            ],
            "text/html": [
              "\n",
              "  <div id=\"df-083c14b6-eea0-4cb3-a0bd-928a11e1c90c\">\n",
              "    <div class=\"colab-df-container\">\n",
              "      <div>\n",
              "<style scoped>\n",
              "    .dataframe tbody tr th:only-of-type {\n",
              "        vertical-align: middle;\n",
              "    }\n",
              "\n",
              "    .dataframe tbody tr th {\n",
              "        vertical-align: top;\n",
              "    }\n",
              "\n",
              "    .dataframe thead th {\n",
              "        text-align: right;\n",
              "    }\n",
              "</style>\n",
              "<table border=\"1\" class=\"dataframe\">\n",
              "  <thead>\n",
              "    <tr style=\"text-align: right;\">\n",
              "      <th></th>\n",
              "      <th>T</th>\n",
              "      <th>X1</th>\n",
              "      <th>X2</th>\n",
              "      <th>X3</th>\n",
              "      <th>X4</th>\n",
              "      <th>Y</th>\n",
              "    </tr>\n",
              "  </thead>\n",
              "  <tbody>\n",
              "    <tr>\n",
              "      <th>0</th>\n",
              "      <td>1.0</td>\n",
              "      <td>0.473654</td>\n",
              "      <td>0.312614</td>\n",
              "      <td>1.725605</td>\n",
              "      <td>1.193661</td>\n",
              "      <td>6.435952</td>\n",
              "    </tr>\n",
              "    <tr>\n",
              "      <th>1</th>\n",
              "      <td>1.0</td>\n",
              "      <td>0.994366</td>\n",
              "      <td>0.355609</td>\n",
              "      <td>0.158336</td>\n",
              "      <td>2.629683</td>\n",
              "      <td>11.325636</td>\n",
              "    </tr>\n",
              "    <tr>\n",
              "      <th>2</th>\n",
              "      <td>1.0</td>\n",
              "      <td>0.094733</td>\n",
              "      <td>0.478974</td>\n",
              "      <td>0.481054</td>\n",
              "      <td>1.121785</td>\n",
              "      <td>9.261181</td>\n",
              "    </tr>\n",
              "    <tr>\n",
              "      <th>3</th>\n",
              "      <td>0.0</td>\n",
              "      <td>1.564602</td>\n",
              "      <td>0.338488</td>\n",
              "      <td>0.303010</td>\n",
              "      <td>2.263174</td>\n",
              "      <td>3.069621</td>\n",
              "    </tr>\n",
              "    <tr>\n",
              "      <th>4</th>\n",
              "      <td>0.0</td>\n",
              "      <td>0.263846</td>\n",
              "      <td>1.228767</td>\n",
              "      <td>-0.679093</td>\n",
              "      <td>1.872129</td>\n",
              "      <td>3.412540</td>\n",
              "    </tr>\n",
              "    <tr>\n",
              "      <th>...</th>\n",
              "      <td>...</td>\n",
              "      <td>...</td>\n",
              "      <td>...</td>\n",
              "      <td>...</td>\n",
              "      <td>...</td>\n",
              "      <td>...</td>\n",
              "    </tr>\n",
              "    <tr>\n",
              "      <th>995</th>\n",
              "      <td>0.0</td>\n",
              "      <td>1.076707</td>\n",
              "      <td>1.024838</td>\n",
              "      <td>2.014446</td>\n",
              "      <td>-0.445863</td>\n",
              "      <td>1.592353</td>\n",
              "    </tr>\n",
              "    <tr>\n",
              "      <th>996</th>\n",
              "      <td>0.0</td>\n",
              "      <td>0.552933</td>\n",
              "      <td>0.637810</td>\n",
              "      <td>-0.125239</td>\n",
              "      <td>0.452383</td>\n",
              "      <td>3.382534</td>\n",
              "    </tr>\n",
              "    <tr>\n",
              "      <th>997</th>\n",
              "      <td>0.0</td>\n",
              "      <td>1.047810</td>\n",
              "      <td>1.179636</td>\n",
              "      <td>0.293926</td>\n",
              "      <td>-0.287179</td>\n",
              "      <td>7.241437</td>\n",
              "    </tr>\n",
              "    <tr>\n",
              "      <th>998</th>\n",
              "      <td>1.0</td>\n",
              "      <td>0.724100</td>\n",
              "      <td>0.354008</td>\n",
              "      <td>0.855349</td>\n",
              "      <td>0.867880</td>\n",
              "      <td>10.409375</td>\n",
              "    </tr>\n",
              "    <tr>\n",
              "      <th>999</th>\n",
              "      <td>0.0</td>\n",
              "      <td>0.248948</td>\n",
              "      <td>0.196332</td>\n",
              "      <td>0.443496</td>\n",
              "      <td>0.135971</td>\n",
              "      <td>-0.871520</td>\n",
              "    </tr>\n",
              "  </tbody>\n",
              "</table>\n",
              "<p>1000 rows × 6 columns</p>\n",
              "</div>\n",
              "      <button class=\"colab-df-convert\" onclick=\"convertToInteractive('df-083c14b6-eea0-4cb3-a0bd-928a11e1c90c')\"\n",
              "              title=\"Convert this dataframe to an interactive table.\"\n",
              "              style=\"display:none;\">\n",
              "        \n",
              "  <svg xmlns=\"http://www.w3.org/2000/svg\" height=\"24px\"viewBox=\"0 0 24 24\"\n",
              "       width=\"24px\">\n",
              "    <path d=\"M0 0h24v24H0V0z\" fill=\"none\"/>\n",
              "    <path d=\"M18.56 5.44l.94 2.06.94-2.06 2.06-.94-2.06-.94-.94-2.06-.94 2.06-2.06.94zm-11 1L8.5 8.5l.94-2.06 2.06-.94-2.06-.94L8.5 2.5l-.94 2.06-2.06.94zm10 10l.94 2.06.94-2.06 2.06-.94-2.06-.94-.94-2.06-.94 2.06-2.06.94z\"/><path d=\"M17.41 7.96l-1.37-1.37c-.4-.4-.92-.59-1.43-.59-.52 0-1.04.2-1.43.59L10.3 9.45l-7.72 7.72c-.78.78-.78 2.05 0 2.83L4 21.41c.39.39.9.59 1.41.59.51 0 1.02-.2 1.41-.59l7.78-7.78 2.81-2.81c.8-.78.8-2.07 0-2.86zM5.41 20L4 18.59l7.72-7.72 1.47 1.35L5.41 20z\"/>\n",
              "  </svg>\n",
              "      </button>\n",
              "      \n",
              "  <style>\n",
              "    .colab-df-container {\n",
              "      display:flex;\n",
              "      flex-wrap:wrap;\n",
              "      gap: 12px;\n",
              "    }\n",
              "\n",
              "    .colab-df-convert {\n",
              "      background-color: #E8F0FE;\n",
              "      border: none;\n",
              "      border-radius: 50%;\n",
              "      cursor: pointer;\n",
              "      display: none;\n",
              "      fill: #1967D2;\n",
              "      height: 32px;\n",
              "      padding: 0 0 0 0;\n",
              "      width: 32px;\n",
              "    }\n",
              "\n",
              "    .colab-df-convert:hover {\n",
              "      background-color: #E2EBFA;\n",
              "      box-shadow: 0px 1px 2px rgba(60, 64, 67, 0.3), 0px 1px 3px 1px rgba(60, 64, 67, 0.15);\n",
              "      fill: #174EA6;\n",
              "    }\n",
              "\n",
              "    [theme=dark] .colab-df-convert {\n",
              "      background-color: #3B4455;\n",
              "      fill: #D2E3FC;\n",
              "    }\n",
              "\n",
              "    [theme=dark] .colab-df-convert:hover {\n",
              "      background-color: #434B5C;\n",
              "      box-shadow: 0px 1px 3px 1px rgba(0, 0, 0, 0.15);\n",
              "      filter: drop-shadow(0px 1px 2px rgba(0, 0, 0, 0.3));\n",
              "      fill: #FFFFFF;\n",
              "    }\n",
              "  </style>\n",
              "\n",
              "      <script>\n",
              "        const buttonEl =\n",
              "          document.querySelector('#df-083c14b6-eea0-4cb3-a0bd-928a11e1c90c button.colab-df-convert');\n",
              "        buttonEl.style.display =\n",
              "          google.colab.kernel.accessAllowed ? 'block' : 'none';\n",
              "\n",
              "        async function convertToInteractive(key) {\n",
              "          const element = document.querySelector('#df-083c14b6-eea0-4cb3-a0bd-928a11e1c90c');\n",
              "          const dataTable =\n",
              "            await google.colab.kernel.invokeFunction('convertToInteractive',\n",
              "                                                     [key], {});\n",
              "          if (!dataTable) return;\n",
              "\n",
              "          const docLinkHtml = 'Like what you see? Visit the ' +\n",
              "            '<a target=\"_blank\" href=https://colab.research.google.com/notebooks/data_table.ipynb>data table notebook</a>'\n",
              "            + ' to learn more about interactive tables.';\n",
              "          element.innerHTML = '';\n",
              "          dataTable['output_type'] = 'display_data';\n",
              "          await google.colab.output.renderOutput(dataTable, element);\n",
              "          const docLink = document.createElement('div');\n",
              "          docLink.innerHTML = docLinkHtml;\n",
              "          element.appendChild(docLink);\n",
              "        }\n",
              "      </script>\n",
              "    </div>\n",
              "  </div>\n",
              "  "
            ]
          },
          "metadata": {},
          "execution_count": 21
        }
      ]
    },
    {
      "cell_type": "markdown",
      "source": [
        "Question 1"
      ],
      "metadata": {
        "id": "sFYJ7QeapFBP"
      }
    },
    {
      "cell_type": "code",
      "source": [
        "def difference_in_means(df_data,alpha):\n",
        "  # Filter treatment / control observations, pulls outcome variable as a vector\n",
        "  Y0=df_data[df_data['T']==0]['Y']\n",
        "  Y1=df_data[df_data['T']==1]['Y']\n",
        "  # Number of obs in control group\n",
        "  n0=len(Y0)\n",
        "  # Number of obs in treatment group\n",
        "  n1=len(Y1)\n",
        "  # Difference in means is ATE\n",
        "  tauhat=np.mean(Y1)-np.mean(Y0)\n",
        "  # 95% Confidence intervals\n",
        "  se_hat = np.sqrt(np.var(Y0)/n0 + np.var(Y1)/n1)\n",
        "  lower_ci = tauhat - norm.ppf(1-alpha/2)* se_hat\n",
        "  upper_ci = tauhat + norm.ppf(1-alpha/2) * se_hat\n",
        "  return tauhat, lower_ci, upper_ci\n"
      ],
      "metadata": {
        "id": "linAZLSaqUFe"
      },
      "execution_count": 6,
      "outputs": []
    },
    {
      "cell_type": "code",
      "source": [
        "alpha = 0.05\n",
        "tauhat, lower_ci, upper_ci = difference_in_means(df_data_linear, alpha)\n",
        "print(f\"For linear generative model, the estimated ATE is {tauhat}; with a {(1-alpha)*100}% confidence interval [{lower_ci}, {upper_ci}]\")"
      ],
      "metadata": {
        "colab": {
          "base_uri": "https://localhost:8080/"
        },
        "id": "tsg2FqOiEMBv",
        "outputId": "519a995d-9a40-48cb-cd85-06c403e563be"
      },
      "execution_count": 7,
      "outputs": [
        {
          "output_type": "stream",
          "name": "stdout",
          "text": [
            "For linear generative model, the estimated ATE is 9.314669345568861; with a 95.0% confidence interval [8.607672738397088, 10.021665952740634]\n"
          ]
        }
      ]
    },
    {
      "cell_type": "code",
      "source": [
        "alpha = 0.05\n",
        "tauhat, lower_ci, upper_ci = difference_in_means(df_data_non_linear, alpha)\n",
        "print(f\"For non-linear generative model, the estimated ATE is {tauhat}; with a {(1-alpha)*100}% confidence interval [{lower_ci}, {upper_ci}]\")"
      ],
      "metadata": {
        "colab": {
          "base_uri": "https://localhost:8080/"
        },
        "id": "HflSh7mOE574",
        "outputId": "916754ed-10b0-4ea5-c865-c6f56014217b"
      },
      "execution_count": 8,
      "outputs": [
        {
          "output_type": "stream",
          "name": "stdout",
          "text": [
            "For non-linear generative model, the estimated ATE is 10.658991536830744; with a 95.0% confidence interval [9.910181080618786, 11.407801993042701]\n"
          ]
        }
      ]
    },
    {
      "cell_type": "markdown",
      "source": [
        "Question 2"
      ],
      "metadata": {
        "id": "-F67liPav14G"
      }
    },
    {
      "cell_type": "markdown",
      "source": [
        "Question 2.1"
      ],
      "metadata": {
        "id": "H7xQFojpv3M4"
      }
    },
    {
      "cell_type": "markdown",
      "source": [
        "Under the assumptions of RCT"
      ],
      "metadata": {
        "id": "N-vDdFKexE33"
      }
    },
    {
      "cell_type": "markdown",
      "source": [
        "$\\mathbb{E}[Y | T = 0] = \\mathbb{E}[3X_1 + 2X_2 + −2X_3 − 0.8X_4 ]$"
      ],
      "metadata": {
        "id": "Hlmh-QNNwivm"
      }
    },
    {
      "cell_type": "markdown",
      "source": [
        "$\\mathbb{E}[Y | T = 1] = \\mathbb{E}[3X_1 + 2X_2 + −2X_3 − 0.8X_4 + (2X_1 + 5X_3 + 3X_4 )]$"
      ],
      "metadata": {
        "id": "UwycQdN2wSm4"
      }
    },
    {
      "cell_type": "markdown",
      "source": [
        "Hence"
      ],
      "metadata": {
        "id": "reGGQlf4wnOo"
      }
    },
    {
      "cell_type": "markdown",
      "source": [
        "$\\mathbb{E}[Y | T = 1] -\\mathbb{E}[Y | T = 0] =\\mathbb{E}[2X_1 + 5X_3 + 3X_4 ]=2\\mathbb{E}[X_1]+5\\mathbb{E}[X_3]+3\\mathbb{E}[X_4]=10$"
      ],
      "metadata": {
        "id": "0R0EF8Kswu3I"
      }
    },
    {
      "cell_type": "markdown",
      "source": [
        "The derivations also give 10 for the non linear model."
      ],
      "metadata": {
        "id": "2GGTaW_QxOr6"
      }
    },
    {
      "cell_type": "markdown",
      "source": [
        "Question 2.2"
      ],
      "metadata": {
        "id": "hGqclAlkv6FH"
      }
    },
    {
      "cell_type": "markdown",
      "source": [
        "We use a Welch Two Sample t-test. It is relevant in case of large distributions because of the CLT (here we shall for example consider the case $n=1000$)"
      ],
      "metadata": {
        "id": "woIk5la0xcyu"
      }
    },
    {
      "cell_type": "code",
      "source": [
        "Y0l=df_data_linear[df_data_linear['T']==0]['Y']\n",
        "Y1l=df_data_linear[df_data_linear['T']==1]['Y']\n",
        "stats.ttest_ind(a=Y0l, b=Y1l,equal_var = False)"
      ],
      "metadata": {
        "colab": {
          "base_uri": "https://localhost:8080/"
        },
        "id": "sjzVMPtay5PJ",
        "outputId": "9b7919d9-d9ea-4b4a-c645-76944b633c8d"
      },
      "execution_count": 9,
      "outputs": [
        {
          "output_type": "execute_result",
          "data": {
            "text/plain": [
              "Ttest_indResult(statistic=-25.796026537699856, pvalue=1.6418842228058752e-106)"
            ]
          },
          "metadata": {},
          "execution_count": 9
        }
      ]
    },
    {
      "cell_type": "markdown",
      "source": [
        "We conclude that the group control and group treatment have two diffrent distributions"
      ],
      "metadata": {
        "id": "ucnE9Z-RvvLG"
      }
    },
    {
      "cell_type": "markdown",
      "source": [
        "Non linear case"
      ],
      "metadata": {
        "id": "rgummqBmz6Vy"
      }
    },
    {
      "cell_type": "code",
      "source": [
        "Y0nl=df_data_non_linear[df_data_non_linear['T']==0]['Y']\n",
        "Y1nl=df_data_non_linear[df_data_non_linear['T']==1]['Y']\n",
        "stats.ttest_ind(a=Y0nl, b=Y1nl,equal_var = False)"
      ],
      "metadata": {
        "colab": {
          "base_uri": "https://localhost:8080/"
        },
        "id": "ism1LToYz9_6",
        "outputId": "5ac66380-e768-42d8-c8b7-e1f1119175ba"
      },
      "execution_count": 10,
      "outputs": [
        {
          "output_type": "execute_result",
          "data": {
            "text/plain": [
              "Ttest_indResult(statistic=-27.87124565983689, pvalue=1.1046124221081288e-126)"
            ]
          },
          "metadata": {},
          "execution_count": 10
        }
      ]
    },
    {
      "cell_type": "markdown",
      "source": [
        "Same conclusion"
      ],
      "metadata": {
        "id": "VTX1A2mJv9Ii"
      }
    },
    {
      "cell_type": "markdown",
      "source": [
        "Question 3"
      ],
      "metadata": {
        "id": "0L9J8Rze0i8B"
      }
    },
    {
      "cell_type": "code",
      "source": [
        "def difference_in_condmean_ols(df_data,alpha):\n",
        "  df_data_cond = df_data.drop(labels=\"T\", axis=1)\n",
        "  df_data_X = df_data_cond.drop(labels=\"Y\", axis=1)\n",
        "  df_data_cond0 = df_data_cond[df_data['T']==0]\n",
        "  df_data_cond1 = df_data_cond[df_data['T']==1]\n",
        "\n",
        "  model0 = smf.ols(formula='Y ~ X1 + X2 + X3 + X4', data=df_data_cond0)\n",
        "  model1 = smf.ols(formula='Y ~ X1 + X2 + X3 + X4', data=df_data_cond1)\n",
        "  # Fit the two modesl\n",
        "  result0 = model0.fit()\n",
        "  result1 = model1.fit()\n",
        "  #Coefficients\n",
        "  beta0=result0.params\n",
        "  beta1=result1.params\n",
        "  # Predict using all observations, the treated and the control\n",
        "  # Difference in predicted means is ATE \n",
        "\n",
        "  df_data_X['cst'] = 1\n",
        "\n",
        "  tauhat = np.mean(result1.get_prediction(df_data_X).predicted_mean) - np.mean(result0.get_prediction(df_data_X).predicted_mean)\n",
        "  \n",
        "\n",
        "  # 95% Confidence intervals\n",
        "  ## Extract all the needed quantities \n",
        "  df_Y=df_data['Y']\n",
        "  n=len(df_Y)\n",
        "  Y0=df_data[df_data['T']==0]['Y']\n",
        "  Y1=df_data[df_data['T']==1]['Y']\n",
        "  # Number of obs in control group\n",
        "  n0=len(Y0)\n",
        "  # Number of obs in treatment group\n",
        "  n1=len(Y1)\n",
        "  ## compute the se\n",
        "  var_DM = np.var(Y0)/n0 + np.var(Y1)/n1 # It is not true var_DM, It is \"var_DM / (n0+n1)\"\n",
        "  var_OLS = var_DM - ((beta0[1:].values+beta1[1:].values).T @ np.cov(df_data_X)[0:4,0:4].T @ (beta0[1:].values+beta1[1:].values))/(n0+n1)\n",
        "  se_hat=np.sqrt(var_OLS)\n",
        "  lower_ci = tauhat - norm.ppf(1-alpha/2)* se_hat\n",
        "  upper_ci = tauhat + norm.ppf(1-alpha/2) * se_hat\n",
        "\n",
        "  return tauhat,lower_ci, upper_ci\n",
        "  \n"
      ],
      "metadata": {
        "id": "6X-ZeKqiZ_R1"
      },
      "execution_count": 17,
      "outputs": []
    },
    {
      "cell_type": "code",
      "source": [
        "alpha = 0.05\n",
        "tauhat,lower_ci, upper_ci=difference_in_condmean_ols(df_data_linear, alpha)\n",
        "print(f\"For linear generative model, the estimated ATE is {tauhat}; with a {(1-alpha)*100}% confidence interval [{lower_ci}, {upper_ci}]\")"
      ],
      "metadata": {
        "colab": {
          "base_uri": "https://localhost:8080/"
        },
        "id": "H3BWVJqVGwiW",
        "outputId": "5c59fa22-3d07-45ec-b233-de380d42b3bb"
      },
      "execution_count": 14,
      "outputs": [
        {
          "output_type": "stream",
          "name": "stdout",
          "text": [
            "For linear generative model, the estimated ATE is 9.737804229000881; with a 95.0% confidence interval [9.265760546852245, 10.209847911149517]\n"
          ]
        }
      ]
    },
    {
      "cell_type": "code",
      "source": [
        "alpha = 0.05\n",
        "tauhat,lower_ci, upper_ci=difference_in_condmean_ols(df_data_non_linear, alpha)\n",
        "print(f\"For non linear generative model, the estimated ATE is {tauhat}; with a {(1-alpha)*100}% confidence interval [{lower_ci}, {upper_ci}]\")"
      ],
      "metadata": {
        "colab": {
          "base_uri": "https://localhost:8080/"
        },
        "id": "btxl6iCG7Tp-",
        "outputId": "103ff9e4-6194-437f-bae1-d2333e177dce"
      },
      "execution_count": 22,
      "outputs": [
        {
          "output_type": "stream",
          "name": "stdout",
          "text": [
            "For non linear generative model, the estimated ATE is 10.207894693668614; with a 95.0% confidence interval [9.56407617343741, 10.851713213899817]\n"
          ]
        }
      ]
    },
    {
      "cell_type": "markdown",
      "source": [
        "Question 4"
      ],
      "metadata": {
        "id": "uDLDTun6gnV9"
      }
    },
    {
      "cell_type": "code",
      "source": [
        "alpha = 0.05\n",
        "tauhat_DM_l = []\n",
        "tauhat_OLS_l = []\n",
        "for _ in range(100):\n",
        "    df_data_linear=linear_simulation(1000, 1.0, 0.5)\n",
        "    tauhat_DM, _, _ = difference_in_means(df_data_linear, alpha)\n",
        "    tauhat_OLS, _, _ = difference_in_condmean_ols(df_data_linear, alpha)\n",
        "    tauhat_DM_l.append(tauhat_DM)\n",
        "    tauhat_OLS_l.append(tauhat_OLS)\n"
      ],
      "metadata": {
        "colab": {
          "base_uri": "https://localhost:8080/"
        },
        "id": "Rraz6fq8RUJ7",
        "outputId": "e37ff44a-f4e0-4214-bd5a-ba6851454238"
      },
      "execution_count": 23,
      "outputs": [
        {
          "output_type": "stream",
          "name": "stderr",
          "text": [
            "<ipython-input-17-62ac71a5acd8>:36: RuntimeWarning: invalid value encountered in sqrt\n",
            "  se_hat=np.sqrt(var_OLS)\n",
            "<ipython-input-17-62ac71a5acd8>:36: RuntimeWarning: invalid value encountered in sqrt\n",
            "  se_hat=np.sqrt(var_OLS)\n",
            "<ipython-input-17-62ac71a5acd8>:36: RuntimeWarning: invalid value encountered in sqrt\n",
            "  se_hat=np.sqrt(var_OLS)\n",
            "<ipython-input-17-62ac71a5acd8>:36: RuntimeWarning: invalid value encountered in sqrt\n",
            "  se_hat=np.sqrt(var_OLS)\n",
            "<ipython-input-17-62ac71a5acd8>:36: RuntimeWarning: invalid value encountered in sqrt\n",
            "  se_hat=np.sqrt(var_OLS)\n",
            "<ipython-input-17-62ac71a5acd8>:36: RuntimeWarning: invalid value encountered in sqrt\n",
            "  se_hat=np.sqrt(var_OLS)\n",
            "<ipython-input-17-62ac71a5acd8>:36: RuntimeWarning: invalid value encountered in sqrt\n",
            "  se_hat=np.sqrt(var_OLS)\n",
            "<ipython-input-17-62ac71a5acd8>:36: RuntimeWarning: invalid value encountered in sqrt\n",
            "  se_hat=np.sqrt(var_OLS)\n",
            "<ipython-input-17-62ac71a5acd8>:36: RuntimeWarning: invalid value encountered in sqrt\n",
            "  se_hat=np.sqrt(var_OLS)\n"
          ]
        }
      ]
    },
    {
      "cell_type": "code",
      "source": [
        "import matplotlib.pyplot as plt\n",
        "plt.boxplot([tauhat_DM_l, tauhat_OLS_l])\n",
        "plt.show()"
      ],
      "metadata": {
        "colab": {
          "base_uri": "https://localhost:8080/",
          "height": 265
        },
        "id": "58iHhuo6Rz0X",
        "outputId": "20921c54-6931-45c3-8c45-20b879457c83"
      },
      "execution_count": 24,
      "outputs": [
        {
          "output_type": "display_data",
          "data": {
            "text/plain": [
              "<Figure size 432x288 with 1 Axes>"
            ],
            "image/png": "[encoded data removed]"
          },
          "metadata": {
            "needs_background": "light"
          }
        }
      ]
    },
    {
      "cell_type": "markdown",
      "source": [
        "The variance of OLS estimator is smaller than DM."
      ],
      "metadata": {
        "id": "ibshnEksT9SA"
      }
    }
  ]
}