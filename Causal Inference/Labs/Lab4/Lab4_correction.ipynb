{
  "cells": [
    {
      "cell_type": "code",
      "source": [
        "!pip install jedi"
      ],
      "metadata": {
        "colab": {
          "base_uri": "https://localhost:8080/"
        },
        "id": "odulUnjkQQgU",
        "outputId": "6033cd70-a862-457c-b16d-ac19d7f3dc3b"
      },
      "execution_count": 1,
      "outputs": [
        {
          "output_type": "stream",
          "name": "stdout",
          "text": [
            "Looking in indexes: https://pypi.org/simple, https://us-python.pkg.dev/colab-wheels/public/simple/\n",
            "Requirement already satisfied: jedi in /usr/local/lib/python3.9/dist-packages (0.18.2)\n",
            "Requirement already satisfied: parso<0.9.0,>=0.8.0 in /usr/local/lib/python3.9/dist-packages (from jedi) (0.8.3)\n"
          ]
        }
      ]
    },
    {
      "cell_type": "code",
      "source": [
        "!pip install git+https://github.com/py-why/dowhy@main\n",
        "#!pip install dowhy"
      ],
      "metadata": {
        "colab": {
          "base_uri": "https://localhost:8080/"
        },
        "id": "dphl3eTpKQdE",
        "outputId": "095b6325-d730-4b72-ebfa-bce741998763"
      },
      "execution_count": 2,
      "outputs": [
        {
          "output_type": "stream",
          "name": "stdout",
          "text": [
            "Looking in indexes: https://pypi.org/simple, https://us-python.pkg.dev/colab-wheels/public/simple/\n",
            "Collecting git+https://github.com/py-why/dowhy@main\n",
            "  Cloning https://github.com/py-why/dowhy (to revision main) to /tmp/pip-req-build-k8hkyp4f\n",
            "  Running command git clone --filter=blob:none --quiet https://github.com/py-why/dowhy /tmp/pip-req-build-k8hkyp4f\n",
            "  Resolved https://github.com/py-why/dowhy to commit 5ef1b643342603f38a2dd9c4268c70cc10eefd44\n",
            "  Installing build dependencies ... \u001b[?25l\u001b[?25hdone\n",
            "  Getting requirements to build wheel ... \u001b[?25l\u001b[?25hdone\n",
            "  Preparing metadata (pyproject.toml) ... \u001b[?25l\u001b[?25hdone\n",
            "Requirement already satisfied: causal-learn<0.2.0.0,>=0.1.3.0 in /usr/local/lib/python3.9/dist-packages (from dowhy==0.0.0) (0.1.3.3)\n",
            "Requirement already satisfied: cython<0.30.0,>=0.29.32 in /usr/local/lib/python3.9/dist-packages (from dowhy==0.0.0) (0.29.33)\n",
            "Requirement already satisfied: scikit-learn<1.2.0 in /usr/local/lib/python3.9/dist-packages (from dowhy==0.0.0) (1.1.3)\n",
            "Requirement already satisfied: statsmodels<0.14.0,>=0.13.2 in /usr/local/lib/python3.9/dist-packages (from dowhy==0.0.0) (0.13.5)\n",
            "Requirement already satisfied: joblib<2.0.0,>=1.1.0 in /usr/local/lib/python3.9/dist-packages (from dowhy==0.0.0) (1.1.1)\n",
            "Requirement already satisfied: sympy<2.0.0,>=1.10.1 in /usr/local/lib/python3.9/dist-packages (from dowhy==0.0.0) (1.11.1)\n",
            "Requirement already satisfied: tqdm<5.0.0,>=4.64.0 in /usr/local/lib/python3.9/dist-packages (from dowhy==0.0.0) (4.65.0)\n",
            "Requirement already satisfied: cvxpy<2.0.0,>=1.2.2 in /usr/local/lib/python3.9/dist-packages (from dowhy==0.0.0) (1.3.0)\n",
            "Requirement already satisfied: networkx<3.0.0,>=2.8.5 in /usr/local/lib/python3.9/dist-packages (from dowhy==0.0.0) (2.8.8)\n",
            "Requirement already satisfied: scipy<2.0.0,>=1.8.1 in /usr/local/lib/python3.9/dist-packages (from dowhy==0.0.0) (1.10.1)\n",
            "Requirement already satisfied: numpy==1.23.1 in /usr/local/lib/python3.9/dist-packages (from dowhy==0.0.0) (1.23.1)\n",
            "Requirement already satisfied: sphinx_design<0.4.0,>=0.3.0 in /usr/local/lib/python3.9/dist-packages (from dowhy==0.0.0) (0.3.0)\n",
            "Requirement already satisfied: pandas<2.0.0,>=1.4.3 in /usr/local/lib/python3.9/dist-packages (from dowhy==0.0.0) (1.4.4)\n",
            "Requirement already satisfied: pydot in /usr/local/lib/python3.9/dist-packages (from causal-learn<0.2.0.0,>=0.1.3.0->dowhy==0.0.0) (1.3.0)\n",
            "Requirement already satisfied: matplotlib in /usr/local/lib/python3.9/dist-packages (from causal-learn<0.2.0.0,>=0.1.3.0->dowhy==0.0.0) (3.7.1)\n",
            "Requirement already satisfied: graphviz in /usr/local/lib/python3.9/dist-packages (from causal-learn<0.2.0.0,>=0.1.3.0->dowhy==0.0.0) (0.10.1)\n",
            "Requirement already satisfied: ecos>=2 in /usr/local/lib/python3.9/dist-packages (from cvxpy<2.0.0,>=1.2.2->dowhy==0.0.0) (2.0.12)\n",
            "Requirement already satisfied: osqp>=0.4.1 in /usr/local/lib/python3.9/dist-packages (from cvxpy<2.0.0,>=1.2.2->dowhy==0.0.0) (0.6.2.post0)\n",
            "Requirement already satisfied: setuptools<=64.0.2 in /usr/local/lib/python3.9/dist-packages (from cvxpy<2.0.0,>=1.2.2->dowhy==0.0.0) (63.4.3)\n",
            "Requirement already satisfied: scs>=1.1.6 in /usr/local/lib/python3.9/dist-packages (from cvxpy<2.0.0,>=1.2.2->dowhy==0.0.0) (3.2.2)\n",
            "Requirement already satisfied: python-dateutil>=2.8.1 in /usr/local/lib/python3.9/dist-packages (from pandas<2.0.0,>=1.4.3->dowhy==0.0.0) (2.8.2)\n",
            "Requirement already satisfied: pytz>=2020.1 in /usr/local/lib/python3.9/dist-packages (from pandas<2.0.0,>=1.4.3->dowhy==0.0.0) (2022.7.1)\n",
            "Requirement already satisfied: threadpoolctl>=2.0.0 in /usr/local/lib/python3.9/dist-packages (from scikit-learn<1.2.0->dowhy==0.0.0) (3.1.0)\n",
            "Requirement already satisfied: sphinx<6,>=4 in /usr/local/lib/python3.9/dist-packages (from sphinx_design<0.4.0,>=0.3.0->dowhy==0.0.0) (5.3.0)\n",
            "Requirement already satisfied: packaging>=21.3 in /usr/local/lib/python3.9/dist-packages (from statsmodels<0.14.0,>=0.13.2->dowhy==0.0.0) (23.0)\n",
            "Requirement already satisfied: patsy>=0.5.2 in /usr/local/lib/python3.9/dist-packages (from statsmodels<0.14.0,>=0.13.2->dowhy==0.0.0) (0.5.3)\n",
            "Requirement already satisfied: mpmath>=0.19 in /usr/local/lib/python3.9/dist-packages (from sympy<2.0.0,>=1.10.1->dowhy==0.0.0) (1.3.0)\n",
            "Requirement already satisfied: qdldl in /usr/local/lib/python3.9/dist-packages (from osqp>=0.4.1->cvxpy<2.0.0,>=1.2.2->dowhy==0.0.0) (0.1.5.post3)\n",
            "Requirement already satisfied: six in /usr/local/lib/python3.9/dist-packages (from patsy>=0.5.2->statsmodels<0.14.0,>=0.13.2->dowhy==0.0.0) (1.15.0)\n",
            "Requirement already satisfied: snowballstemmer>=2.0 in /usr/local/lib/python3.9/dist-packages (from sphinx<6,>=4->sphinx_design<0.4.0,>=0.3.0->dowhy==0.0.0) (2.2.0)\n",
            "Requirement already satisfied: importlib-metadata>=4.8 in /usr/local/lib/python3.9/dist-packages (from sphinx<6,>=4->sphinx_design<0.4.0,>=0.3.0->dowhy==0.0.0) (6.0.0)\n",
            "Requirement already satisfied: sphinxcontrib-applehelp in /usr/local/lib/python3.9/dist-packages (from sphinx<6,>=4->sphinx_design<0.4.0,>=0.3.0->dowhy==0.0.0) (1.0.4)\n",
            "Requirement already satisfied: sphinxcontrib-serializinghtml>=1.1.5 in /usr/local/lib/python3.9/dist-packages (from sphinx<6,>=4->sphinx_design<0.4.0,>=0.3.0->dowhy==0.0.0) (1.1.5)\n",
            "Requirement already satisfied: babel>=2.9 in /usr/local/lib/python3.9/dist-packages (from sphinx<6,>=4->sphinx_design<0.4.0,>=0.3.0->dowhy==0.0.0) (2.12.1)\n",
            "Requirement already satisfied: sphinxcontrib-devhelp in /usr/local/lib/python3.9/dist-packages (from sphinx<6,>=4->sphinx_design<0.4.0,>=0.3.0->dowhy==0.0.0) (1.0.2)\n",
            "Requirement already satisfied: imagesize>=1.3 in /usr/local/lib/python3.9/dist-packages (from sphinx<6,>=4->sphinx_design<0.4.0,>=0.3.0->dowhy==0.0.0) (1.4.1)\n",
            "Requirement already satisfied: Jinja2>=3.0 in /usr/local/lib/python3.9/dist-packages (from sphinx<6,>=4->sphinx_design<0.4.0,>=0.3.0->dowhy==0.0.0) (3.1.2)\n",
            "Requirement already satisfied: sphinxcontrib-jsmath in /usr/local/lib/python3.9/dist-packages (from sphinx<6,>=4->sphinx_design<0.4.0,>=0.3.0->dowhy==0.0.0) (1.0.1)\n",
            "Requirement already satisfied: sphinxcontrib-htmlhelp>=2.0.0 in /usr/local/lib/python3.9/dist-packages (from sphinx<6,>=4->sphinx_design<0.4.0,>=0.3.0->dowhy==0.0.0) (2.0.1)\n",
            "Requirement already satisfied: sphinxcontrib-qthelp in /usr/local/lib/python3.9/dist-packages (from sphinx<6,>=4->sphinx_design<0.4.0,>=0.3.0->dowhy==0.0.0) (1.0.3)\n",
            "Requirement already satisfied: docutils<0.20,>=0.14 in /usr/local/lib/python3.9/dist-packages (from sphinx<6,>=4->sphinx_design<0.4.0,>=0.3.0->dowhy==0.0.0) (0.16)\n",
            "Requirement already satisfied: requests>=2.5.0 in /usr/local/lib/python3.9/dist-packages (from sphinx<6,>=4->sphinx_design<0.4.0,>=0.3.0->dowhy==0.0.0) (2.27.1)\n",
            "Requirement already satisfied: alabaster<0.8,>=0.7 in /usr/local/lib/python3.9/dist-packages (from sphinx<6,>=4->sphinx_design<0.4.0,>=0.3.0->dowhy==0.0.0) (0.7.13)\n",
            "Requirement already satisfied: Pygments>=2.12 in /usr/local/lib/python3.9/dist-packages (from sphinx<6,>=4->sphinx_design<0.4.0,>=0.3.0->dowhy==0.0.0) (2.14.0)\n",
            "Requirement already satisfied: cycler>=0.10 in /usr/local/lib/python3.9/dist-packages (from matplotlib->causal-learn<0.2.0.0,>=0.1.3.0->dowhy==0.0.0) (0.11.0)\n",
            "Requirement already satisfied: pillow>=6.2.0 in /usr/local/lib/python3.9/dist-packages (from matplotlib->causal-learn<0.2.0.0,>=0.1.3.0->dowhy==0.0.0) (8.4.0)\n",
            "Requirement already satisfied: importlib-resources>=3.2.0 in /usr/local/lib/python3.9/dist-packages (from matplotlib->causal-learn<0.2.0.0,>=0.1.3.0->dowhy==0.0.0) (5.12.0)\n",
            "Requirement already satisfied: fonttools>=4.22.0 in /usr/local/lib/python3.9/dist-packages (from matplotlib->causal-learn<0.2.0.0,>=0.1.3.0->dowhy==0.0.0) (4.39.0)\n",
            "Requirement already satisfied: kiwisolver>=1.0.1 in /usr/local/lib/python3.9/dist-packages (from matplotlib->causal-learn<0.2.0.0,>=0.1.3.0->dowhy==0.0.0) (1.4.4)\n",
            "Requirement already satisfied: contourpy>=1.0.1 in /usr/local/lib/python3.9/dist-packages (from matplotlib->causal-learn<0.2.0.0,>=0.1.3.0->dowhy==0.0.0) (1.0.7)\n",
            "Requirement already satisfied: pyparsing>=2.3.1 in /usr/local/lib/python3.9/dist-packages (from matplotlib->causal-learn<0.2.0.0,>=0.1.3.0->dowhy==0.0.0) (3.0.9)\n",
            "Requirement already satisfied: zipp>=0.5 in /usr/local/lib/python3.9/dist-packages (from importlib-metadata>=4.8->sphinx<6,>=4->sphinx_design<0.4.0,>=0.3.0->dowhy==0.0.0) (3.15.0)\n",
            "Requirement already satisfied: MarkupSafe>=2.0 in /usr/local/lib/python3.9/dist-packages (from Jinja2>=3.0->sphinx<6,>=4->sphinx_design<0.4.0,>=0.3.0->dowhy==0.0.0) (2.1.2)\n",
            "Requirement already satisfied: charset-normalizer~=2.0.0 in /usr/local/lib/python3.9/dist-packages (from requests>=2.5.0->sphinx<6,>=4->sphinx_design<0.4.0,>=0.3.0->dowhy==0.0.0) (2.0.12)\n",
            "Requirement already satisfied: idna<4,>=2.5 in /usr/local/lib/python3.9/dist-packages (from requests>=2.5.0->sphinx<6,>=4->sphinx_design<0.4.0,>=0.3.0->dowhy==0.0.0) (3.4)\n",
            "Requirement already satisfied: certifi>=2017.4.17 in /usr/local/lib/python3.9/dist-packages (from requests>=2.5.0->sphinx<6,>=4->sphinx_design<0.4.0,>=0.3.0->dowhy==0.0.0) (2022.12.7)\n",
            "Requirement already satisfied: urllib3<1.27,>=1.21.1 in /usr/local/lib/python3.9/dist-packages (from requests>=2.5.0->sphinx<6,>=4->sphinx_design<0.4.0,>=0.3.0->dowhy==0.0.0) (1.26.15)\n"
          ]
        }
      ]
    },
    {
      "cell_type": "code",
      "source": [
        "import dowhy"
      ],
      "metadata": {
        "id": "S5txmvQ_Kfy6"
      },
      "execution_count": 3,
      "outputs": []
    },
    {
      "cell_type": "code",
      "source": [
        "import pandas as pd\n",
        "import matplotlib.pyplot as plt"
      ],
      "metadata": {
        "id": "euIDPzld4FlT"
      },
      "execution_count": 4,
      "outputs": []
    },
    {
      "cell_type": "markdown",
      "metadata": {
        "id": "UPAH_K6ow6zI"
      },
      "source": [
        "## Data Description\n",
        "For a quick glance of the features and their descriptions the reader is referred here.\n",
        "https://github.com/rfordatascience/tidytuesday/blob/master/data/2020/2020-02-11/readme.md"
      ]
    },
    {
      "cell_type": "code",
      "execution_count": 6,
      "metadata": {
        "colab": {
          "base_uri": "https://localhost:8080/",
          "height": 386
        },
        "id": "WhLJAMXUw6zI",
        "outputId": "720f8b63-3119-4feb-969a-9e1ae53b1b21"
      },
      "outputs": [
        {
          "output_type": "execute_result",
          "data": {
            "text/plain": [
              "          hotel  is_canceled  lead_time  arrival_date_year arrival_date_month  \\\n",
              "0  Resort Hotel            0        342               2015               July   \n",
              "1  Resort Hotel            0        737               2015               July   \n",
              "2  Resort Hotel            0          7               2015               July   \n",
              "3  Resort Hotel            0         13               2015               July   \n",
              "4  Resort Hotel            0         14               2015               July   \n",
              "\n",
              "   arrival_date_week_number  arrival_date_day_of_month  \\\n",
              "0                      27.0                        1.0   \n",
              "1                      27.0                        1.0   \n",
              "2                      27.0                        1.0   \n",
              "3                      27.0                        1.0   \n",
              "4                      27.0                        1.0   \n",
              "\n",
              "   stays_in_weekend_nights  stays_in_week_nights  adults  ...  deposit_type  \\\n",
              "0                      0.0                   0.0     2.0  ...    No Deposit   \n",
              "1                      0.0                   0.0     2.0  ...    No Deposit   \n",
              "2                      0.0                   1.0     1.0  ...    No Deposit   \n",
              "3                      0.0                   1.0     1.0  ...    No Deposit   \n",
              "4                      0.0                   2.0     2.0  ...    No Deposit   \n",
              "\n",
              "   agent company days_in_waiting_list customer_type   adr  \\\n",
              "0    NaN     NaN                  0.0     Transient   0.0   \n",
              "1    NaN     NaN                  0.0     Transient   0.0   \n",
              "2    NaN     NaN                  0.0     Transient  75.0   \n",
              "3  304.0     NaN                  0.0     Transient  75.0   \n",
              "4  240.0     NaN                  0.0     Transient  98.0   \n",
              "\n",
              "   required_car_parking_spaces  total_of_special_requests  reservation_status  \\\n",
              "0                          0.0                        0.0           Check-Out   \n",
              "1                          0.0                        0.0           Check-Out   \n",
              "2                          0.0                        0.0           Check-Out   \n",
              "3                          0.0                        0.0           Check-Out   \n",
              "4                          0.0                        1.0           Check-Out   \n",
              "\n",
              "  reservation_status_date  \n",
              "0              2015-07-01  \n",
              "1              2015-07-01  \n",
              "2              2015-07-02  \n",
              "3              2015-07-02  \n",
              "4              2015-07-03  \n",
              "\n",
              "[5 rows x 32 columns]"
            ],
            "text/html": [
              "\n",
              "  <div id=\"df-0196e3e9-a7e8-44e6-9cd9-7a143c767b83\">\n",
              "    <div class=\"colab-df-container\">\n",
              "      <div>\n",
              "<style scoped>\n",
              "    .dataframe tbody tr th:only-of-type {\n",
              "        vertical-align: middle;\n",
              "    }\n",
              "\n",
              "    .dataframe tbody tr th {\n",
              "        vertical-align: top;\n",
              "    }\n",
              "\n",
              "    .dataframe thead th {\n",
              "        text-align: right;\n",
              "    }\n",
              "</style>\n",
              "<table border=\"1\" class=\"dataframe\">\n",
              "  <thead>\n",
              "    <tr style=\"text-align: right;\">\n",
              "      <th></th>\n",
              "      <th>hotel</th>\n",
              "      <th>is_canceled</th>\n",
              "      <th>lead_time</th>\n",
              "      <th>arrival_date_year</th>\n",
              "      <th>arrival_date_month</th>\n",
              "      <th>arrival_date_week_number</th>\n",
              "      <th>arrival_date_day_of_month</th>\n",
              "      <th>stays_in_weekend_nights</th>\n",
              "      <th>stays_in_week_nights</th>\n",
              "      <th>adults</th>\n",
              "      <th>...</th>\n",
              "      <th>deposit_type</th>\n",
              "      <th>agent</th>\n",
              "      <th>company</th>\n",
              "      <th>days_in_waiting_list</th>\n",
              "      <th>customer_type</th>\n",
              "      <th>adr</th>\n",
              "      <th>required_car_parking_spaces</th>\n",
              "      <th>total_of_special_requests</th>\n",
              "      <th>reservation_status</th>\n",
              "      <th>reservation_status_date</th>\n",
              "    </tr>\n",
              "  </thead>\n",
              "  <tbody>\n",
              "    <tr>\n",
              "      <th>0</th>\n",
              "      <td>Resort Hotel</td>\n",
              "      <td>0</td>\n",
              "      <td>342</td>\n",
              "      <td>2015</td>\n",
              "      <td>July</td>\n",
              "      <td>27.0</td>\n",
              "      <td>1.0</td>\n",
              "      <td>0.0</td>\n",
              "      <td>0.0</td>\n",
              "      <td>2.0</td>\n",
              "      <td>...</td>\n",
              "      <td>No Deposit</td>\n",
              "      <td>NaN</td>\n",
              "      <td>NaN</td>\n",
              "      <td>0.0</td>\n",
              "      <td>Transient</td>\n",
              "      <td>0.0</td>\n",
              "      <td>0.0</td>\n",
              "      <td>0.0</td>\n",
              "      <td>Check-Out</td>\n",
              "      <td>2015-07-01</td>\n",
              "    </tr>\n",
              "    <tr>\n",
              "      <th>1</th>\n",
              "      <td>Resort Hotel</td>\n",
              "      <td>0</td>\n",
              "      <td>737</td>\n",
              "      <td>2015</td>\n",
              "      <td>July</td>\n",
              "      <td>27.0</td>\n",
              "      <td>1.0</td>\n",
              "      <td>0.0</td>\n",
              "      <td>0.0</td>\n",
              "      <td>2.0</td>\n",
              "      <td>...</td>\n",
              "      <td>No Deposit</td>\n",
              "      <td>NaN</td>\n",
              "      <td>NaN</td>\n",
              "      <td>0.0</td>\n",
              "      <td>Transient</td>\n",
              "      <td>0.0</td>\n",
              "      <td>0.0</td>\n",
              "      <td>0.0</td>\n",
              "      <td>Check-Out</td>\n",
              "      <td>2015-07-01</td>\n",
              "    </tr>\n",
              "    <tr>\n",
              "      <th>2</th>\n",
              "      <td>Resort Hotel</td>\n",
              "      <td>0</td>\n",
              "      <td>7</td>\n",
              "      <td>2015</td>\n",
              "      <td>July</td>\n",
              "      <td>27.0</td>\n",
              "      <td>1.0</td>\n",
              "      <td>0.0</td>\n",
              "      <td>1.0</td>\n",
              "      <td>1.0</td>\n",
              "      <td>...</td>\n",
              "      <td>No Deposit</td>\n",
              "      <td>NaN</td>\n",
              "      <td>NaN</td>\n",
              "      <td>0.0</td>\n",
              "      <td>Transient</td>\n",
              "      <td>75.0</td>\n",
              "      <td>0.0</td>\n",
              "      <td>0.0</td>\n",
              "      <td>Check-Out</td>\n",
              "      <td>2015-07-02</td>\n",
              "    </tr>\n",
              "    <tr>\n",
              "      <th>3</th>\n",
              "      <td>Resort Hotel</td>\n",
              "      <td>0</td>\n",
              "      <td>13</td>\n",
              "      <td>2015</td>\n",
              "      <td>July</td>\n",
              "      <td>27.0</td>\n",
              "      <td>1.0</td>\n",
              "      <td>0.0</td>\n",
              "      <td>1.0</td>\n",
              "      <td>1.0</td>\n",
              "      <td>...</td>\n",
              "      <td>No Deposit</td>\n",
              "      <td>304.0</td>\n",
              "      <td>NaN</td>\n",
              "      <td>0.0</td>\n",
              "      <td>Transient</td>\n",
              "      <td>75.0</td>\n",
              "      <td>0.0</td>\n",
              "      <td>0.0</td>\n",
              "      <td>Check-Out</td>\n",
              "      <td>2015-07-02</td>\n",
              "    </tr>\n",
              "    <tr>\n",
              "      <th>4</th>\n",
              "      <td>Resort Hotel</td>\n",
              "      <td>0</td>\n",
              "      <td>14</td>\n",
              "      <td>2015</td>\n",
              "      <td>July</td>\n",
              "      <td>27.0</td>\n",
              "      <td>1.0</td>\n",
              "      <td>0.0</td>\n",
              "      <td>2.0</td>\n",
              "      <td>2.0</td>\n",
              "      <td>...</td>\n",
              "      <td>No Deposit</td>\n",
              "      <td>240.0</td>\n",
              "      <td>NaN</td>\n",
              "      <td>0.0</td>\n",
              "      <td>Transient</td>\n",
              "      <td>98.0</td>\n",
              "      <td>0.0</td>\n",
              "      <td>1.0</td>\n",
              "      <td>Check-Out</td>\n",
              "      <td>2015-07-03</td>\n",
              "    </tr>\n",
              "  </tbody>\n",
              "</table>\n",
              "<p>5 rows × 32 columns</p>\n",
              "</div>\n",
              "      <button class=\"colab-df-convert\" onclick=\"convertToInteractive('df-0196e3e9-a7e8-44e6-9cd9-7a143c767b83')\"\n",
              "              title=\"Convert this dataframe to an interactive table.\"\n",
              "              style=\"display:none;\">\n",
              "        \n",
              "  <svg xmlns=\"http://www.w3.org/2000/svg\" height=\"24px\"viewBox=\"0 0 24 24\"\n",
              "       width=\"24px\">\n",
              "    <path d=\"M0 0h24v24H0V0z\" fill=\"none\"/>\n",
              "    <path d=\"M18.56 5.44l.94 2.06.94-2.06 2.06-.94-2.06-.94-.94-2.06-.94 2.06-2.06.94zm-11 1L8.5 8.5l.94-2.06 2.06-.94-2.06-.94L8.5 2.5l-.94 2.06-2.06.94zm10 10l.94 2.06.94-2.06 2.06-.94-2.06-.94-.94-2.06-.94 2.06-2.06.94z\"/><path d=\"M17.41 7.96l-1.37-1.37c-.4-.4-.92-.59-1.43-.59-.52 0-1.04.2-1.43.59L10.3 9.45l-7.72 7.72c-.78.78-.78 2.05 0 2.83L4 21.41c.39.39.9.59 1.41.59.51 0 1.02-.2 1.41-.59l7.78-7.78 2.81-2.81c.8-.78.8-2.07 0-2.86zM5.41 20L4 18.59l7.72-7.72 1.47 1.35L5.41 20z\"/>\n",
              "  </svg>\n",
              "      </button>\n",
              "      \n",
              "  <style>\n",
              "    .colab-df-container {\n",
              "      display:flex;\n",
              "      flex-wrap:wrap;\n",
              "      gap: 12px;\n",
              "    }\n",
              "\n",
              "    .colab-df-convert {\n",
              "      background-color: #E8F0FE;\n",
              "      border: none;\n",
              "      border-radius: 50%;\n",
              "      cursor: pointer;\n",
              "      display: none;\n",
              "      fill: #1967D2;\n",
              "      height: 32px;\n",
              "      padding: 0 0 0 0;\n",
              "      width: 32px;\n",
              "    }\n",
              "\n",
              "    .colab-df-convert:hover {\n",
              "      background-color: #E2EBFA;\n",
              "      box-shadow: 0px 1px 2px rgba(60, 64, 67, 0.3), 0px 1px 3px 1px rgba(60, 64, 67, 0.15);\n",
              "      fill: #174EA6;\n",
              "    }\n",
              "\n",
              "    [theme=dark] .colab-df-convert {\n",
              "      background-color: #3B4455;\n",
              "      fill: #D2E3FC;\n",
              "    }\n",
              "\n",
              "    [theme=dark] .colab-df-convert:hover {\n",
              "      background-color: #434B5C;\n",
              "      box-shadow: 0px 1px 3px 1px rgba(0, 0, 0, 0.15);\n",
              "      filter: drop-shadow(0px 1px 2px rgba(0, 0, 0, 0.3));\n",
              "      fill: #FFFFFF;\n",
              "    }\n",
              "  </style>\n",
              "\n",
              "      <script>\n",
              "        const buttonEl =\n",
              "          document.querySelector('#df-0196e3e9-a7e8-44e6-9cd9-7a143c767b83 button.colab-df-convert');\n",
              "        buttonEl.style.display =\n",
              "          google.colab.kernel.accessAllowed ? 'block' : 'none';\n",
              "\n",
              "        async function convertToInteractive(key) {\n",
              "          const element = document.querySelector('#df-0196e3e9-a7e8-44e6-9cd9-7a143c767b83');\n",
              "          const dataTable =\n",
              "            await google.colab.kernel.invokeFunction('convertToInteractive',\n",
              "                                                     [key], {});\n",
              "          if (!dataTable) return;\n",
              "\n",
              "          const docLinkHtml = 'Like what you see? Visit the ' +\n",
              "            '<a target=\"_blank\" href=https://colab.research.google.com/notebooks/data_table.ipynb>data table notebook</a>'\n",
              "            + ' to learn more about interactive tables.';\n",
              "          element.innerHTML = '';\n",
              "          dataTable['output_type'] = 'display_data';\n",
              "          await google.colab.output.renderOutput(dataTable, element);\n",
              "          const docLink = document.createElement('div');\n",
              "          docLink.innerHTML = docLinkHtml;\n",
              "          element.appendChild(docLink);\n",
              "        }\n",
              "      </script>\n",
              "    </div>\n",
              "  </div>\n",
              "  "
            ]
          },
          "metadata": {},
          "execution_count": 6
        }
      ],
      "source": [
        "dataset = pd.read_csv('/content/hotel_bookings.csv')\n",
        "dataset.head()"
      ]
    },
    {
      "cell_type": "code",
      "execution_count": 7,
      "metadata": {
        "colab": {
          "base_uri": "https://localhost:8080/"
        },
        "id": "Xgkt_95hw6zJ",
        "outputId": "5e2995b9-85ee-4b86-8110-03f3d3f4490f"
      },
      "outputs": [
        {
          "output_type": "execute_result",
          "data": {
            "text/plain": [
              "Index(['hotel', 'is_canceled', 'lead_time', 'arrival_date_year',\n",
              "       'arrival_date_month', 'arrival_date_week_number',\n",
              "       'arrival_date_day_of_month', 'stays_in_weekend_nights',\n",
              "       'stays_in_week_nights', 'adults', 'children', 'babies', 'meal',\n",
              "       'country', 'market_segment', 'distribution_channel',\n",
              "       'is_repeated_guest', 'previous_cancellations',\n",
              "       'previous_bookings_not_canceled', 'reserved_room_type',\n",
              "       'assigned_room_type', 'booking_changes', 'deposit_type', 'agent',\n",
              "       'company', 'days_in_waiting_list', 'customer_type', 'adr',\n",
              "       'required_car_parking_spaces', 'total_of_special_requests',\n",
              "       'reservation_status', 'reservation_status_date'],\n",
              "      dtype='object')"
            ]
          },
          "metadata": {},
          "execution_count": 7
        }
      ],
      "source": [
        "dataset.columns"
      ]
    },
    {
      "cell_type": "markdown",
      "metadata": {
        "id": "5qyEgxeMw6zJ"
      },
      "source": [
        "## Feature Engineering\n",
        "\n",
        "Lets create some new and meaningful features so as to reduce the dimensionality of the dataset. \n",
        "- **Total Stay** =  stays_in_weekend_nights + stays_in_week_nights\n",
        "- **Guests** = adults + children + babies\n",
        "- **Different_room_assigned** = 1 if reserved_room_type & assigned_room_type are different, 0 otherwise."
      ]
    },
    {
      "cell_type": "code",
      "execution_count": 8,
      "metadata": {
        "colab": {
          "base_uri": "https://localhost:8080/"
        },
        "id": "s4xw95_Aw6zK",
        "outputId": "8668e0e3-f44a-41ed-8dd1-54939986f14a"
      },
      "outputs": [
        {
          "output_type": "execute_result",
          "data": {
            "text/plain": [
              "Index(['hotel', 'is_canceled', 'lead_time', 'arrival_date_year',\n",
              "       'arrival_date_month', 'arrival_date_week_number',\n",
              "       'arrival_date_day_of_month', 'meal', 'country', 'market_segment',\n",
              "       'distribution_channel', 'is_repeated_guest', 'previous_cancellations',\n",
              "       'previous_bookings_not_canceled', 'booking_changes', 'deposit_type',\n",
              "       'agent', 'company', 'days_in_waiting_list', 'customer_type', 'adr',\n",
              "       'required_car_parking_spaces', 'total_of_special_requests',\n",
              "       'reservation_status', 'reservation_status_date', 'total_stay', 'guests',\n",
              "       'different_room_assigned'],\n",
              "      dtype='object')"
            ]
          },
          "metadata": {},
          "execution_count": 8
        }
      ],
      "source": [
        "# Total stay in nights\n",
        "dataset['total_stay'] = dataset['stays_in_week_nights']+dataset['stays_in_weekend_nights']\n",
        "# Total number of guests\n",
        "dataset['guests'] = dataset['adults']+dataset['children'] +dataset['babies']\n",
        "# Creating the different_room_assigned feature\n",
        "dataset['different_room_assigned']=0\n",
        "slice_indices =dataset['reserved_room_type']!=dataset['assigned_room_type']\n",
        "dataset.loc[slice_indices,'different_room_assigned']=1\n",
        "# Deleting older features\n",
        "dataset = dataset.drop(['stays_in_week_nights','stays_in_weekend_nights','adults','children','babies'\n",
        "                        ,'reserved_room_type','assigned_room_type'],axis=1)\n",
        "dataset.columns"
      ]
    },
    {
      "cell_type": "markdown",
      "metadata": {
        "id": "qz3ywbV-w6zK"
      },
      "source": [
        "We also remove other columns that either contain NULL values or have too many unique values (e.g., agent ID). We also impute missing values of the `country` column with the most frequent country. We remove `distribution_channel` since it has a high overlap with `market_segment`."
      ]
    },
    {
      "cell_type": "code",
      "execution_count": 9,
      "metadata": {
        "id": "g_DlbT5Lw6zL"
      },
      "outputs": [],
      "source": [
        "dataset.isnull().sum() # Country,Agent,Company contain 488,16340,112593 missing entries \n",
        "dataset = dataset.drop(['agent','company'],axis=1)\n",
        "# Replacing missing countries with most freqently occuring countries\n",
        "dataset['country']= dataset['country'].fillna(dataset['country'].mode()[0])"
      ]
    },
    {
      "cell_type": "code",
      "execution_count": 10,
      "metadata": {
        "id": "6Fu5kplpw6zL"
      },
      "outputs": [],
      "source": [
        "dataset = dataset.drop(['reservation_status','reservation_status_date','arrival_date_day_of_month'],axis=1)\n",
        "dataset = dataset.drop(['arrival_date_year'],axis=1)\n",
        "dataset = dataset.drop(['distribution_channel'], axis=1)"
      ]
    },
    {
      "cell_type": "code",
      "execution_count": 11,
      "metadata": {
        "colab": {
          "base_uri": "https://localhost:8080/",
          "height": 626
        },
        "id": "iwLpiHTZw6zL",
        "outputId": "86aa7c5c-075e-45b9-c167-c52bc134d2da"
      },
      "outputs": [
        {
          "output_type": "stream",
          "name": "stdout",
          "text": [
            "Index(['hotel', 'is_canceled', 'lead_time', 'arrival_date_month',\n",
            "       'arrival_date_week_number', 'meal', 'country', 'market_segment',\n",
            "       'is_repeated_guest', 'previous_cancellations',\n",
            "       'previous_bookings_not_canceled', 'booking_changes', 'deposit_type',\n",
            "       'days_in_waiting_list', 'customer_type', 'adr',\n",
            "       'required_car_parking_spaces', 'total_of_special_requests',\n",
            "       'total_stay', 'guests', 'different_room_assigned'],\n",
            "      dtype='object')\n"
          ]
        },
        {
          "output_type": "execute_result",
          "data": {
            "text/plain": [
              "   meal country market_segment  is_repeated_guest  previous_cancellations  \\\n",
              "0    BB     PRT         Direct                0.0                     0.0   \n",
              "1    BB     PRT         Direct                0.0                     0.0   \n",
              "2    BB     GBR         Direct                0.0                     0.0   \n",
              "3    BB     GBR      Corporate                0.0                     0.0   \n",
              "4    BB     GBR      Online TA                0.0                     0.0   \n",
              "..  ...     ...            ...                ...                     ...   \n",
              "95   BB     PRT      Online TA                0.0                     0.0   \n",
              "96   BB     PRT      Online TA                0.0                     0.0   \n",
              "97   HB     ESP  Offline TA/TO                0.0                     0.0   \n",
              "98   BB     PRT      Online TA                0.0                     0.0   \n",
              "99   BB     DEU         Direct                0.0                     0.0   \n",
              "\n",
              "    previous_bookings_not_canceled  booking_changes deposit_type  \\\n",
              "0                              0.0              3.0   No Deposit   \n",
              "1                              0.0              4.0   No Deposit   \n",
              "2                              0.0              0.0   No Deposit   \n",
              "3                              0.0              0.0   No Deposit   \n",
              "4                              0.0              0.0   No Deposit   \n",
              "..                             ...              ...          ...   \n",
              "95                             0.0              0.0   No Deposit   \n",
              "96                             0.0              0.0   No Deposit   \n",
              "97                             0.0              0.0   No Deposit   \n",
              "98                             0.0              0.0   No Deposit   \n",
              "99                             0.0              0.0   No Deposit   \n",
              "\n",
              "    days_in_waiting_list customer_type     adr  required_car_parking_spaces  \\\n",
              "0                    0.0     Transient    0.00                          0.0   \n",
              "1                    0.0     Transient    0.00                          0.0   \n",
              "2                    0.0     Transient   75.00                          0.0   \n",
              "3                    0.0     Transient   75.00                          0.0   \n",
              "4                    0.0     Transient   98.00                          0.0   \n",
              "..                   ...           ...     ...                          ...   \n",
              "95                   0.0     Transient   73.80                          0.0   \n",
              "96                   0.0     Transient  117.00                          0.0   \n",
              "97                   0.0     Transient  196.54                          0.0   \n",
              "98                   0.0     Transient   99.30                          1.0   \n",
              "99                   0.0     Transient   90.95                          0.0   \n",
              "\n",
              "    total_of_special_requests  total_stay  guests  \n",
              "0                         0.0         0.0     2.0  \n",
              "1                         0.0         0.0     2.0  \n",
              "2                         0.0         1.0     1.0  \n",
              "3                         0.0         1.0     1.0  \n",
              "4                         1.0         2.0     2.0  \n",
              "..                        ...         ...     ...  \n",
              "95                        1.0         2.0     2.0  \n",
              "96                        1.0         7.0     2.0  \n",
              "97                        1.0         7.0     3.0  \n",
              "98                        2.0         7.0     3.0  \n",
              "99                        0.0         7.0     2.0  \n",
              "\n",
              "[100 rows x 15 columns]"
            ],
            "text/html": [
              "\n",
              "  <div id=\"df-2272cd95-bd6c-4532-bbcc-9c9761015d96\">\n",
              "    <div class=\"colab-df-container\">\n",
              "      <div>\n",
              "<style scoped>\n",
              "    .dataframe tbody tr th:only-of-type {\n",
              "        vertical-align: middle;\n",
              "    }\n",
              "\n",
              "    .dataframe tbody tr th {\n",
              "        vertical-align: top;\n",
              "    }\n",
              "\n",
              "    .dataframe thead th {\n",
              "        text-align: right;\n",
              "    }\n",
              "</style>\n",
              "<table border=\"1\" class=\"dataframe\">\n",
              "  <thead>\n",
              "    <tr style=\"text-align: right;\">\n",
              "      <th></th>\n",
              "      <th>meal</th>\n",
              "      <th>country</th>\n",
              "      <th>market_segment</th>\n",
              "      <th>is_repeated_guest</th>\n",
              "      <th>previous_cancellations</th>\n",
              "      <th>previous_bookings_not_canceled</th>\n",
              "      <th>booking_changes</th>\n",
              "      <th>deposit_type</th>\n",
              "      <th>days_in_waiting_list</th>\n",
              "      <th>customer_type</th>\n",
              "      <th>adr</th>\n",
              "      <th>required_car_parking_spaces</th>\n",
              "      <th>total_of_special_requests</th>\n",
              "      <th>total_stay</th>\n",
              "      <th>guests</th>\n",
              "    </tr>\n",
              "  </thead>\n",
              "  <tbody>\n",
              "    <tr>\n",
              "      <th>0</th>\n",
              "      <td>BB</td>\n",
              "      <td>PRT</td>\n",
              "      <td>Direct</td>\n",
              "      <td>0.0</td>\n",
              "      <td>0.0</td>\n",
              "      <td>0.0</td>\n",
              "      <td>3.0</td>\n",
              "      <td>No Deposit</td>\n",
              "      <td>0.0</td>\n",
              "      <td>Transient</td>\n",
              "      <td>0.00</td>\n",
              "      <td>0.0</td>\n",
              "      <td>0.0</td>\n",
              "      <td>0.0</td>\n",
              "      <td>2.0</td>\n",
              "    </tr>\n",
              "    <tr>\n",
              "      <th>1</th>\n",
              "      <td>BB</td>\n",
              "      <td>PRT</td>\n",
              "      <td>Direct</td>\n",
              "      <td>0.0</td>\n",
              "      <td>0.0</td>\n",
              "      <td>0.0</td>\n",
              "      <td>4.0</td>\n",
              "      <td>No Deposit</td>\n",
              "      <td>0.0</td>\n",
              "      <td>Transient</td>\n",
              "      <td>0.00</td>\n",
              "      <td>0.0</td>\n",
              "      <td>0.0</td>\n",
              "      <td>0.0</td>\n",
              "      <td>2.0</td>\n",
              "    </tr>\n",
              "    <tr>\n",
              "      <th>2</th>\n",
              "      <td>BB</td>\n",
              "      <td>GBR</td>\n",
              "      <td>Direct</td>\n",
              "      <td>0.0</td>\n",
              "      <td>0.0</td>\n",
              "      <td>0.0</td>\n",
              "      <td>0.0</td>\n",
              "      <td>No Deposit</td>\n",
              "      <td>0.0</td>\n",
              "      <td>Transient</td>\n",
              "      <td>75.00</td>\n",
              "      <td>0.0</td>\n",
              "      <td>0.0</td>\n",
              "      <td>1.0</td>\n",
              "      <td>1.0</td>\n",
              "    </tr>\n",
              "    <tr>\n",
              "      <th>3</th>\n",
              "      <td>BB</td>\n",
              "      <td>GBR</td>\n",
              "      <td>Corporate</td>\n",
              "      <td>0.0</td>\n",
              "      <td>0.0</td>\n",
              "      <td>0.0</td>\n",
              "      <td>0.0</td>\n",
              "      <td>No Deposit</td>\n",
              "      <td>0.0</td>\n",
              "      <td>Transient</td>\n",
              "      <td>75.00</td>\n",
              "      <td>0.0</td>\n",
              "      <td>0.0</td>\n",
              "      <td>1.0</td>\n",
              "      <td>1.0</td>\n",
              "    </tr>\n",
              "    <tr>\n",
              "      <th>4</th>\n",
              "      <td>BB</td>\n",
              "      <td>GBR</td>\n",
              "      <td>Online TA</td>\n",
              "      <td>0.0</td>\n",
              "      <td>0.0</td>\n",
              "      <td>0.0</td>\n",
              "      <td>0.0</td>\n",
              "      <td>No Deposit</td>\n",
              "      <td>0.0</td>\n",
              "      <td>Transient</td>\n",
              "      <td>98.00</td>\n",
              "      <td>0.0</td>\n",
              "      <td>1.0</td>\n",
              "      <td>2.0</td>\n",
              "      <td>2.0</td>\n",
              "    </tr>\n",
              "    <tr>\n",
              "      <th>...</th>\n",
              "      <td>...</td>\n",
              "      <td>...</td>\n",
              "      <td>...</td>\n",
              "      <td>...</td>\n",
              "      <td>...</td>\n",
              "      <td>...</td>\n",
              "      <td>...</td>\n",
              "      <td>...</td>\n",
              "      <td>...</td>\n",
              "      <td>...</td>\n",
              "      <td>...</td>\n",
              "      <td>...</td>\n",
              "      <td>...</td>\n",
              "      <td>...</td>\n",
              "      <td>...</td>\n",
              "    </tr>\n",
              "    <tr>\n",
              "      <th>95</th>\n",
              "      <td>BB</td>\n",
              "      <td>PRT</td>\n",
              "      <td>Online TA</td>\n",
              "      <td>0.0</td>\n",
              "      <td>0.0</td>\n",
              "      <td>0.0</td>\n",
              "      <td>0.0</td>\n",
              "      <td>No Deposit</td>\n",
              "      <td>0.0</td>\n",
              "      <td>Transient</td>\n",
              "      <td>73.80</td>\n",
              "      <td>0.0</td>\n",
              "      <td>1.0</td>\n",
              "      <td>2.0</td>\n",
              "      <td>2.0</td>\n",
              "    </tr>\n",
              "    <tr>\n",
              "      <th>96</th>\n",
              "      <td>BB</td>\n",
              "      <td>PRT</td>\n",
              "      <td>Online TA</td>\n",
              "      <td>0.0</td>\n",
              "      <td>0.0</td>\n",
              "      <td>0.0</td>\n",
              "      <td>0.0</td>\n",
              "      <td>No Deposit</td>\n",
              "      <td>0.0</td>\n",
              "      <td>Transient</td>\n",
              "      <td>117.00</td>\n",
              "      <td>0.0</td>\n",
              "      <td>1.0</td>\n",
              "      <td>7.0</td>\n",
              "      <td>2.0</td>\n",
              "    </tr>\n",
              "    <tr>\n",
              "      <th>97</th>\n",
              "      <td>HB</td>\n",
              "      <td>ESP</td>\n",
              "      <td>Offline TA/TO</td>\n",
              "      <td>0.0</td>\n",
              "      <td>0.0</td>\n",
              "      <td>0.0</td>\n",
              "      <td>0.0</td>\n",
              "      <td>No Deposit</td>\n",
              "      <td>0.0</td>\n",
              "      <td>Transient</td>\n",
              "      <td>196.54</td>\n",
              "      <td>0.0</td>\n",
              "      <td>1.0</td>\n",
              "      <td>7.0</td>\n",
              "      <td>3.0</td>\n",
              "    </tr>\n",
              "    <tr>\n",
              "      <th>98</th>\n",
              "      <td>BB</td>\n",
              "      <td>PRT</td>\n",
              "      <td>Online TA</td>\n",
              "      <td>0.0</td>\n",
              "      <td>0.0</td>\n",
              "      <td>0.0</td>\n",
              "      <td>0.0</td>\n",
              "      <td>No Deposit</td>\n",
              "      <td>0.0</td>\n",
              "      <td>Transient</td>\n",
              "      <td>99.30</td>\n",
              "      <td>1.0</td>\n",
              "      <td>2.0</td>\n",
              "      <td>7.0</td>\n",
              "      <td>3.0</td>\n",
              "    </tr>\n",
              "    <tr>\n",
              "      <th>99</th>\n",
              "      <td>BB</td>\n",
              "      <td>DEU</td>\n",
              "      <td>Direct</td>\n",
              "      <td>0.0</td>\n",
              "      <td>0.0</td>\n",
              "      <td>0.0</td>\n",
              "      <td>0.0</td>\n",
              "      <td>No Deposit</td>\n",
              "      <td>0.0</td>\n",
              "      <td>Transient</td>\n",
              "      <td>90.95</td>\n",
              "      <td>0.0</td>\n",
              "      <td>0.0</td>\n",
              "      <td>7.0</td>\n",
              "      <td>2.0</td>\n",
              "    </tr>\n",
              "  </tbody>\n",
              "</table>\n",
              "<p>100 rows × 15 columns</p>\n",
              "</div>\n",
              "      <button class=\"colab-df-convert\" onclick=\"convertToInteractive('df-2272cd95-bd6c-4532-bbcc-9c9761015d96')\"\n",
              "              title=\"Convert this dataframe to an interactive table.\"\n",
              "              style=\"display:none;\">\n",
              "        \n",
              "  <svg xmlns=\"http://www.w3.org/2000/svg\" height=\"24px\"viewBox=\"0 0 24 24\"\n",
              "       width=\"24px\">\n",
              "    <path d=\"M0 0h24v24H0V0z\" fill=\"none\"/>\n",
              "    <path d=\"M18.56 5.44l.94 2.06.94-2.06 2.06-.94-2.06-.94-.94-2.06-.94 2.06-2.06.94zm-11 1L8.5 8.5l.94-2.06 2.06-.94-2.06-.94L8.5 2.5l-.94 2.06-2.06.94zm10 10l.94 2.06.94-2.06 2.06-.94-2.06-.94-.94-2.06-.94 2.06-2.06.94z\"/><path d=\"M17.41 7.96l-1.37-1.37c-.4-.4-.92-.59-1.43-.59-.52 0-1.04.2-1.43.59L10.3 9.45l-7.72 7.72c-.78.78-.78 2.05 0 2.83L4 21.41c.39.39.9.59 1.41.59.51 0 1.02-.2 1.41-.59l7.78-7.78 2.81-2.81c.8-.78.8-2.07 0-2.86zM5.41 20L4 18.59l7.72-7.72 1.47 1.35L5.41 20z\"/>\n",
              "  </svg>\n",
              "      </button>\n",
              "      \n",
              "  <style>\n",
              "    .colab-df-container {\n",
              "      display:flex;\n",
              "      flex-wrap:wrap;\n",
              "      gap: 12px;\n",
              "    }\n",
              "\n",
              "    .colab-df-convert {\n",
              "      background-color: #E8F0FE;\n",
              "      border: none;\n",
              "      border-radius: 50%;\n",
              "      cursor: pointer;\n",
              "      display: none;\n",
              "      fill: #1967D2;\n",
              "      height: 32px;\n",
              "      padding: 0 0 0 0;\n",
              "      width: 32px;\n",
              "    }\n",
              "\n",
              "    .colab-df-convert:hover {\n",
              "      background-color: #E2EBFA;\n",
              "      box-shadow: 0px 1px 2px rgba(60, 64, 67, 0.3), 0px 1px 3px 1px rgba(60, 64, 67, 0.15);\n",
              "      fill: #174EA6;\n",
              "    }\n",
              "\n",
              "    [theme=dark] .colab-df-convert {\n",
              "      background-color: #3B4455;\n",
              "      fill: #D2E3FC;\n",
              "    }\n",
              "\n",
              "    [theme=dark] .colab-df-convert:hover {\n",
              "      background-color: #434B5C;\n",
              "      box-shadow: 0px 1px 3px 1px rgba(0, 0, 0, 0.15);\n",
              "      filter: drop-shadow(0px 1px 2px rgba(0, 0, 0, 0.3));\n",
              "      fill: #FFFFFF;\n",
              "    }\n",
              "  </style>\n",
              "\n",
              "      <script>\n",
              "        const buttonEl =\n",
              "          document.querySelector('#df-2272cd95-bd6c-4532-bbcc-9c9761015d96 button.colab-df-convert');\n",
              "        buttonEl.style.display =\n",
              "          google.colab.kernel.accessAllowed ? 'block' : 'none';\n",
              "\n",
              "        async function convertToInteractive(key) {\n",
              "          const element = document.querySelector('#df-2272cd95-bd6c-4532-bbcc-9c9761015d96');\n",
              "          const dataTable =\n",
              "            await google.colab.kernel.invokeFunction('convertToInteractive',\n",
              "                                                     [key], {});\n",
              "          if (!dataTable) return;\n",
              "\n",
              "          const docLinkHtml = 'Like what you see? Visit the ' +\n",
              "            '<a target=\"_blank\" href=https://colab.research.google.com/notebooks/data_table.ipynb>data table notebook</a>'\n",
              "            + ' to learn more about interactive tables.';\n",
              "          element.innerHTML = '';\n",
              "          dataTable['output_type'] = 'display_data';\n",
              "          await google.colab.output.renderOutput(dataTable, element);\n",
              "          const docLink = document.createElement('div');\n",
              "          docLink.innerHTML = docLinkHtml;\n",
              "          element.appendChild(docLink);\n",
              "        }\n",
              "      </script>\n",
              "    </div>\n",
              "  </div>\n",
              "  "
            ]
          },
          "metadata": {},
          "execution_count": 11
        }
      ],
      "source": [
        "# Replacing 1 by True and 0 by False for the experiment and outcome variables\n",
        "dataset['different_room_assigned']= dataset['different_room_assigned'].replace(1,True)\n",
        "dataset['different_room_assigned']= dataset['different_room_assigned'].replace(0,False)\n",
        "dataset['is_canceled']= dataset['is_canceled'].replace(1,True)\n",
        "dataset['is_canceled']= dataset['is_canceled'].replace(0,False)\n",
        "dataset.dropna(inplace=True)\n",
        "print(dataset.columns)\n",
        "dataset.iloc[:, 5:20].head(100)"
      ]
    },
    {
      "cell_type": "code",
      "execution_count": 12,
      "metadata": {
        "colab": {
          "base_uri": "https://localhost:8080/",
          "height": 207
        },
        "id": "XXbWhfFfw6zM",
        "outputId": "4844311c-17d6-40ce-efda-53ce04794a72"
      },
      "outputs": [
        {
          "output_type": "execute_result",
          "data": {
            "text/plain": [
              "                          hotel  lead_time  arrival_date_month  \\\n",
              "deposit_type is_canceled                                         \n",
              "No Deposit   False         3239       3239                3239   \n",
              "             True          3268       3268                3268   \n",
              "\n",
              "                          arrival_date_week_number  meal  country  \\\n",
              "deposit_type is_canceled                                            \n",
              "No Deposit   False                            3239  3239     3239   \n",
              "             True                             3268  3268     3268   \n",
              "\n",
              "                          market_segment  is_repeated_guest  \\\n",
              "deposit_type is_canceled                                      \n",
              "No Deposit   False                  3239               3239   \n",
              "             True                   3268               3268   \n",
              "\n",
              "                          previous_cancellations  \\\n",
              "deposit_type is_canceled                           \n",
              "No Deposit   False                          3239   \n",
              "             True                           3268   \n",
              "\n",
              "                          previous_bookings_not_canceled  booking_changes  \\\n",
              "deposit_type is_canceled                                                    \n",
              "No Deposit   False                                  3239             3239   \n",
              "             True                                   3268             3268   \n",
              "\n",
              "                          days_in_waiting_list  customer_type   adr  \\\n",
              "deposit_type is_canceled                                              \n",
              "No Deposit   False                        3239           3239  3239   \n",
              "             True                         3268           3268  3268   \n",
              "\n",
              "                          required_car_parking_spaces  \\\n",
              "deposit_type is_canceled                                \n",
              "No Deposit   False                               3239   \n",
              "             True                                3268   \n",
              "\n",
              "                          total_of_special_requests  total_stay  guests  \\\n",
              "deposit_type is_canceled                                                  \n",
              "No Deposit   False                             3239        3239    3239   \n",
              "             True                              3268        3268    3268   \n",
              "\n",
              "                          different_room_assigned  \n",
              "deposit_type is_canceled                           \n",
              "No Deposit   False                           3239  \n",
              "             True                            3268  "
            ],
            "text/html": [
              "\n",
              "  <div id=\"df-158df1dd-d8b2-4fe9-8484-549f50bd4e6c\">\n",
              "    <div class=\"colab-df-container\">\n",
              "      <div>\n",
              "<style scoped>\n",
              "    .dataframe tbody tr th:only-of-type {\n",
              "        vertical-align: middle;\n",
              "    }\n",
              "\n",
              "    .dataframe tbody tr th {\n",
              "        vertical-align: top;\n",
              "    }\n",
              "\n",
              "    .dataframe thead th {\n",
              "        text-align: right;\n",
              "    }\n",
              "</style>\n",
              "<table border=\"1\" class=\"dataframe\">\n",
              "  <thead>\n",
              "    <tr style=\"text-align: right;\">\n",
              "      <th></th>\n",
              "      <th></th>\n",
              "      <th>hotel</th>\n",
              "      <th>lead_time</th>\n",
              "      <th>arrival_date_month</th>\n",
              "      <th>arrival_date_week_number</th>\n",
              "      <th>meal</th>\n",
              "      <th>country</th>\n",
              "      <th>market_segment</th>\n",
              "      <th>is_repeated_guest</th>\n",
              "      <th>previous_cancellations</th>\n",
              "      <th>previous_bookings_not_canceled</th>\n",
              "      <th>booking_changes</th>\n",
              "      <th>days_in_waiting_list</th>\n",
              "      <th>customer_type</th>\n",
              "      <th>adr</th>\n",
              "      <th>required_car_parking_spaces</th>\n",
              "      <th>total_of_special_requests</th>\n",
              "      <th>total_stay</th>\n",
              "      <th>guests</th>\n",
              "      <th>different_room_assigned</th>\n",
              "    </tr>\n",
              "    <tr>\n",
              "      <th>deposit_type</th>\n",
              "      <th>is_canceled</th>\n",
              "      <th></th>\n",
              "      <th></th>\n",
              "      <th></th>\n",
              "      <th></th>\n",
              "      <th></th>\n",
              "      <th></th>\n",
              "      <th></th>\n",
              "      <th></th>\n",
              "      <th></th>\n",
              "      <th></th>\n",
              "      <th></th>\n",
              "      <th></th>\n",
              "      <th></th>\n",
              "      <th></th>\n",
              "      <th></th>\n",
              "      <th></th>\n",
              "      <th></th>\n",
              "      <th></th>\n",
              "      <th></th>\n",
              "    </tr>\n",
              "  </thead>\n",
              "  <tbody>\n",
              "    <tr>\n",
              "      <th rowspan=\"2\" valign=\"top\">No Deposit</th>\n",
              "      <th>False</th>\n",
              "      <td>3239</td>\n",
              "      <td>3239</td>\n",
              "      <td>3239</td>\n",
              "      <td>3239</td>\n",
              "      <td>3239</td>\n",
              "      <td>3239</td>\n",
              "      <td>3239</td>\n",
              "      <td>3239</td>\n",
              "      <td>3239</td>\n",
              "      <td>3239</td>\n",
              "      <td>3239</td>\n",
              "      <td>3239</td>\n",
              "      <td>3239</td>\n",
              "      <td>3239</td>\n",
              "      <td>3239</td>\n",
              "      <td>3239</td>\n",
              "      <td>3239</td>\n",
              "      <td>3239</td>\n",
              "      <td>3239</td>\n",
              "    </tr>\n",
              "    <tr>\n",
              "      <th>True</th>\n",
              "      <td>3268</td>\n",
              "      <td>3268</td>\n",
              "      <td>3268</td>\n",
              "      <td>3268</td>\n",
              "      <td>3268</td>\n",
              "      <td>3268</td>\n",
              "      <td>3268</td>\n",
              "      <td>3268</td>\n",
              "      <td>3268</td>\n",
              "      <td>3268</td>\n",
              "      <td>3268</td>\n",
              "      <td>3268</td>\n",
              "      <td>3268</td>\n",
              "      <td>3268</td>\n",
              "      <td>3268</td>\n",
              "      <td>3268</td>\n",
              "      <td>3268</td>\n",
              "      <td>3268</td>\n",
              "      <td>3268</td>\n",
              "    </tr>\n",
              "  </tbody>\n",
              "</table>\n",
              "</div>\n",
              "      <button class=\"colab-df-convert\" onclick=\"convertToInteractive('df-158df1dd-d8b2-4fe9-8484-549f50bd4e6c')\"\n",
              "              title=\"Convert this dataframe to an interactive table.\"\n",
              "              style=\"display:none;\">\n",
              "        \n",
              "  <svg xmlns=\"http://www.w3.org/2000/svg\" height=\"24px\"viewBox=\"0 0 24 24\"\n",
              "       width=\"24px\">\n",
              "    <path d=\"M0 0h24v24H0V0z\" fill=\"none\"/>\n",
              "    <path d=\"M18.56 5.44l.94 2.06.94-2.06 2.06-.94-2.06-.94-.94-2.06-.94 2.06-2.06.94zm-11 1L8.5 8.5l.94-2.06 2.06-.94-2.06-.94L8.5 2.5l-.94 2.06-2.06.94zm10 10l.94 2.06.94-2.06 2.06-.94-2.06-.94-.94-2.06-.94 2.06-2.06.94z\"/><path d=\"M17.41 7.96l-1.37-1.37c-.4-.4-.92-.59-1.43-.59-.52 0-1.04.2-1.43.59L10.3 9.45l-7.72 7.72c-.78.78-.78 2.05 0 2.83L4 21.41c.39.39.9.59 1.41.59.51 0 1.02-.2 1.41-.59l7.78-7.78 2.81-2.81c.8-.78.8-2.07 0-2.86zM5.41 20L4 18.59l7.72-7.72 1.47 1.35L5.41 20z\"/>\n",
              "  </svg>\n",
              "      </button>\n",
              "      \n",
              "  <style>\n",
              "    .colab-df-container {\n",
              "      display:flex;\n",
              "      flex-wrap:wrap;\n",
              "      gap: 12px;\n",
              "    }\n",
              "\n",
              "    .colab-df-convert {\n",
              "      background-color: #E8F0FE;\n",
              "      border: none;\n",
              "      border-radius: 50%;\n",
              "      cursor: pointer;\n",
              "      display: none;\n",
              "      fill: #1967D2;\n",
              "      height: 32px;\n",
              "      padding: 0 0 0 0;\n",
              "      width: 32px;\n",
              "    }\n",
              "\n",
              "    .colab-df-convert:hover {\n",
              "      background-color: #E2EBFA;\n",
              "      box-shadow: 0px 1px 2px rgba(60, 64, 67, 0.3), 0px 1px 3px 1px rgba(60, 64, 67, 0.15);\n",
              "      fill: #174EA6;\n",
              "    }\n",
              "\n",
              "    [theme=dark] .colab-df-convert {\n",
              "      background-color: #3B4455;\n",
              "      fill: #D2E3FC;\n",
              "    }\n",
              "\n",
              "    [theme=dark] .colab-df-convert:hover {\n",
              "      background-color: #434B5C;\n",
              "      box-shadow: 0px 1px 3px 1px rgba(0, 0, 0, 0.15);\n",
              "      filter: drop-shadow(0px 1px 2px rgba(0, 0, 0, 0.3));\n",
              "      fill: #FFFFFF;\n",
              "    }\n",
              "  </style>\n",
              "\n",
              "      <script>\n",
              "        const buttonEl =\n",
              "          document.querySelector('#df-158df1dd-d8b2-4fe9-8484-549f50bd4e6c button.colab-df-convert');\n",
              "        buttonEl.style.display =\n",
              "          google.colab.kernel.accessAllowed ? 'block' : 'none';\n",
              "\n",
              "        async function convertToInteractive(key) {\n",
              "          const element = document.querySelector('#df-158df1dd-d8b2-4fe9-8484-549f50bd4e6c');\n",
              "          const dataTable =\n",
              "            await google.colab.kernel.invokeFunction('convertToInteractive',\n",
              "                                                     [key], {});\n",
              "          if (!dataTable) return;\n",
              "\n",
              "          const docLinkHtml = 'Like what you see? Visit the ' +\n",
              "            '<a target=\"_blank\" href=https://colab.research.google.com/notebooks/data_table.ipynb>data table notebook</a>'\n",
              "            + ' to learn more about interactive tables.';\n",
              "          element.innerHTML = '';\n",
              "          dataTable['output_type'] = 'display_data';\n",
              "          await google.colab.output.renderOutput(dataTable, element);\n",
              "          const docLink = document.createElement('div');\n",
              "          docLink.innerHTML = docLinkHtml;\n",
              "          element.appendChild(docLink);\n",
              "        }\n",
              "      </script>\n",
              "    </div>\n",
              "  </div>\n",
              "  "
            ]
          },
          "metadata": {},
          "execution_count": 12
        }
      ],
      "source": [
        "dataset = dataset[dataset.deposit_type==\"No Deposit\"]\n",
        "dataset.groupby(['deposit_type','is_canceled']).count()"
      ]
    },
    {
      "cell_type": "code",
      "execution_count": 13,
      "metadata": {
        "id": "mhv1b5NYw6zM"
      },
      "outputs": [],
      "source": [
        "dataset_copy = dataset.copy(deep=True)"
      ]
    },
    {
      "cell_type": "markdown",
      "metadata": {
        "id": "_whtDVlgw6zM"
      },
      "source": [
        "### Calculating Expected Counts\n"
      ]
    },
    {
      "cell_type": "code",
      "execution_count": 14,
      "metadata": {
        "colab": {
          "base_uri": "https://localhost:8080/",
          "height": 37
        },
        "id": "CcSr-Cy7w6zM",
        "outputId": "f83f28a7-afb3-4860-e9df-0ed9f78a0290"
      },
      "outputs": [
        {
          "output_type": "execute_result",
          "data": {
            "text/plain": [
              "384.5123"
            ],
            "text/latex": "$\\displaystyle 384.5123$"
          },
          "metadata": {},
          "execution_count": 14
        }
      ],
      "source": [
        "counts_sum=0\n",
        "for i in range(1,10000):\n",
        "        counts_i = 0\n",
        "        rdf = dataset.sample(1000)\n",
        "        counts_i = rdf[rdf[\"is_canceled\"]== rdf[\"different_room_assigned\"]].shape[0]\n",
        "        counts_sum+= counts_i\n",
        "counts_sum/10000"
      ]
    },
    {
      "cell_type": "markdown",
      "metadata": {
        "id": "nDgMooizw6zM"
      },
      "source": [
        "We now consider the scenario when there were no booking changes and recalculate the expected count."
      ]
    },
    {
      "cell_type": "code",
      "execution_count": 15,
      "metadata": {
        "id": "A4gpUSVEw6zN",
        "colab": {
          "base_uri": "https://localhost:8080/",
          "height": 37
        },
        "outputId": "18d49b26-980d-4594-fc21-5f2f3c0f0fc6"
      },
      "outputs": [
        {
          "output_type": "execute_result",
          "data": {
            "text/plain": [
              "358.0425"
            ],
            "text/latex": "$\\displaystyle 358.0425$"
          },
          "metadata": {},
          "execution_count": 15
        }
      ],
      "source": [
        "# Expected Count when there are no booking changes \n",
        "counts_sum=0\n",
        "for i in range(1,10000):\n",
        "        counts_i = 0\n",
        "        rdf = dataset[dataset[\"booking_changes\"]==0].sample(1000)\n",
        "        counts_i = rdf[rdf[\"is_canceled\"]== rdf[\"different_room_assigned\"]].shape[0]\n",
        "        counts_sum+= counts_i\n",
        "counts_sum/10000"
      ]
    },
    {
      "cell_type": "markdown",
      "metadata": {
        "id": "Wwf1Ly4kw6zN"
      },
      "source": [
        "In the 2nd case, we take the scenario when there were booking changes(>0) and recalculate the expected count."
      ]
    },
    {
      "cell_type": "code",
      "execution_count": 16,
      "metadata": {
        "id": "jvpADtKVw6zN",
        "colab": {
          "base_uri": "https://localhost:8080/",
          "height": 37
        },
        "outputId": "333e647c-1f9e-4690-e3b0-58bdfa1113c1"
      },
      "outputs": [
        {
          "output_type": "execute_result",
          "data": {
            "text/plain": [
              "517.0339"
            ],
            "text/latex": "$\\displaystyle 517.0339$"
          },
          "metadata": {},
          "execution_count": 16
        }
      ],
      "source": [
        "# Expected Count when there are booking changes = 66.4%\n",
        "counts_sum=0\n",
        "for i in range(1,10000):\n",
        "        counts_i = 0\n",
        "        rdf = dataset[dataset[\"booking_changes\"]>0].sample(1000)\n",
        "        counts_i = rdf[rdf[\"is_canceled\"]== rdf[\"different_room_assigned\"]].shape[0]\n",
        "        counts_sum+= counts_i\n",
        "counts_sum/10000"
      ]
    },
    {
      "cell_type": "markdown",
      "metadata": {
        "id": "ZXkoX4cqw6zN"
      },
      "source": [
        "There is definitely some change happening when the number of booking changes are non-zero."
      ]
    },
    {
      "cell_type": "markdown",
      "metadata": {
        "id": "7BnS4bGbw6zN"
      },
      "source": [
        "## Using DoWhy to estimate the causal effect"
      ]
    },
    {
      "cell_type": "markdown",
      "metadata": {
        "id": "90i2PN_4w6zO"
      },
      "source": [
        "## Step-1. Create a Causal Graph\n",
        "Represent your prior knowledge about the predictive modelling problem as a CI graph using assumptions. Don't worry, you need not specify the full graph at this stage. Even a partial graph would be enough and the rest can be figured out by *DoWhy* ;-)\n",
        "\n",
        "Here are a list of assumptions that have then been translated into a Causal Diagram:-\n",
        "\n",
        "- *Market Segment* has 2 levels, “TA” refers to the “Travel Agents” and “TO” means “Tour Operators” so it should affect the Lead Time (which is simply the number of days between booking and arrival).\n",
        "- *Country* would also play a role in deciding whether a person books early or not (hence more *Lead Time*) and what type of *Meal* a person would prefer.\n",
        "- *Lead Time* would definitely affected the number of *Days in Waitlist* (There are lesser chances of finding a reservation if you’re booking late). Additionally, higher *Lead Times* can also lead to *Cancellations*.\n",
        "- The number of *Days in Waitlist*, the *Total Stay* in nights and the number of *Guests* might affect whether the booking is cancelled or retained.\n",
        "- *Previous Booking Retentions* would affect whether a customer is a  or not. Additionally, both of these variables would affect whether the booking get *cancelled* or not (Ex- A customer who has retained his past 5 bookings in the past has a higher chance of retaining this one also. Similarly a person who has been cancelling this booking has a higher chance of repeating the same).\n",
        "- *Booking Changes* would affect whether the customer is assigned a *different room* or not which might also lead to *cancellation*.\n",
        "- Finally, the number of *Booking Changes* being the only variable affecting *Treatment* and *Outcome* is highly unlikely and its possible that there might be some *Unobsevered Confounders*, regarding which we have no information being captured in our data."
      ]
    },
    {
      "cell_type": "code",
      "source": [
        "!apt install libgraphviz-dev\n",
        "!pip install pygraphviz\n",
        "import pygraphviz"
      ],
      "metadata": {
        "id": "jmzze-jL5X44",
        "colab": {
          "base_uri": "https://localhost:8080/"
        },
        "outputId": "fe0ba2cc-bfa3-46bf-fd8d-54e7c86935f8"
      },
      "execution_count": 17,
      "outputs": [
        {
          "output_type": "stream",
          "name": "stdout",
          "text": [
            "Reading package lists... Done\n",
            "Building dependency tree       \n",
            "Reading state information... Done\n",
            "The following additional packages will be installed:\n",
            "  libgail-common libgail18 libgtk2.0-0 libgtk2.0-bin libgtk2.0-common\n",
            "  libgvc6-plugins-gtk libxdot4\n",
            "Suggested packages:\n",
            "  gvfs\n",
            "The following NEW packages will be installed:\n",
            "  libgail-common libgail18 libgraphviz-dev libgtk2.0-0 libgtk2.0-bin\n",
            "  libgtk2.0-common libgvc6-plugins-gtk libxdot4\n",
            "0 upgraded, 8 newly installed, 0 to remove and 23 not upgraded.\n",
            "Need to get 2,148 kB of archives.\n",
            "After this operation, 7,427 kB of additional disk space will be used.\n",
            "Get:1 http://archive.ubuntu.com/ubuntu focal/main amd64 libgtk2.0-common all 2.24.32-4ubuntu4 [126 kB]\n",
            "Get:2 http://archive.ubuntu.com/ubuntu focal/main amd64 libgtk2.0-0 amd64 2.24.32-4ubuntu4 [1,791 kB]\n",
            "Get:3 http://archive.ubuntu.com/ubuntu focal/main amd64 libgail18 amd64 2.24.32-4ubuntu4 [14.7 kB]\n",
            "Get:4 http://archive.ubuntu.com/ubuntu focal/main amd64 libgail-common amd64 2.24.32-4ubuntu4 [116 kB]\n",
            "Get:5 http://archive.ubuntu.com/ubuntu focal/universe amd64 libxdot4 amd64 2.42.2-3build2 [15.4 kB]\n",
            "Get:6 http://archive.ubuntu.com/ubuntu focal/universe amd64 libgvc6-plugins-gtk amd64 2.42.2-3build2 [20.6 kB]\n",
            "Get:7 http://archive.ubuntu.com/ubuntu focal/universe amd64 libgraphviz-dev amd64 2.42.2-3build2 [57.2 kB]\n",
            "Get:8 http://archive.ubuntu.com/ubuntu focal/main amd64 libgtk2.0-bin amd64 2.24.32-4ubuntu4 [7,728 B]\n",
            "Fetched 2,148 kB in 1s (2,073 kB/s)\n",
            "Selecting previously unselected package libgtk2.0-common.\n",
            "(Reading database ... 128276 files and directories currently installed.)\n",
            "Preparing to unpack .../0-libgtk2.0-common_2.24.32-4ubuntu4_all.deb ...\n",
            "Unpacking libgtk2.0-common (2.24.32-4ubuntu4) ...\n",
            "Selecting previously unselected package libgtk2.0-0:amd64.\n",
            "Preparing to unpack .../1-libgtk2.0-0_2.24.32-4ubuntu4_amd64.deb ...\n",
            "Unpacking libgtk2.0-0:amd64 (2.24.32-4ubuntu4) ...\n",
            "Selecting previously unselected package libgail18:amd64.\n",
            "Preparing to unpack .../2-libgail18_2.24.32-4ubuntu4_amd64.deb ...\n",
            "Unpacking libgail18:amd64 (2.24.32-4ubuntu4) ...\n",
            "Selecting previously unselected package libgail-common:amd64.\n",
            "Preparing to unpack .../3-libgail-common_2.24.32-4ubuntu4_amd64.deb ...\n",
            "Unpacking libgail-common:amd64 (2.24.32-4ubuntu4) ...\n",
            "Selecting previously unselected package libxdot4:amd64.\n",
            "Preparing to unpack .../4-libxdot4_2.42.2-3build2_amd64.deb ...\n",
            "Unpacking libxdot4:amd64 (2.42.2-3build2) ...\n",
            "Selecting previously unselected package libgvc6-plugins-gtk.\n",
            "Preparing to unpack .../5-libgvc6-plugins-gtk_2.42.2-3build2_amd64.deb ...\n",
            "Unpacking libgvc6-plugins-gtk (2.42.2-3build2) ...\n",
            "Selecting previously unselected package libgraphviz-dev:amd64.\n",
            "Preparing to unpack .../6-libgraphviz-dev_2.42.2-3build2_amd64.deb ...\n",
            "Unpacking libgraphviz-dev:amd64 (2.42.2-3build2) ...\n",
            "Selecting previously unselected package libgtk2.0-bin.\n",
            "Preparing to unpack .../7-libgtk2.0-bin_2.24.32-4ubuntu4_amd64.deb ...\n",
            "Unpacking libgtk2.0-bin (2.24.32-4ubuntu4) ...\n",
            "Setting up libxdot4:amd64 (2.42.2-3build2) ...\n",
            "Setting up libgtk2.0-common (2.24.32-4ubuntu4) ...\n",
            "Setting up libgtk2.0-0:amd64 (2.24.32-4ubuntu4) ...\n",
            "Setting up libgvc6-plugins-gtk (2.42.2-3build2) ...\n",
            "Setting up libgail18:amd64 (2.24.32-4ubuntu4) ...\n",
            "Setting up libgtk2.0-bin (2.24.32-4ubuntu4) ...\n",
            "Setting up libgail-common:amd64 (2.24.32-4ubuntu4) ...\n",
            "Setting up libgraphviz-dev:amd64 (2.42.2-3build2) ...\n",
            "Processing triggers for man-db (2.9.1-1) ...\n",
            "Processing triggers for libc-bin (2.31-0ubuntu9.9) ...\n",
            "Looking in indexes: https://pypi.org/simple, https://us-python.pkg.dev/colab-wheels/public/simple/\n",
            "Collecting pygraphviz\n",
            "  Downloading pygraphviz-1.10.zip (120 kB)\n",
            "\u001b[2K     \u001b[90m━━━━━━━━━━━━━━━━━━━━━━━━━━━━━━━━━━━━━━━\u001b[0m \u001b[32m120.6/120.6 KB\u001b[0m \u001b[31m4.3 MB/s\u001b[0m eta \u001b[36m0:00:00\u001b[0m\n",
            "\u001b[?25h  Preparing metadata (setup.py) ... \u001b[?25l\u001b[?25hdone\n",
            "Building wheels for collected packages: pygraphviz\n",
            "  Building wheel for pygraphviz (setup.py) ... \u001b[?25l\u001b[?25hdone\n",
            "  Created wheel for pygraphviz: filename=pygraphviz-1.10-cp39-cp39-linux_x86_64.whl size=183746 sha256=26fff77e37a6d4659367982be5cfc0c4f5726900b523d1531609fac907ffd2d6\n",
            "  Stored in directory: /root/.cache/pip/wheels/fc/2a/e8/14a3ad923e265b2c264a2810d1ae36769ce99421c5dce75312\n",
            "Successfully built pygraphviz\n",
            "Installing collected packages: pygraphviz\n",
            "Successfully installed pygraphviz-1.10\n"
          ]
        }
      ]
    },
    {
      "cell_type": "code",
      "execution_count": 18,
      "metadata": {
        "id": "iUtrX8sVw6zO"
      },
      "outputs": [],
      "source": [
        "causal_graph = \"\"\"digraph {\n",
        "different_room_assigned[label=\"Different Room Assigned\"];\n",
        "is_canceled[label=\"Booking Cancelled\"];\n",
        "booking_changes[label=\"Booking Changes\"];\n",
        "previous_bookings_not_canceled[label=\"Previous Booking Retentions\"];\n",
        "days_in_waiting_list[label=\"Days in Waitlist\"];\n",
        "lead_time[label=\"Lead Time\"];\n",
        "market_segment[label=\"Market Segment\"];\n",
        "country[label=\"Country\"];\n",
        "U[label=\"Unobserved Confounders\",observed=\"no\"];\n",
        "is_repeated_guest;\n",
        "total_stay;\n",
        "guests;\n",
        "meal;\n",
        "hotel;\n",
        "U->{different_room_assigned,required_car_parking_spaces,guests,total_stay,total_of_special_requests};\n",
        "market_segment -> lead_time;\n",
        "lead_time->is_canceled; country -> lead_time;\n",
        "different_room_assigned -> is_canceled;\n",
        "country->meal;\n",
        "lead_time -> days_in_waiting_list;\n",
        "days_in_waiting_list ->{is_canceled,different_room_assigned};\n",
        "previous_bookings_not_canceled -> is_canceled;\n",
        "previous_bookings_not_canceled -> is_repeated_guest;\n",
        "is_repeated_guest -> {different_room_assigned,is_canceled};\n",
        "total_stay -> is_canceled;\n",
        "guests -> is_canceled;\n",
        "booking_changes -> different_room_assigned; booking_changes -> is_canceled; \n",
        "hotel -> {different_room_assigned,is_canceled};\n",
        "required_car_parking_spaces -> is_canceled;\n",
        "total_of_special_requests -> {booking_changes,is_canceled};\n",
        "country->{hotel, required_car_parking_spaces,total_of_special_requests};\n",
        "market_segment->{hotel, required_car_parking_spaces,total_of_special_requests};\n",
        "}\"\"\""
      ]
    },
    {
      "cell_type": "markdown",
      "metadata": {
        "id": "ldO4saBpw6zO"
      },
      "source": [
        "Here the *Treatment* is assigning the same type of room reserved by the customer during Booking. *Outcome* would be whether the booking was cancelled or not.\n",
        "*Common Causes* represent the variables that according to us have a causal affect on both *Outcome* and *Treatment*.\n",
        "As per our causal assumptions, the 2 variables satisfying this criteria are *Booking Changes* and the *Unobserved Confounders*.\n",
        "So if we are not specifying the graph explicitly (Not Recommended!), one can also provide these as parameters in the function mentioned below.\n",
        "\n",
        "To aid in identification of causal effect, we remove the unobserved confounder node from the graph. (To check, you can use the original graph and run the following code. The `identify_effect` method will find that the effect cannot be identified.)"
      ]
    },
    {
      "cell_type": "code",
      "execution_count": 19,
      "metadata": {
        "id": "03WxwxSWw6zO",
        "colab": {
          "base_uri": "https://localhost:8080/",
          "height": 336
        },
        "outputId": "322bdf4e-3f11-470a-a751-1c32e163cde6"
      },
      "outputs": [
        {
          "output_type": "stream",
          "name": "stderr",
          "text": [
            "/usr/local/lib/python3.9/dist-packages/dowhy/causal_model.py:557: UserWarning: 1 variables are assumed unobserved because they are not in the dataset. Configure the logging level to `logging.WARNING` or higher for additional details.\n",
            "  warnings.warn(\n",
            "WARNING:dowhy.causal_model:The graph defines 16 variables. 15 were found in the dataset and will be analyzed as observed variables. 1 were not found in the dataset and will be analyzed as unobserved variables. The observed variables are: '['booking_changes', 'country', 'days_in_waiting_list', 'different_room_assigned', 'guests', 'hotel', 'is_canceled', 'is_repeated_guest', 'lead_time', 'market_segment', 'meal', 'previous_bookings_not_canceled', 'required_car_parking_spaces', 'total_of_special_requests', 'total_stay']'. The unobserved variables are: '['U']'. If this matches your expectations for observations, please continue. If you expected any of the unobserved variables to be in the dataframe, please check for typos.\n",
            "WARNING:dowhy.causal_model:There are an additional 6 variables in the dataset that are not in the graph. Variable names are: '['adr', 'arrival_date_month', 'arrival_date_week_number', 'customer_type', 'deposit_type', 'previous_cancellations']'\n"
          ]
        },
        {
          "output_type": "display_data",
          "data": {
            "image/png": "[encoded data removed]",
            "text/plain": [
              "<IPython.core.display.Image object>"
            ]
          },
          "metadata": {}
        }
      ],
      "source": [
        "model= dowhy.CausalModel(\n",
        "        data = dataset,\n",
        "        graph=causal_graph.replace(\"\\n\", \" \"),\n",
        "        treatment=\"different_room_assigned\",\n",
        "        outcome='is_canceled')\n",
        "model.view_model()\n",
        "from IPython.display import Image, display\n",
        "display(Image(filename=\"causal_model.png\"))"
      ]
    },
    {
      "cell_type": "markdown",
      "metadata": {
        "id": "ojGGwG2Tw6zO"
      },
      "source": [
        "## Step-2. Identify the Causal Effect\n",
        "We say that Treatment causes Outcome if changing Treatment leads to a change in Outcome keeping everything else constant.\n",
        "Thus in this step, by using properties of the causal graph, we identify the causal effect to be estimated"
      ]
    },
    {
      "cell_type": "code",
      "execution_count": 20,
      "metadata": {
        "id": "76osSPdcw6zP",
        "colab": {
          "base_uri": "https://localhost:8080/"
        },
        "outputId": "29d42204-493e-42cd-e34c-3b0dbcf9e92a"
      },
      "outputs": [
        {
          "output_type": "stream",
          "name": "stdout",
          "text": [
            "Estimand type: EstimandType.NONPARAMETRIC_ATE\n",
            "\n",
            "### Estimand : 1\n",
            "Estimand name: backdoor\n",
            "Estimand expression:\n",
            "            d                                                                 \n",
            "──────────────────────────(E[is_canceled|is_repeated_guest,guests,hotel,days_i\n",
            "d[different_room_assigned]                                                    \n",
            "\n",
            "                                                                              \n",
            "n_waiting_list,booking_changes,total_stay,lead_time,required_car_parking_space\n",
            "                                                                              \n",
            "\n",
            "                             \n",
            "s,total_of_special_requests])\n",
            "                             \n",
            "Estimand assumption 1, Unconfoundedness: If U→{different_room_assigned} and U→is_canceled then P(is_canceled|different_room_assigned,is_repeated_guest,guests,hotel,days_in_waiting_list,booking_changes,total_stay,lead_time,required_car_parking_spaces,total_of_special_requests,U) = P(is_canceled|different_room_assigned,is_repeated_guest,guests,hotel,days_in_waiting_list,booking_changes,total_stay,lead_time,required_car_parking_spaces,total_of_special_requests)\n",
            "\n",
            "### Estimand : 2\n",
            "Estimand name: iv\n",
            "No such variable(s) found!\n",
            "\n",
            "### Estimand : 3\n",
            "Estimand name: frontdoor\n",
            "No such variable(s) found!\n",
            "\n"
          ]
        }
      ],
      "source": [
        "#Identify the causal effect\n",
        "identified_estimand = model.identify_effect(proceed_when_unidentifiable=True)\n",
        "print(identified_estimand)"
      ]
    },
    {
      "cell_type": "markdown",
      "metadata": {
        "id": "WgS9wI4bw6zP"
      },
      "source": [
        "## Step-3. Estimate the identified estimand"
      ]
    },
    {
      "cell_type": "code",
      "execution_count": 21,
      "metadata": {
        "id": "Qqg-uk0qw6zP",
        "colab": {
          "base_uri": "https://localhost:8080/"
        },
        "outputId": "21406e1c-8be9-40ea-c973-acd4f9a6df44"
      },
      "outputs": [
        {
          "output_type": "stream",
          "name": "stdout",
          "text": [
            "*** Causal Estimate ***\n",
            "\n",
            "## Identified estimand\n",
            "Estimand type: EstimandType.NONPARAMETRIC_ATE\n",
            "\n",
            "### Estimand : 1\n",
            "Estimand name: backdoor\n",
            "Estimand expression:\n",
            "            d                                                                 \n",
            "──────────────────────────(E[is_canceled|is_repeated_guest,guests,hotel,days_i\n",
            "d[different_room_assigned]                                                    \n",
            "\n",
            "                                                                              \n",
            "n_waiting_list,booking_changes,total_stay,lead_time,required_car_parking_space\n",
            "                                                                              \n",
            "\n",
            "                             \n",
            "s,total_of_special_requests])\n",
            "                             \n",
            "Estimand assumption 1, Unconfoundedness: If U→{different_room_assigned} and U→is_canceled then P(is_canceled|different_room_assigned,is_repeated_guest,guests,hotel,days_in_waiting_list,booking_changes,total_stay,lead_time,required_car_parking_spaces,total_of_special_requests,U) = P(is_canceled|different_room_assigned,is_repeated_guest,guests,hotel,days_in_waiting_list,booking_changes,total_stay,lead_time,required_car_parking_spaces,total_of_special_requests)\n",
            "\n",
            "## Realized estimand\n",
            "b: is_canceled~different_room_assigned+is_repeated_guest+guests+hotel+days_in_waiting_list+booking_changes+total_stay+lead_time+required_car_parking_spaces+total_of_special_requests\n",
            "Target units: ate\n",
            "\n",
            "## Estimate\n",
            "Mean value: -0.4574368854957072\n",
            "\n"
          ]
        },
        {
          "output_type": "stream",
          "name": "stderr",
          "text": [
            "/usr/local/lib/python3.9/dist-packages/sklearn/linear_model/_logistic.py:444: ConvergenceWarning: lbfgs failed to converge (status=1):\n",
            "STOP: TOTAL NO. of ITERATIONS REACHED LIMIT.\n",
            "\n",
            "Increase the number of iterations (max_iter) or scale the data as shown in:\n",
            "    https://scikit-learn.org/stable/modules/preprocessing.html\n",
            "Please also refer to the documentation for alternative solver options:\n",
            "    https://scikit-learn.org/stable/modules/linear_model.html#logistic-regression\n",
            "  n_iter_i = _check_optimize_result(\n"
          ]
        }
      ],
      "source": [
        "estimate = model.estimate_effect(identified_estimand, \n",
        "                                 method_name=\"backdoor.propensity_score_weighting\",target_units=\"ate\")\n",
        "# ATE = Average Treatment Effect\n",
        "# ATT = Average Treatment Effect on Treated (i.e. those who were assigned a different room)\n",
        "# ATC = Average Treatment Effect on Control (i.e. those who were not assigned a different room)\n",
        "print(estimate)"
      ]
    },
    {
      "cell_type": "markdown",
      "metadata": {
        "id": "t8jd-ToDw6zP"
      },
      "source": [
        "The result is surprising. It means that having a different room assigned _decreases_ the chances of a cancellation. There's more to unpack here: is this the correct causal effect? Could it be that different rooms are assigned only when the booked room is unavailable, and therefore assigning a different room has a positive effect on the customer (as opposed to not assigning a room)?\n",
        "\n",
        "There could also be other mechanisms at play. Perhaps assigning a different room only happens at check-in, and the chances of a cancellation once the customer is already at the hotel are low? In that case, the graph is missing a critical variable on _when_ these events happen. Does `different_room_assigned` happen mostly on the day of the booking? Knowing that variable can help improve the graph and our analysis. \n",
        "\n",
        "While the associational analysis earlier indicated a positive correlation between `is_canceled` and `different_room_assigned`, estimating the causal effect using DoWhy presents a different picture. It implies that a decision/policy to reduce the number of `different_room_assigned` at hotels may be counter-productive.\n",
        "\n"
      ]
    },
    {
      "cell_type": "markdown",
      "metadata": {
        "id": "mHg1MuYhw6zP"
      },
      "source": [
        "## Step-4. Refute results\n",
        "\n",
        "Note that the causal part does not come from data. It comes from your *assumptions* that lead to *identification*. Data is simply used for statistical *estimation*. Thus it becomes critical to verify whether our assumptions were even correct in the first step or not!\n",
        "\n",
        "What happens when another common cause exists?\n",
        "What happens when the treatment itself was placebo?"
      ]
    },
    {
      "cell_type": "markdown",
      "metadata": {
        "id": "P-nGr2-Uw6zP"
      },
      "source": [
        "### Method-1\n",
        "**Random Common Cause:-** *Adds randomly drawn covariates to data and re-runs the analysis to see if the causal estimate changes or not. If our assumption was originally correct then the causal estimate shouldn't change by much.*"
      ]
    },
    {
      "cell_type": "code",
      "execution_count": 22,
      "metadata": {
        "id": "kvPbvCDBw6zP",
        "colab": {
          "base_uri": "https://localhost:8080/"
        },
        "outputId": "2b3dfdb7-c8c7-4595-a8c7-a62b1ba10e30"
      },
      "outputs": [
        {
          "output_type": "stream",
          "name": "stdout",
          "text": [
            "Refute: Add a random common cause\n",
            "Estimated effect:-0.4574368854957072\n",
            "New effect:-0.45743688549570743\n",
            "p value:1.0\n",
            "\n"
          ]
        }
      ],
      "source": [
        "refute1_results=model.refute_estimate(identified_estimand, estimate,\n",
        "        method_name=\"random_common_cause\")\n",
        "print(refute1_results)"
      ]
    },
    {
      "cell_type": "markdown",
      "metadata": {
        "id": "M1QsyYgPw6zQ"
      },
      "source": [
        "### Method-2\n",
        "**Placebo Treatment Refuter:-** *Randomly assigns any covariate as a treatment and re-runs the analysis. If our assumptions were correct then this newly found out estimate should go to 0.*"
      ]
    },
    {
      "cell_type": "code",
      "execution_count": 23,
      "metadata": {
        "id": "NViqtM14w6zQ",
        "colab": {
          "base_uri": "https://localhost:8080/"
        },
        "outputId": "424f323f-2faf-4c96-a095-9cc5c17a2eae"
      },
      "outputs": [
        {
          "output_type": "stream",
          "name": "stdout",
          "text": [
            "Refute: Use a Placebo Treatment\n",
            "Estimated effect:-0.4574368854957072\n",
            "New effect:0.05898705329629936\n",
            "p value:0.0\n",
            "\n"
          ]
        }
      ],
      "source": [
        "refute2_results=model.refute_estimate(identified_estimand, estimate,\n",
        "        method_name=\"placebo_treatment_refuter\")\n",
        "print(refute2_results)"
      ]
    },
    {
      "cell_type": "markdown",
      "metadata": {
        "id": "IY-3G5diw6zQ"
      },
      "source": [
        "### Method-3\n",
        "**Data Subset Refuter:-** *Creates subsets of the data(similar to cross-validation) and checks whether the causal estimates vary across subsets. If our assumptions were correct there shouldn't be much variation.*"
      ]
    },
    {
      "cell_type": "code",
      "execution_count": 24,
      "metadata": {
        "id": "CRKvQw5Mw6zQ",
        "colab": {
          "base_uri": "https://localhost:8080/"
        },
        "outputId": "4d7deb00-77d1-4b6f-8d40-34adae37fc46"
      },
      "outputs": [
        {
          "output_type": "stream",
          "name": "stdout",
          "text": [
            "Refute: Use a subset of data\n",
            "Estimated effect:-0.4574368854957072\n",
            "New effect:-0.4568446344000862\n",
            "p value:0.98\n",
            "\n"
          ]
        }
      ],
      "source": [
        "refute3_results=model.refute_estimate(identified_estimand, estimate,\n",
        "        method_name=\"data_subset_refuter\")\n",
        "print(refute3_results)"
      ]
    },
    {
      "cell_type": "markdown",
      "metadata": {
        "id": "VVDiDj7Fw6zQ"
      },
      "source": [
        "We can see that our estimate passes all three refutation tests. This does not prove its correctness, but it increases confidence in the estimate. "
      ]
    }
  ],
  "metadata": {
    "kernelspec": {
      "display_name": "Python 3 (ipykernel)",
      "language": "python",
      "name": "python3"
    },
    "language_info": {
      "codemirror_mode": {
        "name": "ipython",
        "version": 3
      },
      "file_extension": ".py",
      "mimetype": "text/x-python",
      "name": "python",
      "nbconvert_exporter": "python",
      "pygments_lexer": "ipython3",
      "version": "3.8.12"
    },
    "toc": {
      "base_numbering": 1,
      "nav_menu": {},
      "number_sections": false,
      "sideBar": true,
      "skip_h1_title": true,
      "title_cell": "Table of Contents",
      "title_sidebar": "Contents",
      "toc_cell": false,
      "toc_position": {},
      "toc_section_display": true,
      "toc_window_display": true
    },
    "colab": {
      "provenance": []
    }
  },
  "nbformat": 4,
  "nbformat_minor": 0
}