{
  "cells": [
    {
      "cell_type": "code",
      "execution_count": 2,
      "metadata": {
        "ExecuteTime": {
          "end_time": "2020-11-07T21:28:40.630483Z",
          "start_time": "2020-11-07T21:28:39.162179Z"
        },
        "id": "qIRsORWsVl_3"
      },
      "outputs": [],
      "source": [
        "%matplotlib inline\n",
        "\n",
        "\n",
        "import os\n",
        "import time\n",
        "import numpy as np\n",
        "import pandas as pd\n",
        "import seaborn as sns\n",
        "import matplotlib.pyplot as plt\n",
        "import statsmodels.formula.api as smf\n",
        "from sklearn.compose import ColumnTransformer\n",
        "from sklearn.preprocessing import OneHotEncoder\n",
        "from sklearn.linear_model import LogisticRegression, LinearRegression\n",
        "from sklearn.model_selection import train_test_split"
      ]
    },
    {
      "cell_type": "markdown",
      "metadata": {
        "id": "ND3kGJT5Vl_5"
      },
      "source": [
        "## Data Preprocessing"
      ]
    },
    {
      "cell_type": "markdown",
      "source": [
        "We'll be working with data coming from the [ The National Study of Learning Mindsets](https://mindsetscholarsnetwork.org/about-the-network/current-initatives/national-mindset-study/). The background behind this data is an attempt to find out if instilling students with a growth mindset will improve their overall academic performance. In this dataset, the academic performance is recorded as a standardized `achievement_score`."
      ],
      "metadata": {
        "id": "wESE5k1LWHf4"
      }
    },
    {
      "cell_type": "markdown",
      "metadata": {
        "id": "P5ds-RIsVl_5"
      },
      "source": [
        "Besides the treated and outcome variables, the study also recorded some other features:\n",
        "\n",
        "- schoolid: identifier of the student's school\n",
        "- success_expect: self-reported expectations for success in the future, a proxy for prior achievement, measured prior to random assignment\n",
        "- ethnicity: categorical variable for student race/ethnicity\n",
        "- gender: categorical variable for student identified gender\n",
        "- frst_in_family: categorical variable for student first-generation status, i.e. first in family to go to college\n",
        "- school_urbanicity: school-level categorical variable for urbanicity of the school, i.e. rural, suburban, etc\n",
        "- school_mindset: school-level mean of students' fixed mindsets, reported prior to random assignment, standardize\n",
        "- school_achievement: school achievement level, as measured by test scores and college preparation for the previous 4 cohorts of students, standardized\n",
        "- school_ethnic_minority: school racial/ethnic minority composition, i.e., percentage of student body that is Black, Latino, or Native American, standardized\n",
        "- school_poverty: school poverty concentration, i.e., percentage of students who are from families whose incomes fall below the federal poverty line, standardized\n",
        "- school_size: total number of students in all four grade levels in the school, standardized."
      ]
    },
    {
      "cell_type": "code",
      "execution_count": 3,
      "metadata": {
        "ExecuteTime": {
          "end_time": "2020-11-07T21:28:40.692041Z",
          "start_time": "2020-11-07T21:28:40.632774Z"
        },
        "colab": {
          "base_uri": "https://localhost:8080/",
          "height": 225
        },
        "id": "t0Eb1TleVl_6",
        "outputId": "80a2c211-2d2b-4e65-eb04-28e0d1f0fd59"
      },
      "outputs": [
        {
          "output_type": "stream",
          "name": "stdout",
          "text": [
            "(10391, 10)\n"
          ]
        },
        {
          "output_type": "execute_result",
          "data": {
            "text/plain": [
              "   achievement_score  intervention  school_mindset  school_achievement  \\\n",
              "0           0.277359             1        0.334544            0.648586   \n",
              "1          -0.449646             1        0.334544            0.648586   \n",
              "2           0.769703             1        0.334544            0.648586   \n",
              "3          -0.121763             1        0.334544            0.648586   \n",
              "4           1.526147             1        0.334544            0.648586   \n",
              "\n",
              "   school_ethnic_minority  school_poverty  school_size  ethnicity  gender  \\\n",
              "0               -1.310927        0.224077    -0.426757          4       2   \n",
              "1               -1.310927        0.224077    -0.426757         12       2   \n",
              "2               -1.310927        0.224077    -0.426757          4       2   \n",
              "3               -1.310927        0.224077    -0.426757          4       2   \n",
              "4               -1.310927        0.224077    -0.426757          4       1   \n",
              "\n",
              "   school_urbanicity  \n",
              "0                  4  \n",
              "1                  4  \n",
              "2                  4  \n",
              "3                  4  \n",
              "4                  4  "
            ],
            "text/html": [
              "\n",
              "  <div id=\"df-f095ecf8-f89d-4d54-bd0f-01bb55bef774\">\n",
              "    <div class=\"colab-df-container\">\n",
              "      <div>\n",
              "<style scoped>\n",
              "    .dataframe tbody tr th:only-of-type {\n",
              "        vertical-align: middle;\n",
              "    }\n",
              "\n",
              "    .dataframe tbody tr th {\n",
              "        vertical-align: top;\n",
              "    }\n",
              "\n",
              "    .dataframe thead th {\n",
              "        text-align: right;\n",
              "    }\n",
              "</style>\n",
              "<table border=\"1\" class=\"dataframe\">\n",
              "  <thead>\n",
              "    <tr style=\"text-align: right;\">\n",
              "      <th></th>\n",
              "      <th>achievement_score</th>\n",
              "      <th>intervention</th>\n",
              "      <th>school_mindset</th>\n",
              "      <th>school_achievement</th>\n",
              "      <th>school_ethnic_minority</th>\n",
              "      <th>school_poverty</th>\n",
              "      <th>school_size</th>\n",
              "      <th>ethnicity</th>\n",
              "      <th>gender</th>\n",
              "      <th>school_urbanicity</th>\n",
              "    </tr>\n",
              "  </thead>\n",
              "  <tbody>\n",
              "    <tr>\n",
              "      <th>0</th>\n",
              "      <td>0.277359</td>\n",
              "      <td>1</td>\n",
              "      <td>0.334544</td>\n",
              "      <td>0.648586</td>\n",
              "      <td>-1.310927</td>\n",
              "      <td>0.224077</td>\n",
              "      <td>-0.426757</td>\n",
              "      <td>4</td>\n",
              "      <td>2</td>\n",
              "      <td>4</td>\n",
              "    </tr>\n",
              "    <tr>\n",
              "      <th>1</th>\n",
              "      <td>-0.449646</td>\n",
              "      <td>1</td>\n",
              "      <td>0.334544</td>\n",
              "      <td>0.648586</td>\n",
              "      <td>-1.310927</td>\n",
              "      <td>0.224077</td>\n",
              "      <td>-0.426757</td>\n",
              "      <td>12</td>\n",
              "      <td>2</td>\n",
              "      <td>4</td>\n",
              "    </tr>\n",
              "    <tr>\n",
              "      <th>2</th>\n",
              "      <td>0.769703</td>\n",
              "      <td>1</td>\n",
              "      <td>0.334544</td>\n",
              "      <td>0.648586</td>\n",
              "      <td>-1.310927</td>\n",
              "      <td>0.224077</td>\n",
              "      <td>-0.426757</td>\n",
              "      <td>4</td>\n",
              "      <td>2</td>\n",
              "      <td>4</td>\n",
              "    </tr>\n",
              "    <tr>\n",
              "      <th>3</th>\n",
              "      <td>-0.121763</td>\n",
              "      <td>1</td>\n",
              "      <td>0.334544</td>\n",
              "      <td>0.648586</td>\n",
              "      <td>-1.310927</td>\n",
              "      <td>0.224077</td>\n",
              "      <td>-0.426757</td>\n",
              "      <td>4</td>\n",
              "      <td>2</td>\n",
              "      <td>4</td>\n",
              "    </tr>\n",
              "    <tr>\n",
              "      <th>4</th>\n",
              "      <td>1.526147</td>\n",
              "      <td>1</td>\n",
              "      <td>0.334544</td>\n",
              "      <td>0.648586</td>\n",
              "      <td>-1.310927</td>\n",
              "      <td>0.224077</td>\n",
              "      <td>-0.426757</td>\n",
              "      <td>4</td>\n",
              "      <td>1</td>\n",
              "      <td>4</td>\n",
              "    </tr>\n",
              "  </tbody>\n",
              "</table>\n",
              "</div>\n",
              "      <button class=\"colab-df-convert\" onclick=\"convertToInteractive('df-f095ecf8-f89d-4d54-bd0f-01bb55bef774')\"\n",
              "              title=\"Convert this dataframe to an interactive table.\"\n",
              "              style=\"display:none;\">\n",
              "        \n",
              "  <svg xmlns=\"http://www.w3.org/2000/svg\" height=\"24px\"viewBox=\"0 0 24 24\"\n",
              "       width=\"24px\">\n",
              "    <path d=\"M0 0h24v24H0V0z\" fill=\"none\"/>\n",
              "    <path d=\"M18.56 5.44l.94 2.06.94-2.06 2.06-.94-2.06-.94-.94-2.06-.94 2.06-2.06.94zm-11 1L8.5 8.5l.94-2.06 2.06-.94-2.06-.94L8.5 2.5l-.94 2.06-2.06.94zm10 10l.94 2.06.94-2.06 2.06-.94-2.06-.94-.94-2.06-.94 2.06-2.06.94z\"/><path d=\"M17.41 7.96l-1.37-1.37c-.4-.4-.92-.59-1.43-.59-.52 0-1.04.2-1.43.59L10.3 9.45l-7.72 7.72c-.78.78-.78 2.05 0 2.83L4 21.41c.39.39.9.59 1.41.59.51 0 1.02-.2 1.41-.59l7.78-7.78 2.81-2.81c.8-.78.8-2.07 0-2.86zM5.41 20L4 18.59l7.72-7.72 1.47 1.35L5.41 20z\"/>\n",
              "  </svg>\n",
              "      </button>\n",
              "      \n",
              "  <style>\n",
              "    .colab-df-container {\n",
              "      display:flex;\n",
              "      flex-wrap:wrap;\n",
              "      gap: 12px;\n",
              "    }\n",
              "\n",
              "    .colab-df-convert {\n",
              "      background-color: #E8F0FE;\n",
              "      border: none;\n",
              "      border-radius: 50%;\n",
              "      cursor: pointer;\n",
              "      display: none;\n",
              "      fill: #1967D2;\n",
              "      height: 32px;\n",
              "      padding: 0 0 0 0;\n",
              "      width: 32px;\n",
              "    }\n",
              "\n",
              "    .colab-df-convert:hover {\n",
              "      background-color: #E2EBFA;\n",
              "      box-shadow: 0px 1px 2px rgba(60, 64, 67, 0.3), 0px 1px 3px 1px rgba(60, 64, 67, 0.15);\n",
              "      fill: #174EA6;\n",
              "    }\n",
              "\n",
              "    [theme=dark] .colab-df-convert {\n",
              "      background-color: #3B4455;\n",
              "      fill: #D2E3FC;\n",
              "    }\n",
              "\n",
              "    [theme=dark] .colab-df-convert:hover {\n",
              "      background-color: #434B5C;\n",
              "      box-shadow: 0px 1px 3px 1px rgba(0, 0, 0, 0.15);\n",
              "      filter: drop-shadow(0px 1px 2px rgba(0, 0, 0, 0.3));\n",
              "      fill: #FFFFFF;\n",
              "    }\n",
              "  </style>\n",
              "\n",
              "      <script>\n",
              "        const buttonEl =\n",
              "          document.querySelector('#df-f095ecf8-f89d-4d54-bd0f-01bb55bef774 button.colab-df-convert');\n",
              "        buttonEl.style.display =\n",
              "          google.colab.kernel.accessAllowed ? 'block' : 'none';\n",
              "\n",
              "        async function convertToInteractive(key) {\n",
              "          const element = document.querySelector('#df-f095ecf8-f89d-4d54-bd0f-01bb55bef774');\n",
              "          const dataTable =\n",
              "            await google.colab.kernel.invokeFunction('convertToInteractive',\n",
              "                                                     [key], {});\n",
              "          if (!dataTable) return;\n",
              "\n",
              "          const docLinkHtml = 'Like what you see? Visit the ' +\n",
              "            '<a target=\"_blank\" href=https://colab.research.google.com/notebooks/data_table.ipynb>data table notebook</a>'\n",
              "            + ' to learn more about interactive tables.';\n",
              "          element.innerHTML = '';\n",
              "          dataTable['output_type'] = 'display_data';\n",
              "          await google.colab.output.renderOutput(dataTable, element);\n",
              "          const docLink = document.createElement('div');\n",
              "          docLink.innerHTML = docLinkHtml;\n",
              "          element.appendChild(docLink);\n",
              "        }\n",
              "      </script>\n",
              "    </div>\n",
              "  </div>\n",
              "  "
            ]
          },
          "metadata": {},
          "execution_count": 3
        }
      ],
      "source": [
        "cat_cols = ['ethnicity', 'gender', 'school_urbanicity']\n",
        "num_cols = ['school_mindset', 'school_achievement', 'school_ethnic_minority', 'school_poverty', 'school_size']\n",
        "treatment_col = 'intervention'\n",
        "label_col = 'achievement_score'\n",
        "\n",
        "use_cols = [label_col, treatment_col] + num_cols + cat_cols\n",
        "df = pd.read_csv('/content/learning_mindset.csv', usecols=use_cols)[use_cols]\n",
        "print(df.shape)\n",
        "df.head()"
      ]
    },
    {
      "cell_type": "markdown",
      "metadata": {
        "id": "6mJ5kni_Vl_7"
      },
      "source": [
        "Our data will be fed into a logistic regression in the next section, here we one hot encode the categorical variables. As the numeric features are already standardized, we leave them as is."
      ]
    },
    {
      "cell_type": "code",
      "execution_count": 4,
      "metadata": {
        "ExecuteTime": {
          "end_time": "2020-11-07T21:28:40.738146Z",
          "start_time": "2020-11-07T21:28:40.697579Z"
        },
        "colab": {
          "base_uri": "https://localhost:8080/",
          "height": 174
        },
        "id": "BMRL27tVVl_7",
        "outputId": "b3b29296-b905-4e82-b343-103256bee161"
      },
      "outputs": [
        {
          "output_type": "stream",
          "name": "stderr",
          "text": [
            "/usr/local/lib/python3.9/dist-packages/sklearn/preprocessing/_encoders.py:868: FutureWarning: `sparse` was renamed to `sparse_output` in version 1.2 and will be removed in 1.4. `sparse_output` is ignored unless you leave `sparse` to its default value.\n",
            "  warnings.warn(\n"
          ]
        },
        {
          "output_type": "execute_result",
          "data": {
            "text/plain": [
              "ColumnTransformer(remainder='passthrough', sparse_threshold=0,\n",
              "                  transformers=[('one_hot',\n",
              "                                 OneHotEncoder(dtype=<class 'numpy.int32'>,\n",
              "                                               handle_unknown='ignore',\n",
              "                                               sparse=False),\n",
              "                                 ['ethnicity', 'gender', 'school_urbanicity'])])"
            ],
            "text/html": [
              "<style>#sk-container-id-1 {color: black;background-color: white;}#sk-container-id-1 pre{padding: 0;}#sk-container-id-1 div.sk-toggleable {background-color: white;}#sk-container-id-1 label.sk-toggleable__label {cursor: pointer;display: block;width: 100%;margin-bottom: 0;padding: 0.3em;box-sizing: border-box;text-align: center;}#sk-container-id-1 label.sk-toggleable__label-arrow:before {content: \"▸\";float: left;margin-right: 0.25em;color: #696969;}#sk-container-id-1 label.sk-toggleable__label-arrow:hover:before {color: black;}#sk-container-id-1 div.sk-estimator:hover label.sk-toggleable__label-arrow:before {color: black;}#sk-container-id-1 div.sk-toggleable__content {max-height: 0;max-width: 0;overflow: hidden;text-align: left;background-color: #f0f8ff;}#sk-container-id-1 div.sk-toggleable__content pre {margin: 0.2em;color: black;border-radius: 0.25em;background-color: #f0f8ff;}#sk-container-id-1 input.sk-toggleable__control:checked~div.sk-toggleable__content {max-height: 200px;max-width: 100%;overflow: auto;}#sk-container-id-1 input.sk-toggleable__control:checked~label.sk-toggleable__label-arrow:before {content: \"▾\";}#sk-container-id-1 div.sk-estimator input.sk-toggleable__control:checked~label.sk-toggleable__label {background-color: #d4ebff;}#sk-container-id-1 div.sk-label input.sk-toggleable__control:checked~label.sk-toggleable__label {background-color: #d4ebff;}#sk-container-id-1 input.sk-hidden--visually {border: 0;clip: rect(1px 1px 1px 1px);clip: rect(1px, 1px, 1px, 1px);height: 1px;margin: -1px;overflow: hidden;padding: 0;position: absolute;width: 1px;}#sk-container-id-1 div.sk-estimator {font-family: monospace;background-color: #f0f8ff;border: 1px dotted black;border-radius: 0.25em;box-sizing: border-box;margin-bottom: 0.5em;}#sk-container-id-1 div.sk-estimator:hover {background-color: #d4ebff;}#sk-container-id-1 div.sk-parallel-item::after {content: \"\";width: 100%;border-bottom: 1px solid gray;flex-grow: 1;}#sk-container-id-1 div.sk-label:hover label.sk-toggleable__label {background-color: #d4ebff;}#sk-container-id-1 div.sk-serial::before {content: \"\";position: absolute;border-left: 1px solid gray;box-sizing: border-box;top: 0;bottom: 0;left: 50%;z-index: 0;}#sk-container-id-1 div.sk-serial {display: flex;flex-direction: column;align-items: center;background-color: white;padding-right: 0.2em;padding-left: 0.2em;position: relative;}#sk-container-id-1 div.sk-item {position: relative;z-index: 1;}#sk-container-id-1 div.sk-parallel {display: flex;align-items: stretch;justify-content: center;background-color: white;position: relative;}#sk-container-id-1 div.sk-item::before, #sk-container-id-1 div.sk-parallel-item::before {content: \"\";position: absolute;border-left: 1px solid gray;box-sizing: border-box;top: 0;bottom: 0;left: 50%;z-index: -1;}#sk-container-id-1 div.sk-parallel-item {display: flex;flex-direction: column;z-index: 1;position: relative;background-color: white;}#sk-container-id-1 div.sk-parallel-item:first-child::after {align-self: flex-end;width: 50%;}#sk-container-id-1 div.sk-parallel-item:last-child::after {align-self: flex-start;width: 50%;}#sk-container-id-1 div.sk-parallel-item:only-child::after {width: 0;}#sk-container-id-1 div.sk-dashed-wrapped {border: 1px dashed gray;margin: 0 0.4em 0.5em 0.4em;box-sizing: border-box;padding-bottom: 0.4em;background-color: white;}#sk-container-id-1 div.sk-label label {font-family: monospace;font-weight: bold;display: inline-block;line-height: 1.2em;}#sk-container-id-1 div.sk-label-container {text-align: center;}#sk-container-id-1 div.sk-container {/* jupyter's `normalize.less` sets `[hidden] { display: none; }` but bootstrap.min.css set `[hidden] { display: none !important; }` so we also need the `!important` here to be able to override the default hidden behavior on the sphinx rendered scikit-learn.org. See: https://github.com/scikit-learn/scikit-learn/issues/21755 */display: inline-block !important;position: relative;}#sk-container-id-1 div.sk-text-repr-fallback {display: none;}</style><div id=\"sk-container-id-1\" class=\"sk-top-container\"><div class=\"sk-text-repr-fallback\"><pre>ColumnTransformer(remainder=&#x27;passthrough&#x27;, sparse_threshold=0,\n",
              "                  transformers=[(&#x27;one_hot&#x27;,\n",
              "                                 OneHotEncoder(dtype=&lt;class &#x27;numpy.int32&#x27;&gt;,\n",
              "                                               handle_unknown=&#x27;ignore&#x27;,\n",
              "                                               sparse=False),\n",
              "                                 [&#x27;ethnicity&#x27;, &#x27;gender&#x27;, &#x27;school_urbanicity&#x27;])])</pre><b>In a Jupyter environment, please rerun this cell to show the HTML representation or trust the notebook. <br />On GitHub, the HTML representation is unable to render, please try loading this page with nbviewer.org.</b></div><div class=\"sk-container\" hidden><div class=\"sk-item sk-dashed-wrapped\"><div class=\"sk-label-container\"><div class=\"sk-label sk-toggleable\"><input class=\"sk-toggleable__control sk-hidden--visually\" id=\"sk-estimator-id-1\" type=\"checkbox\" ><label for=\"sk-estimator-id-1\" class=\"sk-toggleable__label sk-toggleable__label-arrow\">ColumnTransformer</label><div class=\"sk-toggleable__content\"><pre>ColumnTransformer(remainder=&#x27;passthrough&#x27;, sparse_threshold=0,\n",
              "                  transformers=[(&#x27;one_hot&#x27;,\n",
              "                                 OneHotEncoder(dtype=&lt;class &#x27;numpy.int32&#x27;&gt;,\n",
              "                                               handle_unknown=&#x27;ignore&#x27;,\n",
              "                                               sparse=False),\n",
              "                                 [&#x27;ethnicity&#x27;, &#x27;gender&#x27;, &#x27;school_urbanicity&#x27;])])</pre></div></div></div><div class=\"sk-parallel\"><div class=\"sk-parallel-item\"><div class=\"sk-item\"><div class=\"sk-label-container\"><div class=\"sk-label sk-toggleable\"><input class=\"sk-toggleable__control sk-hidden--visually\" id=\"sk-estimator-id-2\" type=\"checkbox\" ><label for=\"sk-estimator-id-2\" class=\"sk-toggleable__label sk-toggleable__label-arrow\">one_hot</label><div class=\"sk-toggleable__content\"><pre>[&#x27;ethnicity&#x27;, &#x27;gender&#x27;, &#x27;school_urbanicity&#x27;]</pre></div></div></div><div class=\"sk-serial\"><div class=\"sk-item\"><div class=\"sk-estimator sk-toggleable\"><input class=\"sk-toggleable__control sk-hidden--visually\" id=\"sk-estimator-id-3\" type=\"checkbox\" ><label for=\"sk-estimator-id-3\" class=\"sk-toggleable__label sk-toggleable__label-arrow\">OneHotEncoder</label><div class=\"sk-toggleable__content\"><pre>OneHotEncoder(dtype=&lt;class &#x27;numpy.int32&#x27;&gt;, handle_unknown=&#x27;ignore&#x27;,\n",
              "              sparse=False)</pre></div></div></div></div></div></div><div class=\"sk-parallel-item\"><div class=\"sk-item\"><div class=\"sk-label-container\"><div class=\"sk-label sk-toggleable\"><input class=\"sk-toggleable__control sk-hidden--visually\" id=\"sk-estimator-id-4\" type=\"checkbox\" ><label for=\"sk-estimator-id-4\" class=\"sk-toggleable__label sk-toggleable__label-arrow\">remainder</label><div class=\"sk-toggleable__content\"><pre>[&#x27;achievement_score&#x27;, &#x27;intervention&#x27;, &#x27;school_mindset&#x27;, &#x27;school_achievement&#x27;, &#x27;school_ethnic_minority&#x27;, &#x27;school_poverty&#x27;, &#x27;school_size&#x27;]</pre></div></div></div><div class=\"sk-serial\"><div class=\"sk-item\"><div class=\"sk-estimator sk-toggleable\"><input class=\"sk-toggleable__control sk-hidden--visually\" id=\"sk-estimator-id-5\" type=\"checkbox\" ><label for=\"sk-estimator-id-5\" class=\"sk-toggleable__label sk-toggleable__label-arrow\">passthrough</label><div class=\"sk-toggleable__content\"><pre>passthrough</pre></div></div></div></div></div></div></div></div></div></div>"
            ]
          },
          "metadata": {},
          "execution_count": 4
        }
      ],
      "source": [
        "one_hot_encoder = OneHotEncoder(handle_unknown='ignore', sparse=False, dtype=np.int32)\n",
        "column_transformer = ColumnTransformer(\n",
        "    transformers = [\n",
        "        ('one_hot', one_hot_encoder, cat_cols)\n",
        "    ],\n",
        "    sparse_threshold=0,\n",
        "    remainder='passthrough'\n",
        ")\n",
        "column_transformer.fit(df)"
      ]
    },
    {
      "cell_type": "code",
      "execution_count": 6,
      "metadata": {
        "ExecuteTime": {
          "end_time": "2020-11-07T21:28:40.788880Z",
          "start_time": "2020-11-07T21:28:40.740131Z"
        },
        "colab": {
          "base_uri": "https://localhost:8080/",
          "height": 506
        },
        "id": "f3DfPbb-Vl_8",
        "outputId": "f80b4e42-b657-4086-aae5-55ee376f9c29"
      },
      "outputs": [
        {
          "output_type": "stream",
          "name": "stdout",
          "text": [
            "(10391, 29)\n"
          ]
        },
        {
          "output_type": "execute_result",
          "data": {
            "text/plain": [
              "       ethnicity_1  ethnicity_2  ethnicity_3  ethnicity_4  ethnicity_5  \\\n",
              "0              0.0          0.0          0.0          1.0          0.0   \n",
              "1              0.0          0.0          0.0          0.0          0.0   \n",
              "2              0.0          0.0          0.0          1.0          0.0   \n",
              "3              0.0          0.0          0.0          1.0          0.0   \n",
              "4              0.0          0.0          0.0          1.0          0.0   \n",
              "...            ...          ...          ...          ...          ...   \n",
              "10386          0.0          0.0          0.0          1.0          0.0   \n",
              "10387          0.0          0.0          0.0          1.0          0.0   \n",
              "10388          0.0          0.0          0.0          0.0          0.0   \n",
              "10389          0.0          0.0          0.0          1.0          0.0   \n",
              "10390          1.0          0.0          0.0          0.0          0.0   \n",
              "\n",
              "       ethnicity_6  ethnicity_7  ethnicity_8  ethnicity_9  ethnicity_10  ...  \\\n",
              "0              0.0          0.0          0.0          0.0           0.0  ...   \n",
              "1              0.0          0.0          0.0          0.0           0.0  ...   \n",
              "2              0.0          0.0          0.0          0.0           0.0  ...   \n",
              "3              0.0          0.0          0.0          0.0           0.0  ...   \n",
              "4              0.0          0.0          0.0          0.0           0.0  ...   \n",
              "...            ...          ...          ...          ...           ...  ...   \n",
              "10386          0.0          0.0          0.0          0.0           0.0  ...   \n",
              "10387          0.0          0.0          0.0          0.0           0.0  ...   \n",
              "10388          0.0          0.0          0.0          0.0           0.0  ...   \n",
              "10389          0.0          0.0          0.0          0.0           0.0  ...   \n",
              "10390          0.0          0.0          0.0          0.0           0.0  ...   \n",
              "\n",
              "       school_urbanicity_2  school_urbanicity_3  school_urbanicity_4  \\\n",
              "0                      0.0                  0.0                  1.0   \n",
              "1                      0.0                  0.0                  1.0   \n",
              "2                      0.0                  0.0                  1.0   \n",
              "3                      0.0                  0.0                  1.0   \n",
              "4                      0.0                  0.0                  1.0   \n",
              "...                    ...                  ...                  ...   \n",
              "10386                  0.0                  1.0                  0.0   \n",
              "10387                  0.0                  1.0                  0.0   \n",
              "10388                  0.0                  1.0                  0.0   \n",
              "10389                  0.0                  1.0                  0.0   \n",
              "10390                  0.0                  1.0                  0.0   \n",
              "\n",
              "       achievement_score  intervention  school_mindset  school_achievement  \\\n",
              "0               0.277359           1.0        0.334544            0.648586   \n",
              "1              -0.449646           1.0        0.334544            0.648586   \n",
              "2               0.769703           1.0        0.334544            0.648586   \n",
              "3              -0.121763           1.0        0.334544            0.648586   \n",
              "4               1.526147           1.0        0.334544            0.648586   \n",
              "...                  ...           ...             ...                 ...   \n",
              "10386           0.808867           0.0        1.185986           -1.129889   \n",
              "10387          -0.156063           0.0        1.185986           -1.129889   \n",
              "10388           0.370820           0.0        1.185986           -1.129889   \n",
              "10389          -0.396297           0.0        1.185986           -1.129889   \n",
              "10390           0.478970           0.0        1.185986           -1.129889   \n",
              "\n",
              "       school_ethnic_minority  school_poverty  school_size  \n",
              "0                   -1.310927        0.224077    -0.426757  \n",
              "1                   -1.310927        0.224077    -0.426757  \n",
              "2                   -1.310927        0.224077    -0.426757  \n",
              "3                   -1.310927        0.224077    -0.426757  \n",
              "4                   -1.310927        0.224077    -0.426757  \n",
              "...                       ...             ...          ...  \n",
              "10386                1.009875        1.005063    -1.174702  \n",
              "10387                1.009875        1.005063    -1.174702  \n",
              "10388                1.009875        1.005063    -1.174702  \n",
              "10389                1.009875        1.005063    -1.174702  \n",
              "10390                1.009875        1.005063    -1.174702  \n",
              "\n",
              "[10391 rows x 29 columns]"
            ],
            "text/html": [
              "\n",
              "  <div id=\"df-d6b6d7db-0acd-4458-946e-db79faa2e7a9\">\n",
              "    <div class=\"colab-df-container\">\n",
              "      <div>\n",
              "<style scoped>\n",
              "    .dataframe tbody tr th:only-of-type {\n",
              "        vertical-align: middle;\n",
              "    }\n",
              "\n",
              "    .dataframe tbody tr th {\n",
              "        vertical-align: top;\n",
              "    }\n",
              "\n",
              "    .dataframe thead th {\n",
              "        text-align: right;\n",
              "    }\n",
              "</style>\n",
              "<table border=\"1\" class=\"dataframe\">\n",
              "  <thead>\n",
              "    <tr style=\"text-align: right;\">\n",
              "      <th></th>\n",
              "      <th>ethnicity_1</th>\n",
              "      <th>ethnicity_2</th>\n",
              "      <th>ethnicity_3</th>\n",
              "      <th>ethnicity_4</th>\n",
              "      <th>ethnicity_5</th>\n",
              "      <th>ethnicity_6</th>\n",
              "      <th>ethnicity_7</th>\n",
              "      <th>ethnicity_8</th>\n",
              "      <th>ethnicity_9</th>\n",
              "      <th>ethnicity_10</th>\n",
              "      <th>...</th>\n",
              "      <th>school_urbanicity_2</th>\n",
              "      <th>school_urbanicity_3</th>\n",
              "      <th>school_urbanicity_4</th>\n",
              "      <th>achievement_score</th>\n",
              "      <th>intervention</th>\n",
              "      <th>school_mindset</th>\n",
              "      <th>school_achievement</th>\n",
              "      <th>school_ethnic_minority</th>\n",
              "      <th>school_poverty</th>\n",
              "      <th>school_size</th>\n",
              "    </tr>\n",
              "  </thead>\n",
              "  <tbody>\n",
              "    <tr>\n",
              "      <th>0</th>\n",
              "      <td>0.0</td>\n",
              "      <td>0.0</td>\n",
              "      <td>0.0</td>\n",
              "      <td>1.0</td>\n",
              "      <td>0.0</td>\n",
              "      <td>0.0</td>\n",
              "      <td>0.0</td>\n",
              "      <td>0.0</td>\n",
              "      <td>0.0</td>\n",
              "      <td>0.0</td>\n",
              "      <td>...</td>\n",
              "      <td>0.0</td>\n",
              "      <td>0.0</td>\n",
              "      <td>1.0</td>\n",
              "      <td>0.277359</td>\n",
              "      <td>1.0</td>\n",
              "      <td>0.334544</td>\n",
              "      <td>0.648586</td>\n",
              "      <td>-1.310927</td>\n",
              "      <td>0.224077</td>\n",
              "      <td>-0.426757</td>\n",
              "    </tr>\n",
              "    <tr>\n",
              "      <th>1</th>\n",
              "      <td>0.0</td>\n",
              "      <td>0.0</td>\n",
              "      <td>0.0</td>\n",
              "      <td>0.0</td>\n",
              "      <td>0.0</td>\n",
              "      <td>0.0</td>\n",
              "      <td>0.0</td>\n",
              "      <td>0.0</td>\n",
              "      <td>0.0</td>\n",
              "      <td>0.0</td>\n",
              "      <td>...</td>\n",
              "      <td>0.0</td>\n",
              "      <td>0.0</td>\n",
              "      <td>1.0</td>\n",
              "      <td>-0.449646</td>\n",
              "      <td>1.0</td>\n",
              "      <td>0.334544</td>\n",
              "      <td>0.648586</td>\n",
              "      <td>-1.310927</td>\n",
              "      <td>0.224077</td>\n",
              "      <td>-0.426757</td>\n",
              "    </tr>\n",
              "    <tr>\n",
              "      <th>2</th>\n",
              "      <td>0.0</td>\n",
              "      <td>0.0</td>\n",
              "      <td>0.0</td>\n",
              "      <td>1.0</td>\n",
              "      <td>0.0</td>\n",
              "      <td>0.0</td>\n",
              "      <td>0.0</td>\n",
              "      <td>0.0</td>\n",
              "      <td>0.0</td>\n",
              "      <td>0.0</td>\n",
              "      <td>...</td>\n",
              "      <td>0.0</td>\n",
              "      <td>0.0</td>\n",
              "      <td>1.0</td>\n",
              "      <td>0.769703</td>\n",
              "      <td>1.0</td>\n",
              "      <td>0.334544</td>\n",
              "      <td>0.648586</td>\n",
              "      <td>-1.310927</td>\n",
              "      <td>0.224077</td>\n",
              "      <td>-0.426757</td>\n",
              "    </tr>\n",
              "    <tr>\n",
              "      <th>3</th>\n",
              "      <td>0.0</td>\n",
              "      <td>0.0</td>\n",
              "      <td>0.0</td>\n",
              "      <td>1.0</td>\n",
              "      <td>0.0</td>\n",
              "      <td>0.0</td>\n",
              "      <td>0.0</td>\n",
              "      <td>0.0</td>\n",
              "      <td>0.0</td>\n",
              "      <td>0.0</td>\n",
              "      <td>...</td>\n",
              "      <td>0.0</td>\n",
              "      <td>0.0</td>\n",
              "      <td>1.0</td>\n",
              "      <td>-0.121763</td>\n",
              "      <td>1.0</td>\n",
              "      <td>0.334544</td>\n",
              "      <td>0.648586</td>\n",
              "      <td>-1.310927</td>\n",
              "      <td>0.224077</td>\n",
              "      <td>-0.426757</td>\n",
              "    </tr>\n",
              "    <tr>\n",
              "      <th>4</th>\n",
              "      <td>0.0</td>\n",
              "      <td>0.0</td>\n",
              "      <td>0.0</td>\n",
              "      <td>1.0</td>\n",
              "      <td>0.0</td>\n",
              "      <td>0.0</td>\n",
              "      <td>0.0</td>\n",
              "      <td>0.0</td>\n",
              "      <td>0.0</td>\n",
              "      <td>0.0</td>\n",
              "      <td>...</td>\n",
              "      <td>0.0</td>\n",
              "      <td>0.0</td>\n",
              "      <td>1.0</td>\n",
              "      <td>1.526147</td>\n",
              "      <td>1.0</td>\n",
              "      <td>0.334544</td>\n",
              "      <td>0.648586</td>\n",
              "      <td>-1.310927</td>\n",
              "      <td>0.224077</td>\n",
              "      <td>-0.426757</td>\n",
              "    </tr>\n",
              "    <tr>\n",
              "      <th>...</th>\n",
              "      <td>...</td>\n",
              "      <td>...</td>\n",
              "      <td>...</td>\n",
              "      <td>...</td>\n",
              "      <td>...</td>\n",
              "      <td>...</td>\n",
              "      <td>...</td>\n",
              "      <td>...</td>\n",
              "      <td>...</td>\n",
              "      <td>...</td>\n",
              "      <td>...</td>\n",
              "      <td>...</td>\n",
              "      <td>...</td>\n",
              "      <td>...</td>\n",
              "      <td>...</td>\n",
              "      <td>...</td>\n",
              "      <td>...</td>\n",
              "      <td>...</td>\n",
              "      <td>...</td>\n",
              "      <td>...</td>\n",
              "      <td>...</td>\n",
              "    </tr>\n",
              "    <tr>\n",
              "      <th>10386</th>\n",
              "      <td>0.0</td>\n",
              "      <td>0.0</td>\n",
              "      <td>0.0</td>\n",
              "      <td>1.0</td>\n",
              "      <td>0.0</td>\n",
              "      <td>0.0</td>\n",
              "      <td>0.0</td>\n",
              "      <td>0.0</td>\n",
              "      <td>0.0</td>\n",
              "      <td>0.0</td>\n",
              "      <td>...</td>\n",
              "      <td>0.0</td>\n",
              "      <td>1.0</td>\n",
              "      <td>0.0</td>\n",
              "      <td>0.808867</td>\n",
              "      <td>0.0</td>\n",
              "      <td>1.185986</td>\n",
              "      <td>-1.129889</td>\n",
              "      <td>1.009875</td>\n",
              "      <td>1.005063</td>\n",
              "      <td>-1.174702</td>\n",
              "    </tr>\n",
              "    <tr>\n",
              "      <th>10387</th>\n",
              "      <td>0.0</td>\n",
              "      <td>0.0</td>\n",
              "      <td>0.0</td>\n",
              "      <td>1.0</td>\n",
              "      <td>0.0</td>\n",
              "      <td>0.0</td>\n",
              "      <td>0.0</td>\n",
              "      <td>0.0</td>\n",
              "      <td>0.0</td>\n",
              "      <td>0.0</td>\n",
              "      <td>...</td>\n",
              "      <td>0.0</td>\n",
              "      <td>1.0</td>\n",
              "      <td>0.0</td>\n",
              "      <td>-0.156063</td>\n",
              "      <td>0.0</td>\n",
              "      <td>1.185986</td>\n",
              "      <td>-1.129889</td>\n",
              "      <td>1.009875</td>\n",
              "      <td>1.005063</td>\n",
              "      <td>-1.174702</td>\n",
              "    </tr>\n",
              "    <tr>\n",
              "      <th>10388</th>\n",
              "      <td>0.0</td>\n",
              "      <td>0.0</td>\n",
              "      <td>0.0</td>\n",
              "      <td>0.0</td>\n",
              "      <td>0.0</td>\n",
              "      <td>0.0</td>\n",
              "      <td>0.0</td>\n",
              "      <td>0.0</td>\n",
              "      <td>0.0</td>\n",
              "      <td>0.0</td>\n",
              "      <td>...</td>\n",
              "      <td>0.0</td>\n",
              "      <td>1.0</td>\n",
              "      <td>0.0</td>\n",
              "      <td>0.370820</td>\n",
              "      <td>0.0</td>\n",
              "      <td>1.185986</td>\n",
              "      <td>-1.129889</td>\n",
              "      <td>1.009875</td>\n",
              "      <td>1.005063</td>\n",
              "      <td>-1.174702</td>\n",
              "    </tr>\n",
              "    <tr>\n",
              "      <th>10389</th>\n",
              "      <td>0.0</td>\n",
              "      <td>0.0</td>\n",
              "      <td>0.0</td>\n",
              "      <td>1.0</td>\n",
              "      <td>0.0</td>\n",
              "      <td>0.0</td>\n",
              "      <td>0.0</td>\n",
              "      <td>0.0</td>\n",
              "      <td>0.0</td>\n",
              "      <td>0.0</td>\n",
              "      <td>...</td>\n",
              "      <td>0.0</td>\n",
              "      <td>1.0</td>\n",
              "      <td>0.0</td>\n",
              "      <td>-0.396297</td>\n",
              "      <td>0.0</td>\n",
              "      <td>1.185986</td>\n",
              "      <td>-1.129889</td>\n",
              "      <td>1.009875</td>\n",
              "      <td>1.005063</td>\n",
              "      <td>-1.174702</td>\n",
              "    </tr>\n",
              "    <tr>\n",
              "      <th>10390</th>\n",
              "      <td>1.0</td>\n",
              "      <td>0.0</td>\n",
              "      <td>0.0</td>\n",
              "      <td>0.0</td>\n",
              "      <td>0.0</td>\n",
              "      <td>0.0</td>\n",
              "      <td>0.0</td>\n",
              "      <td>0.0</td>\n",
              "      <td>0.0</td>\n",
              "      <td>0.0</td>\n",
              "      <td>...</td>\n",
              "      <td>0.0</td>\n",
              "      <td>1.0</td>\n",
              "      <td>0.0</td>\n",
              "      <td>0.478970</td>\n",
              "      <td>0.0</td>\n",
              "      <td>1.185986</td>\n",
              "      <td>-1.129889</td>\n",
              "      <td>1.009875</td>\n",
              "      <td>1.005063</td>\n",
              "      <td>-1.174702</td>\n",
              "    </tr>\n",
              "  </tbody>\n",
              "</table>\n",
              "<p>10391 rows × 29 columns</p>\n",
              "</div>\n",
              "      <button class=\"colab-df-convert\" onclick=\"convertToInteractive('df-d6b6d7db-0acd-4458-946e-db79faa2e7a9')\"\n",
              "              title=\"Convert this dataframe to an interactive table.\"\n",
              "              style=\"display:none;\">\n",
              "        \n",
              "  <svg xmlns=\"http://www.w3.org/2000/svg\" height=\"24px\"viewBox=\"0 0 24 24\"\n",
              "       width=\"24px\">\n",
              "    <path d=\"M0 0h24v24H0V0z\" fill=\"none\"/>\n",
              "    <path d=\"M18.56 5.44l.94 2.06.94-2.06 2.06-.94-2.06-.94-.94-2.06-.94 2.06-2.06.94zm-11 1L8.5 8.5l.94-2.06 2.06-.94-2.06-.94L8.5 2.5l-.94 2.06-2.06.94zm10 10l.94 2.06.94-2.06 2.06-.94-2.06-.94-.94-2.06-.94 2.06-2.06.94z\"/><path d=\"M17.41 7.96l-1.37-1.37c-.4-.4-.92-.59-1.43-.59-.52 0-1.04.2-1.43.59L10.3 9.45l-7.72 7.72c-.78.78-.78 2.05 0 2.83L4 21.41c.39.39.9.59 1.41.59.51 0 1.02-.2 1.41-.59l7.78-7.78 2.81-2.81c.8-.78.8-2.07 0-2.86zM5.41 20L4 18.59l7.72-7.72 1.47 1.35L5.41 20z\"/>\n",
              "  </svg>\n",
              "      </button>\n",
              "      \n",
              "  <style>\n",
              "    .colab-df-container {\n",
              "      display:flex;\n",
              "      flex-wrap:wrap;\n",
              "      gap: 12px;\n",
              "    }\n",
              "\n",
              "    .colab-df-convert {\n",
              "      background-color: #E8F0FE;\n",
              "      border: none;\n",
              "      border-radius: 50%;\n",
              "      cursor: pointer;\n",
              "      display: none;\n",
              "      fill: #1967D2;\n",
              "      height: 32px;\n",
              "      padding: 0 0 0 0;\n",
              "      width: 32px;\n",
              "    }\n",
              "\n",
              "    .colab-df-convert:hover {\n",
              "      background-color: #E2EBFA;\n",
              "      box-shadow: 0px 1px 2px rgba(60, 64, 67, 0.3), 0px 1px 3px 1px rgba(60, 64, 67, 0.15);\n",
              "      fill: #174EA6;\n",
              "    }\n",
              "\n",
              "    [theme=dark] .colab-df-convert {\n",
              "      background-color: #3B4455;\n",
              "      fill: #D2E3FC;\n",
              "    }\n",
              "\n",
              "    [theme=dark] .colab-df-convert:hover {\n",
              "      background-color: #434B5C;\n",
              "      box-shadow: 0px 1px 3px 1px rgba(0, 0, 0, 0.15);\n",
              "      filter: drop-shadow(0px 1px 2px rgba(0, 0, 0, 0.3));\n",
              "      fill: #FFFFFF;\n",
              "    }\n",
              "  </style>\n",
              "\n",
              "      <script>\n",
              "        const buttonEl =\n",
              "          document.querySelector('#df-d6b6d7db-0acd-4458-946e-db79faa2e7a9 button.colab-df-convert');\n",
              "        buttonEl.style.display =\n",
              "          google.colab.kernel.accessAllowed ? 'block' : 'none';\n",
              "\n",
              "        async function convertToInteractive(key) {\n",
              "          const element = document.querySelector('#df-d6b6d7db-0acd-4458-946e-db79faa2e7a9');\n",
              "          const dataTable =\n",
              "            await google.colab.kernel.invokeFunction('convertToInteractive',\n",
              "                                                     [key], {});\n",
              "          if (!dataTable) return;\n",
              "\n",
              "          const docLinkHtml = 'Like what you see? Visit the ' +\n",
              "            '<a target=\"_blank\" href=https://colab.research.google.com/notebooks/data_table.ipynb>data table notebook</a>'\n",
              "            + ' to learn more about interactive tables.';\n",
              "          element.innerHTML = '';\n",
              "          dataTable['output_type'] = 'display_data';\n",
              "          await google.colab.output.renderOutput(dataTable, element);\n",
              "          const docLink = document.createElement('div');\n",
              "          docLink.innerHTML = docLinkHtml;\n",
              "          element.appendChild(docLink);\n",
              "        }\n",
              "      </script>\n",
              "    </div>\n",
              "  </div>\n",
              "  "
            ]
          },
          "metadata": {},
          "execution_count": 6
        }
      ],
      "source": [
        "one_hot_encoder = column_transformer.named_transformers_['one_hot']\n",
        "one_hot_encoded_cols = one_hot_encoder.get_feature_names_out(cat_cols).tolist()\n",
        "columns = one_hot_encoded_cols + [label_col, treatment_col] + num_cols\n",
        "\n",
        "df = pd.DataFrame(column_transformer.transform(df), columns=columns)\n",
        "print(df.shape)\n",
        "df"
      ]
    },
    {
      "cell_type": "markdown",
      "metadata": {
        "id": "EG6Q5d8HVl_8"
      },
      "source": [
        "## Outcome Analysis"
      ]
    },
    {
      "cell_type": "markdown",
      "metadata": {
        "id": "3GVTOEcxVl_8"
      },
      "source": [
        "It's often times useful to establish some baseline. Here, we would like to gauge what would the result look like if we don't use propensity score weighting to control for potential biases with assignment of individuals to the control and treatment group. "
      ]
    },
    {
      "cell_type": "code",
      "execution_count": 9,
      "metadata": {
        "ExecuteTime": {
          "end_time": "2020-11-07T21:28:41.340665Z",
          "start_time": "2020-11-07T21:28:40.791260Z"
        },
        "colab": {
          "base_uri": "https://localhost:8080/",
          "height": 377
        },
        "id": "M0ezAfRFVl_8",
        "outputId": "930c3a45-577c-4553-9afa-55679aac24e7"
      },
      "outputs": [
        {
          "output_type": "display_data",
          "data": {
            "text/plain": [
              "<Figure size 576x432 with 1 Axes>"
            ],
            "image/png": "[encoded data removed]"
          },
          "metadata": {
            "needs_background": "light"
          }
        }
      ],
      "source": [
        "# change default style figure and font size\n",
        "plt.rcParams['figure.figsize'] = 8, 6\n",
        "plt.rcParams['font.size'] = 12\n",
        "\n",
        "# we can check the histogram of our label between the treatment and control\n",
        "plt.hist(df.loc[df[treatment_col] == 0.0, label_col], bins=20, alpha=0.3, label='control')\n",
        "plt.hist(df.loc[df[treatment_col] == 1.0, label_col], bins=20, alpha=0.3, label='treatment')\n",
        "plt.legend()\n",
        "plt.show()"
      ]
    },
    {
      "cell_type": "code",
      "execution_count": 10,
      "metadata": {
        "ExecuteTime": {
          "end_time": "2020-11-07T21:28:41.372449Z",
          "start_time": "2020-11-07T21:28:41.342273Z"
        },
        "colab": {
          "base_uri": "https://localhost:8080/"
        },
        "id": "idrDJGgEVl_9",
        "outputId": "1b97c01f-3c53-4398-d5f0-6f9dc1167ecc"
      },
      "outputs": [
        {
          "output_type": "stream",
          "name": "stdout",
          "text": [
            "-0.15380303423613792 [0.47227167]\n"
          ]
        }
      ],
      "source": [
        "# fitting a linear regression to estimate the outcome\n",
        "linear = LinearRegression()\n",
        "linear.fit(df[[treatment_col]], df[label_col])\n",
        "print(linear.intercept_, linear.coef_)"
      ]
    },
    {
      "cell_type": "code",
      "execution_count": 11,
      "metadata": {
        "ExecuteTime": {
          "end_time": "2020-11-07T21:28:41.430110Z",
          "start_time": "2020-11-07T21:28:41.374713Z"
        },
        "colab": {
          "base_uri": "https://localhost:8080/",
          "height": 83
        },
        "id": "PZ5Um6rLVl_9",
        "outputId": "ff3caeef-be3c-41e7-d610-a80bc818f059"
      },
      "outputs": [
        {
          "output_type": "execute_result",
          "data": {
            "text/plain": [
              "<class 'statsmodels.iolib.table.SimpleTable'>"
            ],
            "text/html": [
              "<table class=\"simpletable\">\n",
              "<tr>\n",
              "        <td></td>          <th>coef</th>     <th>std err</th>      <th>t</th>      <th>P>|t|</th>  <th>[0.025</th>    <th>0.975]</th>  \n",
              "</tr>\n",
              "<tr>\n",
              "  <th>Intercept</th>    <td>   -0.1538</td> <td>    0.012</td> <td>  -13.201</td> <td> 0.000</td> <td>   -0.177</td> <td>   -0.131</td>\n",
              "</tr>\n",
              "<tr>\n",
              "  <th>intervention</th> <td>    0.4723</td> <td>    0.020</td> <td>   23.133</td> <td> 0.000</td> <td>    0.432</td> <td>    0.512</td>\n",
              "</tr>\n",
              "</table>"
            ]
          },
          "metadata": {},
          "execution_count": 11
        }
      ],
      "source": [
        "smf.ols(f'{label_col} ~ {treatment_col}', data=df).fit().summary().tables[1]"
      ]
    },
    {
      "cell_type": "markdown",
      "metadata": {
        "id": "GQP0T_BVVl_9"
      },
      "source": [
        "We can use Linear Regression from different packages to establish our baseline estimates. The one from `statsmodels` will give us some additional statistical information. By blindly comparing individuals with and without the intervention, we can see that, on average, those in the treatment group achieved a achievement score 0.4723 higher than the control. Be aware that in this dataset is score was standardized, i.e. it means the treated is 0.4723 standard deviation higher than the untreated.\n",
        "\n",
        "Upon establishing the baseline, our next task is to question these numbers."
      ]
    },
    {
      "cell_type": "markdown",
      "metadata": {
        "id": "JQHF7gejVl_-"
      },
      "source": [
        "## Propensity Score Estimation"
      ]
    },
    {
      "cell_type": "markdown",
      "metadata": {
        "id": "loLWMyqbVl_-"
      },
      "source": [
        "We shall use a logistic regression to estimate our propensity score. Feel free to use other classification techniques, but keep in mind that other classification techniques might not produce well [calibrated probabilities](http://ethen8181.github.io/machine-learning/model_selection/prob_calibration/prob_calibration.html) and the utmost goal of propensity score estimation is to make sure to include all the confounding variables instead of getting taken away of the different kinds of classification model that we can potentially use. "
      ]
    },
    {
      "cell_type": "code",
      "execution_count": 8,
      "metadata": {
        "ExecuteTime": {
          "end_time": "2020-11-07T21:28:41.579213Z",
          "start_time": "2020-11-07T21:28:41.433543Z"
        },
        "colab": {
          "base_uri": "https://localhost:8080/",
          "height": 318
        },
        "id": "pfMy8DrXVl_-",
        "outputId": "1937cdc8-81d8-4b29-c255-de8c2185c84d"
      },
      "outputs": [
        {
          "output_type": "stream",
          "name": "stdout",
          "text": [
            "(10391, 30)\n"
          ]
        },
        {
          "output_type": "execute_result",
          "data": {
            "text/plain": [
              "   ethnicity_1  ethnicity_2  ethnicity_3  ethnicity_4  ethnicity_5  \\\n",
              "0          0.0          0.0          0.0          1.0          0.0   \n",
              "1          0.0          0.0          0.0          0.0          0.0   \n",
              "2          0.0          0.0          0.0          1.0          0.0   \n",
              "3          0.0          0.0          0.0          1.0          0.0   \n",
              "4          0.0          0.0          0.0          1.0          0.0   \n",
              "\n",
              "   ethnicity_6  ethnicity_7  ethnicity_8  ethnicity_9  ethnicity_10  ...  \\\n",
              "0          0.0          0.0          0.0          0.0           0.0  ...   \n",
              "1          0.0          0.0          0.0          0.0           0.0  ...   \n",
              "2          0.0          0.0          0.0          0.0           0.0  ...   \n",
              "3          0.0          0.0          0.0          0.0           0.0  ...   \n",
              "4          0.0          0.0          0.0          0.0           0.0  ...   \n",
              "\n",
              "   school_urbanicity_3  school_urbanicity_4  achievement_score  intervention  \\\n",
              "0                  0.0                  1.0           0.277359           1.0   \n",
              "1                  0.0                  1.0          -0.449646           1.0   \n",
              "2                  0.0                  1.0           0.769703           1.0   \n",
              "3                  0.0                  1.0          -0.121763           1.0   \n",
              "4                  0.0                  1.0           1.526147           1.0   \n",
              "\n",
              "   school_mindset  school_achievement  school_ethnic_minority  school_poverty  \\\n",
              "0        0.334544            0.648586               -1.310927        0.224077   \n",
              "1        0.334544            0.648586               -1.310927        0.224077   \n",
              "2        0.334544            0.648586               -1.310927        0.224077   \n",
              "3        0.334544            0.648586               -1.310927        0.224077   \n",
              "4        0.334544            0.648586               -1.310927        0.224077   \n",
              "\n",
              "   school_size  propensity_score  \n",
              "0    -0.426757          0.313030  \n",
              "1    -0.426757          0.294726  \n",
              "2    -0.426757          0.313030  \n",
              "3    -0.426757          0.313030  \n",
              "4    -0.426757          0.338112  \n",
              "\n",
              "[5 rows x 30 columns]"
            ],
            "text/html": [
              "\n",
              "  <div id=\"df-fe6ff733-fec9-4656-8362-5e61539fdb6e\">\n",
              "    <div class=\"colab-df-container\">\n",
              "      <div>\n",
              "<style scoped>\n",
              "    .dataframe tbody tr th:only-of-type {\n",
              "        vertical-align: middle;\n",
              "    }\n",
              "\n",
              "    .dataframe tbody tr th {\n",
              "        vertical-align: top;\n",
              "    }\n",
              "\n",
              "    .dataframe thead th {\n",
              "        text-align: right;\n",
              "    }\n",
              "</style>\n",
              "<table border=\"1\" class=\"dataframe\">\n",
              "  <thead>\n",
              "    <tr style=\"text-align: right;\">\n",
              "      <th></th>\n",
              "      <th>ethnicity_1</th>\n",
              "      <th>ethnicity_2</th>\n",
              "      <th>ethnicity_3</th>\n",
              "      <th>ethnicity_4</th>\n",
              "      <th>ethnicity_5</th>\n",
              "      <th>ethnicity_6</th>\n",
              "      <th>ethnicity_7</th>\n",
              "      <th>ethnicity_8</th>\n",
              "      <th>ethnicity_9</th>\n",
              "      <th>ethnicity_10</th>\n",
              "      <th>...</th>\n",
              "      <th>school_urbanicity_3</th>\n",
              "      <th>school_urbanicity_4</th>\n",
              "      <th>achievement_score</th>\n",
              "      <th>intervention</th>\n",
              "      <th>school_mindset</th>\n",
              "      <th>school_achievement</th>\n",
              "      <th>school_ethnic_minority</th>\n",
              "      <th>school_poverty</th>\n",
              "      <th>school_size</th>\n",
              "      <th>propensity_score</th>\n",
              "    </tr>\n",
              "  </thead>\n",
              "  <tbody>\n",
              "    <tr>\n",
              "      <th>0</th>\n",
              "      <td>0.0</td>\n",
              "      <td>0.0</td>\n",
              "      <td>0.0</td>\n",
              "      <td>1.0</td>\n",
              "      <td>0.0</td>\n",
              "      <td>0.0</td>\n",
              "      <td>0.0</td>\n",
              "      <td>0.0</td>\n",
              "      <td>0.0</td>\n",
              "      <td>0.0</td>\n",
              "      <td>...</td>\n",
              "      <td>0.0</td>\n",
              "      <td>1.0</td>\n",
              "      <td>0.277359</td>\n",
              "      <td>1.0</td>\n",
              "      <td>0.334544</td>\n",
              "      <td>0.648586</td>\n",
              "      <td>-1.310927</td>\n",
              "      <td>0.224077</td>\n",
              "      <td>-0.426757</td>\n",
              "      <td>0.313030</td>\n",
              "    </tr>\n",
              "    <tr>\n",
              "      <th>1</th>\n",
              "      <td>0.0</td>\n",
              "      <td>0.0</td>\n",
              "      <td>0.0</td>\n",
              "      <td>0.0</td>\n",
              "      <td>0.0</td>\n",
              "      <td>0.0</td>\n",
              "      <td>0.0</td>\n",
              "      <td>0.0</td>\n",
              "      <td>0.0</td>\n",
              "      <td>0.0</td>\n",
              "      <td>...</td>\n",
              "      <td>0.0</td>\n",
              "      <td>1.0</td>\n",
              "      <td>-0.449646</td>\n",
              "      <td>1.0</td>\n",
              "      <td>0.334544</td>\n",
              "      <td>0.648586</td>\n",
              "      <td>-1.310927</td>\n",
              "      <td>0.224077</td>\n",
              "      <td>-0.426757</td>\n",
              "      <td>0.294726</td>\n",
              "    </tr>\n",
              "    <tr>\n",
              "      <th>2</th>\n",
              "      <td>0.0</td>\n",
              "      <td>0.0</td>\n",
              "      <td>0.0</td>\n",
              "      <td>1.0</td>\n",
              "      <td>0.0</td>\n",
              "      <td>0.0</td>\n",
              "      <td>0.0</td>\n",
              "      <td>0.0</td>\n",
              "      <td>0.0</td>\n",
              "      <td>0.0</td>\n",
              "      <td>...</td>\n",
              "      <td>0.0</td>\n",
              "      <td>1.0</td>\n",
              "      <td>0.769703</td>\n",
              "      <td>1.0</td>\n",
              "      <td>0.334544</td>\n",
              "      <td>0.648586</td>\n",
              "      <td>-1.310927</td>\n",
              "      <td>0.224077</td>\n",
              "      <td>-0.426757</td>\n",
              "      <td>0.313030</td>\n",
              "    </tr>\n",
              "    <tr>\n",
              "      <th>3</th>\n",
              "      <td>0.0</td>\n",
              "      <td>0.0</td>\n",
              "      <td>0.0</td>\n",
              "      <td>1.0</td>\n",
              "      <td>0.0</td>\n",
              "      <td>0.0</td>\n",
              "      <td>0.0</td>\n",
              "      <td>0.0</td>\n",
              "      <td>0.0</td>\n",
              "      <td>0.0</td>\n",
              "      <td>...</td>\n",
              "      <td>0.0</td>\n",
              "      <td>1.0</td>\n",
              "      <td>-0.121763</td>\n",
              "      <td>1.0</td>\n",
              "      <td>0.334544</td>\n",
              "      <td>0.648586</td>\n",
              "      <td>-1.310927</td>\n",
              "      <td>0.224077</td>\n",
              "      <td>-0.426757</td>\n",
              "      <td>0.313030</td>\n",
              "    </tr>\n",
              "    <tr>\n",
              "      <th>4</th>\n",
              "      <td>0.0</td>\n",
              "      <td>0.0</td>\n",
              "      <td>0.0</td>\n",
              "      <td>1.0</td>\n",
              "      <td>0.0</td>\n",
              "      <td>0.0</td>\n",
              "      <td>0.0</td>\n",
              "      <td>0.0</td>\n",
              "      <td>0.0</td>\n",
              "      <td>0.0</td>\n",
              "      <td>...</td>\n",
              "      <td>0.0</td>\n",
              "      <td>1.0</td>\n",
              "      <td>1.526147</td>\n",
              "      <td>1.0</td>\n",
              "      <td>0.334544</td>\n",
              "      <td>0.648586</td>\n",
              "      <td>-1.310927</td>\n",
              "      <td>0.224077</td>\n",
              "      <td>-0.426757</td>\n",
              "      <td>0.338112</td>\n",
              "    </tr>\n",
              "  </tbody>\n",
              "</table>\n",
              "<p>5 rows × 30 columns</p>\n",
              "</div>\n",
              "      <button class=\"colab-df-convert\" onclick=\"convertToInteractive('df-fe6ff733-fec9-4656-8362-5e61539fdb6e')\"\n",
              "              title=\"Convert this dataframe to an interactive table.\"\n",
              "              style=\"display:none;\">\n",
              "        \n",
              "  <svg xmlns=\"http://www.w3.org/2000/svg\" height=\"24px\"viewBox=\"0 0 24 24\"\n",
              "       width=\"24px\">\n",
              "    <path d=\"M0 0h24v24H0V0z\" fill=\"none\"/>\n",
              "    <path d=\"M18.56 5.44l.94 2.06.94-2.06 2.06-.94-2.06-.94-.94-2.06-.94 2.06-2.06.94zm-11 1L8.5 8.5l.94-2.06 2.06-.94-2.06-.94L8.5 2.5l-.94 2.06-2.06.94zm10 10l.94 2.06.94-2.06 2.06-.94-2.06-.94-.94-2.06-.94 2.06-2.06.94z\"/><path d=\"M17.41 7.96l-1.37-1.37c-.4-.4-.92-.59-1.43-.59-.52 0-1.04.2-1.43.59L10.3 9.45l-7.72 7.72c-.78.78-.78 2.05 0 2.83L4 21.41c.39.39.9.59 1.41.59.51 0 1.02-.2 1.41-.59l7.78-7.78 2.81-2.81c.8-.78.8-2.07 0-2.86zM5.41 20L4 18.59l7.72-7.72 1.47 1.35L5.41 20z\"/>\n",
              "  </svg>\n",
              "      </button>\n",
              "      \n",
              "  <style>\n",
              "    .colab-df-container {\n",
              "      display:flex;\n",
              "      flex-wrap:wrap;\n",
              "      gap: 12px;\n",
              "    }\n",
              "\n",
              "    .colab-df-convert {\n",
              "      background-color: #E8F0FE;\n",
              "      border: none;\n",
              "      border-radius: 50%;\n",
              "      cursor: pointer;\n",
              "      display: none;\n",
              "      fill: #1967D2;\n",
              "      height: 32px;\n",
              "      padding: 0 0 0 0;\n",
              "      width: 32px;\n",
              "    }\n",
              "\n",
              "    .colab-df-convert:hover {\n",
              "      background-color: #E2EBFA;\n",
              "      box-shadow: 0px 1px 2px rgba(60, 64, 67, 0.3), 0px 1px 3px 1px rgba(60, 64, 67, 0.15);\n",
              "      fill: #174EA6;\n",
              "    }\n",
              "\n",
              "    [theme=dark] .colab-df-convert {\n",
              "      background-color: #3B4455;\n",
              "      fill: #D2E3FC;\n",
              "    }\n",
              "\n",
              "    [theme=dark] .colab-df-convert:hover {\n",
              "      background-color: #434B5C;\n",
              "      box-shadow: 0px 1px 3px 1px rgba(0, 0, 0, 0.15);\n",
              "      filter: drop-shadow(0px 1px 2px rgba(0, 0, 0, 0.3));\n",
              "      fill: #FFFFFF;\n",
              "    }\n",
              "  </style>\n",
              "\n",
              "      <script>\n",
              "        const buttonEl =\n",
              "          document.querySelector('#df-fe6ff733-fec9-4656-8362-5e61539fdb6e button.colab-df-convert');\n",
              "        buttonEl.style.display =\n",
              "          google.colab.kernel.accessAllowed ? 'block' : 'none';\n",
              "\n",
              "        async function convertToInteractive(key) {\n",
              "          const element = document.querySelector('#df-fe6ff733-fec9-4656-8362-5e61539fdb6e');\n",
              "          const dataTable =\n",
              "            await google.colab.kernel.invokeFunction('convertToInteractive',\n",
              "                                                     [key], {});\n",
              "          if (!dataTable) return;\n",
              "\n",
              "          const docLinkHtml = 'Like what you see? Visit the ' +\n",
              "            '<a target=\"_blank\" href=https://colab.research.google.com/notebooks/data_table.ipynb>data table notebook</a>'\n",
              "            + ' to learn more about interactive tables.';\n",
              "          element.innerHTML = '';\n",
              "          dataTable['output_type'] = 'display_data';\n",
              "          await google.colab.output.renderOutput(dataTable, element);\n",
              "          const docLink = document.createElement('div');\n",
              "          docLink.innerHTML = docLinkHtml;\n",
              "          element.appendChild(docLink);\n",
              "        }\n",
              "      </script>\n",
              "    </div>\n",
              "  </div>\n",
              "  "
            ]
          },
          "metadata": {},
          "execution_count": 8
        }
      ],
      "source": [
        "input_cols = one_hot_encoded_cols + num_cols\n",
        "\n",
        "logistic = LogisticRegression()\n",
        "logistic.fit(df[input_cols], df[treatment_col])\n",
        "\n",
        "propensity_score = 'propensity_score'\n",
        "df[propensity_score] = logistic.predict_proba(df[input_cols])[:, 1]\n",
        "print(df.shape)\n",
        "df.head()"
      ]
    },
    {
      "cell_type": "markdown",
      "metadata": {
        "id": "5MRT8jSwVl_-"
      },
      "source": [
        "After training our propensity score, itis important to check for score overlap between the treated and untreated population. "
      ]
    },
    {
      "cell_type": "code",
      "execution_count": 12,
      "metadata": {
        "ExecuteTime": {
          "end_time": "2020-11-07T21:28:42.435174Z",
          "start_time": "2020-11-07T21:28:41.582092Z"
        },
        "colab": {
          "base_uri": "https://localhost:8080/",
          "height": 841
        },
        "id": "DKT6nlZvVl__",
        "outputId": "24bc6b61-c211-46a3-a0a3-17fbfa8f8b8f"
      },
      "outputs": [
        {
          "output_type": "stream",
          "name": "stderr",
          "text": [
            "<ipython-input-12-71c26f759807>:4: UserWarning: \n",
            "\n",
            "`distplot` is a deprecated function and will be removed in seaborn v0.14.0.\n",
            "\n",
            "Please adapt your code to use either `displot` (a figure-level function with\n",
            "similar flexibility) or `histplot` (an axes-level function for histograms).\n",
            "\n",
            "For a guide to updating your code to use the new functions, please see\n",
            "https://gist.github.com/mwaskom/de44147ed2974457ad6372750bbe5751\n",
            "\n",
            "  sns.distplot(control_score, label='control')\n",
            "<ipython-input-12-71c26f759807>:5: UserWarning: \n",
            "\n",
            "`distplot` is a deprecated function and will be removed in seaborn v0.14.0.\n",
            "\n",
            "Please adapt your code to use either `displot` (a figure-level function with\n",
            "similar flexibility) or `histplot` (an axes-level function for histograms).\n",
            "\n",
            "For a guide to updating your code to use the new functions, please see\n",
            "https://gist.github.com/mwaskom/de44147ed2974457ad6372750bbe5751\n",
            "\n",
            "  sns.distplot(treatment_score, label='treatment')\n"
          ]
        },
        {
          "output_type": "display_data",
          "data": {
            "text/plain": [
              "<Figure size 576x432 with 1 Axes>"
            ],
            "image/png": "[encoded data removed]"
          },
          "metadata": {
            "needs_background": "light"
          }
        }
      ],
      "source": [
        "control_score = df.loc[df[treatment_col] == 0.0, propensity_score]\n",
        "treatment_score = df.loc[df[treatment_col] == 1.0, propensity_score]\n",
        "\n",
        "sns.distplot(control_score, label='control')\n",
        "sns.distplot(treatment_score, label='treatment')\n",
        "plt.title('Propensity Score Distribution of Control vs Treatment')\n",
        "plt.ylabel('Density')\n",
        "plt.xlabel('Scores')\n",
        "plt.legend()\n",
        "plt.tight_layout()\n",
        "plt.show()"
      ]
    },
    {
      "cell_type": "markdown",
      "metadata": {
        "id": "0pkltNcmVl__"
      },
      "source": [
        "## Outcome Analysis with Inverse Propensity Score Weighting"
      ]
    },
    {
      "cell_type": "markdown",
      "metadata": {
        "id": "eOvZyYTAVl__"
      },
      "source": [
        "The final step in our analysis is to run our outcome model using the propensity score as weights, i.e. fit a weighted regression. In order to use our propensity score as weights, we will need to apply some transformation known as **Inverse Propensity Weighting (IPW)**. For individuals in the treatment group, $w = \\frac{1}{P(x)}$, whereas for individuals in the control group, $w = \\frac{1}{1 - P(x)}$.\n"
      ]
    },
    {
      "cell_type": "code",
      "execution_count": 13,
      "metadata": {
        "ExecuteTime": {
          "end_time": "2020-11-07T21:28:42.470247Z",
          "start_time": "2020-11-07T21:28:42.437599Z"
        },
        "colab": {
          "base_uri": "https://localhost:8080/"
        },
        "id": "_mweVISfVl__",
        "outputId": "b59ee655-144d-4028-dd8e-93fd5e0d4e21"
      },
      "outputs": [
        {
          "output_type": "stream",
          "name": "stdout",
          "text": [
            "Original Sample Size 10391\n",
            "Treated Population Sample Size 10390.321766315354\n",
            "Untreated Population Sample Size 10390.613010741006\n"
          ]
        }
      ],
      "source": [
        "treatment_weight = 1.0 / treatment_score\n",
        "control_weight = 1.0 / (1.0 - control_score)\n",
        "\n",
        "print('Original Sample Size', df.shape[0])\n",
        "print('Treated Population Sample Size', treatment_weight.sum())\n",
        "print('Untreated Population Sample Size', control_weight.sum())"
      ]
    },
    {
      "cell_type": "code",
      "execution_count": 14,
      "metadata": {
        "ExecuteTime": {
          "end_time": "2020-11-07T21:28:42.508466Z",
          "start_time": "2020-11-07T21:28:42.472468Z"
        },
        "id": "vI36W8PHVl__"
      },
      "outputs": [],
      "source": [
        "sample_weight = 'sample_weight'\n",
        "df[sample_weight] = np.where(\n",
        "    df[treatment_col] == 1.0,\n",
        "    1.0 / df[propensity_score],\n",
        "    1.0 / (1.0 - df[propensity_score])\n",
        ")"
      ]
    },
    {
      "cell_type": "markdown",
      "metadata": {
        "id": "Y0CjCGoVVmAA"
      },
      "source": [
        "Once the sample weight are created, we can re-estimate the outcome with a weighted Linear Regression."
      ]
    },
    {
      "cell_type": "code",
      "execution_count": 15,
      "metadata": {
        "ExecuteTime": {
          "end_time": "2020-11-07T21:28:42.572127Z",
          "start_time": "2020-11-07T21:28:42.510974Z"
        },
        "colab": {
          "base_uri": "https://localhost:8080/",
          "height": 83
        },
        "id": "zNBxxIR-VmAA",
        "outputId": "d7190a30-a768-4573-9f29-146da8279a17"
      },
      "outputs": [
        {
          "output_type": "execute_result",
          "data": {
            "text/plain": [
              "<class 'statsmodels.iolib.table.SimpleTable'>"
            ],
            "text/html": [
              "<table class=\"simpletable\">\n",
              "<tr>\n",
              "        <td></td>          <th>coef</th>     <th>std err</th>      <th>t</th>      <th>P>|t|</th>  <th>[0.025</th>    <th>0.975]</th>  \n",
              "</tr>\n",
              "<tr>\n",
              "  <th>Intercept</th>    <td>   -0.1463</td> <td>    0.014</td> <td>  -10.771</td> <td> 0.000</td> <td>   -0.173</td> <td>   -0.120</td>\n",
              "</tr>\n",
              "<tr>\n",
              "  <th>intervention</th> <td>    0.4430</td> <td>    0.019</td> <td>   23.055</td> <td> 0.000</td> <td>    0.405</td> <td>    0.481</td>\n",
              "</tr>\n",
              "</table>"
            ]
          },
          "metadata": {},
          "execution_count": 15
        }
      ],
      "source": [
        "smf.wls(f'{label_col} ~ {treatment_col}', data=df, weights=df[sample_weight]).fit().summary().tables[1]"
      ]
    },
    {
      "cell_type": "code",
      "execution_count": 16,
      "metadata": {
        "ExecuteTime": {
          "end_time": "2020-11-07T21:28:42.615998Z",
          "start_time": "2020-11-07T21:28:42.574811Z"
        },
        "colab": {
          "base_uri": "https://localhost:8080/"
        },
        "id": "yN2iQ-ILVmAA",
        "outputId": "f048b5a1-1874-4f85-a8b1-df70b1758b81"
      },
      "outputs": [
        {
          "output_type": "stream",
          "name": "stdout",
          "text": [
            "-0.14633238210068955 [0.44298379]\n"
          ]
        }
      ],
      "source": [
        "linear = LinearRegression()\n",
        "linear.fit(df[[treatment_col]], df[label_col], sample_weight=df[sample_weight])\n",
        "print(linear.intercept_, linear.coef_)"
      ]
    },
    {
      "cell_type": "markdown",
      "metadata": {
        "id": "RrBgivh-VmAA"
      },
      "source": [
        "FYI, even though scikit-learn's LinearRegression by default doesn't give us an estimated standard error, we can estimate this using bootstrapping. i.e. by sampling with replacement from the original data, and computing the average treatment effect like before. After repeating this step for lots of times, we will get a distribution of the outcome estimation. We will also use this time to organize the overall workflow into one single code cell."
      ]
    },
    {
      "cell_type": "code",
      "execution_count": 17,
      "metadata": {
        "ExecuteTime": {
          "end_time": "2020-11-07T21:28:42.654750Z",
          "start_time": "2020-11-07T21:28:42.618472Z"
        },
        "id": "i2cwXRtnVmAA"
      },
      "outputs": [],
      "source": [
        "def run_propensity_score_estimation(df, input_cols, treatment_col, label_col):\n",
        "\n",
        "    # df is our pre-processed data\n",
        "    df = df.sample(frac=1, replace=True)\n",
        "\n",
        "    # estimate the propensity score\n",
        "    logistic = LogisticRegression()\n",
        "    logistic.fit(df[input_cols], df[treatment_col])\n",
        "    propensity_score = logistic.predict_proba(df[input_cols])[:, 1]\n",
        "\n",
        "    # calculate the inverse propensity weight\n",
        "    sample_weight = np.where(\n",
        "        df[treatment_col] == 1.0,\n",
        "        1.0 / propensity_score,\n",
        "        1.0 / (1.0 - propensity_score)\n",
        "    )\n",
        "\n",
        "    # estimate the outcome using weighted regression\n",
        "    linear = LinearRegression()\n",
        "    linear.fit(df[[treatment_col]], df[label_col], sample_weight=sample_weight)\n",
        "    return linear.coef_[0]"
      ]
    },
    {
      "cell_type": "code",
      "execution_count": 18,
      "metadata": {
        "ExecuteTime": {
          "end_time": "2020-11-07T21:29:41.423629Z",
          "start_time": "2020-11-07T21:28:42.657074Z"
        },
        "id": "yq7G6VYiVmAA",
        "colab": {
          "base_uri": "https://localhost:8080/"
        },
        "outputId": "e9999594-bea2-4b7e-a07e-94c8d4b232ae"
      },
      "outputs": [
        {
          "output_type": "stream",
          "name": "stdout",
          "text": [
            "ATE: 0.4427647389237973\n",
            "95% C.I.: (0.40309461570847355, 0.4820129337897346)\n"
          ]
        }
      ],
      "source": [
        "from joblib import Parallel, delayed\n",
        "\n",
        "np.random.seed(88)\n",
        "\n",
        "# the bootstrap approach of computing standard error can be computationally expensive on large datasets.\n",
        "bootstrap_sample = 1000\n",
        "parallel = Parallel(n_jobs=4)\n",
        "ates = parallel(delayed(run_propensity_score_estimation)(df,\n",
        "                                                         input_cols,\n",
        "                                                         treatment_col,\n",
        "                                                         label_col)\n",
        "                for _ in range(bootstrap_sample))\n",
        "\n",
        "ates = np.array(ates)\n",
        "print(f\"ATE: {ates.mean()}\")\n",
        "print(f\"95% C.I.: {(np.percentile(ates, 2.5), np.percentile(ates, 97.5))}\")"
      ]
    },
    {
      "cell_type": "markdown",
      "metadata": {
        "id": "WntLgULOVmAB"
      },
      "source": [
        "# Reference"
      ]
    },
    {
      "cell_type": "markdown",
      "metadata": {
        "id": "Vs-pAjwuVmAB"
      },
      "source": [
        "- [Github: Python Causality Handbook - Propensity Score](https://matheusfacure.github.io/python-causality-handbook/11-Propensity-Score.html)\n",
        "- [Github: Python Causality Handbook - Beyond Confounders](https://matheusfacure.github.io/python-causality-handbook/07-Beyond-Confounders.html)\n",
        "- [A Practical Guide for Using Propensity Score Weighting in R](http://www.math.umd.edu/~slud/s818M-MissingData/PropensityScoreWeightingR.pdf)"
      ]
    }
  ],
  "metadata": {
    "kernelspec": {
      "display_name": "Python 3 (ipykernel)",
      "language": "python",
      "name": "python3"
    },
    "language_info": {
      "codemirror_mode": {
        "name": "ipython",
        "version": 3
      },
      "file_extension": ".py",
      "mimetype": "text/x-python",
      "name": "python",
      "nbconvert_exporter": "python",
      "pygments_lexer": "ipython3",
      "version": "3.7.11"
    },
    "toc": {
      "base_numbering": 1,
      "nav_menu": {},
      "number_sections": true,
      "sideBar": true,
      "skip_h1_title": false,
      "title_cell": "Table of Contents",
      "title_sidebar": "Contents",
      "toc_cell": true,
      "toc_position": {
        "height": "calc(100% - 180px)",
        "left": "10px",
        "top": "150px",
        "width": "229.594px"
      },
      "toc_section_display": true,
      "toc_window_display": true
    },
    "varInspector": {
      "cols": {
        "lenName": 16,
        "lenType": 16,
        "lenVar": 40
      },
      "kernels_config": {
        "python": {
          "delete_cmd_postfix": "",
          "delete_cmd_prefix": "del ",
          "library": "var_list.py",
          "varRefreshCmd": "print(var_dic_list())"
        },
        "r": {
          "delete_cmd_postfix": ") ",
          "delete_cmd_prefix": "rm(",
          "library": "var_list.r",
          "varRefreshCmd": "cat(var_dic_list()) "
        }
      },
      "types_to_exclude": [
        "module",
        "function",
        "builtin_function_or_method",
        "instance",
        "_Feature"
      ],
      "window_display": false
    },
    "colab": {
      "provenance": []
    }
  },
  "nbformat": 4,
  "nbformat_minor": 0
}