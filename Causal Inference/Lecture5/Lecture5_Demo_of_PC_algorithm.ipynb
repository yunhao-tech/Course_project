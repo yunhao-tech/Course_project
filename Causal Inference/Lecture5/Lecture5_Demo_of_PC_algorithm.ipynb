{
  "cells": [
    {
      "cell_type": "markdown",
      "metadata": {
        "id": "NnMWpPBxELK2"
      },
      "source": [
        "Loading libraries"
      ]
    },
    {
      "cell_type": "code",
      "execution_count": null,
      "metadata": {
        "colab": {
          "background_save": true,
          "base_uri": "https://localhost:8080/"
        },
        "id": "trm8jym3FJXI",
        "outputId": "60b2c1f6-5215-41cb-fcd6-3153638025e9"
      },
      "outputs": [
        {
          "name": "stdout",
          "output_type": "stream",
          "text": [
            "Collecting causalgraphicalmodels\n",
            "  Downloading https://files.pythonhosted.org/packages/c8/ee/3b2d184576f3cb4873cebfc696e8e5c1e53eaef691f38aea76c206f9f916/causalgraphicalmodels-0.0.4-py3-none-any.whl\n",
            "Requirement already satisfied: numpy in /usr/local/lib/python3.7/dist-packages (from causalgraphicalmodels) (1.19.5)\n",
            "Requirement already satisfied: graphviz in /usr/local/lib/python3.7/dist-packages (from causalgraphicalmodels) (0.10.1)\n",
            "Requirement already satisfied: networkx in /usr/local/lib/python3.7/dist-packages (from causalgraphicalmodels) (2.5.1)\n",
            "Requirement already satisfied: pandas in /usr/local/lib/python3.7/dist-packages (from causalgraphicalmodels) (1.1.5)\n",
            "Requirement already satisfied: decorator<5,>=4.3 in /usr/local/lib/python3.7/dist-packages (from networkx->causalgraphicalmodels) (4.4.2)\n",
            "Requirement already satisfied: pytz>=2017.2 in /usr/local/lib/python3.7/dist-packages (from pandas->causalgraphicalmodels) (2018.9)\n",
            "Requirement already satisfied: python-dateutil>=2.7.3 in /usr/local/lib/python3.7/dist-packages (from pandas->causalgraphicalmodels) (2.8.1)\n",
            "Requirement already satisfied: six>=1.5 in /usr/local/lib/python3.7/dist-packages (from python-dateutil>=2.7.3->pandas->causalgraphicalmodels) (1.15.0)\n",
            "Installing collected packages: causalgraphicalmodels\n",
            "Successfully installed causalgraphicalmodels-0.0.4\n"
          ]
        }
      ],
      "source": [
        "pip install causalgraphicalmodels"
      ]
    },
    {
      "cell_type": "code",
      "execution_count": null,
      "metadata": {
        "colab": {
          "background_save": true
        },
        "id": "_gsreLGhEBlT"
      },
      "outputs": [],
      "source": [
        "import numpy as np\n",
        "import matplotlib.pyplot as plt\n",
        "from matplotlib.pyplot import figure\n",
        "\n",
        "from causalgraphicalmodels import StructuralCausalModel\n",
        "from causalgraphicalmodels.csm import discrete_model, linear_model\n",
        "\n",
        "import networkx as nx"
      ]
    },
    {
      "cell_type": "markdown",
      "metadata": {
        "id": "gjUtFFb-0QES"
      },
      "source": [
        "Functions for independence testing"
      ]
    },
    {
      "cell_type": "code",
      "execution_count": null,
      "metadata": {
        "colab": {
          "background_save": true
        },
        "id": "AtvvvlRa0Sp8"
      },
      "outputs": [],
      "source": [
        "def is_indep(arr_1, arr_2, threshold=0.01, verbose=False):\n",
        "    diff = arr_1.mean() * arr_2.mean() - (arr_1 * arr_2).mean()\n",
        "    if verbose:\n",
        "        print(diff)\n",
        "    return abs(diff) < threshold\n",
        "\n",
        "def is_cond_independent(data_df, var_1, var_2, cond_set):\n",
        "    # create a copy with different combinations of values in cond_set\n",
        "    data_df_tmp = data_df.copy()\n",
        "    tmp_arr = data_df_tmp[cond_set[0]].astype(str).values\n",
        "    for el in cond_set[1:]:\n",
        "        tmp_arr += ' ' + data_df_tmp[el].astype(str)\n",
        "    data_df_tmp['cond'] = tmp_arr\n",
        "\n",
        "    # get unique combinations of values in cond_set\n",
        "    cond_vals = data_df_tmp['cond'].unique()\n",
        "\n",
        "    # for every possible combination check if we have independence\n",
        "    for cond_val in cond_vals:\n",
        "        tmp_df = data_df_tmp[data_df_tmp['cond'] == cond_vals[0]]\n",
        "        if not is_indep(tmp_df[var_1].values, tmp_df[var_2].values):\n",
        "            return False\n",
        "    return True"
      ]
    },
    {
      "cell_type": "markdown",
      "metadata": {
        "id": "JB2TvIFCFRTS"
      },
      "source": [
        "# Generating data"
      ]
    },
    {
      "cell_type": "markdown",
      "metadata": {
        "id": "gg34PPguFfoH"
      },
      "source": [
        "For data generation we will be using python package [`causalgraphicalmodels`](https://github.com/ijmbarr/causalgraphicalmodels)"
      ]
    },
    {
      "cell_type": "code",
      "execution_count": null,
      "metadata": {
        "colab": {
          "background_save": true,
          "base_uri": "https://localhost:8080/",
          "height": 272
        },
        "id": "QET6FW8OgCvv",
        "outputId": "aa6e236c-bf62-4761-be88-18701d0ba458"
      },
      "outputs": [
        {
          "data": {
            "image/svg+xml": "<?xml version=\"1.0\" encoding=\"UTF-8\" standalone=\"no\"?>\n<!DOCTYPE svg PUBLIC \"-//W3C//DTD SVG 1.1//EN\"\n \"http://www.w3.org/Graphics/SVG/1.1/DTD/svg11.dtd\">\n<!-- Generated by graphviz version 2.40.1 (20161225.0304)\n -->\n<!-- Title: %3 Pages: 1 -->\n<svg width=\"134pt\" height=\"188pt\"\n viewBox=\"0.00 0.00 134.00 188.00\" xmlns=\"http://www.w3.org/2000/svg\" xmlns:xlink=\"http://www.w3.org/1999/xlink\">\n<g id=\"graph0\" class=\"graph\" transform=\"scale(1 1) rotate(0) translate(4 184)\">\n<title>%3</title>\n<polygon fill=\"#ffffff\" stroke=\"transparent\" points=\"-4,4 -4,-184 130,-184 130,4 -4,4\"/>\n<!-- y -->\n<g id=\"node1\" class=\"node\">\n<title>y</title>\n<ellipse fill=\"none\" stroke=\"#000000\" cx=\"27\" cy=\"-162\" rx=\"27\" ry=\"18\"/>\n<text text-anchor=\"middle\" x=\"27\" y=\"-158.3\" font-family=\"Times,serif\" font-size=\"14.00\" fill=\"#000000\">y</text>\n</g>\n<!-- z -->\n<g id=\"node4\" class=\"node\">\n<title>z</title>\n<ellipse fill=\"none\" stroke=\"#000000\" cx=\"63\" cy=\"-90\" rx=\"27\" ry=\"18\"/>\n<text text-anchor=\"middle\" x=\"63\" y=\"-86.3\" font-family=\"Times,serif\" font-size=\"14.00\" fill=\"#000000\">z</text>\n</g>\n<!-- y&#45;&gt;z -->\n<g id=\"edge2\" class=\"edge\">\n<title>y&#45;&gt;z</title>\n<path fill=\"none\" stroke=\"#000000\" d=\"M35.7146,-144.5708C39.9597,-136.0807 45.1536,-125.6929 49.8663,-116.2674\"/>\n<polygon fill=\"#000000\" stroke=\"#000000\" points=\"53.024,-117.7782 54.3657,-107.2687 46.763,-114.6477 53.024,-117.7782\"/>\n</g>\n<!-- w -->\n<g id=\"node2\" class=\"node\">\n<title>w</title>\n<ellipse fill=\"none\" stroke=\"#000000\" cx=\"63\" cy=\"-18\" rx=\"27\" ry=\"18\"/>\n<text text-anchor=\"middle\" x=\"63\" y=\"-14.3\" font-family=\"Times,serif\" font-size=\"14.00\" fill=\"#000000\">w</text>\n</g>\n<!-- x -->\n<g id=\"node3\" class=\"node\">\n<title>x</title>\n<ellipse fill=\"none\" stroke=\"#000000\" cx=\"99\" cy=\"-162\" rx=\"27\" ry=\"18\"/>\n<text text-anchor=\"middle\" x=\"99\" y=\"-158.3\" font-family=\"Times,serif\" font-size=\"14.00\" fill=\"#000000\">x</text>\n</g>\n<!-- x&#45;&gt;z -->\n<g id=\"edge1\" class=\"edge\">\n<title>x&#45;&gt;z</title>\n<path fill=\"none\" stroke=\"#000000\" d=\"M90.2854,-144.5708C86.0403,-136.0807 80.8464,-125.6929 76.1337,-116.2674\"/>\n<polygon fill=\"#000000\" stroke=\"#000000\" points=\"79.237,-114.6477 71.6343,-107.2687 72.976,-117.7782 79.237,-114.6477\"/>\n</g>\n<!-- z&#45;&gt;w -->\n<g id=\"edge3\" class=\"edge\">\n<title>z&#45;&gt;w</title>\n<path fill=\"none\" stroke=\"#000000\" d=\"M63,-71.8314C63,-64.131 63,-54.9743 63,-46.4166\"/>\n<polygon fill=\"#000000\" stroke=\"#000000\" points=\"66.5001,-46.4132 63,-36.4133 59.5001,-46.4133 66.5001,-46.4132\"/>\n</g>\n</g>\n</svg>\n",
            "text/plain": [
              "<graphviz.dot.Digraph at 0x7f487abfd490>"
            ]
          },
          "execution_count": null,
          "metadata": {},
          "output_type": "execute_result"
        }
      ],
      "source": [
        "fd0 = StructuralCausalModel({\n",
        "    \"x\": lambda n_samples: np.random.binomial(n=1, p=0.5, size=n_samples),\n",
        "    \"y\": lambda n_samples: np.random.binomial(n=1, p=0.5, size=n_samples),\n",
        "    \"z\": discrete_model([\"x\", \"y\"], {\n",
        "        (0,0): (0.1,0.9,), \n",
        "        (0,1): (0.3,0.7,),\n",
        "        (1,0): (0.8,0.2,),\n",
        "        (1,1): (0.9,0.1,),\n",
        "        }),\n",
        "    \"w\": discrete_model([\"z\"],{\n",
        "        (0,): (0.8,0.2,),\n",
        "        (1,): (0.1,0.9,), \n",
        "    })\n",
        "})\n",
        "\n",
        "fd0.cgm.draw()"
      ]
    },
    {
      "cell_type": "markdown",
      "metadata": {
        "id": "H32oyZm9FsWY"
      },
      "source": [
        "Now we can sample data from the generated model"
      ]
    },
    {
      "cell_type": "code",
      "execution_count": null,
      "metadata": {
        "colab": {
          "background_save": true
        },
        "id": "wqjiNFuGFD8s"
      },
      "outputs": [],
      "source": [
        "n_samples=1000000\n",
        "# n_samples=1000\n",
        "data_df = fd0.sample(n_samples=n_samples)"
      ]
    },
    {
      "cell_type": "markdown",
      "metadata": {
        "id": "DtfgM_AzMcv4"
      },
      "source": [
        "# Step 1. Fully connected graph"
      ]
    },
    {
      "cell_type": "code",
      "execution_count": null,
      "metadata": {
        "colab": {
          "background_save": true
        },
        "id": "eiIa4E4kPA1r"
      },
      "outputs": [],
      "source": [
        "all_nodes = ['x', 'y', 'z', 'w']\n",
        "nodes_pos = {'x': (1, 5), 'y': (5, 5), 'z': (1, 1), 'w': (5, 1)}"
      ]
    },
    {
      "cell_type": "code",
      "execution_count": null,
      "metadata": {
        "colab": {
          "background_save": true,
          "base_uri": "https://localhost:8080/",
          "height": 247
        },
        "id": "Wjah20FgOFjX",
        "outputId": "d407ab42-afaa-468a-eaee-e1d7d21f0ae9"
      },
      "outputs": [
        {
          "data": {
            "image/png": "[encoded data removed]",
            "text/plain": [
              "<Figure size 360x216 with 1 Axes>"
            ]
          },
          "metadata": {},
          "output_type": "display_data"
        }
      ],
      "source": [
        "G = nx.Graph()\n",
        "G.add_nodes_from(all_nodes)\n",
        "#G.add_nodes_from(tuple(zip(all_nodes, nodes_pos)))\n",
        "\n",
        "for i in range(0, len(all_nodes)):\n",
        "    node_1 = all_nodes[i]\n",
        "    for j in range(i+1, len(all_nodes)):\n",
        "        node_2 = all_nodes[j]\n",
        "        G.add_edge(node_1, node_2)\n",
        "\n",
        "plt.figure(figsize=(5, 3))\n",
        "nx.draw(G, pos=nodes_pos, with_labels=True, font_weight='bold')"
      ]
    },
    {
      "cell_type": "markdown",
      "metadata": {
        "id": "KQcBC_-0K47-"
      },
      "source": [
        "# Step 2. Test unconditional independence"
      ]
    },
    {
      "cell_type": "code",
      "execution_count": null,
      "metadata": {
        "colab": {
          "background_save": true,
          "base_uri": "https://localhost:8080/"
        },
        "id": "h8EFiX8-JpXI",
        "outputId": "81f11da3-6be9-4f45-83d9-ac48edc86cf7"
      },
      "outputs": [
        {
          "name": "stdout",
          "output_type": "stream",
          "text": [
            "x and y are independent: True\n",
            "x and z are independent: False\n",
            "x and w are independent: False\n",
            "y and z are independent: False\n",
            "y and w are independent: False\n",
            "z and w are independent: False\n"
          ]
        }
      ],
      "source": [
        "for i in range(0, len(all_nodes)):\n",
        "    var_1 = all_nodes[i]\n",
        "    for j in range(i + 1, len(all_nodes)):\n",
        "        var_2 = all_nodes[j]\n",
        "        # testStat, thresh = hsic_gam(data_df[var_1].values.reshape(-1, 1), data_df[var_2].values.reshape(-1, 1), alph=alph)\n",
        "        # print(testStat, thresh)\n",
        "        print(\"{} and {} are independent: {}\".format(var_1, var_2, \n",
        "                                                     is_indep(data_df[var_1].values, data_df[var_2].values)))"
      ]
    },
    {
      "cell_type": "markdown",
      "metadata": {
        "id": "z_FeQ0mSnD_T"
      },
      "source": [
        "Removing edge between $X$ and $Y$"
      ]
    },
    {
      "cell_type": "code",
      "execution_count": null,
      "metadata": {
        "colab": {
          "background_save": true,
          "base_uri": "https://localhost:8080/",
          "height": 247
        },
        "id": "YtEfxxhmJpUC",
        "outputId": "0b205fc5-1714-4194-d225-c5614668a813"
      },
      "outputs": [
        {
          "data": {
            "image/png": "[encoded data removed]",
            "text/plain": [
              "<Figure size 360x216 with 1 Axes>"
            ]
          },
          "metadata": {},
          "output_type": "display_data"
        }
      ],
      "source": [
        "G.remove_edge('x', 'y')\n",
        "plt.figure(figsize=(5, 3))\n",
        "nx.draw(G, pos=nodes_pos, with_labels=True, font_weight='bold')"
      ]
    },
    {
      "cell_type": "markdown",
      "metadata": {
        "id": "QvKg70whTNxV"
      },
      "source": [
        "# Step 3. Condition on 1 variable\n",
        "For each pair of variables ($A$, $B$) having an edge between them, and for each variable $C$ with an edge connected to either of them, eliminate the edge between $A$ and $B$ if $\\left(A ⊥⊥ B\\right) | C$ "
      ]
    },
    {
      "cell_type": "code",
      "execution_count": null,
      "metadata": {
        "colab": {
          "background_save": true
        },
        "id": "0e9T6U1eJpRb"
      },
      "outputs": [],
      "source": [
        "combinations = [\n",
        "                ('x', 'z', 'w'), ('x', 'z', 'y'), \n",
        "                ('y', 'w', 'z'), ('y', 'w', 'x'),\n",
        "                ('z', 'w', 'x'), ('z', 'w', 'y'),\n",
        "                ('x', 'w', 'z'), ('x', 'w', 'y'),\n",
        "                ('y', 'z', 'x'), ('y', 'z', 'w'),\n",
        "                ]"
      ]
    },
    {
      "cell_type": "code",
      "execution_count": null,
      "metadata": {
        "colab": {
          "background_save": true,
          "base_uri": "https://localhost:8080/"
        },
        "id": "v2LFd-7UUv3A",
        "outputId": "abceb7f4-3360-4054-d530-55baf331a72f"
      },
      "outputs": [
        {
          "name": "stdout",
          "output_type": "stream",
          "text": [
            "x and z are independent given w = False\n",
            "x and z are independent given y = False\n",
            "y and w are independent given z = True\n",
            "y and w are independent given x = False\n",
            "z and w are independent given x = False\n",
            "z and w are independent given y = False\n",
            "x and w are independent given z = True\n",
            "x and w are independent given y = False\n",
            "y and z are independent given x = False\n",
            "y and z are independent given w = False\n"
          ]
        }
      ],
      "source": [
        "for var_1, var_2, cond_var in combinations:\n",
        "    print('{} and {} are independent given {} = {}'.format(\n",
        "        var_1, var_2, cond_var, is_cond_independent(data_df, var_1, var_2, [cond_var])\n",
        "    ))"
      ]
    },
    {
      "cell_type": "markdown",
      "metadata": {
        "id": "NpVqPv3MqL7J"
      },
      "source": [
        "Removing edges between $Y$ and $W$ and between $X$ and $W$"
      ]
    },
    {
      "cell_type": "code",
      "execution_count": null,
      "metadata": {
        "colab": {
          "background_save": true,
          "base_uri": "https://localhost:8080/",
          "height": 247
        },
        "id": "jOI-p4eZqhJ_",
        "outputId": "e0f7b346-4a62-4c8c-946e-5aa4a81167e9"
      },
      "outputs": [
        {
          "data": {
            "image/png": "[encoded data removed]",
            "text/plain": [
              "<Figure size 360x216 with 1 Axes>"
            ]
          },
          "metadata": {},
          "output_type": "display_data"
        }
      ],
      "source": [
        "G.remove_edge('y', 'w')\n",
        "G.remove_edge('x', 'w')\n",
        "plt.figure(figsize=(5, 3))\n",
        "nx.draw(G, pos=nodes_pos, with_labels=True, font_weight='bold')"
      ]
    },
    {
      "cell_type": "markdown",
      "metadata": {
        "id": "bFIBkPY8thgg"
      },
      "source": [
        "# Step 4. ..."
      ]
    },
    {
      "cell_type": "markdown",
      "metadata": {
        "id": "TcrQpv3rtldP"
      },
      "source": [
        "# Step 5. Search for v-structure"
      ]
    },
    {
      "cell_type": "markdown",
      "metadata": {
        "id": "wdVQbZ8Qt07O"
      },
      "source": [
        "Consider 3 cases:\n",
        "1. $W - Z - Y$\n",
        "2. $W - Z - X$\n",
        "3. $X - Z - Y$\n",
        "\n",
        "3-d case can be oriented as $X -> Z <- Y$"
      ]
    },
    {
      "cell_type": "code",
      "execution_count": null,
      "metadata": {
        "colab": {
          "background_save": true,
          "base_uri": "https://localhost:8080/",
          "height": 265
        },
        "id": "9CHf5wRsqhAL",
        "outputId": "507fd3d3-8bdf-45fd-e8c4-9497caf47af3"
      },
      "outputs": [
        {
          "data": {
            "text/plain": [
              "<matplotlib.patches.FancyArrow at 0x7f4870717650>"
            ]
          },
          "execution_count": null,
          "metadata": {},
          "output_type": "execute_result"
        },
        {
          "data": {
            "image/png": "[encoded data removed]",
            "text/plain": [
              "<Figure size 360x216 with 1 Axes>"
            ]
          },
          "metadata": {},
          "output_type": "display_data"
        }
      ],
      "source": [
        "plt.figure(figsize=(5, 3))\n",
        "nx.draw(G, pos=nodes_pos, with_labels=True, font_weight='bold')\n",
        "\n",
        "plt.arrow(1, 5, 0, -3.65, width=0.05)       # X - > Z\n",
        "plt.arrow(5, 5, -3.75, -3.75, width=0.05)   # Y - > Z"
      ]
    },
    {
      "cell_type": "markdown",
      "metadata": {
        "id": "bDfRxn0MzTwb"
      },
      "source": [
        "# Step 6. Orientation propagation"
      ]
    },
    {
      "cell_type": "code",
      "execution_count": null,
      "metadata": {
        "colab": {
          "background_save": true,
          "base_uri": "https://localhost:8080/",
          "height": 265
        },
        "id": "qLyujnYPdfGX",
        "outputId": "3c176aad-546e-47d7-c939-09da67003939"
      },
      "outputs": [
        {
          "data": {
            "text/plain": [
              "<matplotlib.patches.FancyArrow at 0x7f486e8f3e10>"
            ]
          },
          "execution_count": null,
          "metadata": {},
          "output_type": "execute_result"
        },
        {
          "data": {
            "image/png": "[encoded data removed]",
            "text/plain": [
              "<Figure size 360x216 with 1 Axes>"
            ]
          },
          "metadata": {},
          "output_type": "display_data"
        }
      ],
      "source": [
        "plt.figure(figsize=(5, 3))\n",
        "nx.draw(G, pos=nodes_pos, with_labels=True, font_weight='bold')\n",
        "\n",
        "plt.arrow(1, 5, 0, -3.65, width=0.05)       # X - > Z\n",
        "plt.arrow(5, 5, -3.75, -3.75, width=0.05)   # Y - > Z\n",
        "plt.arrow(1, 1, 3.7, 0, width=0.05)   # Z - > W"
      ]
    },
    {
      "cell_type": "code",
      "execution_count": null,
      "metadata": {
        "colab": {
          "background_save": true
        },
        "id": "g-vYEkFJzhll"
      },
      "outputs": [],
      "source": []
    }
  ],
  "metadata": {
    "colab": {
      "provenance": []
    },
    "kernelspec": {
      "display_name": "Python 3",
      "name": "python3"
    }
  },
  "nbformat": 4,
  "nbformat_minor": 0
}