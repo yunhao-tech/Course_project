{
  "nbformat": 4,
  "nbformat_minor": 0,
  "metadata": {
    "colab": {
      "provenance": []
    },
    "kernelspec": {
      "name": "python3",
      "display_name": "Python 3"
    },
    "language_info": {
      "name": "python"
    },
    "widgets": {
      "application/vnd.jupyter.widget-state+json": {
        "ee48e2a353c340d991b147bd7f71ca05": {
          "model_module": "@jupyter-widgets/controls",
          "model_name": "HBoxModel",
          "model_module_version": "1.5.0",
          "state": {
            "_dom_classes": [],
            "_model_module": "@jupyter-widgets/controls",
            "_model_module_version": "1.5.0",
            "_model_name": "HBoxModel",
            "_view_count": null,
            "_view_module": "@jupyter-widgets/controls",
            "_view_module_version": "1.5.0",
            "_view_name": "HBoxView",
            "box_style": "",
            "children": [
              "IPY_MODEL_09be1e44721a449c9796c0d933b843cf",
              "IPY_MODEL_07c604467ed547079bc8a09969482058",
              "IPY_MODEL_060dea53f8094745a2878e39b55b744a"
            ],
            "layout": "IPY_MODEL_e25949c815324bfaba5d325c19a77fc4"
          }
        },
        "09be1e44721a449c9796c0d933b843cf": {
          "model_module": "@jupyter-widgets/controls",
          "model_name": "HTMLModel",
          "model_module_version": "1.5.0",
          "state": {
            "_dom_classes": [],
            "_model_module": "@jupyter-widgets/controls",
            "_model_module_version": "1.5.0",
            "_model_name": "HTMLModel",
            "_view_count": null,
            "_view_module": "@jupyter-widgets/controls",
            "_view_module_version": "1.5.0",
            "_view_name": "HTMLView",
            "description": "",
            "description_tooltip": null,
            "layout": "IPY_MODEL_5931d8221c9544719f79172bd29b27b5",
            "placeholder": "​",
            "style": "IPY_MODEL_5727fb48d3db42bd85cd5a6822e92b2f",
            "value": "Depth=1, working on node 10: 100%"
          }
        },
        "07c604467ed547079bc8a09969482058": {
          "model_module": "@jupyter-widgets/controls",
          "model_name": "FloatProgressModel",
          "model_module_version": "1.5.0",
          "state": {
            "_dom_classes": [],
            "_model_module": "@jupyter-widgets/controls",
            "_model_module_version": "1.5.0",
            "_model_name": "FloatProgressModel",
            "_view_count": null,
            "_view_module": "@jupyter-widgets/controls",
            "_view_module_version": "1.5.0",
            "_view_name": "ProgressView",
            "bar_style": "success",
            "description": "",
            "description_tooltip": null,
            "layout": "IPY_MODEL_02571d6984b34522bf5ba53d56c15e8b",
            "max": 11,
            "min": 0,
            "orientation": "horizontal",
            "style": "IPY_MODEL_66ec48c221884afeb6bedaadb1df05bb",
            "value": 11
          }
        },
        "060dea53f8094745a2878e39b55b744a": {
          "model_module": "@jupyter-widgets/controls",
          "model_name": "HTMLModel",
          "model_module_version": "1.5.0",
          "state": {
            "_dom_classes": [],
            "_model_module": "@jupyter-widgets/controls",
            "_model_module_version": "1.5.0",
            "_model_name": "HTMLModel",
            "_view_count": null,
            "_view_module": "@jupyter-widgets/controls",
            "_view_module_version": "1.5.0",
            "_view_name": "HTMLView",
            "description": "",
            "description_tooltip": null,
            "layout": "IPY_MODEL_56d6488e9c6d4d1a9bd64bbb50d50ed8",
            "placeholder": "​",
            "style": "IPY_MODEL_d1b583f544ce4cffb2a82a7566963b38",
            "value": " 11/11 [00:00&lt;00:00, 145.95it/s]"
          }
        },
        "e25949c815324bfaba5d325c19a77fc4": {
          "model_module": "@jupyter-widgets/base",
          "model_name": "LayoutModel",
          "model_module_version": "1.2.0",
          "state": {
            "_model_module": "@jupyter-widgets/base",
            "_model_module_version": "1.2.0",
            "_model_name": "LayoutModel",
            "_view_count": null,
            "_view_module": "@jupyter-widgets/base",
            "_view_module_version": "1.2.0",
            "_view_name": "LayoutView",
            "align_content": null,
            "align_items": null,
            "align_self": null,
            "border": null,
            "bottom": null,
            "display": null,
            "flex": null,
            "flex_flow": null,
            "grid_area": null,
            "grid_auto_columns": null,
            "grid_auto_flow": null,
            "grid_auto_rows": null,
            "grid_column": null,
            "grid_gap": null,
            "grid_row": null,
            "grid_template_areas": null,
            "grid_template_columns": null,
            "grid_template_rows": null,
            "height": null,
            "justify_content": null,
            "justify_items": null,
            "left": null,
            "margin": null,
            "max_height": null,
            "max_width": null,
            "min_height": null,
            "min_width": null,
            "object_fit": null,
            "object_position": null,
            "order": null,
            "overflow": null,
            "overflow_x": null,
            "overflow_y": null,
            "padding": null,
            "right": null,
            "top": null,
            "visibility": null,
            "width": null
          }
        },
        "5931d8221c9544719f79172bd29b27b5": {
          "model_module": "@jupyter-widgets/base",
          "model_name": "LayoutModel",
          "model_module_version": "1.2.0",
          "state": {
            "_model_module": "@jupyter-widgets/base",
            "_model_module_version": "1.2.0",
            "_model_name": "LayoutModel",
            "_view_count": null,
            "_view_module": "@jupyter-widgets/base",
            "_view_module_version": "1.2.0",
            "_view_name": "LayoutView",
            "align_content": null,
            "align_items": null,
            "align_self": null,
            "border": null,
            "bottom": null,
            "display": null,
            "flex": null,
            "flex_flow": null,
            "grid_area": null,
            "grid_auto_columns": null,
            "grid_auto_flow": null,
            "grid_auto_rows": null,
            "grid_column": null,
            "grid_gap": null,
            "grid_row": null,
            "grid_template_areas": null,
            "grid_template_columns": null,
            "grid_template_rows": null,
            "height": null,
            "justify_content": null,
            "justify_items": null,
            "left": null,
            "margin": null,
            "max_height": null,
            "max_width": null,
            "min_height": null,
            "min_width": null,
            "object_fit": null,
            "object_position": null,
            "order": null,
            "overflow": null,
            "overflow_x": null,
            "overflow_y": null,
            "padding": null,
            "right": null,
            "top": null,
            "visibility": null,
            "width": null
          }
        },
        "5727fb48d3db42bd85cd5a6822e92b2f": {
          "model_module": "@jupyter-widgets/controls",
          "model_name": "DescriptionStyleModel",
          "model_module_version": "1.5.0",
          "state": {
            "_model_module": "@jupyter-widgets/controls",
            "_model_module_version": "1.5.0",
            "_model_name": "DescriptionStyleModel",
            "_view_count": null,
            "_view_module": "@jupyter-widgets/base",
            "_view_module_version": "1.2.0",
            "_view_name": "StyleView",
            "description_width": ""
          }
        },
        "02571d6984b34522bf5ba53d56c15e8b": {
          "model_module": "@jupyter-widgets/base",
          "model_name": "LayoutModel",
          "model_module_version": "1.2.0",
          "state": {
            "_model_module": "@jupyter-widgets/base",
            "_model_module_version": "1.2.0",
            "_model_name": "LayoutModel",
            "_view_count": null,
            "_view_module": "@jupyter-widgets/base",
            "_view_module_version": "1.2.0",
            "_view_name": "LayoutView",
            "align_content": null,
            "align_items": null,
            "align_self": null,
            "border": null,
            "bottom": null,
            "display": null,
            "flex": null,
            "flex_flow": null,
            "grid_area": null,
            "grid_auto_columns": null,
            "grid_auto_flow": null,
            "grid_auto_rows": null,
            "grid_column": null,
            "grid_gap": null,
            "grid_row": null,
            "grid_template_areas": null,
            "grid_template_columns": null,
            "grid_template_rows": null,
            "height": null,
            "justify_content": null,
            "justify_items": null,
            "left": null,
            "margin": null,
            "max_height": null,
            "max_width": null,
            "min_height": null,
            "min_width": null,
            "object_fit": null,
            "object_position": null,
            "order": null,
            "overflow": null,
            "overflow_x": null,
            "overflow_y": null,
            "padding": null,
            "right": null,
            "top": null,
            "visibility": null,
            "width": null
          }
        },
        "66ec48c221884afeb6bedaadb1df05bb": {
          "model_module": "@jupyter-widgets/controls",
          "model_name": "ProgressStyleModel",
          "model_module_version": "1.5.0",
          "state": {
            "_model_module": "@jupyter-widgets/controls",
            "_model_module_version": "1.5.0",
            "_model_name": "ProgressStyleModel",
            "_view_count": null,
            "_view_module": "@jupyter-widgets/base",
            "_view_module_version": "1.2.0",
            "_view_name": "StyleView",
            "bar_color": null,
            "description_width": ""
          }
        },
        "56d6488e9c6d4d1a9bd64bbb50d50ed8": {
          "model_module": "@jupyter-widgets/base",
          "model_name": "LayoutModel",
          "model_module_version": "1.2.0",
          "state": {
            "_model_module": "@jupyter-widgets/base",
            "_model_module_version": "1.2.0",
            "_model_name": "LayoutModel",
            "_view_count": null,
            "_view_module": "@jupyter-widgets/base",
            "_view_module_version": "1.2.0",
            "_view_name": "LayoutView",
            "align_content": null,
            "align_items": null,
            "align_self": null,
            "border": null,
            "bottom": null,
            "display": null,
            "flex": null,
            "flex_flow": null,
            "grid_area": null,
            "grid_auto_columns": null,
            "grid_auto_flow": null,
            "grid_auto_rows": null,
            "grid_column": null,
            "grid_gap": null,
            "grid_row": null,
            "grid_template_areas": null,
            "grid_template_columns": null,
            "grid_template_rows": null,
            "height": null,
            "justify_content": null,
            "justify_items": null,
            "left": null,
            "margin": null,
            "max_height": null,
            "max_width": null,
            "min_height": null,
            "min_width": null,
            "object_fit": null,
            "object_position": null,
            "order": null,
            "overflow": null,
            "overflow_x": null,
            "overflow_y": null,
            "padding": null,
            "right": null,
            "top": null,
            "visibility": null,
            "width": null
          }
        },
        "d1b583f544ce4cffb2a82a7566963b38": {
          "model_module": "@jupyter-widgets/controls",
          "model_name": "DescriptionStyleModel",
          "model_module_version": "1.5.0",
          "state": {
            "_model_module": "@jupyter-widgets/controls",
            "_model_module_version": "1.5.0",
            "_model_name": "DescriptionStyleModel",
            "_view_count": null,
            "_view_module": "@jupyter-widgets/base",
            "_view_module_version": "1.2.0",
            "_view_name": "StyleView",
            "description_width": ""
          }
        }
      }
    }
  },
  "cells": [
    {
      "cell_type": "markdown",
      "source": [
        "https://causal-learn.readthedocs.io/en/latest/index.html"
      ],
      "metadata": {
        "id": "Qii0CezwaI_X"
      }
    },
    {
      "cell_type": "code",
      "source": [
        "!pip install cdt"
      ],
      "metadata": {
        "colab": {
          "base_uri": "https://localhost:8080/"
        },
        "id": "358HXxCCyfXp",
        "outputId": "754489fc-2aea-40de-db35-ae8979215f7c"
      },
      "execution_count": 1,
      "outputs": [
        {
          "output_type": "stream",
          "name": "stdout",
          "text": [
            "Looking in indexes: https://pypi.org/simple, https://us-python.pkg.dev/colab-wheels/public/simple/\n",
            "Collecting cdt\n",
            "  Downloading cdt-0.6.0-py3-none-any.whl (921 kB)\n",
            "\u001b[2K     \u001b[90m━━━━━━━━━━━━━━━━━━━━━━━━━━━━━━━━━━━━━━\u001b[0m \u001b[32m921.1/921.1 KB\u001b[0m \u001b[31m21.3 MB/s\u001b[0m eta \u001b[36m0:00:00\u001b[0m\n",
            "\u001b[?25hCollecting skrebate\n",
            "  Downloading skrebate-0.62.tar.gz (19 kB)\n",
            "  Preparing metadata (setup.py) ... \u001b[?25l\u001b[?25hdone\n",
            "Requirement already satisfied: numpy in /usr/local/lib/python3.8/dist-packages (from cdt) (1.22.4)\n",
            "Requirement already satisfied: tqdm in /usr/local/lib/python3.8/dist-packages (from cdt) (4.64.1)\n",
            "Requirement already satisfied: scikit-learn in /usr/local/lib/python3.8/dist-packages (from cdt) (1.0.2)\n",
            "Requirement already satisfied: pandas in /usr/local/lib/python3.8/dist-packages (from cdt) (1.3.5)\n",
            "Collecting GPUtil\n",
            "  Downloading GPUtil-1.4.0.tar.gz (5.5 kB)\n",
            "  Preparing metadata (setup.py) ... \u001b[?25l\u001b[?25hdone\n",
            "Requirement already satisfied: scipy in /usr/local/lib/python3.8/dist-packages (from cdt) (1.7.3)\n",
            "Requirement already satisfied: networkx in /usr/local/lib/python3.8/dist-packages (from cdt) (3.0)\n",
            "Requirement already satisfied: joblib in /usr/local/lib/python3.8/dist-packages (from cdt) (1.2.0)\n",
            "Requirement already satisfied: requests in /usr/local/lib/python3.8/dist-packages (from cdt) (2.25.1)\n",
            "Requirement already satisfied: statsmodels in /usr/local/lib/python3.8/dist-packages (from cdt) (0.12.2)\n",
            "Requirement already satisfied: python-dateutil>=2.7.3 in /usr/local/lib/python3.8/dist-packages (from pandas->cdt) (2.8.2)\n",
            "Requirement already satisfied: pytz>=2017.3 in /usr/local/lib/python3.8/dist-packages (from pandas->cdt) (2022.7.1)\n",
            "Requirement already satisfied: chardet<5,>=3.0.2 in /usr/local/lib/python3.8/dist-packages (from requests->cdt) (4.0.0)\n",
            "Requirement already satisfied: certifi>=2017.4.17 in /usr/local/lib/python3.8/dist-packages (from requests->cdt) (2022.12.7)\n",
            "Requirement already satisfied: idna<3,>=2.5 in /usr/local/lib/python3.8/dist-packages (from requests->cdt) (2.10)\n",
            "Requirement already satisfied: urllib3<1.27,>=1.21.1 in /usr/local/lib/python3.8/dist-packages (from requests->cdt) (1.26.14)\n",
            "Requirement already satisfied: threadpoolctl>=2.0.0 in /usr/local/lib/python3.8/dist-packages (from scikit-learn->cdt) (3.1.0)\n",
            "Requirement already satisfied: patsy>=0.5 in /usr/local/lib/python3.8/dist-packages (from statsmodels->cdt) (0.5.3)\n",
            "Requirement already satisfied: six in /usr/local/lib/python3.8/dist-packages (from patsy>=0.5->statsmodels->cdt) (1.15.0)\n",
            "Building wheels for collected packages: GPUtil, skrebate\n",
            "  Building wheel for GPUtil (setup.py) ... \u001b[?25l\u001b[?25hdone\n",
            "  Created wheel for GPUtil: filename=GPUtil-1.4.0-py3-none-any.whl size=7409 sha256=93a2d19ee7717b353acdb5e5c428955f185127490b7c13811cd9d3a1cfd4f9bc\n",
            "  Stored in directory: /root/.cache/pip/wheels/ba/03/bb/7a97840eb54479b328672e15a536e49dc60da200fb21564d53\n",
            "  Building wheel for skrebate (setup.py) ... \u001b[?25l\u001b[?25hdone\n",
            "  Created wheel for skrebate: filename=skrebate-0.62-py3-none-any.whl size=29269 sha256=82fa40abeee2e18e945ea58097b237db9ad21ed9e7844705b9bc22fe26a5c411\n",
            "  Stored in directory: /root/.cache/pip/wheels/1e/93/22/f83048fc1dafedcec44bb4ccf8d08225da96d20115d97a7a77\n",
            "Successfully built GPUtil skrebate\n",
            "Installing collected packages: GPUtil, skrebate, cdt\n",
            "Successfully installed GPUtil-1.4.0 cdt-0.6.0 skrebate-0.62\n"
          ]
        }
      ]
    },
    {
      "cell_type": "code",
      "execution_count": 2,
      "metadata": {
        "colab": {
          "base_uri": "https://localhost:8080/"
        },
        "id": "cS6kOaPBZ_rA",
        "outputId": "47882bcc-5e95-4f5a-d2d7-f1441a6bca41"
      },
      "outputs": [
        {
          "output_type": "stream",
          "name": "stdout",
          "text": [
            "Looking in indexes: https://pypi.org/simple, https://us-python.pkg.dev/colab-wheels/public/simple/\n",
            "Collecting causal-learn\n",
            "  Downloading causal_learn-0.1.3.3-py3-none-any.whl (172 kB)\n",
            "\u001b[2K     \u001b[90m━━━━━━━━━━━━━━━━━━━━━━━━━━━━━━━━━━━━━━\u001b[0m \u001b[32m172.9/172.9 KB\u001b[0m \u001b[31m13.6 MB/s\u001b[0m eta \u001b[36m0:00:00\u001b[0m\n",
            "\u001b[?25hRequirement already satisfied: numpy in /usr/local/lib/python3.8/dist-packages (from causal-learn) (1.22.4)\n",
            "Requirement already satisfied: statsmodels in /usr/local/lib/python3.8/dist-packages (from causal-learn) (0.12.2)\n",
            "Requirement already satisfied: pandas in /usr/local/lib/python3.8/dist-packages (from causal-learn) (1.3.5)\n",
            "Requirement already satisfied: networkx in /usr/local/lib/python3.8/dist-packages (from causal-learn) (3.0)\n",
            "Requirement already satisfied: tqdm in /usr/local/lib/python3.8/dist-packages (from causal-learn) (4.64.1)\n",
            "Requirement already satisfied: graphviz in /usr/local/lib/python3.8/dist-packages (from causal-learn) (0.10.1)\n",
            "Requirement already satisfied: matplotlib in /usr/local/lib/python3.8/dist-packages (from causal-learn) (3.5.3)\n",
            "Requirement already satisfied: scipy in /usr/local/lib/python3.8/dist-packages (from causal-learn) (1.7.3)\n",
            "Requirement already satisfied: pydot in /usr/local/lib/python3.8/dist-packages (from causal-learn) (1.3.0)\n",
            "Requirement already satisfied: scikit-learn in /usr/local/lib/python3.8/dist-packages (from causal-learn) (1.0.2)\n",
            "Requirement already satisfied: pillow>=6.2.0 in /usr/local/lib/python3.8/dist-packages (from matplotlib->causal-learn) (8.4.0)\n",
            "Requirement already satisfied: kiwisolver>=1.0.1 in /usr/local/lib/python3.8/dist-packages (from matplotlib->causal-learn) (1.4.4)\n",
            "Requirement already satisfied: packaging>=20.0 in /usr/local/lib/python3.8/dist-packages (from matplotlib->causal-learn) (23.0)\n",
            "Requirement already satisfied: fonttools>=4.22.0 in /usr/local/lib/python3.8/dist-packages (from matplotlib->causal-learn) (4.38.0)\n",
            "Requirement already satisfied: pyparsing>=2.2.1 in /usr/local/lib/python3.8/dist-packages (from matplotlib->causal-learn) (3.0.9)\n",
            "Requirement already satisfied: python-dateutil>=2.7 in /usr/local/lib/python3.8/dist-packages (from matplotlib->causal-learn) (2.8.2)\n",
            "Requirement already satisfied: cycler>=0.10 in /usr/local/lib/python3.8/dist-packages (from matplotlib->causal-learn) (0.11.0)\n",
            "Requirement already satisfied: pytz>=2017.3 in /usr/local/lib/python3.8/dist-packages (from pandas->causal-learn) (2022.7.1)\n",
            "Requirement already satisfied: threadpoolctl>=2.0.0 in /usr/local/lib/python3.8/dist-packages (from scikit-learn->causal-learn) (3.1.0)\n",
            "Requirement already satisfied: joblib>=0.11 in /usr/local/lib/python3.8/dist-packages (from scikit-learn->causal-learn) (1.2.0)\n",
            "Requirement already satisfied: patsy>=0.5 in /usr/local/lib/python3.8/dist-packages (from statsmodels->causal-learn) (0.5.3)\n",
            "Requirement already satisfied: six in /usr/local/lib/python3.8/dist-packages (from patsy>=0.5->statsmodels->causal-learn) (1.15.0)\n",
            "Installing collected packages: causal-learn\n",
            "Successfully installed causal-learn-0.1.3.3\n"
          ]
        }
      ],
      "source": [
        "!pip install causal-learn"
      ]
    },
    {
      "cell_type": "markdown",
      "source": [
        "https://github.com/py-why/causal-learn"
      ],
      "metadata": {
        "id": "yswm0N5wacXj"
      }
    },
    {
      "cell_type": "markdown",
      "source": [
        "https://github.com/py-why/causal-learn/tree/main/tests"
      ],
      "metadata": {
        "id": "3PGTp-V8wUOK"
      }
    },
    {
      "cell_type": "markdown",
      "source": [
        "PC algorithm : https://causal-learn.readthedocs.io/en/latest/search_methods_index/Constraint-based%20causal%20discovery%20methods/PC.html"
      ],
      "metadata": {
        "id": "UMs4f2i4vXi5"
      }
    },
    {
      "cell_type": "markdown",
      "source": [
        "**PC algorithm** for causal discovery: **make use of conditional independence to discover the causal graph model**."
      ],
      "metadata": {
        "id": "1EAENxResev2"
      }
    },
    {
      "cell_type": "code",
      "source": [
        "import numpy as np\n",
        "import pandas as pd\n",
        "data=pd.read_csv('/content/sachs.txt',sep='\\t')\n",
        "data"
      ],
      "metadata": {
        "colab": {
          "base_uri": "https://localhost:8080/",
          "height": 423
        },
        "id": "5403fLDSyvS5",
        "outputId": "329ef142-1b0b-4025-fc53-330b8eba4b80"
      },
      "execution_count": 3,
      "outputs": [
        {
          "output_type": "execute_result",
          "data": {
            "text/plain": [
              "       Raf   Mek   Plcg    PIP2   PIP3    Erk    Akt    PKA    PKC   P38  \\\n",
              "0     26.4  13.2   8.82   18.30  58.80   6.61  17.00  414.0  17.00  44.9   \n",
              "1     35.9  16.5  12.30   16.80   8.13  18.60  32.50  352.0   3.37  16.5   \n",
              "2     59.4  44.1  14.60   10.20  13.00  14.90  32.50  403.0  11.40  31.9   \n",
              "3     73.0  82.8  23.10   13.50   1.29   5.83  11.80  528.0  13.70  28.6   \n",
              "4     33.7  19.8   5.19    9.73  24.80  21.10  46.10  305.0   4.66  25.7   \n",
              "..     ...   ...    ...     ...    ...    ...    ...    ...    ...   ...   \n",
              "848   42.2  27.6  21.50   67.90  12.30   8.28  15.80  562.0  21.90  29.7   \n",
              "849   62.1  21.7   9.56    6.49  34.30  15.30  23.10  319.0  11.90  35.5   \n",
              "850  103.0  32.2  10.20   13.20  50.90   5.28   5.62  239.0  14.50  22.9   \n",
              "851   77.7  23.7  24.80   60.40  44.50  21.50  25.00  289.0  32.20  83.5   \n",
              "852   46.6  15.0   8.51  120.00  22.30   6.10  20.00  478.0  20.90  36.8   \n",
              "\n",
              "       Jnk  \n",
              "0    40.00  \n",
              "1    61.50  \n",
              "2    19.50  \n",
              "3    23.10  \n",
              "4    81.30  \n",
              "..     ...  \n",
              "848   8.28  \n",
              "849  50.90  \n",
              "850   5.23  \n",
              "851  27.10  \n",
              "852   9.65  \n",
              "\n",
              "[853 rows x 11 columns]"
            ],
            "text/html": [
              "\n",
              "  <div id=\"df-3df95199-e72b-4167-aa10-6dd453c01c36\">\n",
              "    <div class=\"colab-df-container\">\n",
              "      <div>\n",
              "<style scoped>\n",
              "    .dataframe tbody tr th:only-of-type {\n",
              "        vertical-align: middle;\n",
              "    }\n",
              "\n",
              "    .dataframe tbody tr th {\n",
              "        vertical-align: top;\n",
              "    }\n",
              "\n",
              "    .dataframe thead th {\n",
              "        text-align: right;\n",
              "    }\n",
              "</style>\n",
              "<table border=\"1\" class=\"dataframe\">\n",
              "  <thead>\n",
              "    <tr style=\"text-align: right;\">\n",
              "      <th></th>\n",
              "      <th>Raf</th>\n",
              "      <th>Mek</th>\n",
              "      <th>Plcg</th>\n",
              "      <th>PIP2</th>\n",
              "      <th>PIP3</th>\n",
              "      <th>Erk</th>\n",
              "      <th>Akt</th>\n",
              "      <th>PKA</th>\n",
              "      <th>PKC</th>\n",
              "      <th>P38</th>\n",
              "      <th>Jnk</th>\n",
              "    </tr>\n",
              "  </thead>\n",
              "  <tbody>\n",
              "    <tr>\n",
              "      <th>0</th>\n",
              "      <td>26.4</td>\n",
              "      <td>13.2</td>\n",
              "      <td>8.82</td>\n",
              "      <td>18.30</td>\n",
              "      <td>58.80</td>\n",
              "      <td>6.61</td>\n",
              "      <td>17.00</td>\n",
              "      <td>414.0</td>\n",
              "      <td>17.00</td>\n",
              "      <td>44.9</td>\n",
              "      <td>40.00</td>\n",
              "    </tr>\n",
              "    <tr>\n",
              "      <th>1</th>\n",
              "      <td>35.9</td>\n",
              "      <td>16.5</td>\n",
              "      <td>12.30</td>\n",
              "      <td>16.80</td>\n",
              "      <td>8.13</td>\n",
              "      <td>18.60</td>\n",
              "      <td>32.50</td>\n",
              "      <td>352.0</td>\n",
              "      <td>3.37</td>\n",
              "      <td>16.5</td>\n",
              "      <td>61.50</td>\n",
              "    </tr>\n",
              "    <tr>\n",
              "      <th>2</th>\n",
              "      <td>59.4</td>\n",
              "      <td>44.1</td>\n",
              "      <td>14.60</td>\n",
              "      <td>10.20</td>\n",
              "      <td>13.00</td>\n",
              "      <td>14.90</td>\n",
              "      <td>32.50</td>\n",
              "      <td>403.0</td>\n",
              "      <td>11.40</td>\n",
              "      <td>31.9</td>\n",
              "      <td>19.50</td>\n",
              "    </tr>\n",
              "    <tr>\n",
              "      <th>3</th>\n",
              "      <td>73.0</td>\n",
              "      <td>82.8</td>\n",
              "      <td>23.10</td>\n",
              "      <td>13.50</td>\n",
              "      <td>1.29</td>\n",
              "      <td>5.83</td>\n",
              "      <td>11.80</td>\n",
              "      <td>528.0</td>\n",
              "      <td>13.70</td>\n",
              "      <td>28.6</td>\n",
              "      <td>23.10</td>\n",
              "    </tr>\n",
              "    <tr>\n",
              "      <th>4</th>\n",
              "      <td>33.7</td>\n",
              "      <td>19.8</td>\n",
              "      <td>5.19</td>\n",
              "      <td>9.73</td>\n",
              "      <td>24.80</td>\n",
              "      <td>21.10</td>\n",
              "      <td>46.10</td>\n",
              "      <td>305.0</td>\n",
              "      <td>4.66</td>\n",
              "      <td>25.7</td>\n",
              "      <td>81.30</td>\n",
              "    </tr>\n",
              "    <tr>\n",
              "      <th>...</th>\n",
              "      <td>...</td>\n",
              "      <td>...</td>\n",
              "      <td>...</td>\n",
              "      <td>...</td>\n",
              "      <td>...</td>\n",
              "      <td>...</td>\n",
              "      <td>...</td>\n",
              "      <td>...</td>\n",
              "      <td>...</td>\n",
              "      <td>...</td>\n",
              "      <td>...</td>\n",
              "    </tr>\n",
              "    <tr>\n",
              "      <th>848</th>\n",
              "      <td>42.2</td>\n",
              "      <td>27.6</td>\n",
              "      <td>21.50</td>\n",
              "      <td>67.90</td>\n",
              "      <td>12.30</td>\n",
              "      <td>8.28</td>\n",
              "      <td>15.80</td>\n",
              "      <td>562.0</td>\n",
              "      <td>21.90</td>\n",
              "      <td>29.7</td>\n",
              "      <td>8.28</td>\n",
              "    </tr>\n",
              "    <tr>\n",
              "      <th>849</th>\n",
              "      <td>62.1</td>\n",
              "      <td>21.7</td>\n",
              "      <td>9.56</td>\n",
              "      <td>6.49</td>\n",
              "      <td>34.30</td>\n",
              "      <td>15.30</td>\n",
              "      <td>23.10</td>\n",
              "      <td>319.0</td>\n",
              "      <td>11.90</td>\n",
              "      <td>35.5</td>\n",
              "      <td>50.90</td>\n",
              "    </tr>\n",
              "    <tr>\n",
              "      <th>850</th>\n",
              "      <td>103.0</td>\n",
              "      <td>32.2</td>\n",
              "      <td>10.20</td>\n",
              "      <td>13.20</td>\n",
              "      <td>50.90</td>\n",
              "      <td>5.28</td>\n",
              "      <td>5.62</td>\n",
              "      <td>239.0</td>\n",
              "      <td>14.50</td>\n",
              "      <td>22.9</td>\n",
              "      <td>5.23</td>\n",
              "    </tr>\n",
              "    <tr>\n",
              "      <th>851</th>\n",
              "      <td>77.7</td>\n",
              "      <td>23.7</td>\n",
              "      <td>24.80</td>\n",
              "      <td>60.40</td>\n",
              "      <td>44.50</td>\n",
              "      <td>21.50</td>\n",
              "      <td>25.00</td>\n",
              "      <td>289.0</td>\n",
              "      <td>32.20</td>\n",
              "      <td>83.5</td>\n",
              "      <td>27.10</td>\n",
              "    </tr>\n",
              "    <tr>\n",
              "      <th>852</th>\n",
              "      <td>46.6</td>\n",
              "      <td>15.0</td>\n",
              "      <td>8.51</td>\n",
              "      <td>120.00</td>\n",
              "      <td>22.30</td>\n",
              "      <td>6.10</td>\n",
              "      <td>20.00</td>\n",
              "      <td>478.0</td>\n",
              "      <td>20.90</td>\n",
              "      <td>36.8</td>\n",
              "      <td>9.65</td>\n",
              "    </tr>\n",
              "  </tbody>\n",
              "</table>\n",
              "<p>853 rows × 11 columns</p>\n",
              "</div>\n",
              "      <button class=\"colab-df-convert\" onclick=\"convertToInteractive('df-3df95199-e72b-4167-aa10-6dd453c01c36')\"\n",
              "              title=\"Convert this dataframe to an interactive table.\"\n",
              "              style=\"display:none;\">\n",
              "        \n",
              "  <svg xmlns=\"http://www.w3.org/2000/svg\" height=\"24px\"viewBox=\"0 0 24 24\"\n",
              "       width=\"24px\">\n",
              "    <path d=\"M0 0h24v24H0V0z\" fill=\"none\"/>\n",
              "    <path d=\"M18.56 5.44l.94 2.06.94-2.06 2.06-.94-2.06-.94-.94-2.06-.94 2.06-2.06.94zm-11 1L8.5 8.5l.94-2.06 2.06-.94-2.06-.94L8.5 2.5l-.94 2.06-2.06.94zm10 10l.94 2.06.94-2.06 2.06-.94-2.06-.94-.94-2.06-.94 2.06-2.06.94z\"/><path d=\"M17.41 7.96l-1.37-1.37c-.4-.4-.92-.59-1.43-.59-.52 0-1.04.2-1.43.59L10.3 9.45l-7.72 7.72c-.78.78-.78 2.05 0 2.83L4 21.41c.39.39.9.59 1.41.59.51 0 1.02-.2 1.41-.59l7.78-7.78 2.81-2.81c.8-.78.8-2.07 0-2.86zM5.41 20L4 18.59l7.72-7.72 1.47 1.35L5.41 20z\"/>\n",
              "  </svg>\n",
              "      </button>\n",
              "      \n",
              "  <style>\n",
              "    .colab-df-container {\n",
              "      display:flex;\n",
              "      flex-wrap:wrap;\n",
              "      gap: 12px;\n",
              "    }\n",
              "\n",
              "    .colab-df-convert {\n",
              "      background-color: #E8F0FE;\n",
              "      border: none;\n",
              "      border-radius: 50%;\n",
              "      cursor: pointer;\n",
              "      display: none;\n",
              "      fill: #1967D2;\n",
              "      height: 32px;\n",
              "      padding: 0 0 0 0;\n",
              "      width: 32px;\n",
              "    }\n",
              "\n",
              "    .colab-df-convert:hover {\n",
              "      background-color: #E2EBFA;\n",
              "      box-shadow: 0px 1px 2px rgba(60, 64, 67, 0.3), 0px 1px 3px 1px rgba(60, 64, 67, 0.15);\n",
              "      fill: #174EA6;\n",
              "    }\n",
              "\n",
              "    [theme=dark] .colab-df-convert {\n",
              "      background-color: #3B4455;\n",
              "      fill: #D2E3FC;\n",
              "    }\n",
              "\n",
              "    [theme=dark] .colab-df-convert:hover {\n",
              "      background-color: #434B5C;\n",
              "      box-shadow: 0px 1px 3px 1px rgba(0, 0, 0, 0.15);\n",
              "      filter: drop-shadow(0px 1px 2px rgba(0, 0, 0, 0.3));\n",
              "      fill: #FFFFFF;\n",
              "    }\n",
              "  </style>\n",
              "\n",
              "      <script>\n",
              "        const buttonEl =\n",
              "          document.querySelector('#df-3df95199-e72b-4167-aa10-6dd453c01c36 button.colab-df-convert');\n",
              "        buttonEl.style.display =\n",
              "          google.colab.kernel.accessAllowed ? 'block' : 'none';\n",
              "\n",
              "        async function convertToInteractive(key) {\n",
              "          const element = document.querySelector('#df-3df95199-e72b-4167-aa10-6dd453c01c36');\n",
              "          const dataTable =\n",
              "            await google.colab.kernel.invokeFunction('convertToInteractive',\n",
              "                                                     [key], {});\n",
              "          if (!dataTable) return;\n",
              "\n",
              "          const docLinkHtml = 'Like what you see? Visit the ' +\n",
              "            '<a target=\"_blank\" href=https://colab.research.google.com/notebooks/data_table.ipynb>data table notebook</a>'\n",
              "            + ' to learn more about interactive tables.';\n",
              "          element.innerHTML = '';\n",
              "          dataTable['output_type'] = 'display_data';\n",
              "          await google.colab.output.renderOutput(dataTable, element);\n",
              "          const docLink = document.createElement('div');\n",
              "          docLink.innerHTML = docLinkHtml;\n",
              "          element.appendChild(docLink);\n",
              "        }\n",
              "      </script>\n",
              "    </div>\n",
              "  </div>\n",
              "  "
            ]
          },
          "metadata": {},
          "execution_count": 3
        }
      ]
    },
    {
      "cell_type": "code",
      "source": [
        "from causallearn.search.ConstraintBased.PC import pc\n",
        "\n",
        "# default parameters\n",
        "cg = pc(data.values)"
      ],
      "metadata": {
        "colab": {
          "base_uri": "https://localhost:8080/",
          "height": 49,
          "referenced_widgets": [
            "ee48e2a353c340d991b147bd7f71ca05",
            "09be1e44721a449c9796c0d933b843cf",
            "07c604467ed547079bc8a09969482058",
            "060dea53f8094745a2878e39b55b744a",
            "e25949c815324bfaba5d325c19a77fc4",
            "5931d8221c9544719f79172bd29b27b5",
            "5727fb48d3db42bd85cd5a6822e92b2f",
            "02571d6984b34522bf5ba53d56c15e8b",
            "66ec48c221884afeb6bedaadb1df05bb",
            "56d6488e9c6d4d1a9bd64bbb50d50ed8",
            "d1b583f544ce4cffb2a82a7566963b38"
          ]
        },
        "id": "76p939KWyGTG",
        "outputId": "73381c1a-11e8-4ccd-b2a0-3901e2e88430"
      },
      "execution_count": 4,
      "outputs": [
        {
          "output_type": "display_data",
          "data": {
            "text/plain": [
              "  0%|          | 0/11 [00:00<?, ?it/s]"
            ],
            "application/vnd.jupyter.widget-view+json": {
              "version_major": 2,
              "version_minor": 0,
              "model_id": "ee48e2a353c340d991b147bd7f71ca05"
            }
          },
          "metadata": {}
        }
      ]
    },
    {
      "cell_type": "code",
      "source": [
        "# visualization using pydot\n",
        "cg.draw_pydot_graph()\n",
        "\n",
        "# or save the graph\n",
        "# from causallearn.utils.GraphUtils import GraphUtils\n",
        "\n",
        "# pyd = GraphUtils.to_pydot(cg.G)\n",
        "# pyd.write_png('simple_test.png')"
      ],
      "metadata": {
        "colab": {
          "base_uri": "https://localhost:8080/",
          "height": 649
        },
        "id": "Y8oVhYiIvPQU",
        "outputId": "a2cffa78-5a8c-4b0c-a269-03a637cbdd30"
      },
      "execution_count": 6,
      "outputs": [
        {
          "output_type": "display_data",
          "data": {
            "text/plain": [
              "<Figure size 1440x864 with 1 Axes>"
            ],
            "image/png": "[encoded data removed]"
          },
          "metadata": {
            "needs_background": "light"
          }
        }
      ]
    },
    {
      "cell_type": "markdown",
      "source": [
        "Lingam : https://causal-learn.readthedocs.io/en/latest/search_methods_index/Causal%20discovery%20methods%20based%20on%20constrained%20functional%20causal%20models/lingam.html#lingam"
      ],
      "metadata": {
        "id": "SObioXrQvxq7"
      }
    },
    {
      "cell_type": "markdown",
      "source": [
        "Estimation of **Linear, Non-Gaussian Acyclic causal Model** from observed data. It assumes **non-Gaussianity of the noise terms** in the causal model."
      ],
      "metadata": {
        "id": "PRVZ1Wj2sKlt"
      }
    },
    {
      "cell_type": "code",
      "source": [
        "!pip install lingam"
      ],
      "metadata": {
        "id": "UKczWv1_08EF"
      },
      "execution_count": null,
      "outputs": []
    },
    {
      "cell_type": "code",
      "source": [
        "import numpy as np\n",
        "import pandas as pd\n",
        "import graphviz\n",
        "import lingam\n",
        "from lingam.utils import make_dot\n",
        "\n",
        "print([np.__version__, pd.__version__, graphviz.__version__, lingam.__version__])\n",
        "\n",
        "np.set_printoptions(precision=3, suppress=True)\n",
        "np.random.seed(100)"
      ],
      "metadata": {
        "colab": {
          "base_uri": "https://localhost:8080/"
        },
        "id": "hXOtmUuk0589",
        "outputId": "d60d4919-050f-4a8b-8749-e4cdbb65c8a1"
      },
      "execution_count": 8,
      "outputs": [
        {
          "output_type": "stream",
          "name": "stdout",
          "text": [
            "['1.22.4', '1.3.5', '0.10.1', '1.7.1']\n"
          ]
        }
      ]
    },
    {
      "cell_type": "code",
      "source": [
        "x3 = np.random.uniform(size=1000)\n",
        "x0 = 3.0*x3 + np.random.uniform(size=1000)\n",
        "x2 = 6.0*x3 + np.random.uniform(size=1000)\n",
        "x1 = 3.0*x0 + 2.0*x2 + np.random.uniform(size=1000)\n",
        "x5 = 4.0*x0 + np.random.uniform(size=1000)\n",
        "x4 = 8.0*x0 - 1.0*x2 + np.random.uniform(size=1000)\n",
        "X = pd.DataFrame(np.array([x0, x1, x2, x3, x4, x5]).T ,columns=['x0', 'x1', 'x2', 'x3', 'x4', 'x5'])\n",
        "X.head()"
      ],
      "metadata": {
        "colab": {
          "base_uri": "https://localhost:8080/",
          "height": 206
        },
        "id": "MWhYlc1k1FDC",
        "outputId": "8b9fc908-fb44-4688-9ea1-fbe354acfccb"
      },
      "execution_count": 9,
      "outputs": [
        {
          "output_type": "execute_result",
          "data": {
            "text/plain": [
              "         x0         x1        x2        x3         x4         x5\n",
              "0  1.657947  12.090323  3.519873  0.543405  10.182785   7.401408\n",
              "1  1.217345   7.607388  1.693219  0.278369   8.758949   4.912979\n",
              "2  2.226804  13.483555  3.201513  0.424518  15.398626   9.098729\n",
              "3  2.756527  20.654225  6.037873  0.844776  16.795156  11.147294\n",
              "4  0.319283   3.340782  0.727265  0.004719   2.343100   2.037974"
            ],
            "text/html": [
              "\n",
              "  <div id=\"df-25167154-e11d-4242-aaf7-fcab4cd245a9\">\n",
              "    <div class=\"colab-df-container\">\n",
              "      <div>\n",
              "<style scoped>\n",
              "    .dataframe tbody tr th:only-of-type {\n",
              "        vertical-align: middle;\n",
              "    }\n",
              "\n",
              "    .dataframe tbody tr th {\n",
              "        vertical-align: top;\n",
              "    }\n",
              "\n",
              "    .dataframe thead th {\n",
              "        text-align: right;\n",
              "    }\n",
              "</style>\n",
              "<table border=\"1\" class=\"dataframe\">\n",
              "  <thead>\n",
              "    <tr style=\"text-align: right;\">\n",
              "      <th></th>\n",
              "      <th>x0</th>\n",
              "      <th>x1</th>\n",
              "      <th>x2</th>\n",
              "      <th>x3</th>\n",
              "      <th>x4</th>\n",
              "      <th>x5</th>\n",
              "    </tr>\n",
              "  </thead>\n",
              "  <tbody>\n",
              "    <tr>\n",
              "      <th>0</th>\n",
              "      <td>1.657947</td>\n",
              "      <td>12.090323</td>\n",
              "      <td>3.519873</td>\n",
              "      <td>0.543405</td>\n",
              "      <td>10.182785</td>\n",
              "      <td>7.401408</td>\n",
              "    </tr>\n",
              "    <tr>\n",
              "      <th>1</th>\n",
              "      <td>1.217345</td>\n",
              "      <td>7.607388</td>\n",
              "      <td>1.693219</td>\n",
              "      <td>0.278369</td>\n",
              "      <td>8.758949</td>\n",
              "      <td>4.912979</td>\n",
              "    </tr>\n",
              "    <tr>\n",
              "      <th>2</th>\n",
              "      <td>2.226804</td>\n",
              "      <td>13.483555</td>\n",
              "      <td>3.201513</td>\n",
              "      <td>0.424518</td>\n",
              "      <td>15.398626</td>\n",
              "      <td>9.098729</td>\n",
              "    </tr>\n",
              "    <tr>\n",
              "      <th>3</th>\n",
              "      <td>2.756527</td>\n",
              "      <td>20.654225</td>\n",
              "      <td>6.037873</td>\n",
              "      <td>0.844776</td>\n",
              "      <td>16.795156</td>\n",
              "      <td>11.147294</td>\n",
              "    </tr>\n",
              "    <tr>\n",
              "      <th>4</th>\n",
              "      <td>0.319283</td>\n",
              "      <td>3.340782</td>\n",
              "      <td>0.727265</td>\n",
              "      <td>0.004719</td>\n",
              "      <td>2.343100</td>\n",
              "      <td>2.037974</td>\n",
              "    </tr>\n",
              "  </tbody>\n",
              "</table>\n",
              "</div>\n",
              "      <button class=\"colab-df-convert\" onclick=\"convertToInteractive('df-25167154-e11d-4242-aaf7-fcab4cd245a9')\"\n",
              "              title=\"Convert this dataframe to an interactive table.\"\n",
              "              style=\"display:none;\">\n",
              "        \n",
              "  <svg xmlns=\"http://www.w3.org/2000/svg\" height=\"24px\"viewBox=\"0 0 24 24\"\n",
              "       width=\"24px\">\n",
              "    <path d=\"M0 0h24v24H0V0z\" fill=\"none\"/>\n",
              "    <path d=\"M18.56 5.44l.94 2.06.94-2.06 2.06-.94-2.06-.94-.94-2.06-.94 2.06-2.06.94zm-11 1L8.5 8.5l.94-2.06 2.06-.94-2.06-.94L8.5 2.5l-.94 2.06-2.06.94zm10 10l.94 2.06.94-2.06 2.06-.94-2.06-.94-.94-2.06-.94 2.06-2.06.94z\"/><path d=\"M17.41 7.96l-1.37-1.37c-.4-.4-.92-.59-1.43-.59-.52 0-1.04.2-1.43.59L10.3 9.45l-7.72 7.72c-.78.78-.78 2.05 0 2.83L4 21.41c.39.39.9.59 1.41.59.51 0 1.02-.2 1.41-.59l7.78-7.78 2.81-2.81c.8-.78.8-2.07 0-2.86zM5.41 20L4 18.59l7.72-7.72 1.47 1.35L5.41 20z\"/>\n",
              "  </svg>\n",
              "      </button>\n",
              "      \n",
              "  <style>\n",
              "    .colab-df-container {\n",
              "      display:flex;\n",
              "      flex-wrap:wrap;\n",
              "      gap: 12px;\n",
              "    }\n",
              "\n",
              "    .colab-df-convert {\n",
              "      background-color: #E8F0FE;\n",
              "      border: none;\n",
              "      border-radius: 50%;\n",
              "      cursor: pointer;\n",
              "      display: none;\n",
              "      fill: #1967D2;\n",
              "      height: 32px;\n",
              "      padding: 0 0 0 0;\n",
              "      width: 32px;\n",
              "    }\n",
              "\n",
              "    .colab-df-convert:hover {\n",
              "      background-color: #E2EBFA;\n",
              "      box-shadow: 0px 1px 2px rgba(60, 64, 67, 0.3), 0px 1px 3px 1px rgba(60, 64, 67, 0.15);\n",
              "      fill: #174EA6;\n",
              "    }\n",
              "\n",
              "    [theme=dark] .colab-df-convert {\n",
              "      background-color: #3B4455;\n",
              "      fill: #D2E3FC;\n",
              "    }\n",
              "\n",
              "    [theme=dark] .colab-df-convert:hover {\n",
              "      background-color: #434B5C;\n",
              "      box-shadow: 0px 1px 3px 1px rgba(0, 0, 0, 0.15);\n",
              "      filter: drop-shadow(0px 1px 2px rgba(0, 0, 0, 0.3));\n",
              "      fill: #FFFFFF;\n",
              "    }\n",
              "  </style>\n",
              "\n",
              "      <script>\n",
              "        const buttonEl =\n",
              "          document.querySelector('#df-25167154-e11d-4242-aaf7-fcab4cd245a9 button.colab-df-convert');\n",
              "        buttonEl.style.display =\n",
              "          google.colab.kernel.accessAllowed ? 'block' : 'none';\n",
              "\n",
              "        async function convertToInteractive(key) {\n",
              "          const element = document.querySelector('#df-25167154-e11d-4242-aaf7-fcab4cd245a9');\n",
              "          const dataTable =\n",
              "            await google.colab.kernel.invokeFunction('convertToInteractive',\n",
              "                                                     [key], {});\n",
              "          if (!dataTable) return;\n",
              "\n",
              "          const docLinkHtml = 'Like what you see? Visit the ' +\n",
              "            '<a target=\"_blank\" href=https://colab.research.google.com/notebooks/data_table.ipynb>data table notebook</a>'\n",
              "            + ' to learn more about interactive tables.';\n",
              "          element.innerHTML = '';\n",
              "          dataTable['output_type'] = 'display_data';\n",
              "          await google.colab.output.renderOutput(dataTable, element);\n",
              "          const docLink = document.createElement('div');\n",
              "          docLink.innerHTML = docLinkHtml;\n",
              "          element.appendChild(docLink);\n",
              "        }\n",
              "      </script>\n",
              "    </div>\n",
              "  </div>\n",
              "  "
            ]
          },
          "metadata": {},
          "execution_count": 9
        }
      ]
    },
    {
      "cell_type": "code",
      "source": [
        "m = np.array([[0.0, 0.0, 0.0, 3.0, 0.0, 0.0],\n",
        "              [3.0, 0.0, 2.0, 0.0, 0.0, 0.0],\n",
        "              [0.0, 0.0, 0.0, 6.0, 0.0, 0.0],\n",
        "              [0.0, 0.0, 0.0, 0.0, 0.0, 0.0],\n",
        "              [8.0, 0.0,-1.0, 0.0, 0.0, 0.0],\n",
        "              [4.0, 0.0, 0.0, 0.0, 0.0, 0.0]])\n",
        "\n",
        "dot = make_dot(m)\n",
        "\n",
        "# Save pdf\n",
        "dot.render('dag')\n",
        "\n",
        "# Save png\n",
        "dot.format = 'png'\n",
        "dot.render('dag')\n",
        "\n",
        "dot"
      ],
      "metadata": {
        "colab": {
          "base_uri": "https://localhost:8080/",
          "height": 311
        },
        "id": "2k_ogUV41MDe",
        "outputId": "f1f00a7b-29b9-483d-ef70-3b10097a64de"
      },
      "execution_count": 10,
      "outputs": [
        {
          "output_type": "execute_result",
          "data": {
            "text/plain": [
              "<graphviz.dot.Digraph at 0x7fc44807cd30>"
            ],
            "image/svg+xml": "<?xml version=\"1.0\" encoding=\"UTF-8\" standalone=\"no\"?>\n<!DOCTYPE svg PUBLIC \"-//W3C//DTD SVG 1.1//EN\"\n \"http://www.w3.org/Graphics/SVG/1.1/DTD/svg11.dtd\">\n<!-- Generated by graphviz version 2.43.0 (0)\n -->\n<!-- Title: %3 Pages: 1 -->\n<svg width=\"245pt\" height=\"218pt\"\n viewBox=\"0.00 0.00 245.00 218.00\" xmlns=\"http://www.w3.org/2000/svg\" xmlns:xlink=\"http://www.w3.org/1999/xlink\">\n<g id=\"graph0\" class=\"graph\" transform=\"scale(1 1) rotate(0) translate(4 214)\">\n<title>%3</title>\n<polygon fill=\"white\" stroke=\"transparent\" points=\"-4,4 -4,-214 241,-214 241,4 -4,4\"/>\n<!-- x0 -->\n<g id=\"node1\" class=\"node\">\n<title>x0</title>\n<ellipse fill=\"none\" stroke=\"black\" cx=\"150\" cy=\"-105\" rx=\"27\" ry=\"18\"/>\n<text text-anchor=\"middle\" x=\"150\" y=\"-101.3\" font-family=\"Times,serif\" font-size=\"14.00\">x0</text>\n</g>\n<!-- x1 -->\n<g id=\"node2\" class=\"node\">\n<title>x1</title>\n<ellipse fill=\"none\" stroke=\"black\" cx=\"125\" cy=\"-18\" rx=\"27\" ry=\"18\"/>\n<text text-anchor=\"middle\" x=\"125\" y=\"-14.3\" font-family=\"Times,serif\" font-size=\"14.00\">x1</text>\n</g>\n<!-- x0&#45;&gt;x1 -->\n<g id=\"edge2\" class=\"edge\">\n<title>x0&#45;&gt;x1</title>\n<path fill=\"none\" stroke=\"black\" d=\"M147.44,-86.65C145.78,-76.93 143.31,-64.65 140,-54 139.07,-51 137.97,-47.91 136.79,-44.87\"/>\n<polygon fill=\"black\" stroke=\"black\" points=\"139.96,-43.37 132.89,-35.47 133.49,-46.05 139.96,-43.37\"/>\n<text text-anchor=\"middle\" x=\"155.5\" y=\"-57.8\" font-family=\"Times,serif\" font-size=\"14.00\">3.00</text>\n</g>\n<!-- x4 -->\n<g id=\"node5\" class=\"node\">\n<title>x4</title>\n<ellipse fill=\"none\" stroke=\"black\" cx=\"27\" cy=\"-18\" rx=\"27\" ry=\"18\"/>\n<text text-anchor=\"middle\" x=\"27\" y=\"-14.3\" font-family=\"Times,serif\" font-size=\"14.00\">x4</text>\n</g>\n<!-- x0&#45;&gt;x4 -->\n<g id=\"edge5\" class=\"edge\">\n<title>x0&#45;&gt;x4</title>\n<path fill=\"none\" stroke=\"black\" d=\"M134.54,-90C120.46,-77.38 100.6,-59.92 92,-54 81.19,-46.56 68.64,-39.48 57.46,-33.65\"/>\n<polygon fill=\"black\" stroke=\"black\" points=\"58.96,-30.49 48.46,-29.08 55.79,-36.73 58.96,-30.49\"/>\n<text text-anchor=\"middle\" x=\"121.5\" y=\"-57.8\" font-family=\"Times,serif\" font-size=\"14.00\">8.00</text>\n</g>\n<!-- x5 -->\n<g id=\"node6\" class=\"node\">\n<title>x5</title>\n<ellipse fill=\"none\" stroke=\"black\" cx=\"210\" cy=\"-18\" rx=\"27\" ry=\"18\"/>\n<text text-anchor=\"middle\" x=\"210\" y=\"-14.3\" font-family=\"Times,serif\" font-size=\"14.00\">x5</text>\n</g>\n<!-- x0&#45;&gt;x5 -->\n<g id=\"edge7\" class=\"edge\">\n<title>x0&#45;&gt;x5</title>\n<path fill=\"none\" stroke=\"black\" d=\"M161,-88.41C169.97,-75.71 182.78,-57.56 193.05,-43.01\"/>\n<polygon fill=\"black\" stroke=\"black\" points=\"196.16,-44.68 199.06,-34.49 190.44,-40.64 196.16,-44.68\"/>\n<text text-anchor=\"middle\" x=\"195.5\" y=\"-57.8\" font-family=\"Times,serif\" font-size=\"14.00\">4.00</text>\n</g>\n<!-- x2 -->\n<g id=\"node3\" class=\"node\">\n<title>x2</title>\n<ellipse fill=\"none\" stroke=\"black\" cx=\"66\" cy=\"-105\" rx=\"27\" ry=\"18\"/>\n<text text-anchor=\"middle\" x=\"66\" y=\"-101.3\" font-family=\"Times,serif\" font-size=\"14.00\">x2</text>\n</g>\n<!-- x2&#45;&gt;x1 -->\n<g id=\"edge3\" class=\"edge\">\n<title>x2&#45;&gt;x1</title>\n<path fill=\"none\" stroke=\"black\" d=\"M62.44,-87.16C61.18,-76.91 61.27,-63.92 67,-54 72.72,-44.1 82.46,-36.67 92.35,-31.26\"/>\n<polygon fill=\"black\" stroke=\"black\" points=\"93.91,-34.39 101.35,-26.85 90.83,-28.11 93.91,-34.39\"/>\n<text text-anchor=\"middle\" x=\"79.5\" y=\"-57.8\" font-family=\"Times,serif\" font-size=\"14.00\">2.00</text>\n</g>\n<!-- x2&#45;&gt;x4 -->\n<g id=\"edge6\" class=\"edge\">\n<title>x2&#45;&gt;x4</title>\n<path fill=\"none\" stroke=\"black\" d=\"M43.73,-94.8C32.97,-89.08 21.1,-80.59 15,-69 11.04,-61.48 11.69,-52.63 14.06,-44.48\"/>\n<polygon fill=\"black\" stroke=\"black\" points=\"17.37,-45.62 17.62,-35.03 10.82,-43.15 17.37,-45.62\"/>\n<text text-anchor=\"middle\" x=\"29.5\" y=\"-57.8\" font-family=\"Times,serif\" font-size=\"14.00\">&#45;1.00</text>\n</g>\n<!-- x3 -->\n<g id=\"node4\" class=\"node\">\n<title>x3</title>\n<ellipse fill=\"none\" stroke=\"black\" cx=\"102\" cy=\"-192\" rx=\"27\" ry=\"18\"/>\n<text text-anchor=\"middle\" x=\"102\" y=\"-188.3\" font-family=\"Times,serif\" font-size=\"14.00\">x3</text>\n</g>\n<!-- x3&#45;&gt;x0 -->\n<g id=\"edge1\" class=\"edge\">\n<title>x3&#45;&gt;x0</title>\n<path fill=\"none\" stroke=\"black\" d=\"M111.03,-175.01C118.02,-162.63 127.84,-145.23 135.88,-131.01\"/>\n<polygon fill=\"black\" stroke=\"black\" points=\"138.98,-132.63 140.85,-122.21 132.88,-129.19 138.98,-132.63\"/>\n<text text-anchor=\"middle\" x=\"140.5\" y=\"-144.8\" font-family=\"Times,serif\" font-size=\"14.00\">3.00</text>\n</g>\n<!-- x3&#45;&gt;x2 -->\n<g id=\"edge4\" class=\"edge\">\n<title>x3&#45;&gt;x2</title>\n<path fill=\"none\" stroke=\"black\" d=\"M93.74,-174.76C90.86,-168.9 87.68,-162.2 85,-156 81.72,-148.41 78.43,-140.06 75.52,-132.39\"/>\n<polygon fill=\"black\" stroke=\"black\" points=\"78.73,-130.97 71.97,-122.82 72.17,-133.41 78.73,-130.97\"/>\n<text text-anchor=\"middle\" x=\"97.5\" y=\"-144.8\" font-family=\"Times,serif\" font-size=\"14.00\">6.00</text>\n</g>\n</g>\n</svg>\n"
          },
          "metadata": {},
          "execution_count": 10
        }
      ]
    },
    {
      "cell_type": "code",
      "source": [
        "model = lingam.DirectLiNGAM()\n",
        "model.fit(X)"
      ],
      "metadata": {
        "colab": {
          "base_uri": "https://localhost:8080/"
        },
        "id": "tjmCDkaF1RNS",
        "outputId": "1bedb42b-724b-454c-81a6-a0d01c68209b"
      },
      "execution_count": 11,
      "outputs": [
        {
          "output_type": "stream",
          "name": "stderr",
          "text": [
            "/usr/local/lib/python3.8/dist-packages/sklearn/linear_model/_base.py:133: FutureWarning: The default of 'normalize' will be set to False in version 1.2 and deprecated in version 1.4.\n",
            "If you wish to scale the data, use Pipeline with a StandardScaler in a preprocessing stage. To reproduce the previous behavior:\n",
            "\n",
            "from sklearn.pipeline import make_pipeline\n",
            "\n",
            "model = make_pipeline(StandardScaler(with_mean=False), LassoLarsIC())\n",
            "\n",
            "If you wish to pass a sample_weight parameter, you need to pass it as a fit parameter to each step of the pipeline as follows:\n",
            "\n",
            "kwargs = {s[0] + '__sample_weight': sample_weight for s in model.steps}\n",
            "model.fit(X, y, **kwargs)\n",
            "\n",
            "Set parameter alpha to: original_alpha * np.sqrt(n_samples). \n",
            "  warnings.warn(\n",
            "/usr/local/lib/python3.8/dist-packages/sklearn/linear_model/_base.py:133: FutureWarning: The default of 'normalize' will be set to False in version 1.2 and deprecated in version 1.4.\n",
            "If you wish to scale the data, use Pipeline with a StandardScaler in a preprocessing stage. To reproduce the previous behavior:\n",
            "\n",
            "from sklearn.pipeline import make_pipeline\n",
            "\n",
            "model = make_pipeline(StandardScaler(with_mean=False), LassoLarsIC())\n",
            "\n",
            "If you wish to pass a sample_weight parameter, you need to pass it as a fit parameter to each step of the pipeline as follows:\n",
            "\n",
            "kwargs = {s[0] + '__sample_weight': sample_weight for s in model.steps}\n",
            "model.fit(X, y, **kwargs)\n",
            "\n",
            "Set parameter alpha to: original_alpha * np.sqrt(n_samples). \n",
            "  warnings.warn(\n",
            "/usr/local/lib/python3.8/dist-packages/sklearn/linear_model/_base.py:133: FutureWarning: The default of 'normalize' will be set to False in version 1.2 and deprecated in version 1.4.\n",
            "If you wish to scale the data, use Pipeline with a StandardScaler in a preprocessing stage. To reproduce the previous behavior:\n",
            "\n",
            "from sklearn.pipeline import make_pipeline\n",
            "\n",
            "model = make_pipeline(StandardScaler(with_mean=False), LassoLarsIC())\n",
            "\n",
            "If you wish to pass a sample_weight parameter, you need to pass it as a fit parameter to each step of the pipeline as follows:\n",
            "\n",
            "kwargs = {s[0] + '__sample_weight': sample_weight for s in model.steps}\n",
            "model.fit(X, y, **kwargs)\n",
            "\n",
            "Set parameter alpha to: original_alpha * np.sqrt(n_samples). \n",
            "  warnings.warn(\n",
            "/usr/local/lib/python3.8/dist-packages/sklearn/linear_model/_base.py:133: FutureWarning: The default of 'normalize' will be set to False in version 1.2 and deprecated in version 1.4.\n",
            "If you wish to scale the data, use Pipeline with a StandardScaler in a preprocessing stage. To reproduce the previous behavior:\n",
            "\n",
            "from sklearn.pipeline import make_pipeline\n",
            "\n",
            "model = make_pipeline(StandardScaler(with_mean=False), LassoLarsIC())\n",
            "\n",
            "If you wish to pass a sample_weight parameter, you need to pass it as a fit parameter to each step of the pipeline as follows:\n",
            "\n",
            "kwargs = {s[0] + '__sample_weight': sample_weight for s in model.steps}\n",
            "model.fit(X, y, **kwargs)\n",
            "\n",
            "Set parameter alpha to: original_alpha * np.sqrt(n_samples). \n",
            "  warnings.warn(\n",
            "/usr/local/lib/python3.8/dist-packages/sklearn/linear_model/_base.py:133: FutureWarning: The default of 'normalize' will be set to False in version 1.2 and deprecated in version 1.4.\n",
            "If you wish to scale the data, use Pipeline with a StandardScaler in a preprocessing stage. To reproduce the previous behavior:\n",
            "\n",
            "from sklearn.pipeline import make_pipeline\n",
            "\n",
            "model = make_pipeline(StandardScaler(with_mean=False), LassoLarsIC())\n",
            "\n",
            "If you wish to pass a sample_weight parameter, you need to pass it as a fit parameter to each step of the pipeline as follows:\n",
            "\n",
            "kwargs = {s[0] + '__sample_weight': sample_weight for s in model.steps}\n",
            "model.fit(X, y, **kwargs)\n",
            "\n",
            "Set parameter alpha to: original_alpha * np.sqrt(n_samples). \n",
            "  warnings.warn(\n"
          ]
        },
        {
          "output_type": "execute_result",
          "data": {
            "text/plain": [
              "<lingam.direct_lingam.DirectLiNGAM at 0x7fc44807cc40>"
            ]
          },
          "metadata": {},
          "execution_count": 11
        }
      ]
    },
    {
      "cell_type": "code",
      "source": [
        "model.adjacency_matrix_"
      ],
      "metadata": {
        "colab": {
          "base_uri": "https://localhost:8080/"
        },
        "id": "iOG6quwo1Va7",
        "outputId": "37a966f2-abc1-4c0c-973d-09385e582132"
      },
      "execution_count": 12,
      "outputs": [
        {
          "output_type": "execute_result",
          "data": {
            "text/plain": [
              "array([[ 0.   ,  0.   ,  0.   ,  2.994,  0.   ,  0.   ],\n",
              "       [ 2.995,  0.   ,  1.993,  0.   ,  0.   ,  0.   ],\n",
              "       [ 0.06 ,  0.   ,  0.   ,  5.776,  0.   ,  0.   ],\n",
              "       [ 0.   ,  0.   ,  0.   ,  0.   ,  0.   ,  0.   ],\n",
              "       [ 7.981,  0.   , -0.996,  0.   ,  0.   ,  0.   ],\n",
              "       [ 3.887,  0.   ,  0.   ,  0.   ,  0.015,  0.   ]])"
            ]
          },
          "metadata": {},
          "execution_count": 12
        }
      ]
    },
    {
      "cell_type": "code",
      "source": [
        "make_dot(model.adjacency_matrix_)"
      ],
      "metadata": {
        "id": "y5IR0nio1ZhQ",
        "outputId": "4a128218-d8ad-40bb-8655-93c521514c28",
        "colab": {
          "base_uri": "https://localhost:8080/",
          "height": 543
        }
      },
      "execution_count": 13,
      "outputs": [
        {
          "output_type": "execute_result",
          "data": {
            "text/plain": [
              "<graphviz.dot.Digraph at 0x7fc44a85c940>"
            ],
            "image/svg+xml": "<?xml version=\"1.0\" encoding=\"UTF-8\" standalone=\"no\"?>\n<!DOCTYPE svg PUBLIC \"-//W3C//DTD SVG 1.1//EN\"\n \"http://www.w3.org/Graphics/SVG/1.1/DTD/svg11.dtd\">\n<!-- Generated by graphviz version 2.43.0 (0)\n -->\n<!-- Title: %3 Pages: 1 -->\n<svg width=\"220pt\" height=\"392pt\"\n viewBox=\"0.00 0.00 220.00 392.00\" xmlns=\"http://www.w3.org/2000/svg\" xmlns:xlink=\"http://www.w3.org/1999/xlink\">\n<g id=\"graph0\" class=\"graph\" transform=\"scale(1 1) rotate(0) translate(4 388)\">\n<title>%3</title>\n<polygon fill=\"white\" stroke=\"transparent\" points=\"-4,4 -4,-388 216,-388 216,4 -4,4\"/>\n<!-- x0 -->\n<g id=\"node1\" class=\"node\">\n<title>x0</title>\n<ellipse fill=\"none\" stroke=\"black\" cx=\"90\" cy=\"-279\" rx=\"27\" ry=\"18\"/>\n<text text-anchor=\"middle\" x=\"90\" y=\"-275.3\" font-family=\"Times,serif\" font-size=\"14.00\">x0</text>\n</g>\n<!-- x1 -->\n<g id=\"node2\" class=\"node\">\n<title>x1</title>\n<ellipse fill=\"none\" stroke=\"black\" cx=\"142\" cy=\"-105\" rx=\"27\" ry=\"18\"/>\n<text text-anchor=\"middle\" x=\"142\" y=\"-101.3\" font-family=\"Times,serif\" font-size=\"14.00\">x1</text>\n</g>\n<!-- x0&#45;&gt;x1 -->\n<g id=\"edge2\" class=\"edge\">\n<title>x0&#45;&gt;x1</title>\n<path fill=\"none\" stroke=\"black\" d=\"M104.38,-263.76C109.69,-257.79 115.29,-250.5 119,-243 136.34,-207.91 140.94,-162.26 141.98,-133.54\"/>\n<polygon fill=\"black\" stroke=\"black\" points=\"145.48,-133.5 142.23,-123.41 138.48,-133.33 145.48,-133.5\"/>\n<text text-anchor=\"middle\" x=\"150.5\" y=\"-188.3\" font-family=\"Times,serif\" font-size=\"14.00\">2.99</text>\n</g>\n<!-- x2 -->\n<g id=\"node3\" class=\"node\">\n<title>x2</title>\n<ellipse fill=\"none\" stroke=\"black\" cx=\"90\" cy=\"-192\" rx=\"27\" ry=\"18\"/>\n<text text-anchor=\"middle\" x=\"90\" y=\"-188.3\" font-family=\"Times,serif\" font-size=\"14.00\">x2</text>\n</g>\n<!-- x0&#45;&gt;x2 -->\n<g id=\"edge4\" class=\"edge\">\n<title>x0&#45;&gt;x2</title>\n<path fill=\"none\" stroke=\"black\" d=\"M90,-260.8C90,-249.16 90,-233.55 90,-220.24\"/>\n<polygon fill=\"black\" stroke=\"black\" points=\"93.5,-220.18 90,-210.18 86.5,-220.18 93.5,-220.18\"/>\n<text text-anchor=\"middle\" x=\"102.5\" y=\"-231.8\" font-family=\"Times,serif\" font-size=\"14.00\">0.06</text>\n</g>\n<!-- x4 -->\n<g id=\"node5\" class=\"node\">\n<title>x4</title>\n<ellipse fill=\"none\" stroke=\"black\" cx=\"61\" cy=\"-105\" rx=\"27\" ry=\"18\"/>\n<text text-anchor=\"middle\" x=\"61\" y=\"-101.3\" font-family=\"Times,serif\" font-size=\"14.00\">x4</text>\n</g>\n<!-- x0&#45;&gt;x4 -->\n<g id=\"edge6\" class=\"edge\">\n<title>x0&#45;&gt;x4</title>\n<path fill=\"none\" stroke=\"black\" d=\"M72.82,-265.08C58.03,-252.78 37.73,-232.81 29,-210 18.76,-183.26 31.87,-151.73 44.26,-130.45\"/>\n<polygon fill=\"black\" stroke=\"black\" points=\"47.37,-132.08 49.64,-121.73 41.41,-128.4 47.37,-132.08\"/>\n<text text-anchor=\"middle\" x=\"41.5\" y=\"-188.3\" font-family=\"Times,serif\" font-size=\"14.00\">7.98</text>\n</g>\n<!-- x5 -->\n<g id=\"node6\" class=\"node\">\n<title>x5</title>\n<ellipse fill=\"none\" stroke=\"black\" cx=\"134\" cy=\"-18\" rx=\"27\" ry=\"18\"/>\n<text text-anchor=\"middle\" x=\"134\" y=\"-14.3\" font-family=\"Times,serif\" font-size=\"14.00\">x5</text>\n</g>\n<!-- x0&#45;&gt;x5 -->\n<g id=\"edge8\" class=\"edge\">\n<title>x0&#45;&gt;x5</title>\n<path fill=\"none\" stroke=\"black\" d=\"M110.2,-266.68C128.66,-255.1 154.87,-235.24 167,-210 190.77,-160.53 193.54,-139.64 178,-87 173.15,-70.56 162.94,-54.37 153.58,-41.9\"/>\n<polygon fill=\"black\" stroke=\"black\" points=\"156.24,-39.62 147.31,-33.92 150.73,-43.94 156.24,-39.62\"/>\n<text text-anchor=\"middle\" x=\"199.5\" y=\"-144.8\" font-family=\"Times,serif\" font-size=\"14.00\">3.89</text>\n</g>\n<!-- x2&#45;&gt;x1 -->\n<g id=\"edge3\" class=\"edge\">\n<title>x2&#45;&gt;x1</title>\n<path fill=\"none\" stroke=\"black\" d=\"M96.88,-174.29C101.25,-164.33 107.34,-151.6 114,-141 116.61,-136.85 119.62,-132.63 122.69,-128.62\"/>\n<polygon fill=\"black\" stroke=\"black\" points=\"125.45,-130.78 128.95,-120.77 119.98,-126.41 125.45,-130.78\"/>\n<text text-anchor=\"middle\" x=\"126.5\" y=\"-144.8\" font-family=\"Times,serif\" font-size=\"14.00\">1.99</text>\n</g>\n<!-- x2&#45;&gt;x4 -->\n<g id=\"edge7\" class=\"edge\">\n<title>x2&#45;&gt;x4</title>\n<path fill=\"none\" stroke=\"black\" d=\"M75.02,-176.68C69.89,-170.81 64.76,-163.61 62,-156 59.43,-148.9 58.49,-140.85 58.37,-133.32\"/>\n<polygon fill=\"black\" stroke=\"black\" points=\"61.87,-133.26 58.66,-123.16 54.88,-133.06 61.87,-133.26\"/>\n<text text-anchor=\"middle\" x=\"76.5\" y=\"-144.8\" font-family=\"Times,serif\" font-size=\"14.00\">&#45;1.00</text>\n</g>\n<!-- x3 -->\n<g id=\"node4\" class=\"node\">\n<title>x3</title>\n<ellipse fill=\"none\" stroke=\"black\" cx=\"27\" cy=\"-366\" rx=\"27\" ry=\"18\"/>\n<text text-anchor=\"middle\" x=\"27\" y=\"-362.3\" font-family=\"Times,serif\" font-size=\"14.00\">x3</text>\n</g>\n<!-- x3&#45;&gt;x0 -->\n<g id=\"edge1\" class=\"edge\">\n<title>x3&#45;&gt;x0</title>\n<path fill=\"none\" stroke=\"black\" d=\"M38.56,-349.41C48.06,-336.59 61.67,-318.22 72.51,-303.6\"/>\n<polygon fill=\"black\" stroke=\"black\" points=\"75.38,-305.61 78.52,-295.49 69.75,-301.44 75.38,-305.61\"/>\n<text text-anchor=\"middle\" x=\"74.5\" y=\"-318.8\" font-family=\"Times,serif\" font-size=\"14.00\">2.99</text>\n</g>\n<!-- x3&#45;&gt;x2 -->\n<g id=\"edge5\" class=\"edge\">\n<title>x3&#45;&gt;x2</title>\n<path fill=\"none\" stroke=\"black\" d=\"M23.83,-348.09C20.63,-326.91 17.62,-289.9 29,-261 36.48,-242 51.86,-224.92 65.31,-212.62\"/>\n<polygon fill=\"black\" stroke=\"black\" points=\"67.7,-215.18 72.93,-205.96 63.1,-209.91 67.7,-215.18\"/>\n<text text-anchor=\"middle\" x=\"41.5\" y=\"-275.3\" font-family=\"Times,serif\" font-size=\"14.00\">5.78</text>\n</g>\n<!-- x4&#45;&gt;x5 -->\n<g id=\"edge9\" class=\"edge\">\n<title>x4&#45;&gt;x5</title>\n<path fill=\"none\" stroke=\"black\" d=\"M74.05,-88.8C85.26,-75.75 101.59,-56.74 114.38,-41.85\"/>\n<polygon fill=\"black\" stroke=\"black\" points=\"117.2,-43.93 121.06,-34.06 111.89,-39.37 117.2,-43.93\"/>\n<text text-anchor=\"middle\" x=\"113.5\" y=\"-57.8\" font-family=\"Times,serif\" font-size=\"14.00\">0.01</text>\n</g>\n</g>\n</svg>\n"
          },
          "metadata": {},
          "execution_count": 13
        }
      ]
    },
    {
      "cell_type": "code",
      "source": [
        "model.causal_order_"
      ],
      "metadata": {
        "colab": {
          "base_uri": "https://localhost:8080/"
        },
        "id": "htdF2hu8qeNS",
        "outputId": "8e07b76f-fc50-460c-d5b7-adfc647a640e"
      },
      "execution_count": 14,
      "outputs": [
        {
          "output_type": "execute_result",
          "data": {
            "text/plain": [
              "[3, 0, 2, 1, 4, 5]"
            ]
          },
          "metadata": {},
          "execution_count": 14
        }
      ]
    },
    {
      "cell_type": "code",
      "source": [],
      "metadata": {
        "id": "EwHJ-pT1qefG"
      },
      "execution_count": null,
      "outputs": []
    }
  ]
}