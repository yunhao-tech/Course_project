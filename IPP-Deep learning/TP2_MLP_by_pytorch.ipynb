{
 "cells": [
  {
   "cell_type": "markdown",
   "metadata": {
    "id": "9KFU-_ZrsZFR"
   },
   "source": [
    "# Lab Deep Learning / Multi-Layer Perceptron for binary-classification / in pytorch\n",
    "\n",
    "**Author: geoffroy.peeters@telecom-paris.fr**\n",
    "\n",
    "**Version**: 2022/09/19\n",
    "\n",
    "For any remark or suggestion, please feel free to contact me."
   ]
  },
  {
   "cell_type": "markdown",
   "metadata": {
    "id": "4-0LCM7sseew"
   },
   "source": [
    "## Objective:\n",
    "\n",
    "The objective of this lab is to develop a two hidden layers MLP to perform **binary classification**.\n",
    "\n",
    "We will use a MLP with 2 hidden layer with $n_{h1}=20$ and $n_{h2}=10$ hidden units and ```relu``` activation functions.\n",
    "You will perform 10.000 iterations (epochs) of SGD to find the parameters.\n",
    "\n",
    "Note: for this lab, we do not separate the dataset into a train, validation and test part."
   ]
  },
  {
   "cell_type": "markdown",
   "metadata": {
    "id": "rhcaeREyshiA"
   },
   "source": [
    "### Data normalization\n",
    "\n",
    "You should normalize the data to zero mean and unit standard deviation"
   ]
  },
  {
   "cell_type": "markdown",
   "metadata": {
    "id": "W889TJY0sjrw"
   },
   "source": [
    "### Model\n",
    "\n",
    "There are various ways to write NN model in pytorch. \n",
    "\n",
    "In this lab, you will write three different implementations:\n",
    "- **Model A**: manually defining the parameters (W1,b1,W2,b2,W3,b3), writing the forward equations, writting the loss equation, calling the .backward() and manually updating the weights using W1.grad. You will write the loop to perform 1000 epochs.\n",
    "- **Model B**: using the Sequential class of pytorch\n",
    "- **Model C**: a custom torch.nn.Module class for this.\n",
    "\n",
    "For Model B and C, you will use the ready made loss and optimization from the nn and optim packages. You can use the same code to optimize the parameters of Model B and C."
   ]
  },
  {
   "cell_type": "markdown",
   "metadata": {
    "id": "_Qc8jENGsmR5"
   },
   "source": [
    "### Loss\n",
    "\n",
    "Since we are dealing with a binary classification problem, we will use a Binary Cross Entropy loss (use ```torch.nn.BCELoss``` for Model B and C)."
   ]
  },
  {
   "cell_type": "markdown",
   "metadata": {
    "id": "PbkGTDaRso25"
   },
   "source": [
    "### Parameters update/ Optimization\n",
    "\n",
    "For updating the parameters, we will use as optimizer a simple SGD algorithm (use ```torch.optim.SGD``` for Model B and C) with a learning rate of 0.1.\n",
    "\n",
    "Don't forget that an optimizer is applied to a set of parameters (```my_model.parameters()``` gives the parameters of the network for Model B and C).\n",
    "Once the gradients have been computed (after the backpropagation has been performed), you can perform one step of optimization (using ```optimizer.step()``` for Model B and C)."
   ]
  },
  {
   "cell_type": "markdown",
   "metadata": {
    "id": "6qzL47Ntss3p"
   },
   "source": [
    "### Backward propagation\n",
    "\n",
    "Backpropagation is automatically performed in pytorch using the ```autograd``` package. \n",
    "First, reset the gradients of all parameters (using ```optimizer.zero_grad()``` for Model B and C), then perform the backpropagation ```loss.backward()```. "
   ]
  },
  {
   "cell_type": "markdown",
   "metadata": {
    "id": "k4fnzJJDo60Y"
   },
   "source": [
    "### Your task:\n",
    "\n",
    "You need to add the missing parts in the code (parts between ```# --- START CODE HERE``` and ```# --- END CODE HERE```)\n",
    "\n",
    "### Documentation:\n",
    "- NN: https://pytorch.org/docs/stable/nn.html\n",
    "- Autograd: https://pytorch.org/docs/stable/autograd.html\n",
    "- Optim: https://pytorch.org/docs/stable/optim.html\n"
   ]
  },
  {
   "cell_type": "markdown",
   "metadata": {
    "id": "tuvU8y2Lo60Z"
   },
   "source": [
    "## Load the python packages"
   ]
  },
  {
   "cell_type": "code",
   "execution_count": 2,
   "metadata": {
    "id": "I1VTuwVio60a"
   },
   "outputs": [],
   "source": [
    "import torch\n",
    "import torch.nn as nn\n",
    "import torch.nn.functional as F\n",
    "import torch.optim as optim\n",
    "from torch.autograd import Variable\n",
    "\n",
    "import numpy as np\n",
    "import matplotlib.pyplot as plt\n",
    "\n",
    "student = True"
   ]
  },
  {
   "cell_type": "code",
   "execution_count": 3,
   "metadata": {
    "colab": {
     "base_uri": "https://localhost:8080/"
    },
    "id": "Zof__thjo60d",
    "outputId": "3330206e-cf69-4fe9-cce6-d41ea6d8ee55"
   },
   "outputs": [
    {
     "name": "stdout",
     "output_type": "stream",
     "text": [
      "1.12.1\n"
     ]
    }
   ],
   "source": [
    "print(torch.__version__)"
   ]
  },
  {
   "cell_type": "markdown",
   "metadata": {
    "id": "Bsb-phrJo60g"
   },
   "source": [
    "## Dataset\n",
    "\n",
    "We take the usual circle dataset from sklearn."
   ]
  },
  {
   "cell_type": "code",
   "execution_count": 4,
   "metadata": {
    "id": "Otam7ukPo60g"
   },
   "outputs": [],
   "source": [
    "from sklearn import datasets\n",
    "X_np, y_np = datasets.make_circles(n_samples=1000, noise=0.2, factor=0.5)"
   ]
  },
  {
   "cell_type": "markdown",
   "metadata": {
    "id": "-5idAV4Co60i"
   },
   "source": [
    "We convert the ```numpy tensors``` to ```torch tensors```. \n",
    "The difference being that the latters allows to do automatic gradient differentiation (back-propagation)."
   ]
  },
  {
   "cell_type": "code",
   "execution_count": 5,
   "metadata": {
    "id": "rPxnzVSDo60j"
   },
   "outputs": [],
   "source": [
    "X = torch.from_numpy(X_np).float()\n",
    "y = torch.from_numpy(y_np).float()\n",
    "y = y.view(len(y), 1)"
   ]
  },
  {
   "cell_type": "code",
   "execution_count": 6,
   "metadata": {
    "colab": {
     "base_uri": "https://localhost:8080/"
    },
    "id": "YHgd8JYPo60l",
    "outputId": "7ba6193a-d9ad-499d-a64b-f994870130c9"
   },
   "outputs": [
    {
     "name": "stdout",
     "output_type": "stream",
     "text": [
      "torch.Size([1000, 2])\n",
      "torch.Size([1000, 1])\n",
      "tensor([-0.0031,  0.0113])\n",
      "tensor([0.5929, 0.5905])\n"
     ]
    }
   ],
   "source": [
    "print(X.size())\n",
    "print(y.size())\n",
    "print(X.mean(dim=0))\n",
    "print(X.std(dim=0))"
   ]
  },
  {
   "cell_type": "markdown",
   "metadata": {
    "id": "Unp-3kjjo60n"
   },
   "source": [
    "## Normalization"
   ]
  },
  {
   "cell_type": "code",
   "execution_count": 7,
   "metadata": {
    "colab": {
     "base_uri": "https://localhost:8080/"
    },
    "id": "6rIwFaauo60n",
    "outputId": "5cb31f0f-7daa-4a6a-e0b1-a5c8b6afe872"
   },
   "outputs": [
    {
     "name": "stdout",
     "output_type": "stream",
     "text": [
      "tensor([ 1.9073e-09, -9.5367e-09])\n",
      "tensor([1., 1.])\n"
     ]
    }
   ],
   "source": [
    "X -= X.mean(dim=0)\n",
    "X /= X.std(dim=0)\n",
    "print(X.mean(dim=0))\n",
    "print(X.std(dim=0))"
   ]
  },
  {
   "cell_type": "markdown",
   "metadata": {
    "id": "Rc3VgVWOo60p"
   },
   "source": [
    "## Definition of the hyper-parameters"
   ]
  },
  {
   "cell_type": "code",
   "execution_count": 8,
   "metadata": {
    "id": "OrBQMqCJo60r"
   },
   "outputs": [],
   "source": [
    "n_in = X.shape[1]\n",
    "n_h1 = 20\n",
    "n_h2 = 10\n",
    "n_out = 1\n",
    "\n",
    "nb_epoch = 10000\n",
    "alpha = 0.1"
   ]
  },
  {
   "cell_type": "markdown",
   "metadata": {
    "id": "CIzjntgZo60t"
   },
   "source": [
    "## Model 1 (writing the network equations)\n",
    "\n",
    "\n"
   ]
  },
  {
   "cell_type": "markdown",
   "metadata": {
    "id": "4pllj-HFth04"
   },
   "source": [
    "### Parameter initialization\n",
    "\n",
    "**Using torch.Tensors**.\n",
    "You will define the variables and write the equations of the network yourself (as you would do in numpy).\n",
    "However you will use ```torch.Tensors``` instead of ```numpy.Array```. \n",
    "\n",
    "***Why ?*** because torch tensors will allows you to automatically get the gradient. You will use ```loss.backward()``` to launch the backpropagation from ```loss```. Then, for all tensors you've created and for which you declared ```requires_grad=True```, you will get the gradient of ```loss```with respect to this variable in the field ```.grad```. \n",
    "\n",
    "Example: ```W1 = torch.Tensor(..., requires_grad=True)``` ... ```loss.backward``` will have the gradient $\\frac{d Loss}{d W1}$in ```W1.grad```.\n",
    "\n",
    "**Rendom initialization**. Don't forget that the weight $W_1, W_2, \\cdots$ matrices **should be initialized randomly with small values**; while the bias vectors $b_1, b_2, \\cdots$can be initialized to zero."
   ]
  },
  {
   "cell_type": "code",
   "execution_count": 12,
   "metadata": {
    "colab": {
     "base_uri": "https://localhost:8080/",
     "height": 235
    },
    "id": "fGEMW1P1tllj",
    "outputId": "a26b035a-374b-419e-cd81-d4a945bf9f26"
   },
   "outputs": [],
   "source": [
    "# --- We first initialize the variables of the network (W1, b1, ...)\n",
    "if student:\n",
    "    # --- START CODE HERE (01)\n",
    "    W1 = torch.randn(n_in, n_h1) * 0.01\n",
    "    W1.requires_grad = True\n",
    "    b1 = torch.zeros(size=(1, n_h1))\n",
    "    b1.requires_grad = True\n",
    "    \n",
    "    W2 = torch.randn(n_h1, n_h2) * 0.01\n",
    "    W2.requires_grad = True\n",
    "    b2 = torch.zeros(size=(1, n_h2))\n",
    "    b2.requires_grad = True\n",
    "\n",
    "    W3 = torch.randn(n_h2, n_out) * 0.01\n",
    "    W3.requires_grad = True\n",
    "    b3 = torch.zeros(size=(1, n_out))\n",
    "    b3.requires_grad = True\n",
    "\n",
    "    # --- END CODE HERE"
   ]
  },
  {
   "cell_type": "markdown",
   "metadata": {
    "id": "GU472VdktqoP"
   },
   "source": [
    "### Define the model\n",
    "\n",
    "We write a function to perform the forward pass (using pytorch operators, not numpy operators) taking X as input and returing hat_y as output."
   ]
  },
  {
   "cell_type": "code",
   "execution_count": 10,
   "metadata": {
    "id": "1BWc4OoZts_l"
   },
   "outputs": [],
   "source": [
    "def model(X):\n",
    "    if student:\n",
    "        # --- START CODE HERE (02)\n",
    "        A0 = X    \n",
    "        Z1 = torch.mm(A0, W1) + b1\n",
    "        A1 = F.relu(Z1)\n",
    "        Z2 = torch.mm(A1, W2) + b2\n",
    "        A2 = F.relu(Z2)\n",
    "        Z3 = torch.mm(A2, W3) + b3\n",
    "        A3 = torch.sigmoid(Z3)\n",
    "        hat_y = A3\n",
    "        # --- END CODE HERE\n",
    "    return hat_y"
   ]
  },
  {
   "cell_type": "markdown",
   "metadata": {
    "id": "-t--05ydty4g"
   },
   "source": [
    "### Main training loop\n",
    "\n",
    "We iterate over epochs (we do not perform split into mini-batch here)\n",
    "For each iteration, we\n",
    "- a) perform the forward pass, \n",
    "- b) compute the loss/cost, \n",
    "- c) compute the backward pass to get the gradients of the cost w.r.t. the parameters W1, b1, ...\n",
    "- d) perform the update of the parameters W1, b1, ...\n",
    "\n",
    "***Important: pytorch restriction***\n",
    "When you update the parameters (W1, b1, ...) but subtracting a small part of the gradient, you should that ``inplace`` (W1 -= ??? and not W1 = W1 - ???). Otherwise pytorch will overide W1 by its value (it will eras its .grad filed).\n"
   ]
  },
  {
   "cell_type": "code",
   "execution_count": 13,
   "metadata": {
    "colab": {
     "base_uri": "https://localhost:8080/",
     "height": 235
    },
    "id": "HB65rqW4o60u",
    "outputId": "487c11f3-5093-4a5b-d1c7-919d7e460033"
   },
   "outputs": [
    {
     "name": "stdout",
     "output_type": "stream",
     "text": [
      "epoch 0, loss 0.6931482553482056\n",
      "epoch 500, loss 0.6931456327438354\n",
      "epoch 1000, loss 0.6931445598602295\n",
      "epoch 1500, loss 0.6931426525115967\n",
      "epoch 2000, loss 0.6931388974189758\n",
      "epoch 2500, loss 0.6931320428848267\n",
      "epoch 3000, loss 0.6931158900260925\n",
      "epoch 3500, loss 0.6930701732635498\n",
      "epoch 4000, loss 0.6928760409355164\n",
      "epoch 4500, loss 0.6908408999443054\n",
      "epoch 5000, loss 0.40275946259498596\n",
      "epoch 5500, loss 0.26303738355636597\n",
      "epoch 6000, loss 0.2604670524597168\n",
      "epoch 6500, loss 0.2596914768218994\n",
      "epoch 7000, loss 0.2588733732700348\n",
      "epoch 7500, loss 0.2575090229511261\n",
      "epoch 8000, loss 0.25731852650642395\n",
      "epoch 8500, loss 0.2572156488895416\n",
      "epoch 9000, loss 0.25703227519989014\n",
      "epoch 9500, loss 0.2569766938686371\n"
     ]
    },
    {
     "data": {
      "text/plain": [
       "[<matplotlib.lines.Line2D at 0x1a2c50cf10>]"
      ]
     },
     "execution_count": 13,
     "metadata": {},
     "output_type": "execute_result"
    },
    {
     "data": {
      "image/png": "[encoded data removed]",
      "text/plain": [
       "<Figure size 432x288 with 1 Axes>"
      ]
     },
     "metadata": {
      "needs_background": "light"
     },
     "output_type": "display_data"
    }
   ],
   "source": [
    "loss_l = []\n",
    "for num_epoch in range(0, nb_epoch):\n",
    "\n",
    "    # --- a) Forward pass: X (n_in, m), hat_y (n_out, m)\n",
    "    hat_y = model(X)\n",
    "\n",
    "    # -- We clip hat_y in order to avoid log(0) in the loss\n",
    "    eps = 1e-10\n",
    "    hat_y = torch.clamp(hat_y, eps, 1-eps)\n",
    "    \n",
    "    # --- b) Computing the loss/cost\n",
    "    if student:\n",
    "        # --- START CODE HERE (03)\n",
    "        loss = -(y*torch.log(hat_y)+(1-y)*torch.log(1-hat_y))\n",
    "        cost = torch.mean(loss)\n",
    "        loss_l.append(cost.item())\n",
    "        # --- END CODE HERE\n",
    "    \n",
    "    if num_epoch % 500 == 0:\n",
    "        print('epoch {}, loss {}'.format(num_epoch, cost))\n",
    "\n",
    "    # --- c) Backward pass\n",
    "    cost.backward()\n",
    "    \n",
    "    # --- \"with torch.no_grad()\" temporarily set all the requires_grad flag to false\n",
    "    with torch.no_grad():\n",
    "        # --- d) perform the update of the parameters W1, b1, ...\n",
    "        if student:\n",
    "            # --- the gradients dLoss/dW1 is stored in W1.grad, dLoss/db1 is stored in b1.grad, ...\n",
    "            # --- START CODE HERE (04)\n",
    "            W1 -= alpha * W1.grad\n",
    "            b1 -= alpha * b1.grad\n",
    "            W2 -= alpha * W2.grad\n",
    "            b2 -= alpha * b2.grad\n",
    "            W3 -= alpha * W3.grad\n",
    "            b3 -= alpha * b3.grad\n",
    "            # --- END CODE HERE\n",
    "\n",
    "    # --- We need to set to zero all gradients (otherwise they are cumulated)\n",
    "    W1.grad.zero_()\n",
    "    b1.grad.zero_()\n",
    "    W2.grad.zero_()\n",
    "    b2.grad.zero_()\n",
    "    W3.grad.zero_()\n",
    "    b3.grad.zero_()\n",
    "\n",
    "plt.plot(loss_l)"
   ]
  },
  {
   "cell_type": "markdown",
   "metadata": {
    "id": "lxgA4DXVo60w"
   },
   "source": [
    "## Model 2 (using nn.sequential)\n",
    "\n",
    "Here, you will use the package ```torch.nn``` which comes with a predefined set of layers. The syntax is close to the one of ```keras```(```Sequential```), but differs in the fact that layers are splitted into the matrix multiplication followed by a non-linear activations (```keras```merge both using the ```Dense```layers).\n",
    "\n",
    "The model created will have all its parameters accessible as a dictionary and can be accessed using ```model.parameters()```. It is therefore a convenient way to write simple sequential networks."
   ]
  },
  {
   "cell_type": "code",
   "execution_count": 30,
   "metadata": {
    "id": "elGQpQzjo60x"
   },
   "outputs": [],
   "source": [
    "if student:\n",
    "    # --- START CODE HERE (05)\n",
    "    my_model = nn.Sequential(nn.Linear(n_in, n_h1), nn.ReLU(),\n",
    "                            nn.Linear(n_h1, n_h2), nn.ReLU(),\n",
    "                            nn.Linear(n_h2, n_out), nn.Sigmoid())\n",
    "    # --- END CODE HERE\n"
   ]
  },
  {
   "cell_type": "markdown",
   "metadata": {
    "id": "ts4aVeIPo601"
   },
   "source": [
    "### Criterion and Optimization\n",
    "\n",
    "The code of Model 1 is self-contained, i.e. it already contains all necessary instruction to perform forward, loss, backward and parameter updates.\n",
    "\n",
    "When using ```nn.sequential``` (model 2) or a class definition of the network (model 3), we still need to define \n",
    "- what we will minimize (the loss to be minimized, i.e. Binary-Cross-Entropy). We can of course write the equation of it by hand but pytorch comes with a very large number of pre-build loss functions (within ```torch.nn```)\n",
    "- how we will minimize the loss, i.e. what parameter update algorithms we will use (SGD, momentum). We can of course write the equation of it by hand but pytorch comes with a very large number of pre-build loss functions (within ```torch.nn```)"
   ]
  },
  {
   "cell_type": "code",
   "execution_count": 31,
   "metadata": {
    "id": "xs63V-Wgo602"
   },
   "outputs": [],
   "source": [
    "if student:\n",
    "    # --- START CODE HERE (08)\n",
    "    criterion = nn.BCELoss()\n",
    "    optimizer = torch.optim.SGD(my_model.parameters(),lr = alpha)\n",
    "    # --- END CODE HERE\n"
   ]
  },
  {
   "cell_type": "markdown",
   "metadata": {
    "id": "89ysZn6rw17u"
   },
   "source": [
    "### Main training loop\n",
    "\n",
    "Having defined the network, the citerion to be minimized and the optimizer, we then perform a loop over epochs (iterations); at each step we\n",
    "- compute the forward pass by passing the data to the model: ```haty = model(x)```\n",
    "- compute the the loss (the criterion)\n",
    "- putting at zero the gradients of all the parameters of the network (this is important since, by default, pytorch accumulate the gradients over time)\n",
    "- computing the backpropagation (using as before ```.backward()```)\n",
    "- performing one step of optimization (using ```.step()```)"
   ]
  },
  {
   "cell_type": "code",
   "execution_count": 33,
   "metadata": {
    "id": "JROT567kw17u"
   },
   "outputs": [
    {
     "name": "stdout",
     "output_type": "stream",
     "text": [
      "epoch 0, loss 0.7098211646080017\n",
      "epoch 500, loss 0.27506813406944275\n",
      "epoch 1000, loss 0.25804975628852844\n",
      "epoch 1500, loss 0.2564506232738495\n",
      "epoch 2000, loss 0.25597044825553894\n",
      "epoch 2500, loss 0.2554868161678314\n",
      "epoch 3000, loss 0.2553403079509735\n",
      "epoch 3500, loss 0.2552279531955719\n",
      "epoch 4000, loss 0.25511184334754944\n",
      "epoch 4500, loss 0.2550303041934967\n",
      "epoch 5000, loss 0.2549610733985901\n",
      "epoch 5500, loss 0.25489819049835205\n",
      "epoch 6000, loss 0.2548416256904602\n",
      "epoch 6500, loss 0.25479087233543396\n",
      "epoch 7000, loss 0.2547451853752136\n",
      "epoch 7500, loss 0.2546922266483307\n",
      "epoch 8000, loss 0.2546483278274536\n",
      "epoch 8500, loss 0.25461000204086304\n",
      "epoch 9000, loss 0.2545742988586426\n",
      "epoch 9500, loss 0.25454074144363403\n"
     ]
    },
    {
     "data": {
      "image/png": "[encoded data removed]",
      "text/plain": [
       "<Figure size 432x288 with 1 Axes>"
      ]
     },
     "metadata": {
      "needs_background": "light"
     },
     "output_type": "display_data"
    }
   ],
   "source": [
    "loss_l = []\n",
    "for num_epoch in range(nb_epoch):\n",
    "  \n",
    "    if student:\n",
    "        # --- START CODE HERE (09)\n",
    "        hat_y = my_model(X) # Forward pass: Compute predicted y by passing  x to the model          \n",
    "        # Zero gradients, perform a backward pass, and update the weights. \n",
    "        ... # re-init the gradients (otherwise they are cumulated)\n",
    "        ... # perform back-propagation\n",
    "        ... # update the weights\n",
    "        \n",
    "        loss = criterion(hat_y, y)\n",
    "        optimizer.zero_grad()\n",
    "        loss.backward()\n",
    "        optimizer.step()\n",
    "        # --- END CODE HERE\n",
    "        \n",
    "    loss_l.append(loss.item())\n",
    "\n",
    "    if num_epoch % 500 == 0:\n",
    "        print('epoch {}, loss {}'.format(num_epoch, loss.item()))\n",
    "        \n",
    "# ----------------\n",
    "plt.plot(loss_l);"
   ]
  },
  {
   "cell_type": "markdown",
   "metadata": {
    "id": "4twpnbEAo60z"
   },
   "source": [
    "## Model 3 (using a class definition)\n",
    "\n",
    "Here, you will write the network using the recommended pytroch way; i.e. by defining a class.\n",
    "This class inherit from the main class ```torch.nn.Module```.\n",
    "You only need to write the ```__init__``` method and the ```forward``` method.\n",
    "\n",
    "In object programming, the ```__init__``` method defines the attributes of your class. Since the attributes of your  network are the parameters to be trained (weights and biases), you should declare in the ```__init``` all the layers that involve parameters to be trained (mostly the ```Linear```layers which perform the matrix multiplication).\n",
    "\n",
    "The ```forward``` method contains the code of the forward pass itself. It can of course call attributes defined in the ```__init___``` method. It is the method used when calling ```model(x)```.\n",
    "\n",
    "As before, the model created will have all its parameters accessible as a dictionary and can be accessed using ```model.parameters()```. \n",
    "\n",
    "Classes are convenient way to write more complex network than what you can do with ```nn.sequential```. Note that you can actually include a ```nn.sequential``` in your class."
   ]
  },
  {
   "cell_type": "code",
   "execution_count": 57,
   "metadata": {
    "id": "ZNsNkq9Do60z"
   },
   "outputs": [],
   "source": [
    "class Net(torch.nn.Module):\n",
    "    def __init__(self, n_in, n_h1, n_h2, n_out):\n",
    "        super(Net, self).__init__()\n",
    "        \n",
    "        if student:\n",
    "            # --- START CODE HERE (06)\n",
    "            self.fc1 = nn.Linear(n_in, n_h1)  # hidden layer 1\n",
    "            self.fc2 = nn.Linear(n_h1, n_h2) # hidden layer 2\n",
    "            self.fc3 = nn.Linear(n_h2, n_out)  # output layer\n",
    "            # --- END CODE HERE\n",
    "        \n",
    "    def forward(self, X):\n",
    "        \n",
    "        if student:\n",
    "            # --- START CODE HERE (07)\n",
    "            A0 = X\n",
    "            A1 = nn.ReLU().forward(self.fc1.forward(A0))   # activation function for hidden layer 1\n",
    "            A2 = nn.ReLU().forward(self.fc2.forward(A1))  # activation function for hidden layer 2\n",
    "            A3 = nn.Sigmoid().forward(self.fc3.forward(A2))   # activation function for output layer\n",
    "            # --- END CODE HERE\n",
    "\n",
    "        return A3\n",
    "\n",
    "# --- START CODE HERE\n",
    "my_model = Net(n_in, n_h1, n_h2, n_out)\n",
    "# --- END CODE HERE"
   ]
  },
  {
   "cell_type": "markdown",
   "metadata": {
    "id": "VfOoKPMtwfLI"
   },
   "source": [
    "### Criterion and Optimization (same as for model 2 -> copy and paste your code)"
   ]
  },
  {
   "cell_type": "code",
   "execution_count": 58,
   "metadata": {
    "id": "xs63V-Wgo602"
   },
   "outputs": [],
   "source": [
    "if student:\n",
    "    # --- START CODE HERE (08)\n",
    "    criterion = nn.BCELoss()\n",
    "    optimizer = torch.optim.SGD(my_model.parameters(),lr = alpha)\n",
    "    # --- END CODE HERE\n"
   ]
  },
  {
   "cell_type": "markdown",
   "metadata": {
    "id": "XamuBM_ho604"
   },
   "source": [
    "### Main training loop (same as for model 2 -> copy and paste your code)\n"
   ]
  },
  {
   "cell_type": "code",
   "execution_count": 59,
   "metadata": {
    "id": "JROT567kw17u"
   },
   "outputs": [
    {
     "name": "stdout",
     "output_type": "stream",
     "text": [
      "epoch 0, loss 0.6954684257507324\n",
      "epoch 500, loss 0.26388806104660034\n",
      "epoch 1000, loss 0.2589339017868042\n",
      "epoch 1500, loss 0.25753217935562134\n",
      "epoch 2000, loss 0.2568877041339874\n",
      "epoch 2500, loss 0.25649943947792053\n",
      "epoch 3000, loss 0.25624582171440125\n",
      "epoch 3500, loss 0.25603100657463074\n",
      "epoch 4000, loss 0.25569090247154236\n",
      "epoch 4500, loss 0.255508154630661\n",
      "epoch 5000, loss 0.2551659047603607\n",
      "epoch 5500, loss 0.2545563280582428\n",
      "epoch 6000, loss 0.25437256693840027\n",
      "epoch 6500, loss 0.25425004959106445\n",
      "epoch 7000, loss 0.25413772463798523\n",
      "epoch 7500, loss 0.25403445959091187\n",
      "epoch 8000, loss 0.2539403438568115\n",
      "epoch 8500, loss 0.2538432776927948\n",
      "epoch 9000, loss 0.2537466883659363\n",
      "epoch 9500, loss 0.25361812114715576\n"
     ]
    },
    {
     "data": {
      "image/png": "[encoded data removed]",
      "text/plain": [
       "<Figure size 432x288 with 1 Axes>"
      ]
     },
     "metadata": {
      "needs_background": "light"
     },
     "output_type": "display_data"
    }
   ],
   "source": [
    "loss_l = []\n",
    "for num_epoch in range(nb_epoch):\n",
    "  \n",
    "    if student:\n",
    "        # --- START CODE HERE (09)\n",
    "        hat_y = my_model(X) # Forward pass: Compute predicted y by passing  x to the model          \n",
    "        # Zero gradients, perform a backward pass, and update the weights. \n",
    "        ... # re-init the gradients (otherwise they are cumulated)\n",
    "        ... # perform back-propagation\n",
    "        ... # update the weights\n",
    "        \n",
    "        loss = criterion(hat_y, y)\n",
    "        optimizer.zero_grad()\n",
    "        loss.backward()\n",
    "        optimizer.step()\n",
    "        # --- END CODE HERE\n",
    "        \n",
    "    loss_l.append(loss.item())\n",
    "\n",
    "    if num_epoch % 500 == 0:\n",
    "        print('epoch {}, loss {}'.format(num_epoch, loss.item()))\n",
    "        \n",
    "# ----------------\n",
    "plt.plot(loss_l);"
   ]
  },
  {
   "cell_type": "markdown",
   "metadata": {},
   "source": [
    "# Remarques"
   ]
  },
  {
   "cell_type": "markdown",
   "metadata": {},
   "source": [
    "Construire le réseau de neurones à la main est compliqué (forward, backward). Surtout, le calcul de gradient pose souvent des problèmes. Dans un cas plus complexe, le travail deviendrait beaucoup plus lourd. \n",
    "\n",
    "Du coup, c'est l'avantage des packages de deep learning: il permet de définir des layers et construire le network rapidement; il calcule le gradient automatiquement et efficacement. \n",
    "\n",
    "Un dernier point, la première version utilise un simple gradient descent algo, loss descend plus lentement que les deux dernières versions (qui utilise SGD). Cela indique l'importance du choix d'optimizer."
   ]
  },
  {
   "cell_type": "markdown",
   "metadata": {
    "id": "SeadOclLjGbn"
   },
   "source": [
    "# Evaluation\n",
    "\n",
    "To evaluate the work, you should rate the code for \n",
    "- 1) Model 1: Initialization of W1, b1, ... (01)\n",
    "- 2) Model 1: Forward-pass (02)\n",
    "- 3) Model 1: Loss and Cost computation  (03)\n",
    "- 4) Model 1: Manual update of the parameters (04)\n",
    "- 5) Model 2: using nn.sequential (05)\n",
    "- 6) Model 3: using class definition: __init__ method (06)\n",
    "- 7) Model 3: using class definition: forward method (07)\n",
    "- 8) Model 2 and 3: Loss (criterion) and parameter update algorithms (optimizer) (08)\n",
    "- 9) Model 2 and 3: code inside the loop (09)"
   ]
  },
  {
   "cell_type": "code",
   "execution_count": null,
   "metadata": {},
   "outputs": [],
   "source": []
  }
 ],
 "metadata": {
  "colab": {
   "collapsed_sections": [],
   "provenance": []
  },
  "kernelspec": {
   "display_name": "Python 3",
   "language": "python",
   "name": "python3"
  },
  "language_info": {
   "codemirror_mode": {
    "name": "ipython",
    "version": 3
   },
   "file_extension": ".py",
   "mimetype": "text/x-python",
   "name": "python",
   "nbconvert_exporter": "python",
   "pygments_lexer": "ipython3",
   "version": "3.7.6"
  },
  "toc": {
   "base_numbering": 1,
   "nav_menu": {},
   "number_sections": true,
   "sideBar": true,
   "skip_h1_title": false,
   "title_cell": "Table of Contents",
   "title_sidebar": "Contents",
   "toc_cell": false,
   "toc_position": {},
   "toc_section_display": true,
   "toc_window_display": true
  }
 },
 "nbformat": 4,
 "nbformat_minor": 4
}
