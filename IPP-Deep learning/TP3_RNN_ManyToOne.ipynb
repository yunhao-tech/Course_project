{
 "cells": [
  {
   "cell_type": "markdown",
   "metadata": {
    "id": "PBFqSEkKqpCN"
   },
   "source": [
    "# Lab Deep Learning/ Recurrent Neural Networks/ in keras\n",
    "\n",
    "## Using Many-to-One for movie rating predicton\n",
    "\n",
    "**Author: geoffroy.peeters@telecom-paris.fr**\n",
    "\n",
    "**Version**: 2021/10/05 (changed to tensorfow.keras)\n",
    "    \n",
    "For any remark or suggestion, please feel free to contact me.\n",
    "\n",
    "## Objective:\n",
    "We will implement two different networks to perform automatic rating (0 or 1) of a movie given the text of its review.\n",
    "We will use the ```imdb``` (internet movie database) dataset.\n",
    "\n",
    "The reviews are already available in the form of indexes that point to a word dictionary: each word is already encoded as an index in the dictionary."
   ]
  },
  {
   "cell_type": "markdown",
   "metadata": {
    "id": "QmkCSNaXLqjh"
   },
   "source": [
    "## Import packages"
   ]
  },
  {
   "cell_type": "code",
   "execution_count": 1,
   "metadata": {
    "id": "AOqjzDwioJj9"
   },
   "outputs": [],
   "source": [
    "import numpy as np\n",
    "from tensorflow.keras.datasets import imdb\n",
    "\n",
    "from tensorflow.keras import backend as K\n",
    "from tensorflow.keras import Model\n",
    "from tensorflow.keras.models import Sequential\n",
    "from tensorflow.keras.preprocessing import sequence\n",
    "from tensorflow.keras.layers import Dense, Activation, Embedding, Dropout, Input, LSTM, Reshape, Lambda, RepeatVector\n",
    "\n",
    "colab = True\n",
    "student = True"
   ]
  },
  {
   "cell_type": "markdown",
   "metadata": {
    "id": "v5Yp4OQVvUtr"
   },
   "source": [
    "## Parameters of the model\n",
    "\n",
    "-  We only consider the ```top_words``` first words in the word dictionary\n",
    "- We truncate/zero-pad each sequence a length ```max_review_length```"
   ]
  },
  {
   "cell_type": "code",
   "execution_count": 2,
   "metadata": {
    "id": "4C_Pv7rYvRkM"
   },
   "outputs": [],
   "source": [
    "top_words = 5000 # we consider the 5000 most commonly used words\n",
    "max_review_length = 100\n",
    "INDEX_FROM = 3\n",
    "embedding_vector_length = 32"
   ]
  },
  {
   "cell_type": "markdown",
   "metadata": {
    "id": "ZsNcRimyLzgP"
   },
   "source": [
    "## Import IMDB data"
   ]
  },
  {
   "cell_type": "code",
   "execution_count": 3,
   "metadata": {
    "id": "82dMfknplQYJ"
   },
   "outputs": [
    {
     "name": "stdout",
     "output_type": "stream",
     "text": [
      "Downloading data from https://storage.googleapis.com/tensorflow/tf-keras-datasets/imdb.npz\n",
      "17465344/17464789 [==============================] - 2s 0us/step\n"
     ]
    }
   ],
   "source": [
    "# --- Import the IMDB data and only consider the ``top_words``` most used words\n",
    "np.load.__defaults__=(None, True, True, 'ASCII')\n",
    "(X_train, y_train), (X_test, y_test) = imdb.load_data(num_words=top_words, index_from=INDEX_FROM)\n",
    "np.load.__defaults__=(None, False, True, 'ASCII')"
   ]
  },
  {
   "cell_type": "markdown",
   "metadata": {
    "id": "iSc5LmksOLyr"
   },
   "source": [
    "## Data content\n",
    "\n",
    "- ```X_train``` and ```X_test``` are numpy arrays of lists. \n",
    "  - each item in a list is the index in the word dictionary. So that a list is the sequence of index of words.\n",
    "\n",
    "- ```y_train``` and ```y_test``` are a numpy arrays of the same dimension as ```X_train``` and ```X_test``` \n",
    "  - they contains the values 0 (bad movie) or 1 (good movie)"
   ]
  },
  {
   "cell_type": "code",
   "execution_count": 4,
   "metadata": {
    "id": "WouODCPrtiuu"
   },
   "outputs": [
    {
     "name": "stdout",
     "output_type": "stream",
     "text": [
      "type(X_train): <class 'numpy.ndarray'>\n",
      "number of training sequences: X_train.shape: (25000,)\n",
      "type(X_train[0]): <class 'list'>\n",
      "length of the first training sequence: len(X_train[0]): 218\n",
      "length of the second training sequence: len(X_train[1]): 189\n",
      "list of data of the first training sequence: X_train[0]: [1, 14, 22, 16, 43, 530, 973, 1622, 1385, 65, 458, 4468, 66, 3941, 4, 173, 36, 256, 5, 25, 100, 43, 838, 112, 50, 670, 2, 9, 35, 480, 284, 5, 150, 4, 172, 112, 167, 2, 336, 385, 39, 4, 172, 4536, 1111, 17, 546, 38, 13, 447, 4, 192, 50, 16, 6, 147, 2025, 19, 14, 22, 4, 1920, 4613, 469, 4, 22, 71, 87, 12, 16, 43, 530, 38, 76, 15, 13, 1247, 4, 22, 17, 515, 17, 12, 16, 626, 18, 2, 5, 62, 386, 12, 8, 316, 8, 106, 5, 4, 2223, 2, 16, 480, 66, 3785, 33, 4, 130, 12, 16, 38, 619, 5, 25, 124, 51, 36, 135, 48, 25, 1415, 33, 6, 22, 12, 215, 28, 77, 52, 5, 14, 407, 16, 82, 2, 8, 4, 107, 117, 2, 15, 256, 4, 2, 7, 3766, 5, 723, 36, 71, 43, 530, 476, 26, 400, 317, 46, 7, 4, 2, 1029, 13, 104, 88, 4, 381, 15, 297, 98, 32, 2071, 56, 26, 141, 6, 194, 2, 18, 4, 226, 22, 21, 134, 476, 26, 480, 5, 144, 30, 2, 18, 51, 36, 28, 224, 92, 25, 104, 4, 226, 65, 16, 38, 1334, 88, 12, 16, 283, 5, 16, 4472, 113, 103, 32, 15, 16, 2, 19, 178, 32]\n",
      "maximum length of a training sequence: 2494\n"
     ]
    },
    {
     "name": "stderr",
     "output_type": "stream",
     "text": [
      "\n",
      "Bad key \"text.kerning_factor\" on line 4 in\n",
      "/Users/chenyunhao/opt/anaconda3/lib/python3.7/site-packages/matplotlib/mpl-data/stylelib/_classic_test_patch.mplstyle.\n",
      "You probably need to get an updated matplotlibrc file from\n",
      "https://github.com/matplotlib/matplotlib/blob/v3.1.3/matplotlibrc.template\n",
      "or from the matplotlib source distribution\n"
     ]
    },
    {
     "data": {
      "image/png": "[encoded data removed]",
      "text/plain": [
       "<Figure size 432x288 with 1 Axes>"
      ]
     },
     "metadata": {
      "needs_background": "light"
     },
     "output_type": "display_data"
    }
   ],
   "source": [
    "print(\"type(X_train):\", type(X_train))\n",
    "print(\"number of training sequences: X_train.shape:\", X_train.shape)\n",
    "print(\"type(X_train[0]):\",type(X_train[0]))\n",
    "print(\"length of the first training sequence: len(X_train[0]):\",len(X_train[0]))\n",
    "print(\"length of the second training sequence: len(X_train[1]):\",len(X_train[1]))\n",
    "print(\"list of data of the first training sequence: X_train[0]:\", X_train[0] )\n",
    "len_list = [len(train) for train in X_train]\n",
    "print(\"maximum length of a training sequence:\", max(len_list))\n",
    "\n",
    "import matplotlib.pyplot as plt\n",
    "plt.hist(len_list, 100);"
   ]
  },
  {
   "cell_type": "markdown",
   "metadata": {
    "id": "2I-cEKUh_HM4"
   },
   "source": [
    "## Details of how the reviews are encoded"
   ]
  },
  {
   "cell_type": "code",
   "execution_count": 5,
   "metadata": {
    "id": "XcOwiMUT_HM5"
   },
   "outputs": [
    {
     "name": "stdout",
     "output_type": "stream",
     "text": [
      "Downloading data from https://storage.googleapis.com/tensorflow/tf-keras-datasets/imdb_word_index.json\n",
      "1646592/1641221 [==============================] - 0s 0us/step\n",
      "<START> although i had seen <UNK> in a theater way back in <UNK> i couldn't remember anything of the plot except for vague images of kurt thomas running and fighting against a backdrop of stone walls and disappointment regarding the ending br br after reading some of the other reviews i picked up a copy of the newly released dvd to once again enter the world of <UNK> br br it turns out this is one of those films produced during the <UNK> that would go directly to video today the film stars <UNK> <UNK> kurt thomas as jonathan <UNK> <UNK> out of the blue to <UNK> the nation of <UNK> to enter and hopefully win the game a <UNK> <UNK> <UNK> by the khan who <UNK> his people by yelling what sounds like <UNK> power the goal of the mission involves the star wars defense system jonathan is trained in the martial arts by princess <UNK> who never speaks or leaves the house once trained tries to blend in with the <UNK> by wearing a bright red <UNK> with <UNK> of blue and white needless to say <UNK> finds himself running and fighting for his life along the stone streets of <UNK> on his way to a date with destiny and the game br br star kurt thomas was ill served by director robert <UNK> who it looks like was never on the set the so called script is just this side of incompetent see other reviews for the many <UNK> throughout the town of <UNK> has a few good moments but is ultimately ruined by bad editing the ending <UNK> still there's the <UNK> of a good action adventure here a hong kong version with more <UNK> action and faster pace might even be pretty good\n"
     ]
    }
   ],
   "source": [
    "word_to_id = imdb.get_word_index()\n",
    "word_to_id = {k:(v+INDEX_FROM) for k,v in word_to_id.items()}\n",
    "word_to_id[\"<PAD>\"] = 0\n",
    "word_to_id[\"<START>\"] = 1\n",
    "word_to_id[\"<UNK>\"] = 2\n",
    "# Index starts from 3, to leave 0, 1, 2 for unknown words, start of sentence, etc.\n",
    "# what is <Pad>?\n",
    "\n",
    "id_to_word = {value:key for key,value in word_to_id.items()}\n",
    "print(' '.join(id_to_word[id] for id in X_train[1000] ))\n",
    "\n",
    "# There are many <UNK> because we only consider the 5000 most common words. "
   ]
  },
  {
   "cell_type": "code",
   "execution_count": 6,
   "metadata": {
    "id": "Hfl42LGCugWB"
   },
   "outputs": [
    {
     "name": "stdout",
     "output_type": "stream",
     "text": [
      "type(y_train): <class 'numpy.ndarray'>\n",
      "y_train.shape: (25000,)\n"
     ]
    }
   ],
   "source": [
    "print(\"type(y_train):\", type(y_train))\n",
    "print(\"y_train.shape:\", y_train.shape)"
   ]
  },
  {
   "cell_type": "code",
   "execution_count": 7,
   "metadata": {
    "id": "iVw65PNNuobX"
   },
   "outputs": [
    {
     "name": "stdout",
     "output_type": "stream",
     "text": [
      "X_test.shape: (25000,)\n",
      "y_test.shape: (25000,)\n"
     ]
    }
   ],
   "source": [
    "print(\"X_test.shape:\", X_test.shape)\n",
    "print(\"y_test.shape:\", y_test.shape)"
   ]
  },
  {
   "cell_type": "markdown",
   "metadata": {
    "id": "V18OA7oQNH3c"
   },
   "source": [
    "## Data processing\n",
    "\n",
    "Sequences (represented as a list of values) in ```X_train``` represent the reviews.\n",
    "They can have different length.\n",
    "To train the network we should modify them so that they all have the same length.\n",
    "We do this by:\n",
    "- truncating the ones that are too long\n",
    "- padding-with-zero them the ones that are too short.\n",
    "\n",
    "This is obtained using ```sequence.pad_sequences``` of keras."
   ]
  },
  {
   "cell_type": "code",
   "execution_count": 8,
   "metadata": {
    "id": "JhmiHsOGoRwT"
   },
   "outputs": [
    {
     "name": "stdout",
     "output_type": "stream",
     "text": [
      "len(X_train[0]): 100\n",
      "len(X_train[1]): 100\n",
      "X_train[0]: [1415   33    6   22   12  215   28   77   52    5   14  407   16   82\n",
      "    2    8    4  107  117    2   15  256    4    2    7 3766    5  723\n",
      "   36   71   43  530  476   26  400  317   46    7    4    2 1029   13\n",
      "  104   88    4  381   15  297   98   32 2071   56   26  141    6  194\n",
      "    2   18    4  226   22   21  134  476   26  480    5  144   30    2\n",
      "   18   51   36   28  224   92   25  104    4  226   65   16   38 1334\n",
      "   88   12   16  283    5   16 4472  113  103   32   15   16    2   19\n",
      "  178   32]\n"
     ]
    }
   ],
   "source": [
    "# --- truncate and pad input sequences\n",
    "\n",
    "if student:\n",
    "    # --- START CODE HERE (01)\n",
    "    X_train = sequence.pad_sequences(X_train, maxlen=max_review_length)\n",
    "    X_test =  sequence.pad_sequences(X_test, maxlen=max_review_length)\n",
    "    # --- END CODE HERE\n",
    "\n",
    "print(\"len(X_train[0]):\", len(X_train[0]))\n",
    "print(\"len(X_train[1]):\", len(X_train[1]))\n",
    "print(\"X_train[0]:\", X_train[0])"
   ]
  },
  {
   "cell_type": "markdown",
   "metadata": {
    "id": "YlrDTuk5K65Q"
   },
   "source": [
    "# First model\n",
    "\n",
    "<img src=\"https://perso.telecom-paristech.fr/gpeeters/doc/Lab_DL_RNN_01.png\">\n",
    "\n",
    "In the first model, we will simply \n",
    "- learn a word embedding  (```Embedding``` layer in keras) and apply it to each item of the sequence, \n",
    "  -  in keras, embedding is not a matrix going from one-hot-encoding to embedding, but is a layer that goes from index-in-word-dictionary to embedding\n",
    "  - the embedding goes from ```top_words``` dimensions to  ```embedding_vector_length``` dimensions\n",
    "- average the embedding obtained for each word of a sequence over all words of the sequence (you should use ```K.mean``` and ```Lambda``` from the keras backend)\n",
    "- apply a fully connected (```Dense``` layer in keras) which output activation is a sigmoid (predicting the 0 or 1 rating)\n",
    "\n",
    "We will code this model \n",
    "- First, using the Sequential API of keras (https://keras.io/models/sequential/)\n",
    "- Secondly, using the Functional API of keras (https://keras.io/getting-started/functional-api-guide/)\n"
   ]
  },
  {
   "cell_type": "code",
   "execution_count": null,
   "metadata": {
    "id": "ufW00TGcs3Jj"
   },
   "outputs": [],
   "source": [
    "K.clear_session()"
   ]
  },
  {
   "cell_type": "code",
   "execution_count": 49,
   "metadata": {
    "id": "zspaUptgtW9l"
   },
   "outputs": [
    {
     "name": "stdout",
     "output_type": "stream",
     "text": [
      "Model: \"first_model_Functional_API\"\n",
      "_________________________________________________________________\n",
      "Layer (type)                 Output Shape              Param #   \n",
      "=================================================================\n",
      "input_9 (InputLayer)         [(None, 100)]             0         \n",
      "_________________________________________________________________\n",
      "embedding_18 (Embedding)     (None, 100, 32)           160000    \n",
      "_________________________________________________________________\n",
      "lambda_16 (Lambda)           (1, 1, 1)                 0         \n",
      "_________________________________________________________________\n",
      "dense_15 (Dense)             (1, 1, 1)                 2         \n",
      "=================================================================\n",
      "Total params: 160,002\n",
      "Trainable params: 160,002\n",
      "Non-trainable params: 0\n",
      "_________________________________________________________________\n",
      "None\n"
     ]
    }
   ],
   "source": [
    "# --- create the model\n",
    "# CODE-RNN1-2\n",
    "if student:\n",
    "    # --- START CODE HERE (02)\n",
    "    # --- Using the Sequential API\n",
    "#     model = Sequential(name='first_model_Sequential_API')\n",
    "#     model.add(Embedding(top_words, embedding_vector_length))\n",
    "#     model.add(Lambda(lambda x: K.mean(x, keepdims=True)))\n",
    "#     model.add(Dense(units=1, activation='sigmoid'))\n",
    "    # --- END CODE HERE\n",
    "    \n",
    "    # --- START CODE HERE (03)\n",
    "    # --- Using the Functional API\n",
    "    inputs = Input(shape=(max_review_length,))\n",
    "    x = Embedding(top_words, embedding_vector_length)(inputs)\n",
    "    x = Lambda(lambda x: K.mean(x, keepdims=True))(x)\n",
    "    outputs = Dense(units=1, activation='sigmoid')(x)\n",
    "    model = Model(inputs=inputs, outputs=outputs, name=\"first_model_Functional_API\") # no space in the name!\n",
    "    # --- END CODE HERE\n",
    "\n",
    "print(model.summary())"
   ]
  },
  {
   "cell_type": "code",
   "execution_count": 56,
   "metadata": {},
   "outputs": [
    {
     "name": "stdout",
     "output_type": "stream",
     "text": [
      "Model: \"first_model_Sequential_API\"\n",
      "_________________________________________________________________\n",
      "Layer (type)                 Output Shape              Param #   \n",
      "=================================================================\n",
      "embedding_22 (Embedding)     (None, 100, 32)           160000    \n",
      "_________________________________________________________________\n",
      "dense_19 (Dense)             (None, 100, 1)            33        \n",
      "=================================================================\n",
      "Total params: 160,033\n",
      "Trainable params: 160,033\n",
      "Non-trainable params: 0\n",
      "_________________________________________________________________\n",
      "None\n"
     ]
    }
   ],
   "source": [
    "if student:\n",
    "    model = Sequential(name='first_model_Sequential_API')\n",
    "    model.add(Input(shape=(max_review_length,)))\n",
    "    model.add(Embedding(top_words, embedding_vector_length))\n",
    "#     model.add(Lambda(lambda x: K.mean(x, keepdims=True)))\n",
    "    model.add(Dense(units=1, activation='sigmoid'))\n",
    "    print(model.summary())    "
   ]
  },
  {
   "cell_type": "code",
   "execution_count": 57,
   "metadata": {
    "id": "pFXz4AS6tawQ"
   },
   "outputs": [
    {
     "name": "stdout",
     "output_type": "stream",
     "text": [
      "Epoch 1/3\n",
      "391/391 [==============================] - 2s 5ms/step - loss: 0.6831 - accuracy: 0.5482 - val_loss: 0.6808 - val_accuracy: 0.5467\n",
      "Epoch 2/3\n",
      "391/391 [==============================] - 2s 5ms/step - loss: 0.6789 - accuracy: 0.5538 - val_loss: 0.6804 - val_accuracy: 0.5510\n",
      "Epoch 3/3\n",
      "391/391 [==============================] - 2s 5ms/step - loss: 0.6784 - accuracy: 0.5540 - val_loss: 0.6804 - val_accuracy: 0.5505\n"
     ]
    },
    {
     "data": {
      "text/plain": [
       "<tensorflow.python.keras.callbacks.History at 0x64e2eae90>"
      ]
     },
     "execution_count": 57,
     "metadata": {},
     "output_type": "execute_result"
    }
   ],
   "source": [
    "# --- compile and fit the model\n",
    "model.compile(loss='binary_crossentropy', optimizer='adam', metrics=['accuracy'])\n",
    "model.fit(X_train, y_train, epochs=3, batch_size=64, validation_data=(X_test, y_test))"
   ]
  },
  {
   "cell_type": "markdown",
   "metadata": {
    "id": "SBqyzLJRUIsC"
   },
   "source": [
    "## Results\n",
    "\n",
    "After only 3 epochs, you should obtain an accuracy around 83-84% for the test data."
   ]
  },
  {
   "cell_type": "code",
   "execution_count": 51,
   "metadata": {
    "id": "nCALyP-Q_HNH"
   },
   "outputs": [
    {
     "name": "stdout",
     "output_type": "stream",
     "text": [
      "Accuracy: 50.00%\n"
     ]
    }
   ],
   "source": [
    "# --- Final evaluation of the model\n",
    "scores = model.evaluate(X_test, y_test, verbose=0)\n",
    "print(\"Accuracy: %.2f%%\" % (scores[1]*100))"
   ]
  },
  {
   "cell_type": "markdown",
   "metadata": {
    "id": "uRP-h4Xr_HNJ"
   },
   "source": [
    "## Using the trained embedding to find equivalence between words\n",
    "\n",
    "Since the embedding is part of the models, we can look at the trained embedding matrix $E$ and use it to get the most similar words (according to the trained matrix $E$) in the dictionary.\n",
    "Use the weights of the ```Embedding``` layer to find the most similar words to ```great```. We will use an Euclidean distance for that.\n",
    "- Retrieve the weights of the ```Embedding layer```\n",
    "- Get the position of ```great``` in the dictionary\n",
    "- Get the word-embedding of ```great```\n",
    "- Find (using Euclidean distance), the closest embedded-words to ```great```"
   ]
  },
  {
   "cell_type": "code",
   "execution_count": null,
   "metadata": {
    "id": "7xMubRqJ_HNJ"
   },
   "outputs": [],
   "source": [
    "if student:\n",
    "    # --- START CODE HERE (04)\n",
    "    E = ...\n",
    "    # --- END CODE HERE\n"
   ]
  },
  {
   "cell_type": "markdown",
   "metadata": {
    "id": "zK9e5Eo1Ks2a"
   },
   "source": [
    "# Second model\n",
    "\n",
    "In the second model, we will replace\n",
    "- the average over the sequence of the obtained embedding\n",
    "- by a RNN layer (more precisely an ```LSTM```) in a Many-To-One configuration with $n_a=128$\n",
    "\n",
    "We will code this model \n",
    "- First, using the Sequential API of keras (https://keras.io/models/sequential/)\n",
    "- Secondly, using the Functional API of keras (https://keras.io/getting-started/functional-api-guide/)\n",
    "\n"
   ]
  },
  {
   "cell_type": "code",
   "execution_count": null,
   "metadata": {
    "id": "rwoXuOqqVDOy"
   },
   "outputs": [],
   "source": [
    "K.clear_session()"
   ]
  },
  {
   "cell_type": "code",
   "execution_count": null,
   "metadata": {
    "id": "7dl-CSMKoViX"
   },
   "outputs": [],
   "source": [
    "# --- create the model\n",
    "\n",
    "if student:\n",
    "    # --- START CODE HERE (05)\n",
    "    # --- Using the Sequential API\n",
    "    model = ...\n",
    "    # --- END CODE HERE\n",
    "    \n",
    "    # --- START CODE HERE (06)\n",
    "    # --- Using the Functional API\n",
    "    model = ...\n",
    "    # --- END CODE HERE\n",
    "   \n",
    "print(model.summary())"
   ]
  },
  {
   "cell_type": "code",
   "execution_count": null,
   "metadata": {
    "id": "-bp7PzX7oXtB",
    "scrolled": true
   },
   "outputs": [],
   "source": [
    "# --- compile and fit the model\n",
    "model.compile(loss='binary_crossentropy', optimizer='adam', metrics=['accuracy'])\n",
    "model.fit(X_train, y_train, epochs=3, batch_size=64, validation_data=(X_test, y_test))"
   ]
  },
  {
   "cell_type": "markdown",
   "metadata": {
    "id": "F1LN_fjMWBHJ"
   },
   "source": [
    "## Results\n",
    "\n",
    "After only 3 epochs, you should obtain an accuracy around 84-85% for the test data."
   ]
  },
  {
   "cell_type": "code",
   "execution_count": null,
   "metadata": {
    "id": "RlMEKRbzoavm"
   },
   "outputs": [],
   "source": [
    "# --- Final evaluation of the model\n",
    "scores = model.evaluate(X_test, y_test, verbose=0)\n",
    "print(\"Accuracy: %.2f%%\" % (scores[1]*100)) "
   ]
  },
  {
   "cell_type": "markdown",
   "metadata": {
    "id": "LVK5sGgF_HNX"
   },
   "source": [
    "# Evaluation\n",
    "\n",
    "To evaluate the work, you should rate the code for \n",
    "- 1) Data Pre-Processing (01)\n",
    "- 2) First model using the Sequential API (02)\n",
    "- 3) First model using the Functional API (03)\n",
    "- 4) Find equivalence between words (04)\n",
    "- 5) Second model using the Sequential API (05)\n",
    "- 6) Second model using the Functional API (06)\n"
   ]
  }
 ],
 "metadata": {
  "accelerator": "GPU",
  "colab": {
   "collapsed_sections": [],
   "provenance": []
  },
  "kernelspec": {
   "display_name": "Python 3",
   "language": "python",
   "name": "python3"
  },
  "language_info": {
   "codemirror_mode": {
    "name": "ipython",
    "version": 3
   },
   "file_extension": ".py",
   "mimetype": "text/x-python",
   "name": "python",
   "nbconvert_exporter": "python",
   "pygments_lexer": "ipython3",
   "version": "3.7.6"
  },
  "toc": {
   "base_numbering": 1,
   "nav_menu": {},
   "number_sections": true,
   "sideBar": true,
   "skip_h1_title": false,
   "title_cell": "Table of Contents",
   "title_sidebar": "Contents",
   "toc_cell": false,
   "toc_position": {},
   "toc_section_display": true,
   "toc_window_display": false
  }
 },
 "nbformat": 4,
 "nbformat_minor": 4
}
