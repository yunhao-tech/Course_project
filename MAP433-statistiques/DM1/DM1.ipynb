{
 "cells": [
  {
   "cell_type": "markdown",
   "metadata": {},
   "source": [
    "# MAP433 - DM1"
   ]
  },
  {
   "cell_type": "markdown",
   "metadata": {},
   "source": [
    "### Groupe 43 : CHEN YUNHAO & LAHIANI MAZIGH & WANG XIAOZHEN  "
   ]
  },
  {
   "cell_type": "code",
   "execution_count": 4,
   "metadata": {},
   "outputs": [],
   "source": [
    "import numpy as np\n",
    "import scipy.special as scm\n",
    "from pylab import *\n",
    "import matplotlib.pyplot as plt\n",
    "import statsmodels.api as sm\n",
    "import statsmodels.formula.api as smf\n",
    "import pandas as pd\n",
    "import scipy.stats as sts"
   ]
  },
  {
   "cell_type": "code",
   "execution_count": 5,
   "metadata": {},
   "outputs": [],
   "source": [
    "dataset = pd.read_csv ('./ozone_complet.txt', delimiter=\";\", header=0)#, index_col = [0, 1], names=[\"x\",\"y\"])\n",
    "index_with_nan = dataset.index[dataset.isnull().any(axis=1)]\n",
    "N = len(dataset)\n",
    "dataset[\"intercept\"] =  np.ones(N)\n",
    "dataset = dataset.copy()\n",
    "dataset.drop(index_with_nan,0, inplace=True)\n",
    "Y = dataset[\"maxO3\"]\n",
    "Z = dataset[[\"intercept\", \"T12\", \"Vx\", \"Ne12\"]]\n",
    "Zn = Z.to_numpy()\n",
    "Yn = Y.to_numpy()"
   ]
  },
  {
   "cell_type": "markdown",
   "metadata": {},
   "source": [
    "## Préambule : \n",
    "Ici nous utilisons une bibliothèque qui facilite les calcules, nous vérifions que les résultats que nous obtenons concordent bien.\n",
    "le modele n'est pas exactement le même car le modèle de cette bibliothèque fixe la variance à 1.\n",
    "Mais les resultats ne sont pas trés éloignés des notres. (Beta est exactement le même car il ne depend pas de la variance)"
   ]
  },
  {
   "cell_type": "code",
   "execution_count": 6,
   "metadata": {},
   "outputs": [
    {
     "name": "stdout",
     "output_type": "stream",
     "text": [
      "                            OLS Regression Results                            \n",
      "==============================================================================\n",
      "Dep. Variable:                  maxO3   R-squared:                       0.441\n",
      "Model:                            OLS   Adj. R-squared:                  0.440\n",
      "Method:                 Least Squares   F-statistic:                     358.0\n",
      "Date:                Thu, 17 Sep 2020   Prob (F-statistic):          2.26e-171\n",
      "Time:                        20:57:15   Log-Likelihood:                -5830.7\n",
      "No. Observations:                1366   AIC:                         1.167e+04\n",
      "Df Residuals:                    1362   BIC:                         1.169e+04\n",
      "Df Model:                           3                                         \n",
      "Covariance Type:            nonrobust                                         \n",
      "==============================================================================\n",
      "                 coef    std err          t      P>|t|      [0.025      0.975]\n",
      "------------------------------------------------------------------------------\n",
      "intercept     73.7349      3.074     23.990      0.000      67.705      79.764\n",
      "T12            1.5355      0.112     13.766      0.000       1.317       1.754\n",
      "Vx             1.3209      0.151      8.774      0.000       1.026       1.616\n",
      "Ne12          -3.3069      0.252    -13.102      0.000      -3.802      -2.812\n",
      "==============================================================================\n",
      "Omnibus:                       19.974   Durbin-Watson:                   0.881\n",
      "Prob(Omnibus):                  0.000   Jarque-Bera (JB):               20.662\n",
      "Skew:                           0.301   Prob(JB):                     3.26e-05\n",
      "Kurtosis:                       2.958   Cond. No.                         136.\n",
      "==============================================================================\n",
      "\n",
      "Warnings:\n",
      "[1] Standard Errors assume that the covariance matrix of the errors is correctly specified.\n"
     ]
    }
   ],
   "source": [
    "#calcule avec bibli\n",
    "model = sm.OLS(Y, Z).fit()\n",
    "predictions = model.predict(Z) \n",
    "\n",
    "print_model = model.summary()\n",
    "print(print_model)"
   ]
  },
  {
   "cell_type": "markdown",
   "metadata": {},
   "source": [
    "## Question 1 :\n"
   ]
  },
  {
   "cell_type": "code",
   "execution_count": 13,
   "metadata": {},
   "outputs": [
    {
     "name": "stdout",
     "output_type": "stream",
     "text": [
      "Par l'estimation des moindres carrés (et du maximum de vraisemblance pour la variance), on a : \n",
      "\n",
      "\t Beta =  [73.73485559  1.53554077  1.32091586 -3.30686121]\n",
      "\t Variance =  279.3522810116052\n"
     ]
    }
   ],
   "source": [
    "#Calcule à la main \n",
    "ZZ = np.linalg.inv(Zn.T.dot(Zn))\n",
    "Proj = ZZ.dot(Zn.T)\n",
    "BetaE = Proj.dot(Yn)\n",
    "print(\"Par l'estimation des moindres carrés (et du maximum de vraisemblance pour la variance), on a : \\n\")\n",
    "print(\"\\t Beta = \", BetaE)\n",
    "\n",
    "\n",
    "#Estimation de la variance \n",
    "H = Zn.dot(Proj)\n",
    "VarianceE = np.linalg.norm(Yn - H.dot(Yn)) ** 2 / (N - 4) # ici Q vaut 4 \n",
    "print(\"\\t Variance = \", VarianceE)"
   ]
  },
  {
   "cell_type": "markdown",
   "metadata": {},
   "source": [
    " "
   ]
  },
  {
   "cell_type": "markdown",
   "metadata": {},
   "source": [
    "## Question 2 :\n"
   ]
  },
  {
   "cell_type": "code",
   "execution_count": 8,
   "metadata": {},
   "outputs": [
    {
     "name": "stdout",
     "output_type": "stream",
     "text": [
      "En utilisant la question 19 du DM, on construit des intervalles de confiance à 95% pour Beta: \n",
      "\n",
      "[[68.84877721 78.62093398]\n",
      " [ 1.35821626  1.71286527]\n",
      " [ 1.08159228  1.56023944]\n",
      " [-3.7080894  -2.90563301]]\n"
     ]
    }
   ],
   "source": [
    "I4 = np.eye(4)\n",
    "#On utilisera ici la question 19\n",
    "Beta1 = I4[0]*BetaE\n",
    "interval = np.zeros((4,2))\n",
    "#Test : \n",
    "qAlpha = sts.t.ppf(0.95, df=N-4)\n",
    "for i in range(4):\n",
    "     #choose the quatile\n",
    "    constant = I4[i].dot(BetaE)\n",
    "    v = qAlpha * np.sqrt(VarianceE * I4[i].dot(ZZ).dot(I4[i].T))\n",
    "    interval[i] = np.array([constant - v, constant + v])\n",
    "\n",
    "print(\"En utilisant la question 19 du DM, on construit des intervalles de confiance à 95% pour Beta: \\n\")\n",
    "print(interval)"
   ]
  },
  {
   "cell_type": "markdown",
   "metadata": {},
   "source": [
    "## Question 3:\n",
    "\n",
    "Ici nous utiliserons la loi de Fisher developpée aux questions 22 & 23.\n",
    "L'idée est de discrétiser l'espace autour des intervale de confiance de la question 2, et de \n",
    "verifier si la barre des 95% de confiance est respectée pour ces points."
   ]
  },
  {
   "cell_type": "code",
   "execution_count": 9,
   "metadata": {},
   "outputs": [],
   "source": [
    "qantilF = sts.f.ppf(0.95,dfn=2,dfd=N-4)\n",
    "\n",
    "def TestRejet(R, bt1, bt2, bt3, bt4): \n",
    "    results = np.zeros(len(bt1))\n",
    "    c0 = np.linalg.inv(R.dot(ZZ).dot(R.T))\n",
    "    for i in range(len(bt1)):\n",
    "        betaT = np.array([bt1[i], bt2[i], bt3[i], bt4[i]])\n",
    "        c1 = R.dot(BetaE - betaT)\n",
    "        fisher = c1.T.dot(c0).dot(c1) / (2 * VarianceE)\n",
    "        if(np.abs(fisher) > qantilF):\n",
    "            results[i] = 0\n",
    "        else :\n",
    "            results[i] = 1\n",
    "            \n",
    "    return results\n",
    "\n",
    "#Utilisons ici la question 23 : \n",
    "R12 = np.array([[1, 0, 0, 0], [0, 1, 0, 0]])\n",
    "R13 = np.array([[1, 0, 0, 0], [0, 0, 1, 0]])"
   ]
  },
  {
   "cell_type": "code",
   "execution_count": 10,
   "metadata": {},
   "outputs": [
    {
     "data": {
      "image/png": "[encoded data removed]",
      "text/plain": [
       "<Figure size 432x288 with 1 Axes>"
      ]
     },
     "metadata": {
      "needs_background": "light"
     },
     "output_type": "display_data"
    }
   ],
   "source": [
    "b1 = linspace(65, 82.5, 100)\n",
    "b2 = linspace(1.2, 1.9, 100)\n",
    "b3 = linspace(0.9, 1.7, 100)\n",
    "B1, B2 = meshgrid(b1, b2)\n",
    "\n",
    "#les reshape me simplifie la vie\n",
    "B2tmp = B2.reshape(10000,1)\n",
    "B1tmp = B1.reshape(10000, 1)\n",
    "Z = TestRejet(R12, B1tmp, B2tmp, np.zeros(len(B1tmp)), np.zeros(len(B1tmp)) )# calcul du tableau des valeurs de Z\n",
    "Z = Z.reshape(100, 100)\n",
    "\n",
    "\n",
    "#Ques du plot, peu d'interet\n",
    "fig, ax0 = plt.subplots(1, 1)\n",
    "\n",
    "c = ax0.pcolor(B1, B2, Z)\n",
    "ax0.set_title('regions de confiance a 95 % pour (β1,β2).')\n",
    "ax0.set_xlabel('β1')\n",
    "ax0.set_ylabel('β2')\n",
    "fig.tight_layout()\n",
    "plt.show()\n",
    "\n",
    "show()"
   ]
  },
  {
   "cell_type": "code",
   "execution_count": 11,
   "metadata": {},
   "outputs": [
    {
     "data": {
      "image/png": "[encoded data removed]",
      "text/plain": [
       "<Figure size 432x288 with 1 Axes>"
      ]
     },
     "metadata": {
      "needs_background": "light"
     },
     "output_type": "display_data"
    }
   ],
   "source": [
    "\n",
    "B1, B3 = meshgrid(b1, b3)\n",
    "\n",
    "#les reshape me simplifie la vie\n",
    "B3tmp = B3.reshape(10000,1)\n",
    "B1tmp = B1.reshape(10000, 1)\n",
    "\n",
    "Z = TestRejet(R13, B1tmp, np.zeros(len(B1tmp)), B3tmp, np.zeros(len(B1tmp)))\n",
    "\n",
    "Z = Z.reshape(100, 100)\n",
    "\n",
    "\n",
    "fig, ax0 = plt.subplots(1, 1)\n",
    "\n",
    "c = ax0.pcolor(B1, B3, Z)\n",
    "ax0.set_title('regions de confiance a 95 % pour (β1,β3).')\n",
    "ax0.set_xlabel('β1')\n",
    "ax0.set_ylabel('β3')\n",
    "fig.tight_layout()\n",
    "plt.show()\n"
   ]
  },
  {
   "cell_type": "markdown",
   "metadata": {},
   "source": [
    "## Question 4 :\n",
    "\n",
    "Nous allons développer ici deux approches : \n",
    "La premiere, simple, consiste à suivre l'énoncé et regarder le test de la question 20, et à admettre l'équivalence \n",
    "$x_i$ n'influence pas O3 alors $\\beta_i = 0$\n",
    "pour $ x_3 = (0, 0, 1, 0)$, $ x_4 = (0, 0, 0, 1)$, $ x_{23} = (0, 1, 1, 0)$\n",
    " \n",
    " On pourra alors faire un test à 95%, ou bien, mieux, on pourra étudier la $p-valeur$ de ce Test et décidé si on rejete ou pas :\n",
    "\n",
    "## Question 5 :"
   ]
  },
  {
   "cell_type": "code",
   "execution_count": 12,
   "metadata": {},
   "outputs": [
    {
     "name": "stdout",
     "output_type": "stream",
     "text": [
      "p valuer pour Test 1 : independance entre O3 et Vx : 0.0\n",
      "p valuer pour Test 1 : independance entre O3 et Ne12 : 0.0\n",
      "p valuer pour Test 1 : independance entre O3 et Vx ou T12: 0.0\n"
     ]
    }
   ],
   "source": [
    "X3 = np.array([0, 0, 1, 0])\n",
    "X4 = np.array([0, 0, 1, 0])\n",
    "X23 = np.array([0, 1, 1, 0])\n",
    "\n",
    "\n",
    "#Test X3 :\n",
    "T = X3.T.dot(BetaE)/(np.sqrt(VarianceE*X3.T.dot(ZZ).dot(X3)))\n",
    "p_valeur = (1 - sts.t.cdf(np.abs(T), df=N-4)) * 2\n",
    "print(\"p valuer pour Test 1 : independance entre O3 et Vx :\", p_valeur)\n",
    "\n",
    "#Test X4 :\n",
    "T = X4.T.dot(BetaE)/(np.sqrt(VarianceE*X4.T.dot(ZZ).dot(X4)))\n",
    "p_valeur = (1 - sts.t.cdf(np.abs(T), df=N-4)) * 2\n",
    "print(\"p valuer pour Test 1 : independance entre O3 et Ne12 :\",p_valeur)\n",
    "\n",
    "#Test X23 :\n",
    "T = X23.T.dot(BetaE)/(np.sqrt(VarianceE*X23.T.dot(ZZ).dot(X23)))\n",
    "p_valeur = (1 - sts.t.cdf(np.abs(T), df=N-4)) * 2\n",
    "print(\"p valuer pour Test 1 : independance entre O3 et Vx ou T12:\",p_valeur)"
   ]
  },
  {
   "cell_type": "markdown",
   "metadata": {},
   "source": [
    "## Question 6 :\n",
    "\n",
    "On a bien sûr rejet des trois hypothèses d'indépendance, et donc on peut dire avec une très grande probabilité que les paramètres Vx, ne12, Vx ou T12 influences bien la valeur d'O3.\n"
   ]
  }
 ],
 "metadata": {
  "kernelspec": {
   "display_name": "Python 3",
   "language": "python",
   "name": "python3"
  },
  "language_info": {
   "codemirror_mode": {
    "name": "ipython",
    "version": 3
   },
   "file_extension": ".py",
   "mimetype": "text/x-python",
   "name": "python",
   "nbconvert_exporter": "python",
   "pygments_lexer": "ipython3",
   "version": "3.7.6"
  },
  "latex_envs": {
   "LaTeX_envs_menu_present": true,
   "autoclose": false,
   "autocomplete": false,
   "bibliofile": "biblio.bib",
   "cite_by": "apalike",
   "current_citInitial": 1,
   "eqLabelWithNumbers": true,
   "eqNumInitial": 1,
   "hotkeys": {
    "equation": "Ctrl-E",
    "itemize": "Ctrl-I"
   },
   "labels_anchors": false,
   "latex_user_defs": false,
   "report_style_numbering": false,
   "user_envs_cfg": false
  }
 },
 "nbformat": 4,
 "nbformat_minor": 2
}
