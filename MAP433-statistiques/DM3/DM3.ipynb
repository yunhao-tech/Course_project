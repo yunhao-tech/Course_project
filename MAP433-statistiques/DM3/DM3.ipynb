{
 "cells": [
  {
   "cell_type": "markdown",
   "metadata": {},
   "source": [
    "# MAP433 - DM3"
   ]
  },
  {
   "cell_type": "markdown",
   "metadata": {},
   "source": [
    "### *Groupe 43 : WANG XIAOZHEN & LAHIANI MAZIGH & CHEN YUNHAO*"
   ]
  },
  {
   "cell_type": "markdown",
   "metadata": {},
   "source": [
    "## Question 15"
   ]
  },
  {
   "cell_type": "code",
   "execution_count": 1,
   "metadata": {},
   "outputs": [],
   "source": [
    "import numpy as np\n",
    "import matplotlib.pyplot as plt\n",
    "import operator\n",
    "import datetime"
   ]
  },
  {
   "cell_type": "code",
   "execution_count": 2,
   "metadata": {},
   "outputs": [],
   "source": [
    "dim = 7 #la dimension de l'espace\n",
    "N_train= 1000\n",
    "N_test = 300"
   ]
  },
  {
   "cell_type": "code",
   "execution_count": 18,
   "metadata": {},
   "outputs": [],
   "source": [
    "#générer les datasets restreints dans le compact [-1,1]^dim\n",
    "def generer (dim, N):\n",
    "    x0 = np.ones(dim)*(-1/2)\n",
    "    x1 = np.copy(-x0)\n",
    "    cov = np.eye(dim)\n",
    "    D0 = np.random.multivariate_normal(x0, cov, N)\n",
    "    D1 = np.random.multivariate_normal(x1, cov, N)\n",
    "    for k in range(len(D0)):\n",
    "        if (np.max(np.abs(D0[k]))>1):\n",
    "            while (np.max(np.abs(D0[k]))>1):\n",
    "                D0[k] = np.random.multivariate_normal(x0, cov, 1)\n",
    "    for k in range(len(D1)):\n",
    "        if (np.max(np.abs(D1[k]))>1):\n",
    "            while (np.max(np.abs(D1[k]))>1):\n",
    "                D1[k] = np.random.multivariate_normal(x1, cov, 1)\n",
    "    return D0, D1"
   ]
  },
  {
   "cell_type": "markdown",
   "metadata": {},
   "source": [
    "### 15.(a)"
   ]
  },
  {
   "cell_type": "markdown",
   "metadata": {},
   "source": [
    "Le classifieur Bayésien est :\n",
    "\n",
    "\\begin{align*}\n",
    "\\Phi^*(x) = \\mathbb{1}_{\\{\\eta^*(x)\\geq \\frac{1}{2}\\}}\n",
    "\\end{align*}\n",
    "\n",
    "avec \n",
    "\n",
    "\\begin{align*}\n",
    "\\eta^*(x) = \\mathbb{E}[Y| X = x] = \\frac{pq_1(x)}{(1-p)q_0(x)+pq_1(x)}\n",
    "\\end{align*}\n",
    "\n",
    "On a maintenant deux distributions gaussiennes avec une covariance commune $I_d$. Et $\\mu_0 = (\\frac{1}{2},\\frac{1}{2},...,\\frac{1}{2})$, $\\mu_1 = (-\\frac{1}{2},-\\frac{1}{2},...,-\\frac{1}{2})$.\n",
    "\n",
    "De plus, $Y$ suit une loi de Bernoulli de paramètre $\\frac{1}{2}$. Alors $p = \\mathbb{P}(Y=1) = \\frac{1}{2}, 1-p = \\mathbb{P}(Y=0) = \\frac{1}{2}$  \n",
    "\n",
    "Du coup le classifieur Bayésien est : \n",
    "\n",
    "\\begin{align*}\n",
    "\\Phi^*(x) = \\mathbb{1}_{\\{ d(x,\\mu_0) \\geq d(x,\\mu_1) \\}}\n",
    "\\end{align*}"
   ]
  },
  {
   "cell_type": "markdown",
   "metadata": {},
   "source": [
    "### 15.(b)"
   ]
  },
  {
   "cell_type": "code",
   "execution_count": 4,
   "metadata": {},
   "outputs": [],
   "source": [
    "#définir le paramètre pour l'algorithme des k plus proches voisins\n",
    "def kCalculator(d, n):\n",
    "    a = int((np.power(np.log(n), 1.0*d / (d+2))) * np.power(n, 2/(d+2)))\n",
    "    if a % 2 == 0 :\n",
    "        a-=1\n",
    "    return a"
   ]
  },
  {
   "cell_type": "code",
   "execution_count": 5,
   "metadata": {},
   "outputs": [],
   "source": [
    "#renvoyer l'étiquette obtenu par l'algorithme des k plus proches voisins\n",
    "def classify(inX,dataSet, labels, k):\n",
    "    dataSetSize = dataSet.shape[0]\n",
    "    diffMat = np.tile(inX,(dataSetSize,1))-dataSet\n",
    "    sqDiffMat=diffMat**2\n",
    "    sqDistances=sqDiffMat.sum(axis=1)\n",
    "    distances=sqDistances**0.5 #calculer la distancec\n",
    "    sortedDistIndicies=distances.argsort() #mise en ordre et renvoyer index\n",
    "\n",
    "    a = 0\n",
    "    for i in range(k):\n",
    "        a+=labels[sortedDistIndicies[i]]\n",
    "    if 2*a > k :\n",
    "        return 1\n",
    "    else:\n",
    "        return 0"
   ]
  },
  {
   "cell_type": "code",
   "execution_count": 6,
   "metadata": {},
   "outputs": [],
   "source": [
    "#fabriquer la série de données en donnant l'étiquette correspondante\n",
    "def DataSet(fa, fb):\n",
    "    len_a = len(fa)\n",
    "    len_b = len(fb)\n",
    "    group= np.vstack((fa,fb))\n",
    "    labels=np.zeros(len_a+len_b)\n",
    "    for i in range(len_b):\n",
    "        labels[i+len_a] = 1\n",
    "    return group,labels"
   ]
  },
  {
   "cell_type": "code",
   "execution_count": 7,
   "metadata": {},
   "outputs": [],
   "source": [
    "def calAcc(f1_train, f2_train, f1_test, f2_test):\n",
    "    group_train, labels_train = DataSet(f1_train, f2_train)\n",
    "    group_test, labels_test = DataSet(f1_test, f2_test)\n",
    "    len_f2_test = len(f2_test) # c'est le nombre de 1 dans labels_test\n",
    "    a = 0\n",
    "    for i in range(len(group_test)):\n",
    "        if labels_test[i] == classify(group_test[i,:],group_train,labels_train,k):\n",
    "            a+=1\n",
    "    # a représente le nombre de prédictions correctes par l'algorithme des k plus proches voisins\n",
    "    acc = 1 - (a / len(group_test))\n",
    "    return acc"
   ]
  },
  {
   "cell_type": "code",
   "execution_count": 8,
   "metadata": {
    "scrolled": true
   },
   "outputs": [
    {
     "name": "stdout",
     "output_type": "stream",
     "text": [
      "quand la dimension est 7, le taux d'erreur de la méthode des k plus proches est 0.2316666666666667.\n",
      "quand la dimension est 7, la durée de la méthode des k plus proches est 13.\n"
     ]
    }
   ],
   "source": [
    "#acc est le taux d'erreur, qui peut représenter l'efficacité de cet algorithme.\n",
    "starttime = datetime.datetime.now()\n",
    "f1_train, f2_train = generer (dim, N_train)\n",
    "f1_test, f2_test = generer (dim, N_test)\n",
    "k = kCalculator(dim, N_train)\n",
    "acc = calAcc(f1_train, f2_train, f1_test, f2_test)\n",
    "endtime = datetime.datetime.now()\n",
    "time = (endtime - starttime).seconds\n",
    "\n",
    "print(f\"quand la dimension est {dim}, le taux d'erreur de la méthode des k plus proches est {acc}.\")\n",
    "print(f\"quand la dimension est {dim}, la durée de la méthode des k plus proches est {time}.\")"
   ]
  },
  {
   "cell_type": "markdown",
   "metadata": {},
   "source": [
    "On a calculé le taux d'erreur et la durée de l'algorithme des k plus proches voisins. Ces deux parametres représentent l'efficacité de l'algorithme. \n",
    "\n",
    "Quand la dimension est 7 (le cas ici), le taux d'erreur est entre 0.20-0.30 et la durée est une dizaine de seconds."
   ]
  },
  {
   "cell_type": "markdown",
   "metadata": {},
   "source": [
    "### 15.(c)"
   ]
  },
  {
   "cell_type": "code",
   "execution_count": 9,
   "metadata": {
    "scrolled": false
   },
   "outputs": [
    {
     "name": "stdout",
     "output_type": "stream",
     "text": [
      "la durée est 1.0 quand la dimension est 2.\n",
      "le taux d'erreur est 0.33999999999999997 quand la dimension est 2.\n",
      "----------------------------------------------------------------\n",
      "la durée est 1.0 quand la dimension est 3.\n",
      "le taux d'erreur est 0.3466666666666667 quand la dimension est 3.\n",
      "----------------------------------------------------------------\n",
      "la durée est 5.0 quand la dimension est 5.\n",
      "le taux d'erreur est 0.28500000000000003 quand la dimension est 5.\n",
      "----------------------------------------------------------------\n",
      "la durée est 14.0 quand la dimension est 7.\n",
      "le taux d'erreur est 0.245 quand la dimension est 7.\n",
      "----------------------------------------------------------------\n",
      "la durée est 57.0 quand la dimension est 10.\n",
      "le taux d'erreur est 0.2666666666666667 quand la dimension est 10.\n",
      "----------------------------------------------------------------\n"
     ]
    }
   ],
   "source": [
    "d_set = np.array([2, 3, 5, 7, 10])\n",
    "acc_set = np.zeros(d_set.shape)\n",
    "time_set = np.zeros(d_set.shape)\n",
    "i = 0\n",
    "for dim in d_set:\n",
    "    starttime = datetime.datetime.now()\n",
    "    f1_train, f2_train = generer(dim, N_train)\n",
    "    f1_test, f2_test = generer(dim, N_test)\n",
    "    k = kCalculator(dim, N_train)\n",
    "    acc_set[i] = calAcc(f1_train, f2_train, f1_test, f2_test)\n",
    "    endtime = datetime.datetime.now()\n",
    "    time_set[i] = (endtime - starttime).seconds\n",
    "    print(f\"la durée est {time_set[i]} quand la dimension est {dim}.\")\n",
    "    print(f\"le taux d'erreur est {acc_set[i]} quand la dimension est {dim}.\")\n",
    "    print('----------------------------------------------------------------')\n",
    "    i+=1"
   ]
  },
  {
   "cell_type": "code",
   "execution_count": 10,
   "metadata": {},
   "outputs": [
    {
     "data": {
      "image/png": "[encoded data removed]",
      "text/plain": [
       "<Figure size 432x288 with 1 Axes>"
      ]
     },
     "metadata": {
      "needs_background": "light"
     },
     "output_type": "display_data"
    }
   ],
   "source": [
    "plt.plot(d_set, time_set)\n",
    "plt.xlabel('la dimension')\n",
    "plt.ylabel(\"la durée\")\n",
    "plt.title(\"le temps de calcul augmente lorsque la dimension augmente \")\n",
    "plt.show()"
   ]
  },
  {
   "cell_type": "markdown",
   "metadata": {},
   "source": [
    "### Conclusion:\n",
    "Le temps de calcul augmente lorsque la dimension augmente. Et cette augmentation n'est pas linéaire. Donc on parle de la dégradation de la vitesse.\n",
    "\n",
    "C'est tout à fait raisonable. Quand la dimension augmente, c'est difficle de restreindre les données dans le compact [-1,1]^dim. Alors il faut jeter les données dehors et rependre, cela evidemment va prendre du temps.  "
   ]
  },
  {
   "cell_type": "code",
   "execution_count": 11,
   "metadata": {},
   "outputs": [
    {
     "data": {
      "image/png": "[encoded data removed]",
      "text/plain": [
       "<Figure size 432x288 with 1 Axes>"
      ]
     },
     "metadata": {
      "needs_background": "light"
     },
     "output_type": "display_data"
    }
   ],
   "source": [
    "plt.plot(d_set, acc_set)\n",
    "plt.xlabel('la dimension')\n",
    "plt.ylabel(\"le taux d'erreur\")\n",
    "plt.title(\"le taux d'erreur diminue lorsque la dimension augmente \")\n",
    "plt.show()"
   ]
  },
  {
   "cell_type": "markdown",
   "metadata": {},
   "source": [
    "### Conclusion bonus:\n",
    "On peut alors voir que le taux d'erreur de l'algorithme diminue quand la dimension de l'espace augmente."
   ]
  },
  {
   "cell_type": "markdown",
   "metadata": {},
   "source": [
    "### 15.(d)"
   ]
  },
  {
   "cell_type": "code",
   "execution_count": 12,
   "metadata": {},
   "outputs": [],
   "source": [
    "from sklearn.discriminant_analysis import LinearDiscriminantAnalysis as LDA"
   ]
  },
  {
   "cell_type": "markdown",
   "metadata": {},
   "source": [
    "Dans ce contexte, on va comparer l'efficacité de l'algorithme de LDA et celle de l'algorithme des k plus proches voisins.\n",
    "\n",
    "On fixe dim = 5.\n"
   ]
  },
  {
   "cell_type": "code",
   "execution_count": 13,
   "metadata": {},
   "outputs": [],
   "source": [
    "dim = 5\n",
    "mean1 = np.full((dim,),1/2) \n",
    "mean2 = np.full((dim,),-1/2)"
   ]
  },
  {
   "cell_type": "code",
   "execution_count": 14,
   "metadata": {},
   "outputs": [],
   "source": [
    "def LDA_train(dim, N_train):\n",
    "    model = LDA()\n",
    "    f1_train, f2_train = generer (dim, N_train)\n",
    "    groups, labels = DataSet(f1_train, f2_train)\n",
    "    X = [data for data in groups]\n",
    "    Y = [label for label in labels]\n",
    "    model.fit(X,Y)\n",
    "    return model"
   ]
  },
  {
   "cell_type": "code",
   "execution_count": 15,
   "metadata": {},
   "outputs": [],
   "source": [
    "def LDA_test(dim, N_train, N_test):\n",
    "    t0 = datetime.datetime.now()\n",
    "    f1_test, f2_test = generer (dim, N_test)\n",
    "    groups_test, labels_test = DataSet(f1_test, f2_test)\n",
    "    X_test = [data_test for data_test in groups_test]\n",
    "    model = LDA_train(dim, N_train)\n",
    "    y_test = model.predict(X_test)\n",
    "    sum = 0\n",
    "    for i in range(N_test):\n",
    "        sum += y_test[i] == labels_test[i]\n",
    "    return 1 - sum/N_test, (datetime.datetime.now()-t0).seconds"
   ]
  },
  {
   "cell_type": "code",
   "execution_count": 16,
   "metadata": {},
   "outputs": [
    {
     "name": "stdout",
     "output_type": "stream",
     "text": [
      "quand la dimension est 5, le taux d'erreur de la méthode des k plus proches est 0.30000000000000004.\n",
      "quand la dimension est 5, le temps de calcul de la méthode des k plus proches est 5.\n"
     ]
    }
   ],
   "source": [
    "starttime = datetime.datetime.now()\n",
    "f1_train, f2_train = generer (dim, N_train)\n",
    "f1_test, f2_test = generer (dim, N_test)\n",
    "k = kCalculator(dim, N_train)\n",
    "acc = calAcc(f1_train, f2_train, f1_test, f2_test)\n",
    "endtime = datetime.datetime.now()\n",
    "time = (endtime - starttime).seconds\n",
    "\n",
    "print(f\"quand la dimension est {dim}, le taux d'erreur de la méthode des k plus proches est {acc}.\")\n",
    "print(f\"quand la dimension est {dim}, le temps de calcul de la méthode des k plus proches est {time}.\")"
   ]
  },
  {
   "cell_type": "code",
   "execution_count": 17,
   "metadata": {},
   "outputs": [
    {
     "name": "stdout",
     "output_type": "stream",
     "text": [
      "quand la dimension est 5, le taux d'erreur de LDA est 0.2466666666666667.\n",
      "quand la dimension est 5, la durée de LDA est 4.\n"
     ]
    }
   ],
   "source": [
    "acc_LDA, time_LDA = LDA_test(dim, N_train, N_test)\n",
    "\n",
    "print(f\"quand la dimension est {dim}, le taux d'erreur de LDA est {acc_LDA}.\")\n",
    "print(f\"quand la dimension est {dim}, la durée de LDA est {time_LDA}.\")"
   ]
  },
  {
   "cell_type": "markdown",
   "metadata": {},
   "source": [
    "On peut montrer numériquement que LDA est plus efficace que l'algorithme des k plus proches voisins. \n",
    "\n",
    "Le taux d'erreur de LDA est plus petit et le temps de calcul est plus court."
   ]
  },
  {
   "cell_type": "code",
   "execution_count": null,
   "metadata": {},
   "outputs": [],
   "source": []
  }
 ],
 "metadata": {
  "kernelspec": {
   "display_name": "nb",
   "language": "python",
   "name": "nb"
  },
  "language_info": {
   "codemirror_mode": {
    "name": "ipython",
    "version": 3
   },
   "file_extension": ".py",
   "mimetype": "text/x-python",
   "name": "python",
   "nbconvert_exporter": "python",
   "pygments_lexer": "ipython3",
   "version": "3.8.5"
  }
 },
 "nbformat": 4,
 "nbformat_minor": 4
}
