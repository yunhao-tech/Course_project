{
 "cells": [
  {
   "cell_type": "markdown",
   "metadata": {},
   "source": [
    "# MAP433 - EN1"
   ]
  },
  {
   "cell_type": "markdown",
   "metadata": {},
   "source": [
    "### *Groupe 43 : WANG XIAOZHEN & CHEN YUNHAO & LAHIANI MAZIGH*"
   ]
  },
  {
   "cell_type": "code",
   "execution_count": 11,
   "metadata": {},
   "outputs": [],
   "source": [
    "import numpy as np\n",
    "import scipy.special as scm\n",
    "import matplotlib.pyplot as plt\n"
   ]
  },
  {
   "cell_type": "markdown",
   "metadata": {},
   "source": [
    "## 1"
   ]
  },
  {
   "cell_type": "markdown",
   "metadata": {},
   "source": [
    "D'abord, on crée un tableau pour noter les valeurs de la figure 1."
   ]
  },
  {
   "cell_type": "code",
   "execution_count": 12,
   "metadata": {},
   "outputs": [
    {
     "name": "stdout",
     "output_type": "stream",
     "text": [
      "[[  0   1   2   3   4   5]\n",
      " [692 680 335 131  51  11]]\n"
     ]
    }
   ],
   "source": [
    "N = 1900 \n",
    "\n",
    "DATA = np.array([[0, 1, 2, 3, 4, 5],\n",
    "                 [692, 680, 335, 131, 51, 11] \n",
    "                ])\n",
    "\n",
    "print(DATA)"
   ]
  },
  {
   "cell_type": "markdown",
   "metadata": {},
   "source": [
    "| Nombre de buts marqués | Nombre d’observations |\n",
    "|:-----------------------:| :----------------------: |\n",
    "|0|692|\n",
    "|1|680|\n",
    "|2|335|\n",
    "|3|131|\n",
    "|4|51|\n",
    "|5|11|\n",
    "|Total|1900|"
   ]
  },
  {
   "cell_type": "markdown",
   "metadata": {},
   "source": [
    "## 2"
   ]
  },
  {
   "cell_type": "markdown",
   "metadata": {},
   "source": [
    "A partir du tableau, on sait que $N = 1900$. Par la méthode de la vraissemblance, on a la fonction\n",
    "\n",
    "$$\n",
    "\\notag\n",
    "L(\\lambda) = \\prod _{i=1} ^N {p_\\lambda (x_i)} = \\prod _{k=0} ^{+ \\infty} {p_\\lambda (k) ^ {N_k}}\n",
    "$$\n",
    "\n",
    "Ici, $N_k$ est la nombre des matches où $k$ buts ont été marqués.\n",
    "\n",
    "Ensuite, on calcule la log-vraissemblance:\n",
    "$$\n",
    "\\notag\n",
    "l(\\lambda) = log(L(\\lambda)) =  \\sum\\limits_{k = 0}^{ + \\infty } {{N_k}\\ln {p_\\lambda }\\left( k \\right)}  = \\sum\\limits_{k = 0}^{ + \\infty } {{N_k}\\left( { - \\lambda  + k\\ln \\lambda  - \\ln k!} \\right)} \n",
    "$$\n",
    "\n",
    "La première et deuxième dérivée de $l(\\lambda)$\n",
    "\n",
    "$$\n",
    "\\notag\n",
    "l'(\\lambda) = \\sum\\limits_{k = 0}^{+ \\infty} {{N_k}\\left( { - 1 + \\frac{k}{\\lambda }} \\right)}\n",
    "$$\n",
    "\n",
    "$$\n",
    "\\notag\n",
    "l''(\\lambda) = -\\sum\\limits_{k = 0}^{+ \\infty} {{N_k}\\left( { \\frac{k}{\\lambda^2 }} \\right)} < 0\n",
    "$$\n",
    "\n",
    "Donc, on a le point maximal $\\hat \\lambda $\n",
    "$$\n",
    "\\notag\n",
    "l'(\\hat \\lambda ) = \\sum\\limits_{k = 0}^{+ \\infty} {{N_k}\\left( { - 1 + \\frac{k}{\\hat \\lambda  }} \\right)} = 0\n",
    "\\\\\n",
    "\\hat \\lambda  = \\frac{1}{N}\\sum\\limits_{k = 0}^{+ \\infty} {k{N_k}}\n",
    "$$\n",
    "\n",
    "Quand $k \\in \\{0, 1, 2, 3, 4, 5\\}$, on calcule\n",
    "$$\n",
    "\\notag\n",
    "\\hat \\lambda  = \\frac{1}{N}\\sum\\limits_{k = 0}^{+ \\infty} {k{N_k}} \\approx 1.05368\n",
    "$$"
   ]
  },
  {
   "cell_type": "code",
   "execution_count": 13,
   "metadata": {},
   "outputs": [
    {
     "name": "stdout",
     "output_type": "stream",
     "text": [
      "1.0536842105263158\n"
     ]
    }
   ],
   "source": [
    "lambda_1 = np.sum(DATA[0] * DATA[1])/N\n",
    "print(lambda_1)"
   ]
  },
  {
   "cell_type": "markdown",
   "metadata": {},
   "source": [
    "## 3"
   ]
  },
  {
   "cell_type": "markdown",
   "metadata": {},
   "source": [
    "On sait que la variable aléatoire $X$ suit la loi de Poisson de paramètre $\\lambda$.\n",
    "\n",
    "$$\n",
    "\\notag\n",
    "E_\\lambda (X) = \\lambda, \n",
    "{Var}_\\lambda (X) = \\lambda\n",
    "$$\n",
    "\n",
    "Donc le moment d'ordre 2 égale\n",
    "$$\n",
    "\\notag\n",
    "\\mathbb{E}_\\lambda (X^2) =E_\\lambda (X)^2 + {Var}_\\lambda (X) = \\lambda^2 + \\lambda\n",
    "$$\n",
    "\n",
    "Alors l'estimateur ${\\tilde \\lambda }$ de l'intensité $\\lambda$ sur le moment d'ordre 2 satisfait:\n",
    "$$\n",
    "\\notag\n",
    "{{\\tilde \\lambda }^2} + \\tilde \\lambda  = \\frac{1}{N}\\sum\\limits_{k = 0}^5 {{k^2}{N_k}} \n",
    "$$\n",
    "\n",
    "Donc:\n",
    "$$\n",
    "\\notag\n",
    "\\tilde \\lambda  =  - \\frac{1}{2} + \\sqrt {\\frac{1}{4} + \\frac{1}{N}\\sum\\limits_{k = 0}^5 {{k^2}{N_k}} } \\approx 1.08363\n",
    "$$\n",
    "(L'autre $ \\tilde \\lambda =  - \\frac{1}{2} - \\sqrt {\\frac{1}{4} + \\frac{1}{N}\\sum\\limits_{k = 0}^5 {{k^2}{N_k}} }$ est négative) "
   ]
  },
  {
   "cell_type": "code",
   "execution_count": 14,
   "metadata": {},
   "outputs": [
    {
     "name": "stdout",
     "output_type": "stream",
     "text": [
      "1.083633397236275\n"
     ]
    }
   ],
   "source": [
    "lambda_2 = -1/2 + (1/4 + np.sum((DATA[0] **2 * DATA[1]))/N) ** (1/2)\n",
    "print(lambda_2)"
   ]
  },
  {
   "cell_type": "markdown",
   "metadata": {},
   "source": [
    "## 4"
   ]
  },
  {
   "cell_type": "code",
   "execution_count": 15,
   "metadata": {},
   "outputs": [
    {
     "data": {
      "image/png": "[encoded data removed]",
      "text/plain": [
       "<Figure size 864x432 with 1 Axes>"
      ]
     },
     "metadata": {
      "needs_background": "light"
     },
     "output_type": "display_data"
    }
   ],
   "source": [
    "p_1 = lambda k : np.exp(-lambda_1)*(lambda_1**k)/(scm.factorial(k))\n",
    "p_2 = lambda k : np.exp(-lambda_2)*(lambda_2**k)/(scm.factorial(k))\n",
    "ks = DATA[0];\n",
    "fig, ax = plt.subplots(figsize = (12, 6))\n",
    "p_observation = DATA[1];\n",
    "prediction_1 = p_1(ks)*N\n",
    "prediction_2 = p_2(ks)*N\n",
    "bar0 = ax.bar(ks-0.3, p_observation, \\\n",
    "        width = 0.3, alpha = 1, label='Observation')\n",
    "bar1 = ax.bar(ks, prediction_1,  \\\n",
    "        width = 0.3, alpha = 1, label='Prédiction par EMV')\n",
    "bar2 = ax.bar(ks+0.3, prediction_2,  \\\n",
    "        width = 0.3, alpha = 1, label='Prédiction par moments')\n",
    "\n",
    "ax.set_xlabel(\"Nombre de buts\")\n",
    "ax.set_ylabel(\"Nombre d'observations\")\n",
    "ax.set_title(\"Comparaision observations - prédictions par les estimateurs\")\n",
    "ax.legend(loc = 'best');"
   ]
  },
  {
   "cell_type": "markdown",
   "metadata": {},
   "source": [
    "## 5"
   ]
  },
  {
   "cell_type": "markdown",
   "metadata": {},
   "source": [
    "Par le sujet, on a"
   ]
  },
  {
   "cell_type": "code",
   "execution_count": 17,
   "metadata": {},
   "outputs": [],
   "source": [
    "n = 30;"
   ]
  },
  {
   "cell_type": "markdown",
   "metadata": {},
   "source": [
    "Comme la question 2, on sait que la fonction de log-vraissemblance en $p$:\n",
    "\n",
    "$$\n",
    "\\notag\n",
    "l\\left( p \\right) \n",
    "= \\sum\\limits_{k = 0}^{ + \\infty } {{N_k}\\ln \\left({{n}\\choose{k}} p^k (1-p)^{n-1} \\right)}  = \\sum\\limits_{k = 0}^{ + \\infty } {{N_k} \\left({\\ln {{n}\\choose{k}} + k\\ln p + \\left( {n - k} \\right)\\ln \\left( {1 - p} \\right)} \\right)} \n",
    "\\\\\n",
    "l'\\left( p \\right)  = \\sum\\limits_{k = 0}^{ + \\infty } {{N_k}\\left( {\\frac{k}{p} - \\frac{{n - k}}{{1 - p}}} \\right)}\n",
    "\\\\\n",
    "l''\\left( p \\right)  = \\sum\\limits_{k = 0}^{ + \\infty } {{N_k}\\left( -{\\frac{k}{p^2} - \\frac{{n - k}}{(1 - p)^2}} \\right)}<0\n",
    "$$\n",
    "\n",
    "On va chercher le point maximal $\\hat p$ de log-vraissemblance \n",
    "\n",
    "$$\n",
    "\\notag\n",
    "l'\\left( p \\right) = 0 \\Leftrightarrow p = \\frac{{\\sum\\limits_{k = 0}^{ + \\infty } {k{N_k}} }}{{n\\sum\\limits_{k = 0}^{ + \\infty } {{N_k}} }} = \\frac{1}{{nN}}\\sum\\limits_{k = 0}^{ + \\infty } {k{N_k}} \n",
    "$$\n",
    "\n",
    "Donc l'estimateur de maximum de vraisseblance est:\n",
    "$$\n",
    "\\notag\n",
    "\\hat p = \\frac{1}{{nN}}\\sum\\limits_{k = 0}^5 {k{N_k}} \\approx 0.0351\n",
    "$$"
   ]
  },
  {
   "cell_type": "code",
   "execution_count": 18,
   "metadata": {},
   "outputs": [
    {
     "name": "stdout",
     "output_type": "stream",
     "text": [
      "0.03512280701754386\n"
     ]
    }
   ],
   "source": [
    "p_estime = np.sum(DATA[0] * DATA[1])/N/n\n",
    "print(p_estime)"
   ]
  },
  {
   "cell_type": "markdown",
   "metadata": {},
   "source": [
    "## 6"
   ]
  },
  {
   "cell_type": "markdown",
   "metadata": {},
   "source": [
    "En utilisant la question 2 et 5, on remarque la relation suivante:\n",
    "$$\n",
    "\\notag\n",
    "\\hat \\lambda = n \\hat p\n",
    "$$"
   ]
  },
  {
   "cell_type": "markdown",
   "metadata": {},
   "source": [
    "L’explication de cette relation:\n",
    "\n",
    "On peut d'abord revenir aux définitions : $\\hat \\lambda$ est la moyenne de nombre de but marqué en un match (car egale au moment d'ordre un), ensuite $ \\hat p$ est une estimation de la probabilité qu'une action se finisse en but, et vu que le nombre d'action est $n$ et qu'on a l'independence entre les actions, on a naturellement  $\\hat \\lambda = n \\hat p$.\n",
    "\n",
    "Plus précisement, on voit qu'ici les conditions $n \\geq 30$ et $ p \\leq 0,1$ sont bien respectées, on peut donc approximer la loi binomiale $B(n, p)$ par une loi de poisson de paramètre $\\lambda = n * p$, et on retombe exactement sur l'estimateur  $\\hat \\lambda$"
   ]
  }
 ],
 "metadata": {
  "kernelspec": {
   "display_name": "Python 3",
   "language": "python",
   "name": "python3"
  },
  "language_info": {
   "codemirror_mode": {
    "name": "ipython",
    "version": 3
   },
   "file_extension": ".py",
   "mimetype": "text/x-python",
   "name": "python",
   "nbconvert_exporter": "python",
   "pygments_lexer": "ipython3",
   "version": "3.7.6"
  },
  "latex_envs": {
   "LaTeX_envs_menu_present": true,
   "autoclose": false,
   "autocomplete": false,
   "bibliofile": "biblio.bib",
   "cite_by": "apalike",
   "current_citInitial": 1,
   "eqLabelWithNumbers": true,
   "eqNumInitial": 1,
   "hotkeys": {
    "equation": "Ctrl-E",
    "itemize": "Ctrl-I"
   },
   "labels_anchors": false,
   "latex_user_defs": false,
   "report_style_numbering": false,
   "user_envs_cfg": false
  }
 },
 "nbformat": 4,
 "nbformat_minor": 2
}
