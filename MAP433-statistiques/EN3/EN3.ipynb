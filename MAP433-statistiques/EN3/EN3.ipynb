{
 "cells": [
  {
   "cell_type": "markdown",
   "metadata": {},
   "source": [
    "# MAP433 - EN3"
   ]
  },
  {
   "cell_type": "markdown",
   "metadata": {},
   "source": [
    "### *Groupe 43 : CHEN YUNHAO & LAHIANI MAZIGH & WANG XIAOZHEN* "
   ]
  },
  {
   "cell_type": "markdown",
   "metadata": {},
   "source": [
    "## Partie théorique:"
   ]
  },
  {
   "cell_type": "markdown",
   "metadata": {},
   "source": [
    "## Question 1 :"
   ]
  },
  {
   "cell_type": "markdown",
   "metadata": {},
   "source": [
    "L'idée est qu'on découpe $\\mathbb{R}$ en les sous-intervalles. Après avoir calculé l'intégration, on les recombine de manière que l'expression peut être simplifiée."
   ]
  },
  {
   "cell_type": "markdown",
   "metadata": {},
   "source": [
    "\\begin{align*}\n",
    "CvM_n &= n\\int_\\mathbb{R} \\left(\\hat{F_n}(t) - F_0(t)\\right)^2 dF_0(t) \\\\\n",
    "      &= n\\left[ \\int_{-\\infty}^{X_{1:n}} F_0(t)^2 dF_0(t) + \\sum_{i=1}^{n-1}\\int_{X_{i:n}}^{X_{(i+1):n}} \\left( \\frac{i}{n} - F_0(t)\\right)^2 dF_0(t) + \\int_{X_{n:n}}^{+\\infty} \\left(1- F_0(t) \\right)^2 dF_0(t) \\right] \\\\\n",
    "      &= n\\left[\\frac{1}{3}F_0(X_{1:n})^3 + \\frac{1}{3}\\sum_{i=1}^{n-1}\\left[ \\left(\\frac{i}{n} - F_0(X_{i:n})\\right)^3 - \\left(\\frac{i}{n} - F_0(X_{(i+1):n})\\right)^3 \\right] + \\frac{1}{3}\\left(1-F_0(X_{n:n}) \\right)^3  \\right] \\\\\n",
    "      &= \\frac{n}{3} \\sum_{i=1}^{n} \\left( \\left(\\frac{i}{n}-F_0(X_{i:n})\\right)^3 - \\left(\\frac{i-1}{n} - F_0(X_{i:n})\\right)^3    \\right) \\\\\n",
    "      &= \\frac{n}{3} \\frac{3}{n} \\sum_{i=1}^{n} \\left(F_0(X_{i:n})^2 - \\frac{2i-1}{n}F_0(X_{i:n}) + \\frac{i^2-i}{n^2} + \\frac{1}{3n^2}  \\right) \\\\\n",
    "      &= \\frac{1}{12n} + \\sum_{i=1}^{n} \\left(F_0(X_{i:n}) - \\frac{2i-1}{2n} \\right)^2\n",
    "\\end{align*} "
   ]
  },
  {
   "cell_type": "markdown",
   "metadata": {},
   "source": [
    "## Question 2 :"
   ]
  },
  {
   "cell_type": "markdown",
   "metadata": {},
   "source": [
    "Sous l'hypothèse nulle, $F = F_0$\n",
    "\n",
    "En utilisant le fait que $F(i.e. F_0)$ est la fonction de répartition continue et croissante, $\\forall$ $a$,$b\\in [0,1]$, on a l'intervalle\n",
    "\n",
    "\n",
    "\\begin{align*}\n",
    "F_0^{-1}([a,b]) = [F_0^{-1}(a), F_0^{-1}(b)]\n",
    "\\end{align*}\n",
    "\n",
    "\n",
    "Donc pour tout $a$, $b$ dans $[0,1]$,\n",
    "\\begin{align*}\n",
    "\\mathbb{P}\\left(F_0(X_{k:n} \\right) \\in [a,b]) &= \\mathbb{P}\\left(X_{k:n} \\in F_0^{-1}([a,b]) \\right) \\\\\n",
    "                                               &= \\mathbb{P}\\left(X_{k:n} \\in [F_0^{-1}(a), F_0^{-1}(b)] \\right) \\\\ \n",
    "                                               &= F_0(F_0^{-1}(b)) - F_0(F_0^{-1}(a)) \\\\ \n",
    "                                               &= b - a\n",
    "\\end{align*}"
   ]
  },
  {
   "cell_type": "markdown",
   "metadata": {},
   "source": [
    "Cela veut dire que $F_0(X_{k:n})$ suit une loi uniforme sur $[0,1]$."
   ]
  },
  {
   "cell_type": "markdown",
   "metadata": {},
   "source": [
    "De plus, $(X_{k:n})_{1 \\le k \\le n}$ sont indépendantes, alors $(F_0(X_{k:n}))_{1 \\le k \\le n}$ sont aussi indépendantes."
   ]
  },
  {
   "cell_type": "markdown",
   "metadata": {},
   "source": [
    "$(X_{k:n})_{1 \\le k \\le n}$ sont déjà les statistiques d'ordre. Le fait que la fonction de répartition $F_0$ est croissante, nous permetttons de déduire que $(F_0(X_{k:n}))_{1 \\le k \\le n}$ sont les statistiques d'ordre."
   ]
  },
  {
   "cell_type": "markdown",
   "metadata": {},
   "source": [
    "## Partie pratique:"
   ]
  },
  {
   "cell_type": "code",
   "execution_count": 1,
   "metadata": {},
   "outputs": [],
   "source": [
    "import numpy as np\n",
    "import matplotlib.pyplot as plt"
   ]
  },
  {
   "cell_type": "markdown",
   "metadata": {},
   "source": [
    "## Question 3 :\n",
    "\n",
    "Generation et calcule de $CvM_n$"
   ]
  },
  {
   "cell_type": "code",
   "execution_count": 11,
   "metadata": {},
   "outputs": [
    {
     "name": "stdout",
     "output_type": "stream",
     "text": [
      "Un vecteur random de 100 valeurs triées, sample =  \n",
      " [0.01212526 0.02009381 0.02021352 0.02077283 0.02400193 0.03472938\n",
      " 0.0583779  0.06870523 0.08085206 0.09666476 0.10411401 0.12277786\n",
      " 0.1291146  0.1368194  0.15520495 0.1678676  0.18741753 0.20211195\n",
      " 0.20444425 0.22118504 0.23430865 0.26802531 0.27497825 0.27716255\n",
      " 0.27740356 0.28182232 0.31349786 0.31732077 0.32272291 0.32584126\n",
      " 0.32665842 0.34076713 0.37526808 0.38605282 0.41016925 0.41870932\n",
      " 0.4268973  0.43526581 0.4407393  0.44574213 0.45279602 0.45862205\n",
      " 0.46414042 0.46668421 0.46963732 0.47920544 0.47982079 0.48910246\n",
      " 0.49390778 0.49756115 0.50355512 0.51204674 0.51278787 0.51280098\n",
      " 0.51954021 0.53637389 0.55124785 0.55676584 0.55809344 0.57427843\n",
      " 0.57483062 0.57497467 0.61034695 0.61345501 0.61569482 0.63701089\n",
      " 0.63908994 0.63948711 0.64619354 0.64637117 0.65032691 0.65710394\n",
      " 0.68433209 0.68846296 0.68932481 0.69499575 0.69893841 0.71838665\n",
      " 0.71857656 0.72238785 0.75359027 0.75532887 0.76640446 0.78135814\n",
      " 0.83046618 0.85615542 0.85980454 0.86000032 0.86442414 0.86845832\n",
      " 0.87305226 0.89957476 0.92435528 0.9404744  0.95634589 0.96359195\n",
      " 0.97663197 0.98168981 0.9959935  0.99692127]\n",
      "la statistique de ce vecteur uniforme est Fcvm(sample) =  0.12063102696715028\n"
     ]
    }
   ],
   "source": [
    "def Fcvm(vectF0):\n",
    "    n = len(vectF0)\n",
    "    tmpI = (np.arange(1, 1+n) - 1/2 ) / n \n",
    "    cvm = 1 / (12 * n) + np.sum((vectF0 - tmpI)**2)\n",
    "    return cvm\n",
    "\n",
    "sample = np.sort(np.random.uniform(0,1,100)) \n",
    "print(\"Un vecteur random de 100 valeurs triées, sample =  \\n\", sample)\n",
    "print(\"la statistique de ce vecteur uniforme est Fcvm(sample) = \", Fcvm(sample))"
   ]
  },
  {
   "cell_type": "markdown",
   "metadata": {},
   "source": [
    "## Question 4 :\n",
    "\n",
    "Generation et calcule de $CvM_n$"
   ]
  },
  {
   "cell_type": "code",
   "execution_count": 12,
   "metadata": {},
   "outputs": [
    {
     "data": {
      "image/png": "[encoded data removed]",
      "text/plain": [
       "<Figure size 432x288 with 1 Axes>"
      ]
     },
     "metadata": {
      "needs_background": "light"
     },
     "output_type": "display_data"
    }
   ],
   "source": [
    "Sample = np.zeros(10000)\n",
    "for i in range(10000):\n",
    "    Sample[i] = Fcvm(np.sort(np.random.uniform(0,1,100)))\n",
    "\n",
    "plt.hist(Sample, bins = np.linspace(0, 1, 200)) \n",
    "plt.title(\"histogram\") \n",
    "plt.show()"
   ]
  },
  {
   "cell_type": "markdown",
   "metadata": {},
   "source": [
    "## Question 5 :\n",
    "\n",
    "Pour cette question nous allons déterminer un seuil à $5\\%$ empiriquement : \n"
   ]
  },
  {
   "cell_type": "code",
   "execution_count": 13,
   "metadata": {},
   "outputs": [
    {
     "name": "stdout",
     "output_type": "stream",
     "text": [
      "le seuil de rejet empirique à 5 % vaut c =  0.4522673264360075\n"
     ]
    },
    {
     "data": {
      "image/png": "[encoded data removed]",
      "text/plain": [
       "<Figure size 432x288 with 1 Axes>"
      ]
     },
     "metadata": {
      "needs_background": "light"
     },
     "output_type": "display_data"
    }
   ],
   "source": [
    "OSample = np.sort(Sample)\n",
    "c = OSample[9500] # 10 000 * (1 - 0.05) = 9500\n",
    "\n",
    "print(\"le seuil de rejet empirique à 5 % vaut c = \", c)\n",
    "\n",
    "plt.hist(Sample, bins = np.linspace(0, 1, 200))\n",
    "plt.vlines(c, ymin=0, ymax=320, color=\"black\", label=\"seuil de 5%\")\n",
    "plt.title(\"histogram\") \n",
    "plt.legend(loc=\"best\")\n",
    "plt.show()\n"
   ]
  },
  {
   "cell_type": "markdown",
   "metadata": {},
   "source": [
    "## Question 6 :\n",
    "\n",
    "En utilisant le seuil de la question précédente nous pourrons savoir si nous pouvons rejeter l'hypothese $H_0$\n",
    "avec un seuil de 5%"
   ]
  },
  {
   "cell_type": "code",
   "execution_count": 14,
   "metadata": {},
   "outputs": [
    {
     "name": "stdout",
     "output_type": "stream",
     "text": [
      "2.023518990883026   >>  0.4522673264360075\n"
     ]
    }
   ],
   "source": [
    "Z =  np.array([0.29784954, 0.47939223, 0.19111109, 0.50207630 \\\n",
    ",0.83354954, 0.37791948, 0.24905201, 0.02811509 \\\n",
    ",0.84478883, 0.17690113, 0.08009389, 0.36426210 \\\n",
    ",0.36524716, 0.52432997, 0.31812757, 0.15602891 \\\n",
    ",0.85855163, 0.97771573, 0.70186801, 1.10252667 \\\n",
    ",1.27519836, 0.30650497, 0.69684126, 0.07010545 \\\n",
    ",0.31871251, 0.19331045, 1.35746190, 0.22420814 \\\n",
    ",0.82678227, 0.15491093, 0.21369146, 0.19342244 \\\n",
    ",0.09815713, 0.86205776, 0.21838889, 0.46708510 \\\n",
    ",1.13110154, 0.20892878, 0.55366663, 0.90786993 \\\n",
    ",0.36839363, 0.37423771, 0.88426066, 0.92937971 \\\n",
    ",0.47508868, 0.56127745, 0.29514290, 0.24813732 \\\n",
    ",0.00708819, 2.01464849, 0.67259826, 2.18737572 \\\n",
    ",0.82703831, 0.48212793, 0.25528751, 0.07072400 \\\n",
    ",0.10114985, 1.14164157, 0.07772498, 0.08474889 \\\n",
    ",0.01233414, 0.83936627, 0.17177708, 0.68974044 \\\n",
    ",0.10027836, 0.94787697, 0.01411881, 0.38130669 \\\n",
    ",0.30634430, 0.77046861, 0.28654510, 1.27378032 \\\n",
    ",0.52634981, 1.20385966, 0.75388808, 0.86076864 \\\n",
    ",0.87955788, 0.32543268, 0.78302207, 0.26435740 \\\n",
    ",0.05410405, 0.06027252, 0.05816601, 0.32995204 \\\n",
    ",1.58668386, 0.35831370, 0.28405587, 0.21705105 \\\n",
    ",0.08659743, 0.08844747, 0.60938507, 0.34315738 \\\n",
    ",1.32512124, 0.08308201, 0.13342500, 0.33121101 \\\n",
    ",0.67762117, 1.05277350, 0.21861053, 0.02127186])\n",
    "  \n",
    "FexpZ = 1 - np.exp(-3*np.sort(Z))\n",
    "#print(FexpZ)\n",
    "H0s = Fcvm(FexpZ)\n",
    "print(H0s, \"  >> \", c)"
   ]
  },
  {
   "cell_type": "markdown",
   "metadata": {},
   "source": [
    "### Conclusion :\n",
    "\n",
    "Nous voyons que le test appliqué a l'hypothese $H_0$ renvoie une valeur beaucoup plus grande que le seuil de rejet de niveau 5%.\n",
    "Donc nous pouvons rejeter l'hypothese $H_0$ sans crainte"
   ]
  },
  {
   "cell_type": "code",
   "execution_count": null,
   "metadata": {},
   "outputs": [],
   "source": []
  }
 ],
 "metadata": {
  "kernelspec": {
   "display_name": "Python 3",
   "language": "python",
   "name": "python3"
  },
  "language_info": {
   "codemirror_mode": {
    "name": "ipython",
    "version": 3
   },
   "file_extension": ".py",
   "mimetype": "text/x-python",
   "name": "python",
   "nbconvert_exporter": "python",
   "pygments_lexer": "ipython3",
   "version": "3.7.6"
  },
  "latex_envs": {
   "LaTeX_envs_menu_present": true,
   "autoclose": false,
   "autocomplete": false,
   "bibliofile": "biblio.bib",
   "cite_by": "apalike",
   "current_citInitial": 1,
   "eqLabelWithNumbers": true,
   "eqNumInitial": 1,
   "hotkeys": {
    "equation": "Ctrl-E",
    "itemize": "Ctrl-I"
   },
   "labels_anchors": false,
   "latex_user_defs": false,
   "report_style_numbering": false,
   "user_envs_cfg": false
  }
 },
 "nbformat": 4,
 "nbformat_minor": 2
}
