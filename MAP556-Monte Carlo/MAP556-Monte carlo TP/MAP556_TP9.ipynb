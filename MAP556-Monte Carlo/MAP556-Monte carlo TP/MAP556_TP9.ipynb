{
 "cells": [
  {
   "cell_type": "markdown",
   "metadata": {},
   "source": [
    "### MAP556, Ecole Polytechnique, 2020-21"
   ]
  },
  {
   "cell_type": "markdown",
   "metadata": {},
   "source": [
    "# TP 9 - Méthode de Monte-Carlo multi-niveaux\n"
   ]
  },
  {
   "cell_type": "markdown",
   "metadata": {},
   "source": [
    "L'objectif de ce TP est d'illustrer numériquement les résultats vus en cours sur la méthode de Monte Carlo multi-niveaux."
   ]
  },
  {
   "cell_type": "markdown",
   "metadata": {},
   "source": [
    "### Exercice. Estimateur multi-niveaux à partir du schéma d'Euler"
   ]
  },
  {
   "cell_type": "markdown",
   "metadata": {},
   "source": [
    "On reprend le processus $S$ introduit dans l'Exercice 2 du TP8:\n",
    "\n",
    "$$\n",
    "dS_t = r \\, S_tdt + \\sigma \\, S_t dW_t,\n",
    "\\qquad S_0=s_0>0,\n",
    "\\qquad r,\\sigma>0,\n",
    "$$\n",
    "\n",
    "1. Vérifier que le processus $S_t = s_0 e^{\\sigma \\, W_t + \\left(r-\\frac{\\sigma^2}{2} \\right)t}$, $t \\ge 0$, satisfait l'équation ci-dessus. On admettra par la suite que ce processus est bien l'unique solution de l'EDS; c'est ce que l'on appelle un mouvement Brownien géométrique (MBG).\n",
    "\n",
    "\n",
    "2. Écrire l'évolution du schéma d'Euler $(S^{(h)}_{kh})_{0\\leq k\\leq N}$ de pas $h$."
   ]
  },
  {
   "cell_type": "markdown",
   "metadata": {},
   "source": [
    "#### Estimation de $\\mathbb{E}[f(S_T)]$ par la méthode Multi-niveaux\n",
    "\n",
    "On considère maintenant l'application de la méthode Monte-Carlo multi-niveaux  à l'évaluation de \n",
    "\n",
    "$$\\mathbb{E}[f(S_T)]$$\n",
    "où $f(s)=(K-s)^+$ pour $s \\ge 0$ et $K$ est une constante positive fixée.\n",
    "\n",
    "__Estimateur.__ On rappelle que l'estimateur multi-niveaux basé sur les schémas d'Euler de pas $h_l = \\frac T {2^l}$ est donné par\n",
    "\n",
    "$$\n",
    "\\widehat{f(S_T)}_{\\mathrm{ML}}\n",
    "= \\frac1{M_0} \\sum_{m=1}^{M_0} (K - S_T^{h_0,0,m})^+\n",
    "+ \\sum_{l=1}^L \\frac1{M_l} \\sum_{m=1}^{M_l}\n",
    "\\left( (K - S_T^{h_l, l, m})^+ - (K - S_T^{h_{l-1},l,m})^+ \\right)\n",
    "$$ \n",
    "où\n",
    "- pour chaque $h$ et $l$, les $(S^{h,l,m})_{1 \\le m \\le M_l}$ sont des tirages indépendants du schéma d'Euler de pas $h$;\n",
    "- tous les tirages sont indépendants entre un niveau $l$ et l'autre;\n",
    "- les schémas $S^{h_l,l,m}$ et $S^{h_{l-1},l,m}$ sont construits à partir des mêmes accroissements Browniens.\n",
    "\n",
    "On rappelle (voir cours 8) qu'en utilisant les propriétés de convergence du schéma d'Euler pour le processus $S$ (vitesse faible $=1$, vitesse forte $=1/2$), on peut montrer la majoration suivante pour l'erreur quadratique de l'estimateur multi-niveaux\n",
    "\n",
    "$$\n",
    "\\mathbb{E} \\Bigl[\n",
    "\\bigl(\n",
    "\\widehat{f(S_T)}_{\\mathrm{ML}} - \\mathbb{E}[(K - S_T)^+]\n",
    "\\bigr)^2 \\Bigr]\n",
    "\\le\n",
    "C \\biggl( h_L^2 + \\sum_{l=0}^L \\frac{h_l}{M_l} \\biggr)\n",
    "\\qquad \\forall M_0, \\dots, M_L,\n",
    "$$\n",
    "\n",
    "où $C$ est une constante positive indépendante de $L$ et des $M_l$.\t\t"
   ]
  },
  {
   "cell_type": "markdown",
   "metadata": {},
   "source": [
    "1. Déterminer le plus petit $L$ de telle manière à avoir $h_L^2 \\le \\varepsilon^2$, où $\\varepsilon$ est un seuil de précision souhaité.\n",
    "Pour rappel, la solution $(M_0, \\dots, M_L)$ de\n",
    "$$\n",
    "\\min_{M_0, \\dots, M_L} \\sum_{l=0}^L \\frac{M_l}{h_l} \\qquad \\mbox{ t.q. } \\qquad\n",
    "\\sum_{l=0}^L \\frac{h_l}{M_l} = \\varepsilon^2\n",
    "$$\n",
    "donne\n",
    "$$\n",
    "M_0 \\sim_c \\frac{|\\log \\varepsilon|}{\\varepsilon^2},\n",
    "\\qquad\n",
    "M_l = M_0 \\, 2^{-l}.\n",
    "$$\n",
    "Quel est l'intérêt de la solution de ce problème?"
   ]
  },
  {
   "cell_type": "markdown",
   "metadata": {},
   "source": [
    "2. En complétant le code ci-dessous, implémenter l'évolution entre les instants $t^{l-1}_k = T \\frac{k}{2^{l-1}}$ et $t^{l-1}_{k+1} = T \\frac{k+1}{2^{l-1}}$ d'une matrice *Se\\_fin* (resp. *Se\\_gr*) de taille $M_l\\times P$ du schéma d'Euler de pas fin $\\frac T{2^{l}}$ (resp. de pas grossier $\\frac T{2^{l-1}}$) en utilisant les mêmes accroissements browniens, où $P \\ge 1$ est le nombre de tirages indépendants de l'estimateur multi-niveaux.\n",
    "\n",
    "Ajouter à la variable *estim\\_multi* la somme\n",
    "$\\sum_{m = 1}^{M_l} \\bigl( (K - S_T^{h_l,l,m})^+ - (K - S_T^{h_{l-1},l,m})^+ \\bigr)$ divisée par $M_l$."
   ]
  },
  {
   "cell_type": "code",
   "execution_count": 4,
   "metadata": {},
   "outputs": [],
   "source": [
    "import numpy as np\n",
    "import matplotlib.pyplot as plt\n",
    "from scipy.stats import norm\n",
    "\n",
    "T = 1.\n",
    "sig = 0.2\n",
    "r = 0.05\n",
    "S0 = 100.\n",
    "K = 110"
   ]
  },
  {
   "cell_type": "code",
   "execution_count": 1,
   "metadata": {},
   "outputs": [],
   "source": [
    "def estimMultiniveaux(eps, P):\n",
    "    \"\"\"\n",
    "    Fonction qui renvoie un echantillon de P tirages iid de\n",
    "    l'estimateur multi-niveaux ayant une precision cible\n",
    "    d'ordre eps\n",
    "    \"\"\"    \n",
    "    h_0 = T #pas initial\n",
    "    \n",
    "    ####################################################\n",
    "    # Completer avec le calcul du nombre de niveaux L\n",
    "    # et le nombre de tirages indep au niveau 0\n",
    "    ####################################################\n",
    "    L = int(np.abs(np.log(eps)) / np.log(2))\n",
    "    M_0 = int(np.abs(np.log(eps)) / eps**2 )\n",
    "    \n",
    "    # array M_0 * P de gaussiennes\n",
    "    g = np.random.randn(M_0, P)\n",
    "    \n",
    "    Se_gr = S0*(1. + r*h_0 + sig*np.sqrt(h_0)*g)\n",
    "\n",
    "    # premier terme dans l'estimateur Multi-niveaux\n",
    "    estim_multi = np.mean((K-Se_gr)*(K>Se_gr), axis=0)\n",
    "    \n",
    "    # Boucle sur le nombre L de niveaux\n",
    "    for l in range(1,L+1):\n",
    "        M_l = int(M_0/2.**l)\n",
    "        \n",
    "        ##########################################\n",
    "        # Parametres du schema d'Euler de pas fin\n",
    "        ##########################################\n",
    "        h_fin = h_0/2.**l\n",
    "        sig_fin = sig*np.sqrt(h_fin)\n",
    "        \n",
    "        Se_fin = S0*np.ones((M_l, P)) #schema d'Euler de pas fin\n",
    "        Se_gr = S0*np.ones((M_l, P)) #schema d'Euler de pas grossier\n",
    "        \n",
    "        # Dans la boucle ci-dessous, on fait évoluer des array de taille M_l x P \n",
    "        # boucle sur le pas de temps grossier h_(l-1) au niveau l\n",
    "        for k in range(2**(l-1)):\n",
    "            g1 = np.random.randn(M_l, P)\n",
    "            g2 = np.random.randn(M_l, P)\n",
    "            ####################################################\n",
    "            # Implementer l'evolution des schemas avec pas fin\n",
    "            # et pas grossier\n",
    "            ###################################################\n",
    "            Se_fin = Se_fin * (1 + r*h_fin + sig* np.sqrt(h_fin) * g1)\n",
    "            Se_fin = Se_fin * (1 + r*h_fin + sig* np.sqrt(h_fin) * g2)\n",
    "            Se_gr = Se_gr * (1 + 2*r*h_fin + sig* np.sqrt(h_fin) * (g1+g2))\n",
    "            \n",
    "        ###################################################################\n",
    "        # Ajouter a la variable estim_multi la contribution du terme\n",
    "        # au niveau l\n",
    "        # (la moyenne des differences entre les deux schemas)\n",
    "        ###################################################################\n",
    "        contribution = np.mean((K-Se_fin)*(K>Se_fin) - (K-Se_gr)*(K>Se_gr), axis=0)\n",
    "        estim_multi = estim_multi + contribution\n",
    "        \n",
    "    return estim_multi"
   ]
  },
  {
   "cell_type": "markdown",
   "metadata": {},
   "source": [
    "3. La cellule ci-dessous représente les histogrammes de $P=1000$ réalisations de l'estimateur Monte-Carlo multi-niveaux pour des niveaux de précision $\\varepsilon$ divisés par $2$ d'un histogramme au suivant. La variable *erreur\\_quadratique*\n",
    "donne l'estimation empirique de l'erreur quadratique en fonction de $\\varepsilon$, où l'espérance $\\mathbb{E}[(K - S_T)^+]$ est calculée exactement à l'aide de la formule (dite de Black-Scholes)\n",
    "$$\n",
    "\\mathbb{E}[(K-S_T)^+] = K \\, {\\cal N}(-d+\\sigma\\sqrt{T}) - s_0e^{rT} {\\cal N}(-d)\n",
    "\\ \\mbox{ où } \\ d = \\frac{\\ln(s_0/K)+ (r+\\frac{\\sigma^2}2) T}{\\sigma\\sqrt{T}}\n",
    "$$\n",
    "et ${\\cal N}(x)=\\int_{-\\infty}^xe^{-\\frac{y^2}{2}}\\frac{dy}{\\sqrt{2\\pi}}$.\n",
    "\n",
    "\n",
    "L'erreur évolue-t-elle avec $\\varepsilon$ conformément à ce qui est attendu?"
   ]
  },
  {
   "cell_type": "code",
   "execution_count": 7,
   "metadata": {},
   "outputs": [
    {
     "name": "stdout",
     "output_type": "stream",
     "text": [
      "erreur L^2 (eps=0.20) : 2.21\n",
      "erreur L^2 (eps=0.10) : 0.93\n",
      "erreur L^2 (eps=0.05) : 0.40\n"
     ]
    },
    {
     "data": {
      "text/plain": [
       "<matplotlib.legend.Legend at 0x1a16a96e50>"
      ]
     },
     "execution_count": 7,
     "metadata": {},
     "output_type": "execute_result"
    },
    {
     "data": {
      "image/png": "[encoded data removed]",
      "text/plain": [
       "<Figure size 432x288 with 1 Axes>"
      ]
     },
     "metadata": {
      "needs_background": "light"
     },
     "output_type": "display_data"
    }
   ],
   "source": [
    "eps = 0.2 #precision cible\n",
    "P = 1000 #nombre de tirages de l'estimateur\n",
    "\n",
    "###################################################\n",
    "# Formule explicite pour l'esperance E[(K-S_T)^+]\n",
    "###################################################\n",
    "d = (np.log(S0/K) + r*T) / (sig*np.sqrt(T)) + sig*np.sqrt(T)/2.\n",
    "d2 = d - sig*np.sqrt(T)\n",
    "esperance = K*norm.cdf(-d2) - S0*np.exp(r*T)*norm.cdf(-d)\n",
    "\n",
    "plt.clf()\n",
    "\n",
    "for i in range(3):\n",
    "    estim_multi = estimMultiniveaux(eps,P)\n",
    "    \n",
    "    plt.hist(estim_multi, density=\"True\", bins=int(np.sqrt(P)), label='eps = %1.2f' %(eps))\n",
    "    \n",
    "    #########################################################\n",
    "    # Completer avec l'estimation empirique\n",
    "    # de l'erreur quadratique\n",
    "    erreur_quadratique = np.mean((estim_multi - esperance)**2)\n",
    "    #########################################################\n",
    "    print(\"erreur L^2 (eps=%1.2f) : %1.2f\" %(eps, np.sqrt(erreur_quadratique)))\n",
    "    \n",
    "    eps = eps/2\n",
    "\n",
    "plt.axvline(esperance, linewidth=2.0, color='k',label=\"esperance\")\n",
    "plt.legend(loc=\"best\")"
   ]
  },
  {
   "cell_type": "code",
   "execution_count": null,
   "metadata": {},
   "outputs": [],
   "source": []
  }
 ],
 "metadata": {
  "kernelspec": {
   "display_name": "Python 3",
   "language": "python",
   "name": "python3"
  },
  "language_info": {
   "codemirror_mode": {
    "name": "ipython",
    "version": 3
   },
   "file_extension": ".py",
   "mimetype": "text/x-python",
   "name": "python",
   "nbconvert_exporter": "python",
   "pygments_lexer": "ipython3",
   "version": "3.7.6"
  },
  "latex_envs": {
   "LaTeX_envs_menu_present": true,
   "autoclose": false,
   "autocomplete": false,
   "bibliofile": "biblio.bib",
   "cite_by": "apalike",
   "current_citInitial": 1,
   "eqLabelWithNumbers": true,
   "eqNumInitial": 1,
   "hotkeys": {
    "equation": "Ctrl-E",
    "itemize": "Ctrl-I"
   },
   "labels_anchors": false,
   "latex_user_defs": false,
   "report_style_numbering": false,
   "user_envs_cfg": false
  }
 },
 "nbformat": 4,
 "nbformat_minor": 2
}
